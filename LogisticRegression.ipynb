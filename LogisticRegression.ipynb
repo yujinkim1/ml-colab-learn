{
  "nbformat": 4,
  "nbformat_minor": 0,
  "metadata": {
    "colab": {
      "provenance": [],
      "collapsed_sections": []
    },
    "kernelspec": {
      "name": "python3",
      "display_name": "Python 3"
    },
    "language_info": {
      "name": "python"
    }
  },
  "cells": [
    {
      "cell_type": "markdown",
      "source": [
        "## Logistic Regression\n",
        "- $z = {ax_1}+{bx_2}+{cx_3}+{dx_4}+{ex_5}+{𝑓}$\n",
        "- ${𝑓}$: 범위는 -${∞}$ 부터 ${∞}$\n",
        "- 선형 회귀식을 활용해 학습하는 분류 모델\n",
        "- 특성 간의 관계를 보여주고, 특정 결과의 확률을 계산\n",
        "- 정확한 예측 값을 도출하는데 사용"
      ],
      "metadata": {
        "id": "A7W7pLpMAHuU"
      }
    },
    {
      "cell_type": "markdown",
      "source": [
        "### Practice\n",
        "- Using **`pandas`** library\n",
        "- Read URL of CSV file\n",
        "- What is a dataframe?\n",
        "- Using method **`head()`**\n",
        "- Using **`unique()`**\n",
        "- Using **`train_test_split()`**\n",
        "- Create Train-set and Test-set\n",
        "- Using **`classes_`**\n",
        "- Using **`np.round()`**\n",
        "- Using **`decimals=_number`**\n",
        "- Using **`kneighbors()`**, slicing\n",
        "- Draw a Graph of Sigmoid Function\n",
        "- Perform binary classification with LogisticRegression\n",
        "- Using scipy of **`expit()`**\n",
        "- Extracting only a few samples of the entire training data\n",
        "- Perform multiple classifications using LogisticRegression\n",
        "- Using scipy of **`softmax()`**\n",
        "\n"
      ],
      "metadata": {
        "id": "On4C7vUqP857"
      }
    },
    {
      "cell_type": "markdown",
      "source": [
        "### 1. Prepare to data by reading CSV file\n",
        "- import pandas\n",
        "- Using **`pd.read_csv()`**"
      ],
      "metadata": {
        "id": "BE2WhfA6Te4P"
      }
    },
    {
      "cell_type": "code",
      "execution_count": null,
      "metadata": {
        "colab": {
          "base_uri": "https://localhost:8080/"
        },
        "id": "9E6p3PzaAFNj",
        "outputId": "f22d30db-8991-45a8-bda1-e38ec56439f2"
      },
      "outputs": [
        {
          "output_type": "stream",
          "name": "stdout",
          "text": [
            "    Species  Weight  Length  Diagonal   Height   Width\n",
            "0     Bream   242.0    25.4      30.0  11.5200  4.0200\n",
            "1     Bream   290.0    26.3      31.2  12.4800  4.3056\n",
            "2     Bream   340.0    26.5      31.1  12.3778  4.6961\n",
            "3     Bream   363.0    29.0      33.5  12.7300  4.4555\n",
            "4     Bream   430.0    29.0      34.0  12.4440  5.1340\n",
            "..      ...     ...     ...       ...      ...     ...\n",
            "154   Smelt    12.2    12.2      13.4   2.0904  1.3936\n",
            "155   Smelt    13.4    12.4      13.5   2.4300  1.2690\n",
            "156   Smelt    12.2    13.0      13.8   2.2770  1.2558\n",
            "157   Smelt    19.7    14.3      15.2   2.8728  2.0672\n",
            "158   Smelt    19.9    15.0      16.2   2.9322  1.8792\n",
            "\n",
            "[159 rows x 6 columns]\n"
          ]
        }
      ],
      "source": [
        "import pandas as pd\n",
        "\n",
        "fish = pd.read_csv(\"https://bit.ly/fish_csv_data\")\n",
        "print(fish) #fish datas"
      ]
    },
    {
      "cell_type": "markdown",
      "source": [
        "### 2. What is a dataframe?\n",
        "- pandas 라이브러리에서 제공되는 2차원 테이블 형식의 데이터 구조\n",
        "- numpy 배열과 유사하게 column과 row로 구성\n",
        "- 통계나 그래프를 위한 다양한 메소드 제공"
      ],
      "metadata": {
        "id": "6Nz69fk9UAij"
      }
    },
    {
      "cell_type": "markdown",
      "source": [
        "### 2-2. Convert to dataframe\n",
        "- **`[Species, Weight, Length, Diagonal, Height, Width]`**: row\n",
        "- **`0, 1, 2, 3, 4`**: Column(Index)"
      ],
      "metadata": {
        "id": "LZpOWMqBUokj"
      }
    },
    {
      "cell_type": "code",
      "source": [
        "fish.head() #fish dataframe"
      ],
      "metadata": {
        "colab": {
          "base_uri": "https://localhost:8080/",
          "height": 206
        },
        "id": "tZhThfgUTdt5",
        "outputId": "d6b15fb1-0e4a-4660-e92a-59808e418701"
      },
      "execution_count": null,
      "outputs": [
        {
          "output_type": "execute_result",
          "data": {
            "text/plain": [
              "  Species  Weight  Length  Diagonal   Height   Width\n",
              "0   Bream   242.0    25.4      30.0  11.5200  4.0200\n",
              "1   Bream   290.0    26.3      31.2  12.4800  4.3056\n",
              "2   Bream   340.0    26.5      31.1  12.3778  4.6961\n",
              "3   Bream   363.0    29.0      33.5  12.7300  4.4555\n",
              "4   Bream   430.0    29.0      34.0  12.4440  5.1340"
            ],
            "text/html": [
              "\n",
              "  <div id=\"df-b09c8986-7a31-4177-9550-59efcf7ce030\">\n",
              "    <div class=\"colab-df-container\">\n",
              "      <div>\n",
              "<style scoped>\n",
              "    .dataframe tbody tr th:only-of-type {\n",
              "        vertical-align: middle;\n",
              "    }\n",
              "\n",
              "    .dataframe tbody tr th {\n",
              "        vertical-align: top;\n",
              "    }\n",
              "\n",
              "    .dataframe thead th {\n",
              "        text-align: right;\n",
              "    }\n",
              "</style>\n",
              "<table border=\"1\" class=\"dataframe\">\n",
              "  <thead>\n",
              "    <tr style=\"text-align: right;\">\n",
              "      <th></th>\n",
              "      <th>Species</th>\n",
              "      <th>Weight</th>\n",
              "      <th>Length</th>\n",
              "      <th>Diagonal</th>\n",
              "      <th>Height</th>\n",
              "      <th>Width</th>\n",
              "    </tr>\n",
              "  </thead>\n",
              "  <tbody>\n",
              "    <tr>\n",
              "      <th>0</th>\n",
              "      <td>Bream</td>\n",
              "      <td>242.0</td>\n",
              "      <td>25.4</td>\n",
              "      <td>30.0</td>\n",
              "      <td>11.5200</td>\n",
              "      <td>4.0200</td>\n",
              "    </tr>\n",
              "    <tr>\n",
              "      <th>1</th>\n",
              "      <td>Bream</td>\n",
              "      <td>290.0</td>\n",
              "      <td>26.3</td>\n",
              "      <td>31.2</td>\n",
              "      <td>12.4800</td>\n",
              "      <td>4.3056</td>\n",
              "    </tr>\n",
              "    <tr>\n",
              "      <th>2</th>\n",
              "      <td>Bream</td>\n",
              "      <td>340.0</td>\n",
              "      <td>26.5</td>\n",
              "      <td>31.1</td>\n",
              "      <td>12.3778</td>\n",
              "      <td>4.6961</td>\n",
              "    </tr>\n",
              "    <tr>\n",
              "      <th>3</th>\n",
              "      <td>Bream</td>\n",
              "      <td>363.0</td>\n",
              "      <td>29.0</td>\n",
              "      <td>33.5</td>\n",
              "      <td>12.7300</td>\n",
              "      <td>4.4555</td>\n",
              "    </tr>\n",
              "    <tr>\n",
              "      <th>4</th>\n",
              "      <td>Bream</td>\n",
              "      <td>430.0</td>\n",
              "      <td>29.0</td>\n",
              "      <td>34.0</td>\n",
              "      <td>12.4440</td>\n",
              "      <td>5.1340</td>\n",
              "    </tr>\n",
              "  </tbody>\n",
              "</table>\n",
              "</div>\n",
              "      <button class=\"colab-df-convert\" onclick=\"convertToInteractive('df-b09c8986-7a31-4177-9550-59efcf7ce030')\"\n",
              "              title=\"Convert this dataframe to an interactive table.\"\n",
              "              style=\"display:none;\">\n",
              "        \n",
              "  <svg xmlns=\"http://www.w3.org/2000/svg\" height=\"24px\"viewBox=\"0 0 24 24\"\n",
              "       width=\"24px\">\n",
              "    <path d=\"M0 0h24v24H0V0z\" fill=\"none\"/>\n",
              "    <path d=\"M18.56 5.44l.94 2.06.94-2.06 2.06-.94-2.06-.94-.94-2.06-.94 2.06-2.06.94zm-11 1L8.5 8.5l.94-2.06 2.06-.94-2.06-.94L8.5 2.5l-.94 2.06-2.06.94zm10 10l.94 2.06.94-2.06 2.06-.94-2.06-.94-.94-2.06-.94 2.06-2.06.94z\"/><path d=\"M17.41 7.96l-1.37-1.37c-.4-.4-.92-.59-1.43-.59-.52 0-1.04.2-1.43.59L10.3 9.45l-7.72 7.72c-.78.78-.78 2.05 0 2.83L4 21.41c.39.39.9.59 1.41.59.51 0 1.02-.2 1.41-.59l7.78-7.78 2.81-2.81c.8-.78.8-2.07 0-2.86zM5.41 20L4 18.59l7.72-7.72 1.47 1.35L5.41 20z\"/>\n",
              "  </svg>\n",
              "      </button>\n",
              "      \n",
              "  <style>\n",
              "    .colab-df-container {\n",
              "      display:flex;\n",
              "      flex-wrap:wrap;\n",
              "      gap: 12px;\n",
              "    }\n",
              "\n",
              "    .colab-df-convert {\n",
              "      background-color: #E8F0FE;\n",
              "      border: none;\n",
              "      border-radius: 50%;\n",
              "      cursor: pointer;\n",
              "      display: none;\n",
              "      fill: #1967D2;\n",
              "      height: 32px;\n",
              "      padding: 0 0 0 0;\n",
              "      width: 32px;\n",
              "    }\n",
              "\n",
              "    .colab-df-convert:hover {\n",
              "      background-color: #E2EBFA;\n",
              "      box-shadow: 0px 1px 2px rgba(60, 64, 67, 0.3), 0px 1px 3px 1px rgba(60, 64, 67, 0.15);\n",
              "      fill: #174EA6;\n",
              "    }\n",
              "\n",
              "    [theme=dark] .colab-df-convert {\n",
              "      background-color: #3B4455;\n",
              "      fill: #D2E3FC;\n",
              "    }\n",
              "\n",
              "    [theme=dark] .colab-df-convert:hover {\n",
              "      background-color: #434B5C;\n",
              "      box-shadow: 0px 1px 3px 1px rgba(0, 0, 0, 0.15);\n",
              "      filter: drop-shadow(0px 1px 2px rgba(0, 0, 0, 0.3));\n",
              "      fill: #FFFFFF;\n",
              "    }\n",
              "  </style>\n",
              "\n",
              "      <script>\n",
              "        const buttonEl =\n",
              "          document.querySelector('#df-b09c8986-7a31-4177-9550-59efcf7ce030 button.colab-df-convert');\n",
              "        buttonEl.style.display =\n",
              "          google.colab.kernel.accessAllowed ? 'block' : 'none';\n",
              "\n",
              "        async function convertToInteractive(key) {\n",
              "          const element = document.querySelector('#df-b09c8986-7a31-4177-9550-59efcf7ce030');\n",
              "          const dataTable =\n",
              "            await google.colab.kernel.invokeFunction('convertToInteractive',\n",
              "                                                     [key], {});\n",
              "          if (!dataTable) return;\n",
              "\n",
              "          const docLinkHtml = 'Like what you see? Visit the ' +\n",
              "            '<a target=\"_blank\" href=https://colab.research.google.com/notebooks/data_table.ipynb>data table notebook</a>'\n",
              "            + ' to learn more about interactive tables.';\n",
              "          element.innerHTML = '';\n",
              "          dataTable['output_type'] = 'display_data';\n",
              "          await google.colab.output.renderOutput(dataTable, element);\n",
              "          const docLink = document.createElement('div');\n",
              "          docLink.innerHTML = docLinkHtml;\n",
              "          element.appendChild(docLink);\n",
              "        }\n",
              "      </script>\n",
              "    </div>\n",
              "  </div>\n",
              "  "
            ]
          },
          "metadata": {},
          "execution_count": 2
        }
      ]
    },
    {
      "cell_type": "markdown",
      "source": [
        "### 2-3. Extract unique values from specific columns\n",
        "- **`unique()`**: 특정 열에 대한 고유한 값을 추출 가능"
      ],
      "metadata": {
        "id": "VrPJR0nvUnbp"
      }
    },
    {
      "cell_type": "code",
      "source": [
        "print(pd.unique(fish['Species'])) #Species values"
      ],
      "metadata": {
        "colab": {
          "base_uri": "https://localhost:8080/"
        },
        "id": "yiH4lp-bRqgz",
        "outputId": "e2140f92-3698-409e-e07a-75cb5cc94334"
      },
      "execution_count": null,
      "outputs": [
        {
          "output_type": "stream",
          "name": "stdout",
          "text": [
            "['Bream' 'Roach' 'Whitefish' 'Parkki' 'Perch' 'Pike' 'Smelt']\n"
          ]
        }
      ]
    },
    {
      "cell_type": "markdown",
      "source": [
        "### 2-4. Create new feature\n",
        "- Species 열을 제외한 나머지 특성으로 새로운 numpy 배열 생성"
      ],
      "metadata": {
        "id": "alZCL4FhSwda"
      }
    },
    {
      "cell_type": "code",
      "source": [
        "fish_input = fish[['Weight', 'Length', 'Diagonal', 'Height', 'Width']].to_numpy()\n",
        "\n",
        "#Checkout\n",
        "print(fish_input[:5])"
      ],
      "metadata": {
        "colab": {
          "base_uri": "https://localhost:8080/"
        },
        "id": "h3Vh7v0MSrlc",
        "outputId": "daa36e53-71fb-43e0-a72b-3a241d7d8489"
      },
      "execution_count": null,
      "outputs": [
        {
          "output_type": "stream",
          "name": "stdout",
          "text": [
            "[[242.      25.4     30.      11.52     4.02  ]\n",
            " [290.      26.3     31.2     12.48     4.3056]\n",
            " [340.      26.5     31.1     12.3778   4.6961]\n",
            " [363.      29.      33.5     12.73     4.4555]\n",
            " [430.      29.      34.      12.444    5.134 ]]\n"
          ]
        }
      ]
    },
    {
      "cell_type": "markdown",
      "source": [
        "### 2-5. Create a train target\n",
        "- Species 열 선택 후 [](대괄호) 중첩 주의할 것\n",
        "  - 2차원 배열로 생성됨"
      ],
      "metadata": {
        "id": "CpjTLzHkW0rW"
      }
    },
    {
      "cell_type": "code",
      "source": [
        "fish_target = fish['Species'].to_numpy()\n",
        "\n",
        "#Checkout\n",
        "print(fish_target)"
      ],
      "metadata": {
        "colab": {
          "base_uri": "https://localhost:8080/"
        },
        "id": "GGOYSCRCV2mw",
        "outputId": "9dd9144e-fe38-40db-deb1-5d0fa2a497e0"
      },
      "execution_count": null,
      "outputs": [
        {
          "output_type": "stream",
          "name": "stdout",
          "text": [
            "['Bream' 'Bream' 'Bream' 'Bream' 'Bream' 'Bream' 'Bream' 'Bream' 'Bream'\n",
            " 'Bream' 'Bream' 'Bream' 'Bream' 'Bream' 'Bream' 'Bream' 'Bream' 'Bream'\n",
            " 'Bream' 'Bream' 'Bream' 'Bream' 'Bream' 'Bream' 'Bream' 'Bream' 'Bream'\n",
            " 'Bream' 'Bream' 'Bream' 'Bream' 'Bream' 'Bream' 'Bream' 'Bream' 'Roach'\n",
            " 'Roach' 'Roach' 'Roach' 'Roach' 'Roach' 'Roach' 'Roach' 'Roach' 'Roach'\n",
            " 'Roach' 'Roach' 'Roach' 'Roach' 'Roach' 'Roach' 'Roach' 'Roach' 'Roach'\n",
            " 'Roach' 'Whitefish' 'Whitefish' 'Whitefish' 'Whitefish' 'Whitefish'\n",
            " 'Whitefish' 'Parkki' 'Parkki' 'Parkki' 'Parkki' 'Parkki' 'Parkki'\n",
            " 'Parkki' 'Parkki' 'Parkki' 'Parkki' 'Parkki' 'Perch' 'Perch' 'Perch'\n",
            " 'Perch' 'Perch' 'Perch' 'Perch' 'Perch' 'Perch' 'Perch' 'Perch' 'Perch'\n",
            " 'Perch' 'Perch' 'Perch' 'Perch' 'Perch' 'Perch' 'Perch' 'Perch' 'Perch'\n",
            " 'Perch' 'Perch' 'Perch' 'Perch' 'Perch' 'Perch' 'Perch' 'Perch' 'Perch'\n",
            " 'Perch' 'Perch' 'Perch' 'Perch' 'Perch' 'Perch' 'Perch' 'Perch' 'Perch'\n",
            " 'Perch' 'Perch' 'Perch' 'Perch' 'Perch' 'Perch' 'Perch' 'Perch' 'Perch'\n",
            " 'Perch' 'Perch' 'Perch' 'Perch' 'Perch' 'Perch' 'Perch' 'Perch' 'Pike'\n",
            " 'Pike' 'Pike' 'Pike' 'Pike' 'Pike' 'Pike' 'Pike' 'Pike' 'Pike' 'Pike'\n",
            " 'Pike' 'Pike' 'Pike' 'Pike' 'Pike' 'Pike' 'Smelt' 'Smelt' 'Smelt' 'Smelt'\n",
            " 'Smelt' 'Smelt' 'Smelt' 'Smelt' 'Smelt' 'Smelt' 'Smelt' 'Smelt' 'Smelt'\n",
            " 'Smelt']\n"
          ]
        }
      ]
    },
    {
      "cell_type": "markdown",
      "source": [
        "### 3. Create a Train-set and Test-set\n",
        "- import sklearn.model_selection\n",
        "- Using train_test_split()"
      ],
      "metadata": {
        "id": "iXpzhczghsbt"
      }
    },
    {
      "cell_type": "code",
      "source": [
        "from sklearn.model_selection import train_test_split\n",
        "\n",
        "train_input, test_input, train_target, test_target = train_test_split(\n",
        "    fish_input, fish_target, random_state=42\n",
        ")\n",
        "\n",
        "#Checkout 5instances\n",
        "print(train_input[:5])\n",
        "print(test_input[:5])"
      ],
      "metadata": {
        "id": "za2X2OWWXXCl",
        "colab": {
          "base_uri": "https://localhost:8080/"
        },
        "outputId": "af7d8a3d-a4bf-4624-c3b7-bb4bb369dccd"
      },
      "execution_count": null,
      "outputs": [
        {
          "output_type": "stream",
          "name": "stdout",
          "text": [
            "[[720.      35.      40.6     16.3618   6.09  ]\n",
            " [500.      45.      48.       6.96     4.896 ]\n",
            " [  7.5     10.5     11.6      1.972    1.16  ]\n",
            " [110.      22.      23.5      5.5225   3.995 ]\n",
            " [140.      20.7     23.2      8.5376   3.2944]]\n",
            "[[ 78.      18.7     19.4      5.1992   3.1234]\n",
            " [ 13.4     12.4     13.5      2.43     1.269 ]\n",
            " [200.      32.3     34.8      5.568    3.3756]\n",
            " [270.      26.      28.7      8.3804   4.2476]\n",
            " [150.      23.      24.5      5.2185   3.626 ]]\n"
          ]
        }
      ]
    },
    {
      "cell_type": "markdown",
      "source": [
        "### 4. Scale standardization\n",
        "- import sklearn.preprocessing\n",
        "- Using StandardScaler"
      ],
      "metadata": {
        "id": "9BCyvzCajChY"
      }
    },
    {
      "cell_type": "code",
      "source": [
        "from sklearn.preprocessing import StandardScaler\n",
        "\n",
        "#create a StandardScaler object\n",
        "ss = StandardScaler()\n",
        "ss.fit(train_input)\n",
        "\n",
        "#train-set, test-set 표준화\n",
        "train_scaled = ss.transform(train_input)\n",
        "test_scaled = ss.transform(test_input)\n",
        "\n",
        "#Checkout\n",
        "print(train_scaled)\n",
        "print(test_scaled)"
      ],
      "metadata": {
        "colab": {
          "base_uri": "https://localhost:8080/"
        },
        "id": "AhngDR18iXK5",
        "outputId": "1288a2db-6bbd-4cdc-b00a-8f893c3bdd55"
      },
      "execution_count": null,
      "outputs": [
        {
          "output_type": "stream",
          "name": "stdout",
          "text": [
            "[[ 9.19657820e-01  6.09431747e-01  8.10412209e-01  1.85194896e+00\n",
            "   1.00075672e+00]\n",
            " [ 3.00412188e-01  1.54653445e+00  1.45316551e+00 -4.69816625e-01\n",
            "   2.72917446e-01]\n",
            " [-1.08585360e+00 -1.68646987e+00 -1.70848587e+00 -1.70159849e+00\n",
            "  -2.00447580e+00]\n",
            " [-7.97341433e-01 -6.08801762e-01 -6.74869070e-01 -8.24805885e-01\n",
            "  -2.76314705e-01]\n",
            " [-7.12898847e-01 -7.30625113e-01 -7.00926637e-01 -8.02298036e-02\n",
            "  -7.03386897e-01]\n",
            " [-9.12746301e-01 -9.64900787e-01 -9.52816444e-01 -8.80171862e-01\n",
            "  -9.91535662e-01]\n",
            " [-7.97341433e-01 -7.02512032e-01 -7.61727625e-01 -7.82824547e-01\n",
            "  -5.44530184e-01]\n",
            " [ 6.38182533e-01  5.62576612e-01  7.32239510e-01  1.64473401e+00\n",
            "   5.07057367e-01]\n",
            " [-7.41046376e-01 -6.74398951e-01 -7.35670058e-01 -6.12059278e-01\n",
            "  -5.57331377e-01]\n",
            " [-8.67710255e-01 -7.96222301e-01 -8.92015456e-01 -9.33586942e-01\n",
            "  -1.02183182e+00]\n",
            " [ 8.21141469e-01  7.49997152e-01  6.71438522e-01  4.98470601e-01\n",
            "   1.47257213e+00]\n",
            " [ 3.00412188e-01  2.34590667e-01  4.28234570e-01  1.36042157e+00\n",
            "   2.23297582e-01]\n",
            " [ 3.39818728e-01  4.03269153e-01  2.37145751e-01  2.88316959e-01\n",
            "   9.56866916e-01]\n",
            " [-5.44013674e-01 -5.15091492e-01 -4.75094395e-01  3.66303469e-01\n",
            "  -4.78329727e-01]\n",
            " [ 1.70778862e+00  1.45282418e+00  1.33156354e+00  8.95515284e-01\n",
            "   1.91866324e+00]\n",
            " [ 9.02769303e-01  7.03142017e-01  8.88584908e-01  1.89027545e+00\n",
            "   8.55371741e-01]\n",
            " [-1.08247590e+00 -1.61150165e+00 -1.62162731e+00 -1.70006740e+00\n",
            "  -1.92815631e+00]\n",
            " [ 1.70778862e+00  1.35911391e+00  1.20996156e+00  7.58211612e-01\n",
            "   1.72445085e+00]\n",
            " [-7.97341433e-01 -7.21254086e-01 -7.09612492e-01 -6.65474358e-01\n",
            "  -6.41636379e-01]\n",
            " [ 1.03379487e-01  4.71701274e-02  2.37145751e-01  8.84451967e-01\n",
            "   4.17997636e-01]\n",
            " [ 1.76563061e-01  1.31225877e+00  1.23601913e+00 -3.90792929e-01\n",
            "  -7.66770476e-02]\n",
            " [ 1.49668216e+00  1.03112796e+00  1.21864741e+00  2.44274986e+00\n",
            "   1.40289707e+00]\n",
            " [ 1.56705098e+00  2.17439325e+00  2.06986125e+00  1.57345974e-02\n",
            "   1.05025467e+00]\n",
            " [-4.03276031e-01 -9.33952774e-02 -2.05832877e-01 -3.90101472e-01\n",
            "   7.18777527e-02]\n",
            " [-6.28456261e-01 -7.30625113e-01 -7.00926637e-01  1.31751261e-01\n",
            "  -6.32675543e-01]\n",
            " [ 2.30043366e-01  2.34590667e-01  4.28234570e-01  1.33360290e+00\n",
            "   3.99832133e-01]\n",
            " [-6.98825082e-01 -5.43204573e-01 -6.14068082e-01 -7.18444929e-01\n",
            "  -4.98811636e-01]\n",
            " [-2.62538387e-01  8.24965367e-01  7.40925366e-01 -6.35667608e-01\n",
            "  -2.61197105e-01]\n",
            " [-4.25794054e-01 -2.90186844e-01 -1.10288467e-01  6.56271044e-01\n",
            "  -2.61075189e-01]\n",
            " [ 7.22625119e-01  9.84272826e-01  8.79899053e-01  5.61590778e-01\n",
            "   9.47723207e-01]\n",
            " [-7.69193904e-01 -8.89932571e-01 -8.65957890e-01 -1.16136195e-01\n",
            "  -9.32772089e-01]\n",
            " [-6.98825082e-01 -6.08801762e-01 -6.05382227e-01 -5.50346711e-01\n",
            "  -5.48919164e-01]\n",
            " [-7.55120140e-01 -7.02512032e-01 -7.61727625e-01 -7.82824547e-01\n",
            "  -4.75952362e-01]\n",
            " [ 1.28557569e+00  7.03142017e-01  8.97270764e-01  1.98228866e+00\n",
            "   1.06683526e+00]\n",
            " [-1.10696425e+00 -7.49367167e-01 -7.35670058e-01 -5.89537525e-01\n",
            "  -6.68518884e-01]\n",
            " [ 1.25742816e+00  6.09431747e-01  5.23778980e-01  6.48467454e-01\n",
            "   2.04051841e+00]\n",
            " [ 9.33731584e-01  6.09431747e-01  8.36469776e-01  1.85150445e+00\n",
            "   9.78324154e-01]\n",
            " [ 8.07067705e-01  6.09431747e-01  8.10412209e-01  1.63137406e+00\n",
            "   1.02550570e+00]\n",
            " [ 8.35215234e-01  7.96852286e-01  6.97496089e-01  4.22089260e-01\n",
            "   1.16936672e+00]\n",
            " [-8.81784019e-01 -8.89932571e-01 -9.61502300e-01 -7.96826558e-01\n",
            "  -8.52246487e-01]\n",
            " [-7.69193904e-01 -7.96222301e-01 -7.87785191e-01 -6.53546719e-01\n",
            "  -5.32826236e-01]\n",
            " [ 3.39664035e+00  2.95218849e+00  2.84290238e+00  1.82128867e-01\n",
            "   1.03367408e+00]\n",
            " [-3.61054738e-01 -9.33952774e-02 -2.05832877e-01 -4.47196092e-01\n",
            "  -6.90572897e-02]\n",
            " [-1.07262426e+00 -1.52716241e+00 -1.55214047e+00 -1.67235972e+00\n",
            "  -1.86207776e+00]\n",
            " [-1.35874508e-01  9.37417691e-01  8.45155631e-01 -6.09095890e-01\n",
            "  -2.87287156e-01]\n",
            " [-6.56603789e-01 -5.61946627e-01 -5.44581239e-01 -6.08108094e-01\n",
            "  -3.95182929e-01]\n",
            " [ 1.28557569e+00  1.07798310e+00  9.58071752e-01  7.57174426e-01\n",
            "   1.62033448e+00]\n",
            " [-9.52152841e-01 -1.29288673e+00 -1.28287895e+00 -4.97598394e-01\n",
            "  -1.29339999e+00]\n",
            " [-1.01689216e+00 -1.38659700e+00 -1.43922435e+00 -1.31734577e+00\n",
            "  -1.49291573e+00]\n",
            " [ 1.63741980e+00  1.17169337e+00  1.27076255e+00  2.41341232e+00\n",
            "   1.40143407e+00]\n",
            " [-2.06243329e-01  1.40880397e-01  2.86852201e-02 -3.07916828e-01\n",
            "   1.97085615e-01]\n",
            " [-1.07966115e+00 -1.63961473e+00 -1.67374245e+00 -1.64628190e+00\n",
            "  -1.87036806e+00]\n",
            " [ 1.98926391e+00  1.26540364e+00  1.15784643e+00  9.72415218e-01\n",
            "   1.47525429e+00]\n",
            " [-9.38079077e-01 -1.21791852e+00 -1.20470625e+00 -5.64348722e-01\n",
            "  -1.30089783e+00]\n",
            " [-1.05151362e+00 -1.33037084e+00 -1.39579507e+00 -1.47914678e+00\n",
            "  -1.45146425e+00]\n",
            " [-6.98825082e-01 -4.21381222e-01 -5.01151962e-01 -6.14281820e-01\n",
            "  -3.79943413e-01]\n",
            " [-5.52457933e-01 -2.71444790e-01 -3.70864130e-01 -5.68349296e-01\n",
            "  -1.27577031e-01]\n",
            " [-3.41351467e-01 -1.40250412e-01 -5.81733343e-02 -7.27225524e-02\n",
            "   1.98304776e-01]\n",
            " [ 1.59674544e-01  1.12767316e-01  2.97946739e-01  1.17051775e+00\n",
            "   2.92058277e-01]\n",
            " [ 8.63362763e-01  7.96852286e-01  7.06181944e-01  4.87110945e-01\n",
            "   1.10718950e+00]\n",
            " [ 1.20113311e+00  1.07798310e+00  9.75443463e-01  5.61195660e-01\n",
            "   1.32993026e+00]\n",
            " [-6.53789036e-01 -4.77607384e-01 -3.96921696e-01 -4.80855248e-01\n",
            "  -4.98080139e-01]\n",
            " [-9.94374134e-01 -1.34911289e+00 -1.30893652e+00 -1.16443491e+00\n",
            "  -1.32906046e+00]\n",
            " [-8.67710255e-01 -8.33706409e-01 -9.09387167e-01 -9.19856575e-01\n",
            "  -8.60414868e-01]\n",
            " [-8.25488962e-01 -9.83642841e-01 -1.04836085e+00 -8.98915295e-01\n",
            "  -6.86806303e-01]\n",
            " [ 1.56705098e+00  1.17169337e+00  1.32287768e+00  2.16352457e+00\n",
            "   1.17174409e+00]\n",
            " [-7.12898847e-01 -5.61946627e-01 -5.44581239e-01 -5.71065736e-01\n",
            "  -6.84733729e-01]\n",
            " [-9.21062831e-03  1.40880397e-01  3.24004305e-01  9.40262452e-01\n",
            "   1.47343835e-01]\n",
            " [-6.84751318e-01 -6.08801762e-01 -5.70638805e-01 -7.55166253e-01\n",
            "  -4.22979805e-01]\n",
            " [-3.38536715e-01 -3.27670952e-01 -2.84005576e-01  5.49589054e-01\n",
            "  -1.85487191e-01]\n",
            " [ 1.42631334e+00  1.07798310e+00  9.75443463e-01  7.08130345e-01\n",
            "   1.69263074e+00]\n",
            " [ 4.58038349e-01  5.62576612e-01  4.54292136e-01  3.44250919e-01\n",
            "   1.18210696e+00]\n",
            " [-7.41046376e-01 -5.61946627e-01 -6.31439793e-01 -7.42448377e-01\n",
            "  -5.02469120e-01]\n",
            " [-7.83267669e-01 -7.02512032e-01 -7.61727625e-01 -7.27261010e-01\n",
            "  -6.95401390e-01]\n",
            " [ 3.25590271e+00  2.95218849e+00  2.84290238e+00  1.82128867e-01\n",
            "   1.03367408e+00]\n",
            " [ 3.53737799e+00  3.27080341e+00  3.19033660e+00  4.81431116e-01\n",
            "   1.84807380e+00]\n",
            " [-7.26972611e-01 -6.08801762e-01 -6.74869070e-01 -7.37756345e-01\n",
            "  -5.62817603e-01]\n",
            " [ 1.59674544e-01  1.40880397e-01  3.32690160e-01  1.26991474e+00\n",
            "   2.41097337e-01]\n",
            " [ 8.63362763e-01  7.03142017e-01  6.10637534e-01  4.31325154e-01\n",
            "   1.39747180e+00]\n",
            " [-1.49948272e-01  3.28300937e-01  5.23778980e-01  1.24719543e+00\n",
            "   3.80691302e-01]\n",
            " [ 1.14483805e+00  7.40626125e-01  7.23553655e-01  7.15835155e-01\n",
            "   1.29554992e+00]\n",
            " [ 4.13002303e-01  1.35911391e+00  1.26207669e+00 -2.65836710e-01\n",
            "   4.15315481e-01]\n",
            " [-8.52089559e-02  4.71701274e-02  1.93716473e-01  9.55079395e-01\n",
            "   4.39717660e-03]\n",
            " [ 8.63362763e-01  4.22011207e-01  6.28009245e-01  1.50034290e+00\n",
            "   4.56706006e-01]\n",
            " [-8.62080749e-01 -8.14964355e-01 -7.87785191e-01 -8.01567980e-01\n",
            "  -7.76414657e-01]\n",
            " [-1.09035721e+00 -1.88326143e+00 -1.95168982e+00 -1.66702562e+00\n",
            "  -1.85329980e+00]\n",
            " [ 1.06039546e+00  1.82766526e+00  1.73111289e+00 -2.92013309e-01\n",
            "   5.65516150e-01]\n",
            " [ 3.00412188e-01  1.12767316e-01  2.80575028e-01  1.31303204e+00\n",
            "   5.06082038e-01]\n",
            " [ 1.03379487e-01  8.90562556e-01  8.01726354e-01 -3.88323439e-01\n",
            "   7.81564332e-02]\n",
            " [-8.53636490e-01 -1.01175592e+00 -9.96245722e-01 -3.59874908e-01\n",
            "  -1.08218030e+00]\n",
            " [-9.21062831e-03  3.00187856e-01  3.24004305e-01  1.53729727e-01\n",
            "   5.52714956e-01]\n",
            " [-2.62538387e-01  1.90570465e-02 -1.01602612e-01 -3.15424079e-01\n",
            "   1.14060733e-01]\n",
            " [-5.44013674e-01 -4.68236357e-01 -3.88235841e-01 -3.61949280e-01\n",
            "  -1.95728145e-01]\n",
            " [-1.07262426e+00 -1.45219419e+00 -1.51739705e+00 -1.62627903e+00\n",
            "  -1.94607798e+00]\n",
            " [ 4.13002303e-01  2.34590667e-01  2.37145751e-01  4.64638581e-01\n",
            "   1.28847878e+00]\n",
            " [-6.31271013e-01 -4.21381222e-01 -3.53492419e-01 -3.27969091e-01\n",
            "  -3.73725690e-01]\n",
            " [-7.41046376e-01 -6.08801762e-01 -6.74869070e-01 -6.79723318e-01\n",
            "  -5.62817603e-01]\n",
            " [ 8.21141469e-01  5.15721477e-01  6.88810233e-01  1.76102232e+00\n",
            "   5.62102498e-01]\n",
            " [-2.45649870e-01 -4.65401424e-02 -4.08016234e-02 -2.08632519e-02\n",
            "   1.42223358e-01]\n",
            " [-1.07937967e+00 -1.54590446e+00 -1.56951218e+00 -1.64420753e+00\n",
            "  -2.01154694e+00]\n",
            " [-2.62538387e-01  5.15721477e-01  5.67208257e-01 -7.79046226e-01\n",
            "  -1.76953062e-01]\n",
            " [-8.87413525e-01 -9.08674625e-01 -8.74643745e-01 -8.11692891e-01\n",
            "  -9.41123344e-01]\n",
            " [-1.07937967e+00 -1.62087268e+00 -1.63899902e+00 -1.67413775e+00\n",
            "  -1.93303295e+00]\n",
            " [-2.90685916e-01 -2.05847601e-01 -6.05820169e-03  8.93342132e-01\n",
            "  -8.69789603e-02]\n",
            " [-2.90685916e-01 -2.33960682e-01 -1.79775310e-01  3.53531430e-03\n",
            "   2.95728568e-02]\n",
            " [-2.62538387e-01  6.09431747e-01  6.54066812e-01 -7.22593673e-01\n",
            "  -3.89440064e-02]\n",
            " [-3.75128502e-01 -9.33952774e-02 -2.05832877e-01 -4.18648782e-01\n",
            "  -6.90572897e-02]\n",
            " [-6.00308732e-01 -3.27670952e-01 -4.14293407e-01 -5.98353606e-01\n",
            "  -4.66199072e-01]\n",
            " [ 1.42631334e+00  9.84272826e-01  8.79899053e-01  5.61590778e-01\n",
            "   1.85624218e+00]\n",
            " [-7.69193904e-01 -6.08801762e-01 -6.74869070e-01 -7.95789372e-01\n",
            "  -5.62817603e-01]\n",
            " [-9.94374134e-01 -1.26477365e+00 -1.32630823e+00 -1.24424885e+00\n",
            "  -1.22908923e+00]\n",
            " [ 1.75000992e+00  1.07798310e+00  9.66757607e-01  8.68844787e-01\n",
            "   1.83734518e+00]\n",
            " [-1.05095067e+00 -1.26477365e+00 -1.30893652e+00 -1.46447801e+00\n",
            "  -1.56606541e+00]\n",
            " [ 5.11518653e-01  5.15721477e-01  7.14867800e-01  1.54738669e+00\n",
            "   6.83470002e-01]\n",
            " [-2.62538387e-01 -2.33960682e-01 -1.97147021e-01  6.18734788e-01\n",
            "  -1.30624934e-01]\n",
            " [-4.03276031e-01 -4.65401424e-02 -1.62403600e-01 -2.57341662e-01\n",
            "  -1.48790437e-01]\n",
            " [ 5.81887475e-01  3.28300937e-01  5.15093125e-01  1.50439286e+00\n",
            "   4.40430204e-01]\n",
            " [-6.84751318e-01 -5.61946627e-01 -6.31439793e-01 -5.11304066e-01\n",
            "  -5.02469120e-01]\n",
            " [-2.62538387e-01 -1.12137331e-01 -2.23204588e-01 -1.33225070e-01\n",
            "   4.20009252e-01]]\n",
            "[[-0.88741352 -0.91804565 -1.03098914 -0.90464451 -0.80762518]\n",
            " [-1.06924656 -1.50842035 -1.54345461 -1.58849582 -1.93803151]\n",
            " [-0.54401367  0.35641402  0.30663259 -0.8135697  -0.65388895]\n",
            " [-0.34698097 -0.23396068 -0.22320459 -0.11905019 -0.12233464]\n",
            " [-0.68475132 -0.51509149 -0.58801052 -0.8998784  -0.50124996]\n",
            " [ 1.70778862  0.79685229  0.98412932  2.49283113  1.31347159]\n",
            " [-1.08726098 -1.67709884 -1.70848587 -1.76175528 -2.01154694]\n",
            " [-0.60030873 -0.3089289  -0.29269143 -0.43855288 -0.33056738]\n",
            " [-0.57779071 -0.36515506 -0.44035097 -0.52577528 -0.17219833]\n",
            " [ 2.41147684  2.57734741  2.4694106   0.45038962  1.54627043]\n",
            " [ 0.72262512  0.46886634  0.64538096  1.38570915  0.7798447 ]\n",
            " [ 1.70778862  1.0779831   1.06230202  0.86222655  1.2659243 ]\n",
            " [ 0.58188748  0.32830094  0.51509312  1.62381742  0.6898706 ]\n",
            " [-0.68475132 -0.7962223  -0.77041348  0.0074865  -0.70436223]\n",
            " [ 0.86336276  0.60943175  0.80172635  1.82199404  0.69535682]\n",
            " [ 1.48260839  0.93741769  1.11441715  2.26561331  1.13260901]\n",
            " [ 1.70778862  1.40596904  1.2794484   0.92396381  2.25161618]\n",
            " [-0.49334812 -0.18710555 -0.28400558 -0.41845122 -0.18548719]\n",
            " [-0.47364485 -0.42138122 -0.50115196 -0.38758259 -0.44212064]\n",
            " [ 0.86336276  0.42201121  0.61063753  1.48117965  0.51028814]\n",
            " [-1.07881672 -1.56464651 -1.57819804 -1.64186151 -1.92900972]\n",
            " [ 0.610035    0.46886634  0.6366951   1.67197249  0.41787572]\n",
            " [ 0.30041219  0.2814458   0.44560628  1.20923936 -0.04894113]\n",
            " [ 0.30041219  0.20647759  0.42823457  1.32466334  0.31156486]\n",
            " [ 1.58112475  0.93741769  1.10573129  2.27724461  1.12389201]\n",
            " [ 1.98926391  1.35911391  1.23601913  0.90136798  1.80936543]\n",
            " [-0.62845626 -0.46823636 -0.54458124 -0.63897672 -0.44090148]\n",
            " [-0.34698097 -0.18710555 -0.17108946 -0.17708322 -0.12178601]\n",
            " [-1.0881054  -1.75206705 -1.77797271 -1.75918701 -2.07299266]\n",
            " [-1.0790982  -1.56464651 -1.57819804 -1.64186151 -2.00087927]\n",
            " [ 0.32855972  1.31225877  1.23601913 -0.50315475  0.00653071]\n",
            " [-0.90993155 -1.039869   -1.10916184 -1.05557977 -0.9185079 ]\n",
            " [-0.96200448 -1.15232133 -1.22207796 -1.0544932  -1.10741694]\n",
            " [ 0.48900063  1.64024472  1.5139665  -0.26435502  0.25706835]\n",
            " [-0.14994827 -0.18710555 -0.01474406  0.86810394  0.15106228]\n",
            " [-0.7691939  -0.60880176 -0.67486907 -0.67972332 -0.63444333]\n",
            " [-0.65660379 -0.56194663 -0.51852367 -0.45169057 -0.38280844]\n",
            " [-0.7691939  -0.70251203 -0.65749736 -0.67858735 -0.70344785]\n",
            " [-0.69882508 -0.6556569  -0.62275394  0.21581272 -0.78708232]\n",
            " [ 1.20113311  0.98427283  0.8712132   0.88131571  1.76968173]]\n"
          ]
        }
      ]
    },
    {
      "cell_type": "markdown",
      "source": [
        "### 5. Predicting the Probability of the K-NN Classifier\n",
        "- import sklearn.neighbors\n",
        "- Using KNeighborsClassifier\n",
        "  - **`n_neighbors`**\n",
        "    - 최근접 이웃 개수 지정\n",
        "  - **`classes_`**\n",
        "    - 분류 모델의 분류 타겟 지정\n",
        "    - 자동 순서 정렬 출력"
      ],
      "metadata": {
        "id": "KwIS2yq5kTFZ"
      }
    },
    {
      "cell_type": "markdown",
      "source": [
        "### 5-1. Import KNeighborsClassifier\n",
        "- from sklearn.neighbors"
      ],
      "metadata": {
        "id": "hh8vDQk5GCAC"
      }
    },
    {
      "cell_type": "code",
      "source": [
        "from sklearn.neighbors import KNeighborsClassifier"
      ],
      "metadata": {
        "id": "rqKaneFTkS_D"
      },
      "execution_count": null,
      "outputs": []
    },
    {
      "cell_type": "markdown",
      "source": [
        "### 5-2. Start to fit\n",
        "- Use **`n_neighbors(default=5)`**\n",
        "- Use **`fit()`**"
      ],
      "metadata": {
        "id": "nyVEOE4yGPv6"
      }
    },
    {
      "cell_type": "code",
      "source": [
        "kn = KNeighborsClassifier(n_neighbors=3) #최근접 이웃 개수 3으로 지정\n",
        "kn.fit(train_scaled, train_target)"
      ],
      "metadata": {
        "colab": {
          "base_uri": "https://localhost:8080/"
        },
        "id": "EwEF0Hj3kAeE",
        "outputId": "aa99e0a6-05e6-4e9d-fa1a-ca847a1a5ee4"
      },
      "execution_count": null,
      "outputs": [
        {
          "output_type": "execute_result",
          "data": {
            "text/plain": [
              "KNeighborsClassifier(n_neighbors=3)"
            ]
          },
          "metadata": {},
          "execution_count": 16
        }
      ]
    },
    {
      "cell_type": "markdown",
      "source": [
        "### 5-3. Check the scores\n",
        "- 표준화 처리된 train_scaled, test_scaled 평가 수치 확인"
      ],
      "metadata": {
        "id": "VzNnq4-rGfnl"
      }
    },
    {
      "cell_type": "code",
      "source": [
        "#Checkout\n",
        "print(kn.score(train_scaled, train_target))\n",
        "print(kn.score(test_scaled, test_target))"
      ],
      "metadata": {
        "colab": {
          "base_uri": "https://localhost:8080/"
        },
        "id": "o5Ot90zYksTf",
        "outputId": "e56595f8-82da-4c22-abce-d1428c80b2c7"
      },
      "execution_count": null,
      "outputs": [
        {
          "output_type": "stream",
          "name": "stdout",
          "text": [
            "0.8907563025210085\n",
            "0.85\n"
          ]
        }
      ]
    },
    {
      "cell_type": "markdown",
      "source": [
        "### 5-4. Comparison **`unique()`** and **`classes_`**"
      ],
      "metadata": {
        "id": "g79LRfLuGwsm"
      }
    },
    {
      "cell_type": "code",
      "source": [
        "print(pd.unique(fish['Species'])) #Species values\n",
        "print(kn.classes_) #classes values (sorted)"
      ],
      "metadata": {
        "colab": {
          "base_uri": "https://localhost:8080/"
        },
        "id": "T-ky4RGklOfa",
        "outputId": "fbe90256-c400-4b24-8630-610741ce369c"
      },
      "execution_count": null,
      "outputs": [
        {
          "output_type": "stream",
          "name": "stdout",
          "text": [
            "['Bream' 'Roach' 'Whitefish' 'Parkki' 'Perch' 'Pike' 'Smelt']\n",
            "['Bream' 'Parkki' 'Perch' 'Pike' 'Roach' 'Smelt' 'Whitefish']\n"
          ]
        }
      ]
    },
    {
      "cell_type": "markdown",
      "source": [
        "### 6. Analyze result of the K-NN Classifier\n",
        "- Using K-NN Classifier\n",
        "  - **`predict()`**\n",
        "    - 입력 샘플에 대한 예측값 반환\n",
        "  - **`predict_proba()`**\n",
        "    - 입력 샘플에 대한 예측된 타겟 별 확률을 반환\n",
        "    - **`classes_`** 속성의 순서와 동일하게 출력 \n",
        "  - **`np.round()`**\n",
        "    - 소수점 첫째 자리에서 반올림\n",
        "  - **`decimals=_number`**\n",
        "    - 유지할 소수점 아래 자릿수 지정\n",
        "    - 만약, 4로 지정한다면 소수점 4자릿수 까지 출력"
      ],
      "metadata": {
        "id": "wSqQRCEvlm8g"
      }
    },
    {
      "cell_type": "code",
      "source": [
        "print(kn.predict(test_scaled[:5]))\n",
        "\n",
        "#Use predict_proba()\n",
        "#5개 샘플에 대한 확률 예측\n",
        "import numpy as np\n",
        "\n",
        "proba = kn.predict_proba(test_scaled[:5])\n",
        "print(np.round(proba, decimals=4))"
      ],
      "metadata": {
        "colab": {
          "base_uri": "https://localhost:8080/"
        },
        "id": "lFYx26NElnEp",
        "outputId": "70f71568-988b-4a58-8b37-540c0105f6e3"
      },
      "execution_count": null,
      "outputs": [
        {
          "output_type": "stream",
          "name": "stdout",
          "text": [
            "['Perch' 'Smelt' 'Pike' 'Perch' 'Perch']\n",
            "[[0.     0.     1.     0.     0.     0.     0.    ]\n",
            " [0.     0.     0.     0.     0.     1.     0.    ]\n",
            " [0.     0.     0.     1.     0.     0.     0.    ]\n",
            " [0.     0.     0.6667 0.     0.3333 0.     0.    ]\n",
            " [0.     0.     0.6667 0.     0.3333 0.     0.    ]]\n"
          ]
        }
      ]
    },
    {
      "cell_type": "markdown",
      "source": [
        "### 6-1. Using kneighbors() for predicting\n",
        "- 2차원 배열을 사용해야 하므로 넘파이 배열의 슬라이싱 연산자를 사용\n",
        "- 슬라이싱 연산자는 하나의 샘플만 선택해도 2차원 배열이 자동으로 생성됨"
      ],
      "metadata": {
        "id": "ZtNYyIgYKV4p"
      }
    },
    {
      "cell_type": "code",
      "source": [
        "distances, indexes = kn.kneighbors(test_scaled[3:4])\n",
        "print(train_target[indexes]) #결과적으로 0.6667의 확률로 'Perch'"
      ],
      "metadata": {
        "colab": {
          "base_uri": "https://localhost:8080/"
        },
        "id": "dY_QiJViKDap",
        "outputId": "f5461b3e-d1ec-4ec5-f0ca-4a9cfde375b4"
      },
      "execution_count": null,
      "outputs": [
        {
          "output_type": "stream",
          "name": "stdout",
          "text": [
            "[['Roach' 'Perch' 'Perch']]\n"
          ]
        }
      ]
    },
    {
      "cell_type": "markdown",
      "source": [
        "### 7. Draw a Graph of Sigmoid Function\n",
        "- import matplotlib.pyplot\n",
        "- Using **`np.exp()`**\n",
        "- 로지스틱 함수\n",
        "- $z$가 무한히 작은 음수일 때 $0$에 가까워지고, 무한히 큰 양수일 때 $1$에 가까워짐\n",
        "- 만약, $z$가 $0$이라면 $0.5$의 함수 값을 가지게 됨\n",
        "- ${Ø}=$ ${1}\\over 1+e^-{ᶻ}$"
      ],
      "metadata": {
        "id": "2cUYnzBgm2Ll"
      }
    },
    {
      "cell_type": "code",
      "source": [
        "import matplotlib.pyplot as plt\n",
        "\n",
        "z = np.arange(-5, 5, 0.1) #-5에서 5 사이에 0.1 간격으로 z배열을 생성, -5..-4.9..-4.8...5\n",
        "phi = 1 / (1 + np.exp(-z)) #Sigmoid 함수 공식\n",
        "plt.title(\"Sigmoid Graph\")\n",
        "plt.plot(z, phi)\n",
        "plt.xlabel(\"z\")\n",
        "plt.ylabel(\"phi\")\n",
        "plt.show()"
      ],
      "metadata": {
        "colab": {
          "base_uri": "https://localhost:8080/",
          "height": 295
        },
        "id": "WP17-Viqopqt",
        "outputId": "ce43b322-d8d5-4f74-e185-a24b8beeb6a8"
      },
      "execution_count": null,
      "outputs": [
        {
          "output_type": "display_data",
          "data": {
            "text/plain": [
              "<Figure size 432x288 with 1 Axes>"
            ],
            "image/png": "[encoded data removed]"
          },
          "metadata": {
            "needs_background": "light"
          }
        }
      ]
    },
    {
      "cell_type": "markdown",
      "source": [
        "### 8. Perform binary classification with LogisticRegression\n",
        "\n",
        "- Using Boolean indexing\n",
        "  - 원하는 원소에 대해 True 반환, 원하지 않는 원소는 False 반환 유도"
      ],
      "metadata": {
        "id": "eZgk6DvxMQAt"
      }
    },
    {
      "cell_type": "code",
      "source": [
        "bream_smelt_indexes = (train_target == \"Bream\") | (train_target == \"Smelt\")\n",
        "print(bream_smelt_indexes)"
      ],
      "metadata": {
        "colab": {
          "base_uri": "https://localhost:8080/"
        },
        "id": "geDFvJOAp_N8",
        "outputId": "7de1c502-b822-4182-ca16-e4c47b9a3f88"
      },
      "execution_count": null,
      "outputs": [
        {
          "output_type": "stream",
          "name": "stdout",
          "text": [
            "[ True False  True False False False False  True False False False  True\n",
            " False False False  True  True False False  True False  True False False\n",
            " False  True False False  True False False False False  True False False\n",
            "  True  True False False False False False  True False False False False\n",
            " False  True False  True False False  True False False False  True False\n",
            " False False False False False  True False  True False False False False\n",
            " False False False False False  True False  True False False  True  True\n",
            " False False False  True False False False False False  True False False\n",
            " False  True False  True False False  True  True False False False False\n",
            " False False False False  True  True False False  True False False]\n"
          ]
        }
      ]
    },
    {
      "cell_type": "markdown",
      "source": [
        "### 8-1. Extracting only a few samples of the entire training data\n",
        "- bream_smelt_indexes 활용으로 클래스 중 Bream, Smelt 샘플만 추출"
      ],
      "metadata": {
        "id": "EfuxwngsOfTr"
      }
    },
    {
      "cell_type": "code",
      "source": [
        "train_bream_smelt = train_scaled[bream_smelt_indexes]\n",
        "target_bream_smelt = train_target[bream_smelt_indexes]"
      ],
      "metadata": {
        "id": "IXGwczhWrM8p"
      },
      "execution_count": null,
      "outputs": []
    },
    {
      "cell_type": "markdown",
      "source": [
        "### 8-2. Import LogisticRegression\n",
        "- from sklearn.linear_model\n",
        "- Use **`fit()`**\n",
        "- Use **`predict()`**\n",
        "- Use **`classes_`**\n",
        "- Use **`coef_`, `intercept_`**\n",
        "- Use **`decision_function()`**\n",
        "- Use **`predict_proba()`**"
      ],
      "metadata": {
        "id": "nahOwxKXMtu9"
      }
    },
    {
      "cell_type": "code",
      "source": [
        "from sklearn.linear_model import LogisticRegression\n",
        "\n",
        "#로지스틱 회귀 모델 생성\n",
        "lr = LogisticRegression()\n",
        "#모델 훈련\n",
        "lr.fit(train_bream_smelt, target_bream_smelt)\n",
        "#모델 타겟별 예측 확률 반환\n",
        "print(lr.predict_proba(train_bream_smelt))\n",
        "#정렬된 타겟 반환\n",
        "print(lr.classes_) #[0]: 양성 클래스, [1]: 음성 클래스\n",
        "#계수와 절편 값 출력 \n",
        "print(lr.coef_, lr.intercept_)"
      ],
      "metadata": {
        "colab": {
          "base_uri": "https://localhost:8080/"
        },
        "id": "xaBIeICorNDd",
        "outputId": "e8e4bef7-eaa9-491e-ce63-07e9be1bb8ab"
      },
      "execution_count": null,
      "outputs": [
        {
          "output_type": "stream",
          "name": "stdout",
          "text": [
            "[[9.97598548e-01 2.40145188e-03]\n",
            " [2.73518278e-02 9.72648172e-01]\n",
            " [9.94860716e-01 5.13928355e-03]\n",
            " [9.85842021e-01 1.41579793e-02]\n",
            " [9.97672689e-01 2.32731108e-03]\n",
            " [3.19313332e-02 9.68068667e-01]\n",
            " [9.73126218e-01 2.68737821e-02]\n",
            " [9.99532898e-01 4.67102003e-04]\n",
            " [9.86833271e-01 1.31667287e-02]\n",
            " [9.02298747e-01 9.77012526e-02]\n",
            " [9.98451570e-01 1.54842979e-03]\n",
            " [9.97613093e-01 2.38690672e-03]\n",
            " [9.96916198e-01 3.08380199e-03]\n",
            " [3.78088229e-02 9.62191177e-01]\n",
            " [9.99594536e-01 4.05464246e-04]\n",
            " [3.34216952e-02 9.66578305e-01]\n",
            " [7.48145922e-02 9.25185408e-01]\n",
            " [9.79921012e-01 2.00789881e-02]\n",
            " [9.99386077e-01 6.13922873e-04]\n",
            " [9.71082465e-01 2.89175350e-02]\n",
            " [9.81843741e-01 1.81562588e-02]\n",
            " [9.84919698e-01 1.50803021e-02]\n",
            " [9.62792981e-01 3.72070191e-02]\n",
            " [9.93461181e-01 6.53881937e-03]\n",
            " [9.85713675e-01 1.42863252e-02]\n",
            " [3.97252439e-02 9.60274756e-01]\n",
            " [9.95687200e-01 4.31280005e-03]\n",
            " [3.41396040e-02 9.65860396e-01]\n",
            " [3.21494398e-02 9.67850560e-01]\n",
            " [9.40631080e-01 5.93689204e-02]\n",
            " [7.66767417e-02 9.23323258e-01]\n",
            " [9.94549099e-01 5.45090074e-03]\n",
            " [9.91617078e-01 8.38292167e-03]]\n",
            "['Bream' 'Smelt']\n",
            "[[-0.4037798  -0.57620209 -0.66280298 -1.01290277 -0.73168947]] [-2.16155132]\n"
          ]
        }
      ]
    },
    {
      "cell_type": "code",
      "source": [
        "decisions = lr.decision_function(train_bream_smelt)\n",
        "print(decisions)"
      ],
      "metadata": {
        "colab": {
          "base_uri": "https://localhost:8080/"
        },
        "id": "ZUc2vUTyslFk",
        "outputId": "c875af11-f789-47e8-d032-3878abf4b607"
      },
      "execution_count": null,
      "outputs": [
        {
          "output_type": "stream",
          "name": "stdout",
          "text": [
            "[-6.02927744  3.57123907 -5.26568906 -4.24321775 -6.0607117   3.41171526\n",
            " -3.58936263 -7.66849569 -4.31680801 -2.22303129 -6.46896427 -6.03536725\n",
            " -5.77850347  3.23667067 -7.81007231  3.36455707  2.51498121 -3.88779807\n",
            " -7.39502714 -3.51396324 -3.99041683 -4.17917072 -3.25334099 -5.02343836\n",
            " -4.23406312  3.1852326  -5.4418458   3.34256119  3.40468267 -2.76278015\n",
            "  2.48838097 -5.2065086  -4.77314052]\n"
          ]
        }
      ]
    },
    {
      "cell_type": "markdown",
      "source": [
        "### 9. Using scipy of **`expit()`**\n",
        "- **`expit()`**\n",
        "  - sipy 라이브러리에서 제공하는 시그모이드 함수\n",
        "  - **`np.exp()`**보다 편리하고 안전"
      ],
      "metadata": {
        "id": "LQeqY1aVN9zf"
      }
    },
    {
      "cell_type": "code",
      "source": [
        "from scipy.special import expit\n",
        "#양성 클래스에 대한 z값 반환\n",
        "print(expit(decisions))"
      ],
      "metadata": {
        "colab": {
          "base_uri": "https://localhost:8080/"
        },
        "id": "shnBwr3WtLI0",
        "outputId": "876a32b7-e732-43e9-fd0d-041840ea653e"
      },
      "execution_count": null,
      "outputs": [
        {
          "output_type": "stream",
          "name": "stdout",
          "text": [
            "[2.40145188e-03 9.72648172e-01 5.13928355e-03 1.41579793e-02\n",
            " 2.32731108e-03 9.68068667e-01 2.68737821e-02 4.67102003e-04\n",
            " 1.31667287e-02 9.77012526e-02 1.54842979e-03 2.38690672e-03\n",
            " 3.08380199e-03 9.62191177e-01 4.05464246e-04 9.66578305e-01\n",
            " 9.25185408e-01 2.00789881e-02 6.13922873e-04 2.89175350e-02\n",
            " 1.81562588e-02 1.50803021e-02 3.72070191e-02 6.53881937e-03\n",
            " 1.42863252e-02 9.60274756e-01 4.31280005e-03 9.65860396e-01\n",
            " 9.67850560e-01 5.93689204e-02 9.23323258e-01 5.45090074e-03\n",
            " 8.38292167e-03]\n"
          ]
        }
      ]
    },
    {
      "cell_type": "code",
      "source": [
        "#Checkout\n",
        "print(lr.predict_proba(train_bream_smelt[:5]))\n",
        "print(expit(decisions))"
      ],
      "metadata": {
        "colab": {
          "base_uri": "https://localhost:8080/"
        },
        "id": "3ztWAdKEtaNT",
        "outputId": "b6fceb57-579d-4d88-aabb-624a8b6568f5"
      },
      "execution_count": null,
      "outputs": [
        {
          "output_type": "stream",
          "name": "stdout",
          "text": [
            "[[0.99759855 0.00240145]\n",
            " [0.02735183 0.97264817]\n",
            " [0.99486072 0.00513928]\n",
            " [0.98584202 0.01415798]\n",
            " [0.99767269 0.00232731]]\n",
            "[2.40145188e-03 9.72648172e-01 5.13928355e-03 1.41579793e-02\n",
            " 2.32731108e-03 9.68068667e-01 2.68737821e-02 4.67102003e-04\n",
            " 1.31667287e-02 9.77012526e-02 1.54842979e-03 2.38690672e-03\n",
            " 3.08380199e-03 9.62191177e-01 4.05464246e-04 9.66578305e-01\n",
            " 9.25185408e-01 2.00789881e-02 6.13922873e-04 2.89175350e-02\n",
            " 1.81562588e-02 1.50803021e-02 3.72070191e-02 6.53881937e-03\n",
            " 1.42863252e-02 9.60274756e-01 4.31280005e-03 9.65860396e-01\n",
            " 9.67850560e-01 5.93689204e-02 9.23323258e-01 5.45090074e-03\n",
            " 8.38292167e-03]\n"
          ]
        }
      ]
    },
    {
      "cell_type": "markdown",
      "source": [
        "### 10. Perform multiple classifications using LogisticRegression\n",
        "- Using **`C`**\n",
        "  - 기본값은 1이며, L2 규제의 값을 지정해 규제의 강도를 조절 가능\n",
        "  - 값이 증가할 수록 규제는 완화, 값이 감소할 수록 규제는 강화\n",
        "- Using **`max_iter=`**\n",
        "  - 준비한 데이터 세트에 대해 학습을 얼마나 반복할지 지정\n",
        "  - 지정한 값이 클수록 반복 학습\n"
      ],
      "metadata": {
        "id": "Z34pUe2aPzpW"
      }
    },
    {
      "cell_type": "code",
      "source": [
        "lr = LogisticRegression(C=20, max_iter= 1000) #L2 규제 20/1000번 반복 학습\n",
        "lr.fit(train_scaled, train_target)"
      ],
      "metadata": {
        "colab": {
          "base_uri": "https://localhost:8080/"
        },
        "id": "9o8zgl68tp0F",
        "outputId": "0ada52be-ca9e-4bc0-f3a7-ac0f2fe31250"
      },
      "execution_count": null,
      "outputs": [
        {
          "output_type": "execute_result",
          "data": {
            "text/plain": [
              "LogisticRegression(C=20, max_iter=1000)"
            ]
          },
          "metadata": {},
          "execution_count": 39
        }
      ]
    },
    {
      "cell_type": "code",
      "source": [
        "#result score\n",
        "print(lr.score(train_scaled, train_target))\n",
        "print(lr.score(test_scaled, test_target))"
      ],
      "metadata": {
        "colab": {
          "base_uri": "https://localhost:8080/"
        },
        "id": "TqPo4sqLuGZf",
        "outputId": "00c3b50d-549c-4f54-efb8-c0c1f9e4449e"
      },
      "execution_count": null,
      "outputs": [
        {
          "output_type": "stream",
          "name": "stdout",
          "text": [
            "0.9327731092436975\n",
            "0.925\n"
          ]
        }
      ]
    },
    {
      "cell_type": "code",
      "source": [
        "#테스트 세트의 5개 샘플에 대한 예측\n",
        "print(lr.predict(test_scaled[:5]))"
      ],
      "metadata": {
        "colab": {
          "base_uri": "https://localhost:8080/"
        },
        "id": "z9PRkcQquP6S",
        "outputId": "f42be3cc-5ecc-4014-d2f5-bf285f4387de"
      },
      "execution_count": null,
      "outputs": [
        {
          "output_type": "stream",
          "name": "stdout",
          "text": [
            "['Perch' 'Smelt' 'Pike' 'Roach' 'Perch']\n"
          ]
        }
      ]
    },
    {
      "cell_type": "code",
      "source": [
        "#테스트 세트의 5개 샘플에 대한 예측 확률\n",
        "proba = lr.predict_proba(test_scaled[:5])\n",
        "print(np.round(proba, decimals=3))"
      ],
      "metadata": {
        "colab": {
          "base_uri": "https://localhost:8080/"
        },
        "id": "pM0RJOufuYWc",
        "outputId": "4345f09f-ae91-400d-f155-52dddf898913"
      },
      "execution_count": null,
      "outputs": [
        {
          "output_type": "stream",
          "name": "stdout",
          "text": [
            "[[0.    0.014 0.841 0.    0.136 0.007 0.003]\n",
            " [0.    0.003 0.044 0.    0.007 0.946 0.   ]\n",
            " [0.    0.    0.034 0.935 0.015 0.016 0.   ]\n",
            " [0.011 0.034 0.306 0.007 0.567 0.    0.076]\n",
            " [0.    0.    0.904 0.002 0.089 0.002 0.001]]\n"
          ]
        }
      ]
    },
    {
      "cell_type": "markdown",
      "source": [
        "### 11. Softmax Function\n",
        "- ${esum}= {e^z}^1+{e^z}^2+{e^z}^3+{e^z}^4+{e^z}^5+{e^z}^6+{e^z}^7$\n",
        "- ${s1}=$${e^z}^1\\over esum$, ${s2}=$${e^z}^2\\over esum$,$....$, ${s7}=$${e^z}^7\\over esum$\n",
        "- 여러 개의 선형 방정식의 출력값을 0~1 사이로 압축해 전체 합을 1로 만듬\n",
        "- 따라서 정규화된 지수 함수라고 말할 수 있다\n",
        "- 분모를 모두 더한 값을 분모로 나누어 주는 방식"
      ],
      "metadata": {
        "id": "570dnQ59vmj1"
      }
    },
    {
      "cell_type": "code",
      "source": [
        "#5개 샘플\n",
        "decision = lr.decision_function(test_scaled[:5])\n",
        "\n",
        "print(np.round(decision, decimals=2))"
      ],
      "metadata": {
        "id": "Mb9Xqc41uqTM",
        "colab": {
          "base_uri": "https://localhost:8080/"
        },
        "outputId": "dc8137d5-ac02-4a92-efbe-a01e8c672e4d"
      },
      "execution_count": null,
      "outputs": [
        {
          "output_type": "stream",
          "name": "stdout",
          "text": [
            "[[ -6.5    1.03   5.16  -2.73   3.34   0.33  -0.63]\n",
            " [-10.86   1.93   4.77  -2.4    2.98   7.84  -4.26]\n",
            " [ -4.34  -6.23   3.17   6.49   2.36   2.42  -3.87]\n",
            " [ -0.68   0.45   2.65  -1.19   3.26  -5.75   1.26]\n",
            " [ -6.4   -1.99   5.82  -0.11   3.5   -0.11  -0.71]]\n"
          ]
        }
      ]
    },
    {
      "cell_type": "markdown",
      "source": [
        "### 11-1. Using scipy of **`softmax()`**\n",
        "- **`softmax()`**\n",
        "  - sipy 라이브러리에서 제공하는 소프트맥스 함수\n",
        "  - **`axis=`**: 각 행, 다시말해 각 샘플에 대해 계산하기 위해 축 지정 필요"
      ],
      "metadata": {
        "id": "VGvXgIKKTXbV"
      }
    },
    {
      "cell_type": "code",
      "source": [
        "from scipy.special import softmax\n",
        "proba = softmax(decision, axis=1)\n",
        "print(np.round(proba, decimals=3))"
      ],
      "metadata": {
        "colab": {
          "base_uri": "https://localhost:8080/"
        },
        "id": "aKyVGMZwTUTk",
        "outputId": "2b73de0c-39cb-4e64-82be-d1307b9f02ac"
      },
      "execution_count": null,
      "outputs": [
        {
          "output_type": "stream",
          "name": "stdout",
          "text": [
            "[[0.    0.014 0.841 0.    0.136 0.007 0.003]\n",
            " [0.    0.003 0.044 0.    0.007 0.946 0.   ]\n",
            " [0.    0.    0.034 0.935 0.015 0.016 0.   ]\n",
            " [0.011 0.034 0.306 0.007 0.567 0.    0.076]\n",
            " [0.    0.    0.904 0.002 0.089 0.002 0.001]]\n"
          ]
        }
      ]
    }
  ]
}