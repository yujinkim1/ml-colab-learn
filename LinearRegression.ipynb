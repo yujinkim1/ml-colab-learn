{
  "nbformat": 4,
  "nbformat_minor": 0,
  "metadata": {
    "colab": {
      "provenance": [],
      "collapsed_sections": []
    },
    "kernelspec": {
      "name": "python3",
      "display_name": "Python 3"
    },
    "language_info": {
      "name": "python"
    }
  },
  "cells": [
    {
      "cell_type": "markdown",
      "source": [
        "## Linear Regression\n",
        "- 특정 데이터의 특성과 타겟 간의 선형식\n",
        "- 특성 값이 증가하면 타겟 값이 증가하거나 감소하는 관계를 모델링\n",
        "- 단순 선형 회귀(Simple Linear Regression)\n",
        "  - 특정 데이터의 특성이 1개인 선형 회귀 모델\n",
        "  - 특성과 타겟의 관계를 직선으로 표현"
      ],
      "metadata": {
        "id": "eXnWMlabmSgs"
      }
    },
    {
      "cell_type": "markdown",
      "source": [
        "### Practice\n",
        "- Using numpy array\n",
        "- Using **`train_test_split()`**\n",
        "- Using **`reshape()`**\n",
        "- Scatterplot analysis\n",
        "- Using KNeighborsRegressor\n",
        "- Using **`predict()`**\n",
        "- What is model parameter?\n",
        "- Create a Straight Graph to **`plot()`**\n",
        "- Straight graph problems\n",
        "- A quadratic equation\n",
        "- Using polynomial regression\n",
        "- Create a linear graph to **`plot()`**"
      ],
      "metadata": {
        "id": "96_q69GZWYmZ"
      }
    },
    {
      "cell_type": "markdown",
      "source": [
        "### 1. Prepare to numerical data of numpy arrays"
      ],
      "metadata": {
        "id": "_utaAioNb0YF"
      }
    },
    {
      "cell_type": "markdown",
      "source": [
        "### 1-1. Import numpy"
      ],
      "metadata": {
        "id": "bpP-C3ekXQoI"
      }
    },
    {
      "cell_type": "code",
      "source": [
        "import numpy as np"
      ],
      "metadata": {
        "id": "P-YQz6Ltb75B"
      },
      "execution_count": null,
      "outputs": []
    },
    {
      "cell_type": "markdown",
      "source": [
        "### 1-2. Create numpy array of numerical datas"
      ],
      "metadata": {
        "id": "TB0GHZdKXWVv"
      }
    },
    {
      "cell_type": "code",
      "source": [
        "perch_length = np.array([8.4, 13.7, 15.0, 16.2, 17.4, 18.0, 18.7, 19.0, 19.6, 20.0, 21.0,\n",
        "       21.0, 21.0, 21.3, 22.0, 22.0, 22.0, 22.0, 22.0, 22.5, 22.5, 22.7,\n",
        "       23.0, 23.5, 24.0, 24.0, 24.6, 25.0, 25.6, 26.5, 27.3, 27.5, 27.5,\n",
        "       27.5, 28.0, 28.7, 30.0, 32.8, 34.5, 35.0, 36.5, 36.0, 37.0, 37.0,\n",
        "       39.0, 39.0, 39.0, 40.0, 40.0, 40.0, 40.0, 42.0, 43.0, 43.0, 43.5,\n",
        "       44.0])\n",
        "perch_weight = np.array([5.9, 32.0, 40.0, 51.5, 70.0, 100.0, 78.0, 80.0, 85.0, 85.0, 110.0,\n",
        "       115.0, 125.0, 130.0, 120.0, 120.0, 130.0, 135.0, 110.0, 130.0,\n",
        "       150.0, 145.0, 150.0, 170.0, 225.0, 145.0, 188.0, 180.0, 197.0,\n",
        "       218.0, 300.0, 260.0, 265.0, 250.0, 250.0, 300.0, 320.0, 514.0,\n",
        "       556.0, 840.0, 685.0, 700.0, 700.0, 690.0, 900.0, 650.0, 820.0,\n",
        "       850.0, 900.0, 1015.0, 820.0, 1100.0, 1000.0, 1100.0, 1000.0,\n",
        "       1000.0])\n",
        "\n",
        "#Checkout\n",
        "print(perch_length)\n",
        "print(perch_weight)"
      ],
      "metadata": {
        "id": "QW2uIJdHcAmC",
        "colab": {
          "base_uri": "https://localhost:8080/"
        },
        "outputId": "c59d538c-aa04-4c9c-ef63-a5de538afed0"
      },
      "execution_count": null,
      "outputs": [
        {
          "output_type": "stream",
          "name": "stdout",
          "text": [
            "[ 8.4 13.7 15.  16.2 17.4 18.  18.7 19.  19.6 20.  21.  21.  21.  21.3\n",
            " 22.  22.  22.  22.  22.  22.5 22.5 22.7 23.  23.5 24.  24.  24.6 25.\n",
            " 25.6 26.5 27.3 27.5 27.5 27.5 28.  28.7 30.  32.8 34.5 35.  36.5 36.\n",
            " 37.  37.  39.  39.  39.  40.  40.  40.  40.  42.  43.  43.  43.5 44. ]\n",
            "[   5.9   32.    40.    51.5   70.   100.    78.    80.    85.    85.\n",
            "  110.   115.   125.   130.   120.   120.   130.   135.   110.   130.\n",
            "  150.   145.   150.   170.   225.   145.   188.   180.   197.   218.\n",
            "  300.   260.   265.   250.   250.   300.   320.   514.   556.   840.\n",
            "  685.   700.   700.   690.   900.   650.   820.   850.   900.  1015.\n",
            "  820.  1100.  1000.  1100.  1000.  1000. ]\n"
          ]
        }
      ]
    },
    {
      "cell_type": "markdown",
      "source": [
        "### 2.Create Train-set and Test-set to using **`train_test_split()`**\n",
        "- sklearn 훈련 세트로 사용하기 위해서 2차원 배열로 변환이 필요"
      ],
      "metadata": {
        "id": "AtTF_W6rXvCa"
      }
    },
    {
      "cell_type": "markdown",
      "source": [
        "### 2-1. Import train_test_split"
      ],
      "metadata": {
        "id": "myS1lboEX7Mz"
      }
    },
    {
      "cell_type": "code",
      "source": [
        "from sklearn.model_selection import train_test_split"
      ],
      "metadata": {
        "id": "tVL-6MvbcBD0"
      },
      "execution_count": null,
      "outputs": []
    },
    {
      "cell_type": "markdown",
      "source": [
        "### 2-2. Create Train-set and Test-set"
      ],
      "metadata": {
        "id": "8l0riNANYCvX"
      }
    },
    {
      "cell_type": "code",
      "source": [
        "train_input, test_input, train_target, test_target = train_test_split(\n",
        "    perch_length, perch_weight, random_state=42\n",
        ")\n",
        "#checkout\n",
        "print(train_input)\n",
        "print(test_input)"
      ],
      "metadata": {
        "colab": {
          "base_uri": "https://localhost:8080/"
        },
        "id": "4vefItV6e6jw",
        "outputId": "96349cfb-7470-4e45-b343-1dca89ff664f"
      },
      "execution_count": null,
      "outputs": [
        {
          "output_type": "stream",
          "name": "stdout",
          "text": [
            "[19.6 22.  18.7 17.4 36.  25.  40.  39.  43.  22.  20.  22.  24.  27.5\n",
            " 43.  40.  24.  21.  27.5 40.  32.8 26.5 36.5 13.7 22.7 15.  37.  35.\n",
            " 28.7 23.5 39.  21.  23.  22.  44.  22.5 19.  37.  22.  25.6 42.  34.5]\n",
            "[ 8.4 18.  27.5 21.3 22.5 40.  30.  24.6 39.  21.  43.5 16.2 28.  27.3]\n"
          ]
        }
      ]
    },
    {
      "cell_type": "markdown",
      "source": [
        "### 2-3. Using **`.reshape(_columnNumber, _rowNumber)`**\n"
      ],
      "metadata": {
        "id": "wOWSRVruZAKx"
      }
    },
    {
      "cell_type": "code",
      "source": [
        "train_input = train_input.reshape(-1, 1)\n",
        "test_input = test_input.reshape(-1, 1)\n",
        "#Checkout\n",
        "print(train_input)\n",
        "print(test_input)"
      ],
      "metadata": {
        "id": "VSM4oA7UfZ0y",
        "colab": {
          "base_uri": "https://localhost:8080/"
        },
        "outputId": "d5b7bf1c-ea50-4ccd-e023-8e9a14e2764e"
      },
      "execution_count": null,
      "outputs": [
        {
          "output_type": "stream",
          "name": "stdout",
          "text": [
            "[[19.6]\n",
            " [22. ]\n",
            " [18.7]\n",
            " [17.4]\n",
            " [36. ]\n",
            " [25. ]\n",
            " [40. ]\n",
            " [39. ]\n",
            " [43. ]\n",
            " [22. ]\n",
            " [20. ]\n",
            " [22. ]\n",
            " [24. ]\n",
            " [27.5]\n",
            " [43. ]\n",
            " [40. ]\n",
            " [24. ]\n",
            " [21. ]\n",
            " [27.5]\n",
            " [40. ]\n",
            " [32.8]\n",
            " [26.5]\n",
            " [36.5]\n",
            " [13.7]\n",
            " [22.7]\n",
            " [15. ]\n",
            " [37. ]\n",
            " [35. ]\n",
            " [28.7]\n",
            " [23.5]\n",
            " [39. ]\n",
            " [21. ]\n",
            " [23. ]\n",
            " [22. ]\n",
            " [44. ]\n",
            " [22.5]\n",
            " [19. ]\n",
            " [37. ]\n",
            " [22. ]\n",
            " [25.6]\n",
            " [42. ]\n",
            " [34.5]]\n",
            "[[ 8.4]\n",
            " [18. ]\n",
            " [27.5]\n",
            " [21.3]\n",
            " [22.5]\n",
            " [40. ]\n",
            " [30. ]\n",
            " [24.6]\n",
            " [39. ]\n",
            " [21. ]\n",
            " [43.5]\n",
            " [16.2]\n",
            " [28. ]\n",
            " [27.3]]\n"
          ]
        }
      ]
    },
    {
      "cell_type": "markdown",
      "source": [
        "### 3. Using KNeighborsRegressor\n",
        "- KNeighborsRegressor 클래스로 훈련을 실행하기 위해 module import"
      ],
      "metadata": {
        "id": "bDlYZw6cZ49r"
      }
    },
    {
      "cell_type": "code",
      "source": [
        "from sklearn.neighbors import KNeighborsRegressor"
      ],
      "metadata": {
        "id": "QOUxqJy0Z9gi"
      },
      "execution_count": null,
      "outputs": []
    },
    {
      "cell_type": "markdown",
      "source": [
        "### 4. Start to fit"
      ],
      "metadata": {
        "id": "f3A8dTgqZzTW"
      }
    },
    {
      "cell_type": "code",
      "source": [
        "knr = KNeighborsRegressor()\n",
        "knr.fit(train_input, train_target)"
      ],
      "metadata": {
        "id": "QiED6_u2fQ7s",
        "colab": {
          "base_uri": "https://localhost:8080/"
        },
        "outputId": "57f43480-50ce-42da-9a3c-166a2691c6c5"
      },
      "execution_count": null,
      "outputs": [
        {
          "output_type": "execute_result",
          "data": {
            "text/plain": [
              "KNeighborsRegressor()"
            ]
          },
          "metadata": {},
          "execution_count": 13
        }
      ]
    },
    {
      "cell_type": "markdown",
      "source": [
        "### 4-1. Using **`predict`**"
      ],
      "metadata": {
        "id": "HJlw9FCZaZPv"
      }
    },
    {
      "cell_type": "code",
      "source": [
        "print(knr.predict([[50]])) #Something is wrong"
      ],
      "metadata": {
        "colab": {
          "base_uri": "https://localhost:8080/"
        },
        "id": "oHrbajjKaYNK",
        "outputId": "100093e2-7243-4b89-891e-74f83f5f51b9"
      },
      "execution_count": null,
      "outputs": [
        {
          "output_type": "stream",
          "name": "stdout",
          "text": [
            "[1010.]\n"
          ]
        }
      ]
    },
    {
      "cell_type": "markdown",
      "source": [
        "- length의 값으로 50을 훈련한 결과 weight의 특성 값으로 1010이 반환되었다\n",
        "- 이는, 정확한 예측치가 아니기 때문에 따라서 산점도를 확인할 필요가 있다"
      ],
      "metadata": {
        "id": "9HLBMNzsb49z"
      }
    },
    {
      "cell_type": "markdown",
      "source": [
        "### 5. Draw a Scatterplot"
      ],
      "metadata": {
        "id": "Ua_PU7uFbe18"
      }
    },
    {
      "cell_type": "markdown",
      "source": [
        "### 5-1. Import matplotlib.pyplot\n",
        "- scatter 사용을 위해 해당 module import"
      ],
      "metadata": {
        "id": "fF-PsLpQcJED"
      }
    },
    {
      "cell_type": "code",
      "source": [
        "import matplotlib.pyplot as plt"
      ],
      "metadata": {
        "id": "_TSTRl5RfvYX"
      },
      "execution_count": null,
      "outputs": []
    },
    {
      "cell_type": "markdown",
      "source": [
        "### 5-2. Draw a Scatterplot for new perch data and neighbors"
      ],
      "metadata": {
        "id": "rHVkFE_Ec0aC"
      }
    },
    {
      "cell_type": "code",
      "source": [
        "plt.scatter(train_input, train_target)\n",
        "#neighbors of new perch data \n",
        "distances, indexes = knr.kneighbors([[50]])\n",
        "#draw neighbors of new perch data\n",
        "plt.scatter(train_input[indexes], train_target[indexes], marker=\"D\")\n",
        "# new perch data\n",
        "plt.scatter(50, 1033, marker=\"^\")\n",
        "plt.xlabel(\"length\")\n",
        "plt.ylabel(\"weight\")\n",
        "plt.title(\"new perch data and neighbors\")\n",
        "plt.show()\n"
      ],
      "metadata": {
        "colab": {
          "base_uri": "https://localhost:8080/",
          "height": 295
        },
        "id": "7bRcEu4tgAGQ",
        "outputId": "b0df8f79-cc5c-4fa7-8b97-982147b98992"
      },
      "execution_count": null,
      "outputs": [
        {
          "output_type": "display_data",
          "data": {
            "text/plain": [
              "<Figure size 432x288 with 1 Axes>"
            ],
            "image/png": "[encoded data removed]"
          },
          "metadata": {
            "needs_background": "light"
          }
        }
      ]
    },
    {
      "cell_type": "markdown",
      "source": [
        "- length 값이 증가하면 weight 값도 같이 증가하는 경향을 보인다\n",
        "- 하지만 가장 가까운 이웃의 값이 45 근방이기 때문에 잘못되었다"
      ],
      "metadata": {
        "id": "Rt9fw7CWdB8K"
      }
    },
    {
      "cell_type": "markdown",
      "source": [
        "### 5-3. Why is the predicted value wrong?"
      ],
      "metadata": {
        "id": "Pgsd0HX_eD22"
      }
    },
    {
      "cell_type": "code",
      "source": [
        "print(np.mean(train_target[indexes]))#equals knr.predict([[50]])"
      ],
      "metadata": {
        "colab": {
          "base_uri": "https://localhost:8080/"
        },
        "id": "2eBYWqvodcMF",
        "outputId": "977a730e-95e6-482c-bc8b-210d2afedd12"
      },
      "execution_count": null,
      "outputs": [
        {
          "output_type": "stream",
          "name": "stdout",
          "text": [
            "1010.0\n"
          ]
        }
      ]
    },
    {
      "cell_type": "markdown",
      "source": [
        "- 이웃 샘플의 타깃 평균을 구해보니 똑같은 값을 반환한다\n",
        "- 이는, 새로운 샘플이 Train-set의 범위를 벗어나면 엉뚱한 값을 예측한다"
      ],
      "metadata": {
        "id": "wlsQMyGPdrqJ"
      }
    },
    {
      "cell_type": "markdown",
      "source": [
        "### 6. Using LinearRegression\n",
        "- 특성이 하나인 경우 어떤 직선을 학습하는 것\n",
        "- 해당 특성을 잘 표현할 수 있는 직선"
      ],
      "metadata": {
        "id": "5CQsTLFreUPX"
      }
    },
    {
      "cell_type": "markdown",
      "source": [
        "### 6-1. Using **`sklearn.linear_model`**\n",
        "- `LinearRegression` 클래스 사용을 위해 import"
      ],
      "metadata": {
        "id": "p7dZW5VMezH4"
      }
    },
    {
      "cell_type": "code",
      "source": [
        "from sklearn.linear_model import LinearRegression"
      ],
      "metadata": {
        "id": "zKSmAb7ag1Hn"
      },
      "execution_count": null,
      "outputs": []
    },
    {
      "cell_type": "markdown",
      "source": [
        "### 7. Start to fit"
      ],
      "metadata": {
        "id": "a5LkLKpjeteR"
      }
    },
    {
      "cell_type": "code",
      "source": [
        "lr = LinearRegression()\n",
        "lr.fit(train_input, train_target)"
      ],
      "metadata": {
        "colab": {
          "base_uri": "https://localhost:8080/"
        },
        "id": "YwCP0gc_huEZ",
        "outputId": "7d04a078-ddce-4edf-93b6-902b561a2220"
      },
      "execution_count": null,
      "outputs": [
        {
          "output_type": "execute_result",
          "data": {
            "text/plain": [
              "LinearRegression()"
            ]
          },
          "metadata": {},
          "execution_count": 22
        }
      ]
    },
    {
      "cell_type": "markdown",
      "source": [
        "### 7-1. Using **`Predict`**\n",
        "- 선형 회귀 모델 lr에 대한 새로운 데이터 예측"
      ],
      "metadata": {
        "id": "scp1F5E9fNE8"
      }
    },
    {
      "cell_type": "code",
      "source": [
        "print(lr.predict([[50]]))\n",
        "print(lr.predict([[100]]))"
      ],
      "metadata": {
        "colab": {
          "base_uri": "https://localhost:8080/"
        },
        "id": "IjnWZHd6h1YR",
        "outputId": "c7e5034d-27aa-4f03-ebc0-221f14be6075"
      },
      "execution_count": null,
      "outputs": [
        {
          "output_type": "stream",
          "name": "stdout",
          "text": [
            "[1241.83860323]\n",
            "[3192.69585141]\n"
          ]
        }
      ]
    },
    {
      "cell_type": "markdown",
      "source": [
        "### 7-2. Simple linear regression model\n",
        "- $$ y = ax+b $$\n",
        "- **a**: 기울기 또는 계수(coefficient) 또는 가중치(weight)\n",
        "- **b**: 절편(intercept) 또는 편향(bias)\n",
        "- y = 계수*$x$ + 절편"
      ],
      "metadata": {
        "id": "vklgFHI1iUC-"
      }
    },
    {
      "cell_type": "markdown",
      "source": [
        "### 7-3. Model Parameter\n",
        "- 계수(coefficient), 가중치(weight)처럼 훈련을 통해 찾은 값을 의미\n",
        "- 모델 기반 학습에서 최적의 모델 파리미터를 찾는 과정을 진행\n",
        "- 사례 기반 학습 중 K-NN 모델은 모델 파라미터가 없다"
      ],
      "metadata": {
        "id": "XXmjg7e5jA2t"
      }
    },
    {
      "cell_type": "markdown",
      "source": [
        "### 7-4. Prepare to Create a Straight Graph\n",
        "- 그리고자 하는 직선의 방정식을 풀이할 필요가 있음"
      ],
      "metadata": {
        "id": "IrhgS7NWj_Gj"
      }
    },
    {
      "cell_type": "code",
      "source": [
        "print(lr.coef_, lr.intercept_)"
      ],
      "metadata": {
        "colab": {
          "base_uri": "https://localhost:8080/"
        },
        "id": "96g1fEmMik-4",
        "outputId": "f6383191-5751-4888-a1ab-f47c1725e063"
      },
      "execution_count": null,
      "outputs": [
        {
          "output_type": "stream",
          "name": "stdout",
          "text": [
            "[39.01714496] -709.0186449535477\n"
          ]
        }
      ]
    },
    {
      "cell_type": "markdown",
      "source": [
        "- lr의 계수와 가중치를 통해 직선의 방정식을 풀이할 수 있다.\n",
        "- 다시말해, $$y=x(39)-(709)$$\n",
        "- 결론적으로 15부터 50까지의 직선을 구하고자 한다면,\n",
        "- $$y=15(39-709)-50(39-709)$$"
      ],
      "metadata": {
        "id": "by6SvYLDiDQM"
      }
    },
    {
      "cell_type": "markdown",
      "source": [
        "### 8. Draw a Scatterplot for linear regression model\n",
        "- **`.plot(_range, _x, _y)`**"
      ],
      "metadata": {
        "id": "3J5eWsWukBaf"
      }
    },
    {
      "cell_type": "code",
      "source": [
        "#train-set\n",
        "plt.scatter(train_input, train_target)\n",
        "\n",
        "#straight graph\n",
        "x = (15*lr.coef_+lr.intercept_)\n",
        "y = (50*lr.coef_+lr.intercept_)\n",
        "plt.plot([15, 50], [x, y])\n",
        "\n",
        "#new perch data\n",
        "plt.scatter(50, 1248, marker=\"^\")\n",
        "plt.xlabel(\"length\")\n",
        "plt.ylabel(\"weight\")\n",
        "plt.title(\"\")\n",
        "plt.show()"
      ],
      "metadata": {
        "colab": {
          "base_uri": "https://localhost:8080/",
          "height": 279
        },
        "id": "NJV8MHRsjAE9",
        "outputId": "9b55e383-fc4f-4774-eae6-a18c0f578cef"
      },
      "execution_count": null,
      "outputs": [
        {
          "output_type": "display_data",
          "data": {
            "text/plain": [
              "<Figure size 432x288 with 1 Axes>"
            ],
            "image/png": "[encoded data removed]"
          },
          "metadata": {
            "needs_background": "light"
          }
        }
      ]
    },
    {
      "cell_type": "markdown",
      "source": [
        "### 8-1. Straight graph problems\n",
        "- 해당 직선의 최소 범위가 y축의 최소 범위 0보다 작아 음수가 된다\n",
        "- 산점도는 직선형태가 아닌 곡선의 형태를 보인다\n",
        "- 산점도처럼 최적의 곡선을 찾는게 필요"
      ],
      "metadata": {
        "id": "vAkURaewlAHr"
      }
    },
    {
      "cell_type": "markdown",
      "source": [
        "### 8-2. A quadratic equation\n",
        "- Using `np.column_stack()`\n",
        "- `np.column_stack((_input**2, _input))`\n",
        "  - _input의 제곱 값을 _input 배열 앞에 추가한다는 의미\n",
        "  - 자동으로 Broadcasting 적용이 되므로, 모든 원소를 제곱할 수 있다\n"
      ],
      "metadata": {
        "id": "tpbR4HavlcX4"
      }
    },
    {
      "cell_type": "code",
      "source": [
        "#before array\n",
        "print(train_input.shape)\n",
        "print(test_input.shape)\n",
        "\n",
        "# create a quadratic equation array\n",
        "train_poly = np.column_stack((train_input**2, train_input)) #train_input 배열에 모든 원소를 제곱한 값을 배열 앞에 자동으로 추가\n",
        "test_poly = np.column_stack((test_input**2, test_input)) #test_input 배열에 모든 원소를 제곱한 값을 배열 앞에 자동으로 추가\n",
        "\n",
        "#after array\n",
        "print(train_poly.shape, test_poly.shape)\n",
        "#Checkout\n",
        "print(train_poly[:10], test_poly[:10])"
      ],
      "metadata": {
        "colab": {
          "base_uri": "https://localhost:8080/"
        },
        "id": "LAQlwMXQlfA3",
        "outputId": "7fb28eb2-1c75-4ee2-9d93-5a736a72e03f"
      },
      "execution_count": null,
      "outputs": [
        {
          "output_type": "stream",
          "name": "stdout",
          "text": [
            "(42, 1)\n",
            "(14, 1)\n",
            "(42, 2) (14, 2)\n",
            "[[ 384.16   19.6 ]\n",
            " [ 484.     22.  ]\n",
            " [ 349.69   18.7 ]\n",
            " [ 302.76   17.4 ]\n",
            " [1296.     36.  ]\n",
            " [ 625.     25.  ]\n",
            " [1600.     40.  ]\n",
            " [1521.     39.  ]\n",
            " [1849.     43.  ]\n",
            " [ 484.     22.  ]] [[  70.56    8.4 ]\n",
            " [ 324.     18.  ]\n",
            " [ 756.25   27.5 ]\n",
            " [ 453.69   21.3 ]\n",
            " [ 506.25   22.5 ]\n",
            " [1600.     40.  ]\n",
            " [ 900.     30.  ]\n",
            " [ 605.16   24.6 ]\n",
            " [1521.     39.  ]\n",
            " [ 441.     21.  ]]\n"
          ]
        }
      ]
    },
    {
      "cell_type": "markdown",
      "source": [
        "- 두 열로 이루어진 train_poly, test_poly 배열 확인 가능\n",
        "- 19.6의 제곱 384.16, 22의 제곱 484 등\n",
        "  - 정상적으로 제곱의 값들이 추가되어 있는 것을 확인 가능"
      ],
      "metadata": {
        "id": "GnmBahc6nuga"
      }
    },
    {
      "cell_type": "markdown",
      "source": [
        "### 8-3. Start to fit\n",
        "- 2차 방정식 그래프를 찾기 위해 다시 훈련"
      ],
      "metadata": {
        "id": "eFpPlUdtoNYr"
      }
    },
    {
      "cell_type": "code",
      "source": [
        "lr = LinearRegression()\n",
        "lr.fit(train_poly, train_target)"
      ],
      "metadata": {
        "colab": {
          "base_uri": "https://localhost:8080/"
        },
        "id": "bXMIvhtQkzpZ",
        "outputId": "7d48c083-d527-4c24-ef3d-8978f9cfbafd"
      },
      "execution_count": null,
      "outputs": [
        {
          "output_type": "execute_result",
          "data": {
            "text/plain": [
              "LinearRegression()"
            ]
          },
          "metadata": {},
          "execution_count": 28
        }
      ]
    },
    {
      "cell_type": "markdown",
      "source": [
        "### 8-4. Using **`Predict`**"
      ],
      "metadata": {
        "id": "TIiRWp1Coetx"
      }
    },
    {
      "cell_type": "code",
      "source": [
        "print(lr.predict([[50**2, 50]])) #전 훈련 모델보다 더 높은 값으로 예측한 것을 확인"
      ],
      "metadata": {
        "colab": {
          "base_uri": "https://localhost:8080/"
        },
        "id": "-6SCfiV1m3TY",
        "outputId": "e9644bd3-c8c1-4d8d-a38e-64fa51950655"
      },
      "execution_count": null,
      "outputs": [
        {
          "output_type": "stream",
          "name": "stdout",
          "text": [
            "[1573.98423528]\n"
          ]
        }
      ]
    },
    {
      "cell_type": "markdown",
      "source": [
        "### 9. Check model parameter"
      ],
      "metadata": {
        "id": "MTgNYWtUotdD"
      }
    },
    {
      "cell_type": "code",
      "source": [
        "print(lr.coef_, lr.intercept_)"
      ],
      "metadata": {
        "colab": {
          "base_uri": "https://localhost:8080/"
        },
        "id": "LOcJ1ykYnCfh",
        "outputId": "7a274f46-f811-4a2c-d041-27f38c5fc609"
      },
      "execution_count": null,
      "outputs": [
        {
          "output_type": "stream",
          "name": "stdout",
          "text": [
            "[  1.01433211 -21.55792498] 116.0502107827827\n"
          ]
        }
      ]
    },
    {
      "cell_type": "markdown",
      "source": [
        "### 9-1. Polynomial regression\n",
        "- 다항식 또는 다항 회귀라고 부른다 \n",
        "- 선형 회귀 식에 다항이 포함된 선형 회귀 모델이다\n",
        "- $$ y = ax^2 + bx + c $$\n",
        "- **a**: 계수(coefficient)\n",
        "- **b**: 가중치(weight)\n",
        "- **c**: 독립변수, 차수를 높이기 위한 변수\n",
        "- 즉, y = (계수$*x^2$)+(가중치$*x$)+c"
      ],
      "metadata": {
        "id": "lEBugWd6nRQr"
      }
    },
    {
      "cell_type": "code",
      "source": [
        "#Range of Curved Graph\n",
        "point = np.arange(15, 50)\n",
        "#Equation for the representation of curves\n",
        "y = (1.01*point**2) + (-21.6*point) + 116.05"
      ],
      "metadata": {
        "id": "7MDY6o18nIeE"
      },
      "execution_count": null,
      "outputs": []
    },
    {
      "cell_type": "markdown",
      "source": [
        "### 10. Draw a Scatterplot for polynomial regression"
      ],
      "metadata": {
        "id": "vRzJKJeEqe-j"
      }
    },
    {
      "cell_type": "code",
      "source": [
        "#train-set\n",
        "plt.scatter(train_input, train_target)\n",
        "\n",
        "#graph of quadratic equations\n",
        "plt.plot(point, y)\n",
        "\n",
        "#new pearch data\n",
        "plt.scatter(50, 1574, marker=\"^\")\n",
        "\n",
        "plt.xlabel(\"length\")\n",
        "plt.ylabel(\"weight\")\n",
        "plt.title(\"polynomial regression, linear graph\")\n",
        "plt.show()"
      ],
      "metadata": {
        "colab": {
          "base_uri": "https://localhost:8080/",
          "height": 295
        },
        "id": "GT8Yz985o2s2",
        "outputId": "b6bfd2fd-35db-43bd-af5b-078318f61333"
      },
      "execution_count": 36,
      "outputs": [
        {
          "output_type": "display_data",
          "data": {
            "text/plain": [
              "<Figure size 432x288 with 1 Axes>"
            ],
            "image/png": "[encoded data removed]"
          },
          "metadata": {
            "needs_background": "light"
          }
        }
      ]
    }
  ]
}