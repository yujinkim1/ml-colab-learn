{
  "nbformat": 4,
  "nbformat_minor": 0,
  "metadata": {
    "colab": {
      "provenance": [],
      "collapsed_sections": []
    },
    "kernelspec": {
      "name": "python3",
      "display_name": "Python 3"
    },
    "language_info": {
      "name": "python"
    }
  },
  "cells": [
    {
      "cell_type": "markdown",
      "source": [
        "## K-NN Regression\n",
        "- 임의의 수치를 예측하는 문제\n",
        "- 두 변수 사이의 상관관계를 분석"
      ],
      "metadata": {
        "id": "mHozPEKqy263"
      }
    },
    {
      "cell_type": "markdown",
      "source": [
        "### Practice\n",
        "- Scatterplot analysis\n",
        "- Using numpy array\n",
        "- Using `train_test_split()`\n",
        "- Using `reshape()`\n",
        "- Using KNeighborsRegressor\n",
        "- Coefficient of Determination\n",
        "- Using sklearn.metrics and MAE(Mean Absolute Error)\n",
        "- Using sklearn.metrics and MSE(Mean Squred Error)\n",
        "- What are Overfitting and Underfitting?"
      ],
      "metadata": {
        "id": "HVRmv2aO2QVr"
      }
    },
    {
      "cell_type": "markdown",
      "source": [
        "### 1. Import numpy"
      ],
      "metadata": {
        "id": "_BWy_nI128Oe"
      }
    },
    {
      "cell_type": "code",
      "source": [
        "import numpy as np"
      ],
      "metadata": {
        "id": "bDw0Ldb125C8"
      },
      "execution_count": null,
      "outputs": []
    },
    {
      "cell_type": "markdown",
      "source": [
        "### 2. Prepare to numerical data of numpy arrays"
      ],
      "metadata": {
        "id": "zUx414zO3CMK"
      }
    },
    {
      "cell_type": "code",
      "execution_count": null,
      "metadata": {
        "id": "ZEORerjGyhHe"
      },
      "outputs": [],
      "source": [
        "perch_length = np.array([8.4, 13.7, 15.0, 16.2, 17.4, 18.0, 18.7, 19.0, 19.6, 20.0, 21.0,\n",
        "       21.0, 21.0, 21.3, 22.0, 22.0, 22.0, 22.0, 22.0, 22.5, 22.5, 22.7,\n",
        "       23.0, 23.5, 24.0, 24.0, 24.6, 25.0, 25.6, 26.5, 27.3, 27.5, 27.5,\n",
        "       27.5, 28.0, 28.7, 30.0, 32.8, 34.5, 35.0, 36.5, 36.0, 37.0, 37.0,\n",
        "       39.0, 39.0, 39.0, 40.0, 40.0, 40.0, 40.0, 42.0, 43.0, 43.0, 43.5,\n",
        "       44.0])\n",
        "perch_weight = np.array([5.9, 32.0, 40.0, 51.5, 70.0, 100.0, 78.0, 80.0, 85.0, 85.0, 110.0,\n",
        "       115.0, 125.0, 130.0, 120.0, 120.0, 130.0, 135.0, 110.0, 130.0,\n",
        "       150.0, 145.0, 150.0, 170.0, 225.0, 145.0, 188.0, 180.0, 197.0,\n",
        "       218.0, 300.0, 260.0, 265.0, 250.0, 250.0, 300.0, 320.0, 514.0,\n",
        "       556.0, 840.0, 685.0, 700.0, 700.0, 690.0, 900.0, 650.0, 820.0,\n",
        "       850.0, 900.0, 1015.0, 820.0, 1100.0, 1000.0, 1100.0, 1000.0,\n",
        "       1000.0])"
      ]
    },
    {
      "cell_type": "markdown",
      "source": [
        "### 3. Draw a Scatterplot for np arrays analysis"
      ],
      "metadata": {
        "id": "1cZuAk8l3cg2"
      }
    },
    {
      "cell_type": "code",
      "source": [
        "import matplotlib.pyplot as plt"
      ],
      "metadata": {
        "id": "6ntFNz_f3r37"
      },
      "execution_count": null,
      "outputs": []
    },
    {
      "cell_type": "code",
      "source": [
        "plt.scatter(perch_length, perch_weight)\n",
        "plt.xlabel(\"length\")\n",
        "plt.ylabel(\"weight\")\n",
        "plt.title(\"The perch data\")\n",
        "plt.show() \n",
        "#Then, Increase a length == Increase a weight"
      ],
      "metadata": {
        "colab": {
          "base_uri": "https://localhost:8080/",
          "height": 295
        },
        "id": "jrA_Ike5306C",
        "outputId": "22bd37f4-239a-4f38-9f68-8529671fc481"
      },
      "execution_count": null,
      "outputs": [
        {
          "output_type": "display_data",
          "data": {
            "text/plain": [
              "<Figure size 432x288 with 1 Axes>"
            ],
            "image/png": "[encoded data removed]"
          },
          "metadata": {
            "needs_background": "light"
          }
        }
      ]
    },
    {
      "cell_type": "markdown",
      "source": [
        "### 4. Create Train-set and Test-set to using **`train_test_split()`**"
      ],
      "metadata": {
        "id": "ZZarIlkS4Yb8"
      }
    },
    {
      "cell_type": "code",
      "source": [
        "from sklearn.model_selection import train_test_split"
      ],
      "metadata": {
        "id": "UEUqskaK4jQ6"
      },
      "execution_count": null,
      "outputs": []
    },
    {
      "cell_type": "code",
      "source": [
        "train_input, test_input, train_target, test_target = train_test_split(perch_length, perch_weight, random_state=42)"
      ],
      "metadata": {
        "id": "xuvK-HZZ43ex"
      },
      "execution_count": null,
      "outputs": []
    },
    {
      "cell_type": "markdown",
      "source": [
        "### 5. Convert a 1-dimensional array to a 2-dimensional array\n",
        "- 기존에 활용한 데이터는 특성이 두개였기 때문에 자연스럽게 2차원 배열을 사용\n",
        "- sklearn 훈련 세트를 사용하기 위해서 1차원 배열이 아닌 2차원 배열이 필요\n",
        "- 해당 데이터는 특성이 하나이기 때문에 비어있는 열을 하나 추가 "
      ],
      "metadata": {
        "id": "vL8a-T1-5IPk"
      }
    },
    {
      "cell_type": "code",
      "source": [
        "#Checkout\n",
        "print(train_input)\n",
        "print(test_input)\n",
        "print(train_target)\n",
        "print(test_target)\n",
        "# Conversion required"
      ],
      "metadata": {
        "colab": {
          "base_uri": "https://localhost:8080/"
        },
        "id": "gNQIT8Ly5r2h",
        "outputId": "473c4167-7ec9-49ce-daf2-22865f990a50"
      },
      "execution_count": null,
      "outputs": [
        {
          "output_type": "stream",
          "name": "stdout",
          "text": [
            "[19.6 22.  18.7 17.4 36.  25.  40.  39.  43.  22.  20.  22.  24.  27.5\n",
            " 43.  40.  24.  21.  27.5 40.  32.8 26.5 36.5 13.7 22.7 15.  37.  35.\n",
            " 28.7 23.5 39.  21.  23.  22.  44.  22.5 19.  37.  22.  25.6 42.  34.5]\n",
            "[ 8.4 18.  27.5 21.3 22.5 40.  30.  24.6 39.  21.  43.5 16.2 28.  27.3]\n",
            "[  85.  135.   78.   70.  700.  180.  850.  820. 1000.  120.   85.  130.\n",
            "  225.  260. 1100.  900.  145.  115.  265. 1015.  514.  218.  685.   32.\n",
            "  145.   40.  690.  840.  300.  170.  650.  110.  150.  110. 1000.  150.\n",
            "   80.  700.  120.  197. 1100.  556.]\n",
            "[   5.9  100.   250.   130.   130.   820.   320.   188.   900.   125.\n",
            " 1000.    51.5  250.   300. ]\n"
          ]
        }
      ]
    },
    {
      "cell_type": "markdown",
      "source": [
        "### 5-1. Using **`.reshape(_columnNumber, _rowNumber)`**\n",
        "\n",
        "- 지정한 배열의 크기로 새로운 배열을 반환\n",
        "- 원본 배열의 원소 수와 새로운 배열의 원소 수는 일치해야함\n",
        "- 배열의 크기에 -1을 지정하면 나머지 원소로 모두 채울 수 있음"
      ],
      "metadata": {
        "id": "ezJxbcsR6dnu"
      }
    },
    {
      "cell_type": "code",
      "source": [
        "#Checkout\n",
        "print(train_input.shape)\n",
        "print(test_input.shape)"
      ],
      "metadata": {
        "colab": {
          "base_uri": "https://localhost:8080/"
        },
        "id": "BIolvrM56hqr",
        "outputId": "ef50171d-15e1-41a8-ba32-22c329f085eb"
      },
      "execution_count": null,
      "outputs": [
        {
          "output_type": "stream",
          "name": "stdout",
          "text": [
            "(42,)\n",
            "(14,)\n"
          ]
        }
      ]
    },
    {
      "cell_type": "code",
      "source": [
        "train_input = train_input.reshape(-1, 1) #(42,) -> (42, 1)\n",
        "test_input = test_input.reshape(-1, 1) #(14,) -> (14, 1)\n",
        "#Checkout\n",
        "print(train_input.shape)\n",
        "print(test_input.shape)"
      ],
      "metadata": {
        "colab": {
          "base_uri": "https://localhost:8080/"
        },
        "id": "1jkeKPrU7yr_",
        "outputId": "c51f329a-0f68-4edd-e225-b5ed9b3b44b2"
      },
      "execution_count": null,
      "outputs": [
        {
          "output_type": "stream",
          "name": "stdout",
          "text": [
            "(42, 1)\n",
            "(14, 1)\n"
          ]
        }
      ]
    },
    {
      "cell_type": "markdown",
      "source": [
        "### 6. Using KNeighborsRegressor\n",
        "- KNeighborsRegressor 클래스 사용을 위해 module import"
      ],
      "metadata": {
        "id": "ZuMpy37o93zw"
      }
    },
    {
      "cell_type": "code",
      "source": [
        "from sklearn.neighbors import KNeighborsRegressor"
      ],
      "metadata": {
        "id": "TrJRO1-R-Mko"
      },
      "execution_count": null,
      "outputs": []
    },
    {
      "cell_type": "markdown",
      "source": [
        "### 7. Start to fit"
      ],
      "metadata": {
        "id": "tHpXfOC-9xnp"
      }
    },
    {
      "cell_type": "code",
      "source": [
        "knr = KNeighborsRegressor()\n",
        "knr.fit(train_input, train_target)"
      ],
      "metadata": {
        "colab": {
          "base_uri": "https://localhost:8080/"
        },
        "id": "amIJ1aMv9zBt",
        "outputId": "d104f041-4d0e-402c-9eea-a21741cd46fd"
      },
      "execution_count": null,
      "outputs": [
        {
          "output_type": "execute_result",
          "data": {
            "text/plain": [
              "KNeighborsRegressor()"
            ]
          },
          "metadata": {},
          "execution_count": 13
        }
      ]
    },
    {
      "cell_type": "code",
      "source": [
        "knr.score(test_input, test_target) #Something is wrong"
      ],
      "metadata": {
        "colab": {
          "base_uri": "https://localhost:8080/"
        },
        "id": "rPkuAVKh-dpK",
        "outputId": "86e2cdb4-ea88-4bd0-f4a4-c08b7c265464"
      },
      "execution_count": null,
      "outputs": [
        {
          "output_type": "execute_result",
          "data": {
            "text/plain": [
              "0.992809406101064"
            ]
          },
          "metadata": {},
          "execution_count": 14
        }
      ]
    },
    {
      "cell_type": "markdown",
      "source": [
        "### 8. Why are the accuracy figures strange?\n",
        "- 분류가 아닌 회귀에선 정확하게 수치를 맞춘다는 것은 거의 불가능\n",
        "  - **예측하는 수치 또는 타겟 모두 임의의 수치이기 때문**\n",
        "- 분류와 다르게 회귀는 결정계수를 통해 수치를 평가"
      ],
      "metadata": {
        "id": "lFp2vdXm-xsR"
      }
    },
    {
      "cell_type": "markdown",
      "source": [
        "### 8-1. Coefficient of determination\n",
        "- 회귀 문제의 평가 지표 역할\n",
        "- 각 샘플의 타겟과 예측치의 차를 제곱해 합한 결과를 각 샘플의 타겟과 타겟의 평균 차를 제곱하여 합한 결과로 나눈 값을 1에서 뺀 값\n",
        "  - 타겟의 평균 정도를 예측하면 0에 가까워지고, 예측이 타겟과 가까우면 1에 가까워짐\n",
        "- 분류의 정확도처럼 직관적인 결과가 나타나지 않음\n",
        "\n"
      ],
      "metadata": {
        "id": "5eAUTPYA_OMJ"
      }
    },
    {
      "cell_type": "markdown",
      "source": [
        "### 8-2. Import sklearn.metrics\n",
        "- 해당 모듈을 통해 MAE 사용이 가능하다"
      ],
      "metadata": {
        "id": "LoDTQZy7AhIh"
      }
    },
    {
      "cell_type": "code",
      "source": [
        "from sklearn.metrics import mean_absolute_error"
      ],
      "metadata": {
        "id": "hfLMAvOW_1j-"
      },
      "execution_count": null,
      "outputs": []
    },
    {
      "cell_type": "markdown",
      "source": [
        "### 8-3. Use a **`mean_absolute_error(_target, _prediction)`**\n",
        "- $$MAE={1\\over n}\\sum_{i=1}^n|x_{i}−x|$$\n",
        "- 예측값과 실제값 사이의 절대 오차값을 모두 구한다\n",
        "- 절대 오차값을 모두 더해 오차의 개수로 나눈다"
      ],
      "metadata": {
        "id": "R8iZEISXBH6u"
      }
    },
    {
      "cell_type": "code",
      "source": [
        "#Create a predictions for test sets\n",
        "test_prediction = knr.predict(test_input)\n",
        "#Mean absolute value error for test set\n",
        "mae = mean_absolute_error(test_target, test_prediction)\n",
        "#Checkout\n",
        "print(mae)"
      ],
      "metadata": {
        "colab": {
          "base_uri": "https://localhost:8080/"
        },
        "id": "7Rxa7RoUA44R",
        "outputId": "83a4a7ff-e77e-4fb2-cdf3-a74324906fa6"
      },
      "execution_count": null,
      "outputs": [
        {
          "output_type": "stream",
          "name": "stdout",
          "text": [
            "19.157142857142862\n"
          ]
        }
      ]
    },
    {
      "cell_type": "markdown",
      "source": [
        "### 8-4. Use a **`mean_squared_error(_target, _prediction)`**\n",
        "- $$MSE={1\\over n}\\sum_{i=1}^n(x_{i}−x_{i})^2$$\n",
        "- 정확도 측정을 위해 사용\n",
        "- MAE와 다르게 절대 오차가 아닌 오차의 제곱에 대한 평균을 구한다."
      ],
      "metadata": {
        "id": "NEI6C5LqVfGT"
      }
    },
    {
      "cell_type": "code",
      "source": [
        "from sklearn.metrics import mean_squared_error"
      ],
      "metadata": {
        "id": "Z0L9zaEYUYcz"
      },
      "execution_count": 20,
      "outputs": []
    },
    {
      "cell_type": "code",
      "source": [
        "#Mean squared value error for test set\n",
        "mse = mean_squared_error(test_target, test_prediction)\n",
        "#Checkout\n",
        "print(mse)"
      ],
      "metadata": {
        "colab": {
          "base_uri": "https://localhost:8080/"
        },
        "id": "YIxegrw55_uU",
        "outputId": "1a47fc25-9b85-4bdc-af2e-3f952b6a83a9"
      },
      "execution_count": 21,
      "outputs": [
        {
          "output_type": "stream",
          "name": "stdout",
          "text": [
            "721.7385714285714\n"
          ]
        }
      ]
    },
    {
      "cell_type": "markdown",
      "source": [
        "### 9. What are Overfitting and Underfitting?\n",
        "- Train-set 보다 Test-set의 평가 수치가 낮은 경우 **과대적합**\n",
        "- Train-set 보다 Test-set 평가 수치가 너무 높거나 모두 낮은 경우 **과소적합**\n",
        "  - 보통 Train set, Test set 모두 크기가 매우 작으면 **과소적합** 발생"
      ],
      "metadata": {
        "id": "slhE4yngCTc-"
      }
    },
    {
      "cell_type": "code",
      "source": [
        "print(knr.score(train_input, train_target))\n",
        "print(knr.score(test_input, test_target))"
      ],
      "metadata": {
        "colab": {
          "base_uri": "https://localhost:8080/"
        },
        "id": "aMxCT53hEN_M",
        "outputId": "a2ebf019-0f86-444f-f832-6bcd00b16f6e"
      },
      "execution_count": 22,
      "outputs": [
        {
          "output_type": "stream",
          "name": "stdout",
          "text": [
            "0.9698823289099254\n",
            "0.992809406101064\n"
          ]
        }
      ]
    },
    {
      "cell_type": "markdown",
      "source": [
        "### 9-1. Solution to underfitting\n",
        "- 모델을 복잡하게 설계\n",
        "- 최근접 이웃 알고리즘에 한해 이웃의 개수를 줄이면 우선 문제 해결이 가능\n",
        "- `n_neighbors()` 속성 값 변경으로 이를 해결"
      ],
      "metadata": {
        "id": "NwlLfOMJDhGQ"
      }
    },
    {
      "cell_type": "code",
      "source": [
        "#default = 5\n",
        "knr.n_neighbors = 3\n",
        "\n",
        "#restart to fit\n",
        "knr.fit(train_input, train_target)\n",
        "\n",
        "#Checkout\n",
        "print(knr.score(train_input, train_target))\n",
        "print(knr.score(test_input, test_target))"
      ],
      "metadata": {
        "colab": {
          "base_uri": "https://localhost:8080/"
        },
        "id": "KjZh0XFJDGRu",
        "outputId": "19b400c0-9ab0-4abc-fcfd-84206720e7db"
      },
      "execution_count": 23,
      "outputs": [
        {
          "output_type": "stream",
          "name": "stdout",
          "text": [
            "0.9804899950518966\n",
            "0.9746459963987609\n"
          ]
        }
      ]
    }
  ]
}