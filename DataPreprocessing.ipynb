{
  "nbformat": 4,
  "nbformat_minor": 0,
  "metadata": {
    "colab": {
      "provenance": [],
      "collapsed_sections": []
    },
    "kernelspec": {
      "name": "python3",
      "display_name": "Python 3"
    },
    "language_info": {
      "name": "python"
    }
  },
  "cells": [
    {
      "cell_type": "markdown",
      "source": [
        "## Data Preprocessing\n",
        "- 특성 값을 일정한 수준에 맞추는 과정\n",
        "- Sample scale 차이로 발생하는 문제 해결\n",
        "- 표준점수로 특성의 스케일을 변환"
      ],
      "metadata": {
        "id": "QgkQC2RMZr-H"
      }
    },
    {
      "cell_type": "markdown",
      "source": [
        "### Practice\n",
        "- Using numpy functions\n",
        "- Using model_selection into train_test_split()\n",
        "- Using KNeighborsClassifier into kneighbors()\n",
        "- Scatterplot analysis\n",
        "- Setting Graph Criteria\n",
        "- Get a standard score and broadcasting\n",
        "- Visualizing data preprocessing"
      ],
      "metadata": {
        "id": "Ren5ZuQIxJen"
      }
    },
    {
      "cell_type": "markdown",
      "source": [
        "### 1. Prepare to Numerical Data"
      ],
      "metadata": {
        "id": "gNAxz_NYz2RN"
      }
    },
    {
      "cell_type": "code",
      "execution_count": 1,
      "metadata": {
        "id": "iUnshZB0ZjSk"
      },
      "outputs": [],
      "source": [
        "fish_length = [25.4, 26.3, 26.5, 29.0, 29.0, 29.7, 29.7, 30.0, 30.0, 30.7, 31.0, 31.0, \n",
        "                31.5, 32.0, 32.0, 32.0, 33.0, 33.0, 33.5, 33.5, 34.0, 34.0, 34.5, 35.0, \n",
        "                35.0, 35.0, 35.0, 36.0, 36.0, 37.0, 38.5, 38.5, 39.5, 41.0, 41.0, 9.8, \n",
        "                10.5, 10.6, 11.0, 11.2, 11.3, 11.8, 11.8, 12.0, 12.2, 12.4, 13.0, 14.3, 15.0]\n",
        "fish_weight = [242.0, 290.0, 340.0, 363.0, 430.0, 450.0, 500.0, 390.0, 450.0, 500.0, 475.0, 500.0, \n",
        "                500.0, 340.0, 600.0, 600.0, 700.0, 700.0, 610.0, 650.0, 575.0, 685.0, 620.0, 680.0, \n",
        "                700.0, 725.0, 720.0, 714.0, 850.0, 1000.0, 920.0, 955.0, 925.0, 975.0, 950.0, 6.7, \n",
        "                7.5, 7.0, 9.7, 9.8, 8.7, 10.0, 9.9, 9.8, 12.2, 13.4, 12.2, 19.7, 19.9]"
      ]
    },
    {
      "cell_type": "markdown",
      "source": [
        "### 2. Import numpy to use a function"
      ],
      "metadata": {
        "id": "9vUVr5P1z8u0"
      }
    },
    {
      "cell_type": "code",
      "source": [
        "import numpy as np"
      ],
      "metadata": {
        "id": "dLDgZ0Djc1td"
      },
      "execution_count": 3,
      "outputs": []
    },
    {
      "cell_type": "markdown",
      "source": [
        "### 3. np.colum_stack()\n",
        "- tuple 타입으로 전달받은 리스트를 열(column)방향으로 연결\n",
        "- 연결된 값을 numpy 배열로 변환\n",
        "- 단, 리스트의 길이는 서로 같아야함"
      ],
      "metadata": {
        "id": "BfMtv2OQ0JF2"
      }
    },
    {
      "cell_type": "code",
      "source": [
        "np.column_stack(([1,2,3], [4,5,6]))"
      ],
      "metadata": {
        "colab": {
          "base_uri": "https://localhost:8080/"
        },
        "id": "cCfsftIqc6cd",
        "outputId": "4a4bb482-e882-4b67-825d-c7b33a8166c3"
      },
      "execution_count": 4,
      "outputs": [
        {
          "output_type": "execute_result",
          "data": {
            "text/plain": [
              "array([[1, 4],\n",
              "       [2, 5],\n",
              "       [3, 6]])"
            ]
          },
          "metadata": {},
          "execution_count": 4
        }
      ]
    },
    {
      "cell_type": "markdown",
      "source": [
        "### 4. Use the functions listed\n",
        "- `np.zeros(n)` : n값 만큼 0을 생성\n",
        "- `np.ones(n)` : n값 만큼 1을 생성\n",
        "- `np.concatenate()` : 길이가 같고 서로 다른 배열을 연결하여 반환\n",
        "- `np.column_stack()` : 열(colum)방향으로 리스트를 연결\n",
        "- `np.row_stack()` : 행(row)방향으로 리스트를 연결\n"
      ],
      "metadata": {
        "id": "CKTH1r_aeBoX"
      }
    },
    {
      "cell_type": "markdown",
      "source": [
        "### 4-1. Prepare to data using colum_stack()"
      ],
      "metadata": {
        "id": "zeEilGay1Gch"
      }
    },
    {
      "cell_type": "code",
      "source": [
        "fish_data = np.column_stack((fish_length, fish_weight))\n",
        "print(fish_data[:5]) #Checkout"
      ],
      "metadata": {
        "colab": {
          "base_uri": "https://localhost:8080/"
        },
        "id": "bamLKBZHdJuH",
        "outputId": "184bb8c2-ca57-469d-dadf-07578241517a"
      },
      "execution_count": 7,
      "outputs": [
        {
          "output_type": "stream",
          "name": "stdout",
          "text": [
            "[[ 25.4 242. ]\n",
            " [ 26.3 290. ]\n",
            " [ 26.5 340. ]\n",
            " [ 29.  363. ]\n",
            " [ 29.  430. ]]\n"
          ]
        }
      ]
    },
    {
      "cell_type": "markdown",
      "source": [
        "### 4-2. Using np.zeros() / np.ones()"
      ],
      "metadata": {
        "id": "4PS5wPsX2Tk9"
      }
    },
    {
      "cell_type": "code",
      "source": [
        "print(np.zeros(5))\n",
        "print(np.ones(5))"
      ],
      "metadata": {
        "colab": {
          "base_uri": "https://localhost:8080/"
        },
        "id": "1cMorvKBeQ0V",
        "outputId": "74a34f96-2ca3-4502-a946-7fde437e1f1a"
      },
      "execution_count": 9,
      "outputs": [
        {
          "output_type": "stream",
          "name": "stdout",
          "text": [
            "[0. 0. 0. 0. 0.]\n",
            "[1. 1. 1. 1. 1.]\n"
          ]
        }
      ]
    },
    {
      "cell_type": "markdown",
      "source": [
        "### 4-3. Using np.concatenate()"
      ],
      "metadata": {
        "id": "2CJ2BoYp2lIu"
      }
    },
    {
      "cell_type": "code",
      "source": [
        "z = np.zeros(10)\n",
        "o = np.ones(10)\n",
        "c = np.concatenate((z, o))\n",
        "print(z)\n",
        "print(o)\n",
        "print(c)"
      ],
      "metadata": {
        "colab": {
          "base_uri": "https://localhost:8080/"
        },
        "id": "wDfZXcsheUUv",
        "outputId": "2819840e-413b-4332-b168-32a6ee233066"
      },
      "execution_count": 10,
      "outputs": [
        {
          "output_type": "stream",
          "name": "stdout",
          "text": [
            "[0. 0. 0. 0. 0. 0. 0. 0. 0. 0.]\n",
            "[1. 1. 1. 1. 1. 1. 1. 1. 1. 1.]\n",
            "[0. 0. 0. 0. 0. 0. 0. 0. 0. 0. 1. 1. 1. 1. 1. 1. 1. 1. 1. 1.]\n"
          ]
        }
      ]
    },
    {
      "cell_type": "markdown",
      "source": [
        "### 4-4. Using np.colum_stack() / np.row_stack()"
      ],
      "metadata": {
        "id": "RndEE3BQ3L2H"
      }
    },
    {
      "cell_type": "code",
      "source": [
        "np.column_stack((z, o))\n",
        "np.row_stack((z, o))"
      ],
      "metadata": {
        "colab": {
          "base_uri": "https://localhost:8080/"
        },
        "id": "dQhRv0OyfV8p",
        "outputId": "8e482eb8-09d1-4960-e5a1-c9a857ddccce"
      },
      "execution_count": 11,
      "outputs": [
        {
          "output_type": "execute_result",
          "data": {
            "text/plain": [
              "array([[0., 0., 0., 0., 0., 0., 0., 0., 0., 0.],\n",
              "       [1., 1., 1., 1., 1., 1., 1., 1., 1., 1.]])"
            ]
          },
          "metadata": {},
          "execution_count": 11
        }
      ]
    },
    {
      "cell_type": "markdown",
      "source": [
        "### 5. Creat a target to np.concatenate()\n",
        "- [1] * 35 형태의 방식을 사용하지 않아도 된다"
      ],
      "metadata": {
        "id": "Te4WQKEd4Jke"
      }
    },
    {
      "cell_type": "code",
      "source": [
        "fish_target = np.concatenate((np.ones(35), np.zeros(14)))\n",
        "print(fish_target)\n",
        "type(fish_target) #return to _type"
      ],
      "metadata": {
        "colab": {
          "base_uri": "https://localhost:8080/"
        },
        "id": "TpFEmiRjgqh5",
        "outputId": "8b63b282-bde6-4237-c6e9-646c65c2e8fa"
      },
      "execution_count": 14,
      "outputs": [
        {
          "output_type": "stream",
          "name": "stdout",
          "text": [
            "[1. 1. 1. 1. 1. 1. 1. 1. 1. 1. 1. 1. 1. 1. 1. 1. 1. 1. 1. 1. 1. 1. 1. 1.\n",
            " 1. 1. 1. 1. 1. 1. 1. 1. 1. 1. 1. 0. 0. 0. 0. 0. 0. 0. 0. 0. 0. 0. 0. 0.\n",
            " 0.]\n"
          ]
        },
        {
          "output_type": "execute_result",
          "data": {
            "text/plain": [
              "numpy.ndarray"
            ]
          },
          "metadata": {},
          "execution_count": 14
        }
      ]
    },
    {
      "cell_type": "markdown",
      "source": [
        "### 6. Create Train-set and Test-set to using train_test_split()\n",
        "- 사이킷런에서 지원하는 함수\n",
        "- 기본 3 : 1 비율로 세트를 분할하여 반환\n",
        "- 사용을 하기 위해 model_selection module import\n",
        "- `train_test_split(input_, target_, stratify=, random_state=_number)`"
      ],
      "metadata": {
        "id": "4qpmMqnghxq1"
      }
    },
    {
      "cell_type": "code",
      "source": [
        "from sklearn.model_selection import train_test_split\n",
        "\n",
        "train_input, test_input, train_target, test_target = train_test_split(fish_data, fish_target, random_state=42)\n",
        "print(train_input.shape, test_input.shape) #Checkout\n",
        "print(train_target.shape, test_target.shape) #Checkout"
      ],
      "metadata": {
        "colab": {
          "base_uri": "https://localhost:8080/"
        },
        "id": "Exi_7hfBhxd4",
        "outputId": "470eeddc-1de7-4063-9e33-012ab3e2289c"
      },
      "execution_count": 15,
      "outputs": [
        {
          "output_type": "stream",
          "name": "stdout",
          "text": [
            "(36, 2) (13, 2)\n",
            "(36,) (13,)\n"
          ]
        }
      ]
    },
    {
      "cell_type": "markdown",
      "source": [
        "### 7. Check it out been created properly"
      ],
      "metadata": {
        "id": "8DoAEaFs5lRH"
      }
    },
    {
      "cell_type": "code",
      "source": [
        "print(train_input)\n",
        "print(train_target)\n",
        "print(test_target)\n",
        "print(test_input)"
      ],
      "metadata": {
        "colab": {
          "base_uri": "https://localhost:8080/"
        },
        "id": "VK6O62HMjCR9",
        "outputId": "ef8be88a-feb6-4811-91d7-0a53da409900"
      },
      "execution_count": 17,
      "outputs": [
        {
          "output_type": "stream",
          "name": "stdout",
          "text": [
            "[[  30.   450. ]\n",
            " [  29.   363. ]\n",
            " [  29.7  500. ]\n",
            " [  11.3    8.7]\n",
            " [  11.8   10. ]\n",
            " [  13.    12.2]\n",
            " [  32.   600. ]\n",
            " [  30.7  500. ]\n",
            " [  33.   700. ]\n",
            " [  35.   700. ]\n",
            " [  41.   975. ]\n",
            " [  38.5  920. ]\n",
            " [  25.4  242. ]\n",
            " [  12.     9.8]\n",
            " [  39.5  925. ]\n",
            " [  29.7  450. ]\n",
            " [  37.  1000. ]\n",
            " [  31.   500. ]\n",
            " [  10.5    7.5]\n",
            " [  26.3  290. ]\n",
            " [  34.   685. ]\n",
            " [  26.5  340. ]\n",
            " [  10.6    7. ]\n",
            " [   9.8    6.7]\n",
            " [  35.   680. ]\n",
            " [  11.2    9.8]\n",
            " [  31.   475. ]\n",
            " [  34.5  620. ]\n",
            " [  33.5  610. ]\n",
            " [  15.    19.9]\n",
            " [  34.   575. ]\n",
            " [  30.   390. ]\n",
            " [  11.8    9.9]\n",
            " [  32.   600. ]\n",
            " [  36.   850. ]\n",
            " [  11.     9.7]]\n",
            "[1. 1. 1. 0. 0. 0. 1. 1. 1. 1. 1. 1. 1. 0. 1. 1. 1. 1. 0. 1. 1. 1. 0. 0.\n",
            " 1. 0. 1. 1. 1. 0. 1. 1. 0. 1. 1. 0.]\n",
            "[1. 0. 0. 0. 1. 1. 1. 1. 1. 1. 1. 1. 1.]\n",
            "[[ 32.  340. ]\n",
            " [ 12.4  13.4]\n",
            " [ 14.3  19.7]\n",
            " [ 12.2  12.2]\n",
            " [ 33.  700. ]\n",
            " [ 36.  714. ]\n",
            " [ 35.  720. ]\n",
            " [ 35.  725. ]\n",
            " [ 38.5 955. ]\n",
            " [ 33.5 650. ]\n",
            " [ 31.5 500. ]\n",
            " [ 29.  430. ]\n",
            " [ 41.  950. ]]\n"
          ]
        }
      ]
    },
    {
      "cell_type": "markdown",
      "source": [
        "### 8. Using stratify properties\n",
        "- target이 정확하게 구분되어 생성되지 않았음을 확인\n",
        "- 생성된 비율에 대해 오차가 있기 때문에 조정이 필요\n",
        "- stratify 속성을 사용해 data 비율에 맞게 조정하여 분리가 필요"
      ],
      "metadata": {
        "id": "HdjItWn2jR5o"
      }
    },
    {
      "cell_type": "code",
      "source": [
        "train_input, test_input, train_target, test_target = train_test_split(fish_data, fish_target, stratify= fish_target, random_state=42)\n",
        "#Checkout\n",
        "print(train_target)\n",
        "print(test_target)"
      ],
      "metadata": {
        "colab": {
          "base_uri": "https://localhost:8080/"
        },
        "id": "0Thib_hkjEkO",
        "outputId": "f6f384af-8d1c-4e7a-f45a-aeeb98981c67"
      },
      "execution_count": 19,
      "outputs": [
        {
          "output_type": "stream",
          "name": "stdout",
          "text": [
            "[1. 0. 1. 0. 1. 1. 1. 1. 1. 1. 1. 0. 1. 0. 1. 1. 1. 1. 1. 0. 1. 1. 0. 1.\n",
            " 0. 1. 0. 1. 1. 1. 0. 1. 1. 0. 1. 1.]\n",
            "[0. 0. 1. 0. 1. 0. 1. 1. 1. 1. 1. 1. 1.]\n"
          ]
        }
      ]
    },
    {
      "cell_type": "markdown",
      "source": [
        "### 9. Start to fit"
      ],
      "metadata": {
        "id": "KDN1oked6pg4"
      }
    },
    {
      "cell_type": "code",
      "source": [
        "from sklearn.neighbors import KNeighborsClassifier\n",
        "\n",
        "kn = KNeighborsClassifier()\n",
        "kn.fit(train_input, train_target)\n",
        "kn.score(test_input, test_target)"
      ],
      "metadata": {
        "colab": {
          "base_uri": "https://localhost:8080/"
        },
        "id": "2iPaeKKlkAQY",
        "outputId": "b8669740-23ca-46cb-d877-73fa2d039166"
      },
      "execution_count": 21,
      "outputs": [
        {
          "output_type": "execute_result",
          "data": {
            "text/plain": [
              "1.0"
            ]
          },
          "metadata": {},
          "execution_count": 21
        }
      ]
    },
    {
      "cell_type": "markdown",
      "source": [
        "### 10. Draw a Scatterplot of create successfull\n",
        "- `marker='_'` properties : 해당 산점도를 원하는 모양으로 변경"
      ],
      "metadata": {
        "id": "8Q84gbzh6-hg"
      }
    },
    {
      "cell_type": "code",
      "source": [
        "import matplotlib.pyplot as plt\n",
        "\n",
        "plt.scatter(train_input[:,0], train_input[:,1])\n",
        "plt.xlabel(\"length\")\n",
        "plt.ylabel(\"weight\")\n",
        "plt.title(\"Train-set\")\n",
        "#add a new fish\n",
        "plt.scatter(25, 150, marker= '^')\n",
        "plt.show()"
      ],
      "metadata": {
        "colab": {
          "base_uri": "https://localhost:8080/",
          "height": 295
        },
        "id": "FWEPiJ1dkZbd",
        "outputId": "3e464d64-d037-40e0-b75b-c0e00f9dcff8"
      },
      "execution_count": 31,
      "outputs": [
        {
          "output_type": "display_data",
          "data": {
            "text/plain": [
              "<Figure size 432x288 with 1 Axes>"
            ],
            "image/png": "[encoded data removed]"
          },
          "metadata": {
            "needs_background": "light"
          }
        }
      ]
    },
    {
      "cell_type": "markdown",
      "source": [
        "### 11. Problems and solved\n",
        "\n",
        "- 추가한 데이터 수치를 그려진 산점도 분포와 비교하면 smelt로 판단한다\n",
        "- K-NN 알고리즘은 주변 샘플 중 다수 클래스를 예측 샘플로 사용한다\n",
        "- 가장 가까운 샘플을 찾기 위해 거리가 필요하다\n",
        "\n"
      ],
      "metadata": {
        "id": "uz5efh8T7zMA"
      }
    },
    {
      "cell_type": "code",
      "source": [
        "kn.predict([[25, 150]]) #Is it a smelt?"
      ],
      "metadata": {
        "colab": {
          "base_uri": "https://localhost:8080/"
        },
        "id": "XkJyZwWPlAD0",
        "outputId": "2316848d-340a-4575-d68e-66a16a0b35cc"
      },
      "execution_count": 42,
      "outputs": [
        {
          "output_type": "execute_result",
          "data": {
            "text/plain": [
              "array([0.])"
            ]
          },
          "metadata": {},
          "execution_count": 42
        }
      ]
    },
    {
      "cell_type": "markdown",
      "source": [
        "### 12. Using kn.kneighbors()\n",
        "- 거리와 위치를 반환하는 것이 가능하다"
      ],
      "metadata": {
        "id": "keeD91tz8kHN"
      }
    },
    {
      "cell_type": "code",
      "source": [
        "plt.scatter(train_input[:,0], train_input[:,1])\n",
        "plt.scatter(25, 150, marker=\"^\")\n",
        "plt.scatter(train_input[indexes,0], train_input[indexes,1], marker=\"*\")\n",
        "plt.xlabel(\"length\")\n",
        "plt.ylabel(\"weight\")\n",
        "plt.title(\"Result\")\n",
        "plt.show()\n",
        "print(train_target[indexes]) #Is it a smelt? "
      ],
      "metadata": {
        "colab": {
          "base_uri": "https://localhost:8080/",
          "height": 313
        },
        "id": "LHZYm4XQl_Ry",
        "outputId": "5b0a1d1b-c6bd-4fa8-88a6-dcfdc0ef6792"
      },
      "execution_count": 43,
      "outputs": [
        {
          "output_type": "display_data",
          "data": {
            "text/plain": [
              "<Figure size 432x288 with 1 Axes>"
            ],
            "image/png": "[encoded data removed]"
          },
          "metadata": {
            "needs_background": "light"
          }
        },
        {
          "output_type": "stream",
          "name": "stdout",
          "text": [
            "[[1. 0. 0. 0. 0.]]\n"
          ]
        }
      ]
    },
    {
      "cell_type": "markdown",
      "source": [
        "### 13. Setting Graph critiea\n",
        "- 거리가 가까운지 멀리있는지에 대한 기준이 명확하지 않다\n",
        "- X axis 와 Y axis 는 댜른 값의 범위를 가지고 있다\n",
        "- 두 특성의 스케일이 다르다고도 할 수 있다\n",
        "- 산점도 거리의 기준을 설정해야 한다"
      ],
      "metadata": {
        "id": "eky4X0FW-A6g"
      }
    },
    {
      "cell_type": "code",
      "source": [
        "distance, indexes = kn.kneighbors([[25, 150]])\n",
        "print(distance, indexes)"
      ],
      "metadata": {
        "colab": {
          "base_uri": "https://localhost:8080/"
        },
        "id": "4Ew65i1Ylnxp",
        "outputId": "1989bd76-4554-43fa-9698-925a3a55b50d"
      },
      "execution_count": 44,
      "outputs": [
        {
          "output_type": "stream",
          "name": "stdout",
          "text": [
            "[[ 92.00086956 130.48375378 130.73859415 138.32150953 138.39320793]] [[21 33 19 30  1]]\n"
          ]
        }
      ]
    },
    {
      "cell_type": "markdown",
      "source": [
        "### 14. Using xlim() / ylim()\n",
        "- `plt.xlim(n, n)` : X axis의 범위를 정할 수 있다\n",
        "- `plt.ylim(n, n)` : Y axis의 범위를 정할 수 있다"
      ],
      "metadata": {
        "id": "34I3UsuH8x6w"
      }
    },
    {
      "cell_type": "code",
      "source": [
        "plt.scatter(train_input[:,0], train_input[:,1])\n",
        "plt.scatter(25, 150, marker=\"^\")\n",
        "plt.scatter(train_input[indexes,0], train_input[indexes,1], marker=\"*\")\n",
        "plt.xlim(0, 1000)\n",
        "plt.xlabel(\"length\")\n",
        "plt.ylabel(\"weight\")\n",
        "plt.title(\"Result\")\n",
        "plt.show()"
      ],
      "metadata": {
        "colab": {
          "base_uri": "https://localhost:8080/",
          "height": 295
        },
        "id": "shwZ4LNU_CPB",
        "outputId": "dda63a40-403b-4363-b8cd-d79c64f086aa"
      },
      "execution_count": 46,
      "outputs": [
        {
          "output_type": "display_data",
          "data": {
            "text/plain": [
              "<Figure size 432x288 with 1 Axes>"
            ],
            "image/png": "[encoded data removed]"
          },
          "metadata": {
            "needs_background": "light"
          }
        }
      ]
    },
    {
      "cell_type": "markdown",
      "source": [
        "### 15. Standard score\n",
        "- 각 특성값이 평균에서 표준편차의 몇 배만큼 떨어져 있는지 확인\n",
        "- 실제 특성 값의 크기와 관계없이 동일 조건으로 비교 가능\n",
        "- `np.mean(input_, axis=)` : 평균을 계산하여 반환\n",
        "- `np.std(input_, axis=)` : 표준편차를 계산하여 반환"
      ],
      "metadata": {
        "id": "_XezIbdVATdX"
      }
    },
    {
      "cell_type": "code",
      "source": [
        "mean = np.mean(train_input, axis= 0) #Calculate columns along rows\n",
        "std = np.std(train_input, axis= 0) #Calculate columns along rows\n",
        "#Checkout\n",
        "print(mean, std)"
      ],
      "metadata": {
        "colab": {
          "base_uri": "https://localhost:8080/"
        },
        "id": "hPinVtDOnyYf",
        "outputId": "e417f42f-8e49-46b7-8a4c-8c489ba07d0c"
      },
      "execution_count": 61,
      "outputs": [
        {
          "output_type": "stream",
          "name": "stdout",
          "text": [
            "[ 27.29722222 454.09722222] [  9.98244253 323.29893931]\n"
          ]
        }
      ]
    },
    {
      "cell_type": "markdown",
      "source": [
        "### 16. Broadcasting Operation\n",
        "- (원본 데이터 - 평균) / 표준편차 = 표준점수"
      ],
      "metadata": {
        "id": "yHfZR45Bpy_1"
      }
    },
    {
      "cell_type": "code",
      "source": [
        "train_scaled = (train_input - mean) / std\n",
        "print(train_scaled) #Checkout"
      ],
      "metadata": {
        "colab": {
          "base_uri": "https://localhost:8080/"
        },
        "id": "FzyRF4XIo3Oe",
        "outputId": "a8e4f9f0-c0d6-4768-e820-65d9c45c9329"
      },
      "execution_count": 62,
      "outputs": [
        {
          "output_type": "stream",
          "name": "stdout",
          "text": [
            "[[ 0.24070039  0.14198246]\n",
            " [-1.51237757 -1.36683783]\n",
            " [ 0.5712808   0.76060496]\n",
            " [-1.60253587 -1.37766373]\n",
            " [ 1.22242404  1.45655528]\n",
            " [ 0.17057727 -0.07453542]\n",
            " [ 0.87180845  0.80390854]\n",
            " [ 0.87180845  1.22457184]\n",
            " [ 0.37092904  0.06465464]\n",
            " [ 0.77163257  0.82246721]\n",
            " [ 0.97198434  1.68853872]\n",
            " [-1.61255346 -1.3742613 ]\n",
            " [ 0.72154463  0.51315596]\n",
            " [-1.53241275 -1.3742613 ]\n",
            " [ 0.17057727 -0.28177396]\n",
            " [ 0.5712808   0.76060496]\n",
            " [ 0.34087627  0.14198246]\n",
            " [ 1.12224816  1.54934866]\n",
            " [ 0.62136874  0.60594934]\n",
            " [-1.30200822 -1.34363949]\n",
            " [ 0.42101698  0.14198246]\n",
            " [-0.19005591 -0.65604058]\n",
            " [-1.75279969 -1.38384995]\n",
            " [ 0.47110492  0.45129371]\n",
            " [-1.68267658 -1.38137546]\n",
            " [ 0.62136874  0.48222484]\n",
            " [-1.67265899 -1.38292202]\n",
            " [ 0.77163257  0.76060496]\n",
            " [ 0.47110492  0.45129371]\n",
            " [ 0.77163257  0.83793278]\n",
            " [-1.43223687 -1.36683783]\n",
            " [ 0.27075315 -0.01267317]\n",
            " [ 0.47110492 -0.35291555]\n",
            " [-1.2318851  -1.34302087]\n",
            " [ 0.27075315 -0.19825992]\n",
            " [ 1.37268787  1.61121091]]\n"
          ]
        }
      ]
    },
    {
      "cell_type": "markdown",
      "source": [
        "### 17. Draw a Scatterplot of standard Score\n",
        "\n"
      ],
      "metadata": {
        "id": "tKIWDP0qooN0"
      }
    },
    {
      "cell_type": "code",
      "source": [
        "plt.scatter(train_scaled[:,0], train_scaled[:,1])\n",
        "plt.scatter(25, 150, marker=\"*\")\n",
        "plt.xlabel(\"length\")\n",
        "plt.ylabel(\"weight\")\n",
        "plt.title(\"Standard Score\")\n",
        "plt.show()"
      ],
      "metadata": {
        "colab": {
          "base_uri": "https://localhost:8080/",
          "height": 295
        },
        "id": "j3oiRbtXpdE6",
        "outputId": "aa201de4-f369-4284-cd46-9c33d67ae599"
      },
      "execution_count": 63,
      "outputs": [
        {
          "output_type": "display_data",
          "data": {
            "text/plain": [
              "<Figure size 432x288 with 1 Axes>"
            ],
            "image/png": "[encoded data removed]"
          },
          "metadata": {
            "needs_background": "light"
          }
        }
      ]
    },
    {
      "cell_type": "markdown",
      "source": [
        "### 18. Draw scatterplot reflecting standard scores for new sample"
      ],
      "metadata": {
        "id": "BKp-kiCJCBbq"
      }
    },
    {
      "cell_type": "code",
      "source": [
        "new_fish = ([25, 150] - mean) / std #New standara score\n",
        "plt.scatter(train_scaled[:,0], train_scaled[:,1])\n",
        "plt.scatter(new_fish[0], new_fish[1], marker=\"*\")\n",
        "plt.xlabel(\"length\")\n",
        "plt.ylabel(\"weight\")\n",
        "plt.title(\"standard score\")\n",
        "plt.show()"
      ],
      "metadata": {
        "colab": {
          "base_uri": "https://localhost:8080/",
          "height": 295
        },
        "id": "qh3ZVLiJpPYO",
        "outputId": "5cd55f9a-a53a-4e9c-ce08-824e2a095311"
      },
      "execution_count": 64,
      "outputs": [
        {
          "output_type": "display_data",
          "data": {
            "text/plain": [
              "<Figure size 432x288 with 1 Axes>"
            ],
            "image/png": "[encoded data removed]"
          },
          "metadata": {
            "needs_background": "light"
          }
        }
      ]
    },
    {
      "cell_type": "markdown",
      "source": [
        "### 19. Start to fit\n",
        "- Train-set의 평균과 표준편차를 사용해 변환해야 함\n",
        "- 그렇지 않으면 데이터의 크기가 같아지지 않음"
      ],
      "metadata": {
        "id": "Txkr2eofDB3d"
      }
    },
    {
      "cell_type": "code",
      "source": [
        "kn.fit(train_scaled, train_target)"
      ],
      "metadata": {
        "colab": {
          "base_uri": "https://localhost:8080/"
        },
        "id": "t83iXONrqTbJ",
        "outputId": "f4ed5386-7225-4bb1-e0f1-ba51fc24a375"
      },
      "execution_count": 65,
      "outputs": [
        {
          "output_type": "execute_result",
          "data": {
            "text/plain": [
              "KNeighborsClassifier()"
            ]
          },
          "metadata": {},
          "execution_count": 65
        }
      ]
    },
    {
      "cell_type": "code",
      "source": [
        "test_scaled = (test_input - mean) / std\n",
        "print(test_scaled)"
      ],
      "metadata": {
        "colab": {
          "base_uri": "https://localhost:8080/"
        },
        "id": "NjEy1YjgDbtL",
        "outputId": "c32cb543-4102-49fe-d317-5f11f09dcc03"
      },
      "execution_count": 66,
      "outputs": [
        {
          "output_type": "stream",
          "name": "stdout",
          "text": [
            "[[-1.63258863 -1.37457062]\n",
            " [-1.55244793 -1.37395199]\n",
            " [ 0.24070039 -0.01267317]\n",
            " [-1.55244793 -1.37364268]\n",
            " [-0.07986244 -0.35291555]\n",
            " [-1.4923424  -1.3631261 ]\n",
            " [ 0.67145669  0.71420828]\n",
            " [ 0.67145669  0.3739659 ]\n",
            " [ 1.12224816  1.44108972]\n",
            " [ 0.77163257  0.69874271]\n",
            " [-0.09989762 -0.50757117]\n",
            " [ 0.37092904  0.14198246]\n",
            " [ 1.37268787  1.5338831 ]]\n"
          ]
        }
      ]
    },
    {
      "cell_type": "code",
      "source": [
        "kn.score(test_scaled, test_target)"
      ],
      "metadata": {
        "colab": {
          "base_uri": "https://localhost:8080/"
        },
        "id": "nuLoWlCKDgUA",
        "outputId": "948221d2-5a34-4da2-cdc1-5766eefa8b7f"
      },
      "execution_count": 67,
      "outputs": [
        {
          "output_type": "execute_result",
          "data": {
            "text/plain": [
              "1.0"
            ]
          },
          "metadata": {},
          "execution_count": 67
        }
      ]
    },
    {
      "cell_type": "markdown",
      "source": [
        "### 20. Check scatterplot results by distance"
      ],
      "metadata": {
        "id": "vujd_efoEo6C"
      }
    },
    {
      "cell_type": "code",
      "source": [
        "distance, indexes = kn.kneighbors([new_fish])\n",
        "plt.scatter(train_scaled[:,0], train_scaled[:,1])\n",
        "plt.scatter(new_fish[0], new_fish[1], marker=\"*\")\n",
        "plt.scatter(train_scaled[indexes,0], train_scaled[indexes,1], marker='D')\n",
        "plt.xlabel(\"length\")\n",
        "plt.ylabel(\"weight\")\n",
        "plt.title(\"K-NN result of standarad score\")\n",
        "plt.show()"
      ],
      "metadata": {
        "id": "q2CWQHc6rQEm",
        "colab": {
          "base_uri": "https://localhost:8080/",
          "height": 295
        },
        "outputId": "974419a8-0990-412b-a042-d531d5c0cbb7"
      },
      "execution_count": 68,
      "outputs": [
        {
          "output_type": "display_data",
          "data": {
            "text/plain": [
              "<Figure size 432x288 with 1 Axes>"
            ],
            "image/png": "[encoded data removed]"
          },
          "metadata": {
            "needs_background": "light"
          }
        }
      ]
    },
    {
      "cell_type": "code",
      "source": [
        "kn.predict([new_fish]) #It is bream!"
      ],
      "metadata": {
        "colab": {
          "base_uri": "https://localhost:8080/"
        },
        "id": "iXdcGAHKEL5C",
        "outputId": "7260c3ad-8913-4c1f-c943-49ec8b35afe5"
      },
      "execution_count": 70,
      "outputs": [
        {
          "output_type": "execute_result",
          "data": {
            "text/plain": [
              "array([1.])"
            ]
          },
          "metadata": {},
          "execution_count": 70
        }
      ]
    }
  ]
}