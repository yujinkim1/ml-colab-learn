{
  "nbformat": 4,
  "nbformat_minor": 0,
  "metadata": {
    "colab": {
      "provenance": []
    },
    "kernelspec": {
      "name": "python3",
      "display_name": "Python 3"
    },
    "language_info": {
      "name": "python"
    }
  },
  "cells": [
    {
      "cell_type": "markdown",
      "source": [
        "## Train-set And Test-set\n",
        "- K-NN의 한계\n",
        "  - 동일한 input(data)으로 target을 통해 분류한다면 올바른 평가 불가능 \n",
        "  - 이미 분류된 데이터는 이진 분류 수행 시 정확도가 100%\n",
        "- 훈련과 검증\n",
        "  - 훈련에 사용하는 Train-set와 평가에 사용하는 Test-set 구분 짓기\n",
        "- 이점\n",
        "  - 정확한 평가가 가능"
      ],
      "metadata": {
        "id": "DyJ7P1cx4lQv"
      }
    },
    {
      "cell_type": "markdown",
      "source": [
        "### Practice\n",
        "- Create Train-set\n",
        "- Create Test-set\n",
        "- Scattering of Train-set and Test-set\n",
        "- Using indexing, slicing\n",
        "- What is the Sampling bias?\n",
        "- Using Numpy and properties\n",
        "- "
      ],
      "metadata": {
        "id": "Ub1SghYzAvj3"
      }
    },
    {
      "cell_type": "markdown",
      "source": [
        "### 1. Prepare to Numerical Data"
      ],
      "metadata": {
        "id": "ZLLqXggzB2_d"
      }
    },
    {
      "cell_type": "code",
      "execution_count": null,
      "metadata": {
        "id": "eTnxy7Tm01M5"
      },
      "outputs": [],
      "source": [
        "fish_length = [25.4, 26.3, 26.5, 29.0, 29.0, 29.7, 29.7, 30.0, 30.0, 30.7, 31.0, 31.0, \n",
        "                31.5, 32.0, 32.0, 32.0, 33.0, 33.0, 33.5, 33.5, 34.0, 34.0, 34.5, 35.0, \n",
        "                35.0, 35.0, 35.0, 36.0, 36.0, 37.0, 38.5, 38.5, 39.5, 41.0, 41.0, 9.8, \n",
        "                10.5, 10.6, 11.0, 11.2, 11.3, 11.8, 11.8, 12.0, 12.2, 12.4, 13.0, 14.3, 15.0]\n",
        "fish_weight = [242.0, 290.0, 340.0, 363.0, 430.0, 450.0, 500.0, 390.0, 450.0, 500.0, 475.0, 500.0, \n",
        "                500.0, 340.0, 600.0, 600.0, 700.0, 700.0, 610.0, 650.0, 575.0, 685.0, 620.0, 680.0, \n",
        "                700.0, 725.0, 720.0, 714.0, 850.0, 1000.0, 920.0, 955.0, 925.0, 975.0, 950.0, 6.7, \n",
        "                7.5, 7.0, 9.7, 9.8, 8.7, 10.0, 9.9, 9.8, 12.2, 13.4, 12.2, 19.7, 19.9]"
      ]
    },
    {
      "cell_type": "markdown",
      "source": [
        "### 2. Draw a Scatterplot"
      ],
      "metadata": {
        "id": "PAp9gjnCB-ES"
      }
    },
    {
      "cell_type": "code",
      "source": [
        "import matplotlib.pyplot as plt"
      ],
      "metadata": {
        "id": "AadbPFka4dgX"
      },
      "execution_count": null,
      "outputs": []
    },
    {
      "cell_type": "code",
      "source": [
        "plt.scatter(fish_length, fish_weight)\n",
        "plt.xlabel(\"length\")\n",
        "plt.ylabel(\"weight\")\n",
        "plt.title(\"Bream and smelt\")\n",
        "plt.show()"
      ],
      "metadata": {
        "colab": {
          "base_uri": "https://localhost:8080/",
          "height": 295
        },
        "id": "9Q0hLr7XCCnN",
        "outputId": "261f0465-ec7e-4729-daf1-27046acb62d8"
      },
      "execution_count": null,
      "outputs": [
        {
          "output_type": "display_data",
          "data": {
            "text/plain": [
              "<Figure size 432x288 with 1 Axes>"
            ],
            "image/png": "[encoded data removed]"
          },
          "metadata": {
            "needs_background": "light"
          }
        }
      ]
    },
    {
      "cell_type": "markdown",
      "source": [
        "### 3. Create a list and target for fit"
      ],
      "metadata": {
        "id": "eQ5zz0oiCgH7"
      }
    },
    {
      "cell_type": "code",
      "source": [
        "fish_data = [[l, w] for l, w in zip(fish_length, fish_weight)]\n",
        "fish_target = [1]*35 + [0]*14\n",
        "print(fish_data) #49 samples\n",
        "print(fish_target)"
      ],
      "metadata": {
        "colab": {
          "base_uri": "https://localhost:8080/"
        },
        "id": "loincfhZ1Elq",
        "outputId": "9592807e-a34d-40b6-c083-b7e168aca07d"
      },
      "execution_count": null,
      "outputs": [
        {
          "output_type": "stream",
          "name": "stdout",
          "text": [
            "[[25.4, 242.0], [26.3, 290.0], [26.5, 340.0], [29.0, 363.0], [29.0, 430.0], [29.7, 450.0], [29.7, 500.0], [30.0, 390.0], [30.0, 450.0], [30.7, 500.0], [31.0, 475.0], [31.0, 500.0], [31.5, 500.0], [32.0, 340.0], [32.0, 600.0], [32.0, 600.0], [33.0, 700.0], [33.0, 700.0], [33.5, 610.0], [33.5, 650.0], [34.0, 575.0], [34.0, 685.0], [34.5, 620.0], [35.0, 680.0], [35.0, 700.0], [35.0, 725.0], [35.0, 720.0], [36.0, 714.0], [36.0, 850.0], [37.0, 1000.0], [38.5, 920.0], [38.5, 955.0], [39.5, 925.0], [41.0, 975.0], [41.0, 950.0], [9.8, 6.7], [10.5, 7.5], [10.6, 7.0], [11.0, 9.7], [11.2, 9.8], [11.3, 8.7], [11.8, 10.0], [11.8, 9.9], [12.0, 9.8], [12.2, 12.2], [12.4, 13.4], [13.0, 12.2], [14.3, 19.7], [15.0, 19.9]]\n",
            "[1, 1, 1, 1, 1, 1, 1, 1, 1, 1, 1, 1, 1, 1, 1, 1, 1, 1, 1, 1, 1, 1, 1, 1, 1, 1, 1, 1, 1, 1, 1, 1, 1, 1, 1, 0, 0, 0, 0, 0, 0, 0, 0, 0, 0, 0, 0, 0, 0]\n"
          ]
        }
      ]
    },
    {
      "cell_type": "markdown",
      "source": [],
      "metadata": {
        "id": "qEipL-aUFLNb"
      }
    },
    {
      "cell_type": "markdown",
      "source": [
        "### 4. Prepare to fit and import KNeighborsClassifier from sklearn"
      ],
      "metadata": {
        "id": "2AF3cFM3DDwg"
      }
    },
    {
      "cell_type": "code",
      "source": [
        "from sklearn.neighbors import KNeighborsClassifier\n",
        "kn = KNeighborsClassifier()"
      ],
      "metadata": {
        "id": "-RpPXswQ2tCn"
      },
      "execution_count": null,
      "outputs": []
    },
    {
      "cell_type": "markdown",
      "source": [
        "### 5. Create Train-set and Test-set\n",
        "- Using index and slicing\n"
      ],
      "metadata": {
        "id": "HMfopQmIDWhS"
      }
    },
    {
      "cell_type": "code",
      "source": [
        "# use for training\n",
        "train_input = fish_data[:35]\n",
        "train_target = fish_target[:35]\n",
        "# use for testing\n",
        "test_input = fish_data[35:]\n",
        "test_target = fish_target[35:]"
      ],
      "metadata": {
        "id": "ptbzQbhf2ZtR"
      },
      "execution_count": null,
      "outputs": []
    },
    {
      "cell_type": "markdown",
      "source": [
        "### 6. Start to fit"
      ],
      "metadata": {
        "id": "YeBZda0yEO1L"
      }
    },
    {
      "cell_type": "code",
      "source": [
        "kn = kn.fit(train_input, train_target)\n",
        "kn.score(test_input, test_target)"
      ],
      "metadata": {
        "colab": {
          "base_uri": "https://localhost:8080/"
        },
        "id": "Is8IAb1tEGBc",
        "outputId": "f87e4106-a0f1-4e99-eae6-9a6172b743e6"
      },
      "execution_count": null,
      "outputs": [
        {
          "output_type": "execute_result",
          "data": {
            "text/plain": [
              "0.0"
            ]
          },
          "metadata": {},
          "execution_count": 23
        }
      ]
    },
    {
      "cell_type": "markdown",
      "source": [
        "\n",
        "\n",
        "> Why is the Accuracy value = 0?\n",
        "- 샘플링 편향 때문에 정확한 테스트가 이루어지지 않음\n",
        "\n"
      ],
      "metadata": {
        "id": "HPbmMHaQEWpI"
      }
    },
    {
      "cell_type": "markdown",
      "source": [
        "### 7. How to solve Sampling bias?\n",
        "- index 또는 slicing 사용은 무작위 리스트를 생성할 수 없다.\n",
        "- Numpy 라이브러리를 활용하여 고차원의 무작위 리스트를 생성한다.\n",
        "- "
      ],
      "metadata": {
        "id": "H_vXHnIGFMmm"
      }
    },
    {
      "cell_type": "markdown",
      "source": [
        "### 8. Import Numpy and create Numpy array"
      ],
      "metadata": {
        "id": "I0wd7jLCGD0u"
      }
    },
    {
      "cell_type": "code",
      "source": [
        "import numpy as np\n",
        "\n",
        "input_array = np.array(fish_data)\n",
        "target_array = np.array(fish_target)"
      ],
      "metadata": {
        "id": "GRrH_xJZFFIe"
      },
      "execution_count": null,
      "outputs": []
    },
    {
      "cell_type": "markdown",
      "source": [
        "### 9. Checkout for np.arrays\n",
        "- np.arrays\n",
        "  - input_array\n",
        "  - target_array\n",
        "- use properties\n",
        "  - _.shape : 배열의 크기를 (행,열) 보기로 출력"
      ],
      "metadata": {
        "id": "PrgnTEZVGoty"
      }
    },
    {
      "cell_type": "code",
      "source": [
        "print(input_array)\n",
        "print(target_array)\n",
        "print(input_array.shape) #row=49, column=2\n",
        "print(target_array.shape) #row=49, column=1\n",
        "# \n",
        "np.random.seed(42)\n",
        "n"
      ],
      "metadata": {
        "colab": {
          "base_uri": "https://localhost:8080/"
        },
        "id": "Zw5UBk0PG_M6",
        "outputId": "8df987f6-30c7-4b68-a8dd-a63dcb4c5971"
      },
      "execution_count": null,
      "outputs": [
        {
          "output_type": "stream",
          "name": "stdout",
          "text": [
            "[[  25.4  242. ]\n",
            " [  26.3  290. ]\n",
            " [  26.5  340. ]\n",
            " [  29.   363. ]\n",
            " [  29.   430. ]\n",
            " [  29.7  450. ]\n",
            " [  29.7  500. ]\n",
            " [  30.   390. ]\n",
            " [  30.   450. ]\n",
            " [  30.7  500. ]\n",
            " [  31.   475. ]\n",
            " [  31.   500. ]\n",
            " [  31.5  500. ]\n",
            " [  32.   340. ]\n",
            " [  32.   600. ]\n",
            " [  32.   600. ]\n",
            " [  33.   700. ]\n",
            " [  33.   700. ]\n",
            " [  33.5  610. ]\n",
            " [  33.5  650. ]\n",
            " [  34.   575. ]\n",
            " [  34.   685. ]\n",
            " [  34.5  620. ]\n",
            " [  35.   680. ]\n",
            " [  35.   700. ]\n",
            " [  35.   725. ]\n",
            " [  35.   720. ]\n",
            " [  36.   714. ]\n",
            " [  36.   850. ]\n",
            " [  37.  1000. ]\n",
            " [  38.5  920. ]\n",
            " [  38.5  955. ]\n",
            " [  39.5  925. ]\n",
            " [  41.   975. ]\n",
            " [  41.   950. ]\n",
            " [   9.8    6.7]\n",
            " [  10.5    7.5]\n",
            " [  10.6    7. ]\n",
            " [  11.     9.7]\n",
            " [  11.2    9.8]\n",
            " [  11.3    8.7]\n",
            " [  11.8   10. ]\n",
            " [  11.8    9.9]\n",
            " [  12.     9.8]\n",
            " [  12.2   12.2]\n",
            " [  12.4   13.4]\n",
            " [  13.    12.2]\n",
            " [  14.3   19.7]\n",
            " [  15.    19.9]]\n",
            "[1 1 1 1 1 1 1 1 1 1 1 1 1 1 1 1 1 1 1 1 1 1 1 1 1 1 1 1 1 1 1 1 1 1 1 0 0\n",
            " 0 0 0 0 0 0 0 0 0 0 0 0]\n",
            "(49, 2)\n",
            "(49,)\n"
          ]
        }
      ]
    },
    {
      "cell_type": "markdown",
      "source": [
        "### 10.use properties for Train-set\n",
        "- use properties\n",
        "  - random.seed(_) : 일정한 결과를 얻기 위해 초기 랜덤 시드 값 지정\n",
        "  - .shuffle(_) :  전달된 배열에 대한 무작위 배열 생성\n",
        "  - .arrange(_) : 인자값 n의 n-1까지 1씩 증가하는 배열 생성"
      ],
      "metadata": {
        "id": "xXlsRr5fN9eu"
      }
    },
    {
      "cell_type": "code",
      "source": [
        "np.random.seed(42)\n",
        "index = np.arange(49)\n",
        "np.random.shuffle(index)\n",
        "# checkout index\n",
        "print(index)"
      ],
      "metadata": {
        "colab": {
          "base_uri": "https://localhost:8080/"
        },
        "id": "rI2d34fCOMDI",
        "outputId": "386403dc-2963-4669-9d14-998f070fb7fd"
      },
      "execution_count": null,
      "outputs": [
        {
          "output_type": "stream",
          "name": "stdout",
          "text": [
            "[13 45 47 44 17 27 26 25 31 19 12  4 34  8  3  6 40 41 46 15  9 16 24 33\n",
            " 30  0 43 32  5 29 11 36  1 21  2 37 35 23 39 10 22 18 48 20  7 42 14 28\n",
            " 38]\n"
          ]
        }
      ]
    },
    {
      "cell_type": "markdown",
      "source": [
        "### 11. Using array indexing for sample extraction\n",
        "- 한 번에 여러 개의 인덱스의 원소(값)을 선택해 추출할 수 있다."
      ],
      "metadata": {
        "id": "vOyIxlmPPhyy"
      }
    },
    {
      "cell_type": "code",
      "source": [
        "#Example to array indexing\n",
        "print(input_array[[1, 3]])\n",
        "print(input_array[[2, 5]])\n",
        "\n",
        "#Send a randomize sample for Train-set\n",
        "train_input = input_array[index[:35]]\n",
        "train_target = target_array[index[:35]]\n",
        "#checkout\n",
        "print(input_array[13], train_input[0])"
      ],
      "metadata": {
        "colab": {
          "base_uri": "https://localhost:8080/"
        },
        "id": "KfO92lhcPBp8",
        "outputId": "7b33d1eb-ddc5-463a-a8ee-f0d3dd288020"
      },
      "execution_count": null,
      "outputs": [
        {
          "output_type": "stream",
          "name": "stdout",
          "text": [
            "[[ 26.3 290. ]\n",
            " [ 29.  363. ]]\n",
            "[[ 26.5 340. ]\n",
            " [ 29.7 450. ]]\n",
            "[ 32. 340.] [ 32. 340.]\n"
          ]
        }
      ]
    },
    {
      "cell_type": "code",
      "source": [
        "test_input = input_array[index[35:]]\n",
        "test_target = target_array[index[35:]]"
      ],
      "metadata": {
        "id": "mTK0jm5OPhR7"
      },
      "execution_count": null,
      "outputs": []
    },
    {
      "cell_type": "markdown",
      "source": [
        "### 12. Draw a Scatterplot of Train-set and Test-set\n",
        "- use properties\n",
        "  - array indexing : `[: ,start]`, `[: ,end]`\n",
        "    - 2차원 배열의 행과 열 인덱스를 `,`(콤마) 사용으로 지정 가능\n",
        "    - 처음부터 끝까지 모든 원소를 사용하는 경우 생략 가능"
      ],
      "metadata": {
        "id": "rG9Cd6_pR1dE"
      }
    },
    {
      "cell_type": "code",
      "source": [
        "plt.scatter(train_input[:,0], train_input[:,1]) #train_input[0], train_input[1]\n",
        "plt.scatter(test_input[:,0],test_input[:,1])\n",
        "plt.xlabel(\"length\")\n",
        "plt.ylabel(\"weight\")\n",
        "plt.title(\"Train-set and Test-set\")\n",
        "plt.show()"
      ],
      "metadata": {
        "colab": {
          "base_uri": "https://localhost:8080/",
          "height": 295
        },
        "id": "p5euV1R2SH4D",
        "outputId": "10af08c0-7a23-469f-c8c9-c897b22d409d"
      },
      "execution_count": null,
      "outputs": [
        {
          "output_type": "display_data",
          "data": {
            "text/plain": [
              "<Figure size 432x288 with 1 Axes>"
            ],
            "image/png": "[encoded data removed]"
          },
          "metadata": {
            "needs_background": "light"
          }
        }
      ]
    },
    {
      "cell_type": "markdown",
      "source": [
        "### 13. No used array indexing\n",
        "- scatter() : x축과 y축의 값이 필요하다. 둘 중 하나라도 없다면 컴파일 에러 발생\n",
        "- train_input과 test_input의 원소는 서로 다른 샘플을 보유하고 있음\n",
        "- plt.scatter(train_input, test_input) 방식은 컴파일 에러 발생"
      ],
      "metadata": {
        "id": "S_u1AVybUOUf"
      }
    },
    {
      "cell_type": "code",
      "source": [
        "plt.scatter(train_input, train_input)\n",
        "plt.scatter(test_input, test_input)\n",
        "plt.xlabel(\"length\")\n",
        "plt.ylabel(\"weight\")\n",
        "plt.title(\"Train-set and Test-set\")\n",
        "plt.show()"
      ],
      "metadata": {
        "colab": {
          "base_uri": "https://localhost:8080/",
          "height": 295
        },
        "id": "MfW48ftOTwr8",
        "outputId": "a50d6df2-b857-4a1b-e971-342d8b02ee12"
      },
      "execution_count": null,
      "outputs": [
        {
          "output_type": "display_data",
          "data": {
            "text/plain": [
              "<Figure size 432x288 with 1 Axes>"
            ],
            "image/png": "[encoded data removed]"
          },
          "metadata": {
            "needs_background": "light"
          }
        }
      ]
    },
    {
      "cell_type": "code",
      "source": [
        "print(train_input) #35 samples\n",
        "print(test_input) #14 samples"
      ],
      "metadata": {
        "colab": {
          "base_uri": "https://localhost:8080/"
        },
        "id": "jTqCqO5agzct",
        "outputId": "f1fa0cc3-cc01-4d0b-df9f-d4ec369149c2"
      },
      "execution_count": null,
      "outputs": [
        {
          "output_type": "stream",
          "name": "stdout",
          "text": [
            "[[  32.   340. ]\n",
            " [  12.4   13.4]\n",
            " [  14.3   19.7]\n",
            " [  12.2   12.2]\n",
            " [  33.   700. ]\n",
            " [  36.   714. ]\n",
            " [  35.   720. ]\n",
            " [  35.   725. ]\n",
            " [  38.5  955. ]\n",
            " [  33.5  650. ]\n",
            " [  31.5  500. ]\n",
            " [  29.   430. ]\n",
            " [  41.   950. ]\n",
            " [  30.   450. ]\n",
            " [  29.   363. ]\n",
            " [  29.7  500. ]\n",
            " [  11.3    8.7]\n",
            " [  11.8   10. ]\n",
            " [  13.    12.2]\n",
            " [  32.   600. ]\n",
            " [  30.7  500. ]\n",
            " [  33.   700. ]\n",
            " [  35.   700. ]\n",
            " [  41.   975. ]\n",
            " [  38.5  920. ]\n",
            " [  25.4  242. ]\n",
            " [  12.     9.8]\n",
            " [  39.5  925. ]\n",
            " [  29.7  450. ]\n",
            " [  37.  1000. ]\n",
            " [  31.   500. ]\n",
            " [  10.5    7.5]\n",
            " [  26.3  290. ]\n",
            " [  34.   685. ]\n",
            " [  26.5  340. ]]\n",
            "[[ 10.6   7. ]\n",
            " [  9.8   6.7]\n",
            " [ 35.  680. ]\n",
            " [ 11.2   9.8]\n",
            " [ 31.  475. ]\n",
            " [ 34.5 620. ]\n",
            " [ 33.5 610. ]\n",
            " [ 15.   19.9]\n",
            " [ 34.  575. ]\n",
            " [ 30.  390. ]\n",
            " [ 11.8   9.9]\n",
            " [ 32.  600. ]\n",
            " [ 36.  850. ]\n",
            " [ 11.    9.7]]\n"
          ]
        }
      ]
    },
    {
      "cell_type": "markdown",
      "source": [
        "### 14. Start to fit\n",
        "- checkout\n",
        "  - 생성된 Train-set가 정상적으로 훈련되는가?\n",
        "  - 정상적으로 훈련되었다면 정확도는 어떻게 평가되는가?"
      ],
      "metadata": {
        "id": "apfJM3OzU8Ey"
      }
    },
    {
      "cell_type": "code",
      "source": [
        "kn = kn.fit(train_input, train_target)"
      ],
      "metadata": {
        "id": "q-4dKzznU6cm"
      },
      "execution_count": null,
      "outputs": []
    },
    {
      "cell_type": "code",
      "source": [
        "kn.score(test_input, test_target)"
      ],
      "metadata": {
        "colab": {
          "base_uri": "https://localhost:8080/"
        },
        "id": "JvbwqRa1VNIA",
        "outputId": "e10b1ab2-b3f0-4e78-94d2-58d44621104c"
      },
      "execution_count": null,
      "outputs": [
        {
          "output_type": "execute_result",
          "data": {
            "text/plain": [
              "1.0"
            ]
          },
          "metadata": {},
          "execution_count": 54
        }
      ]
    },
    {
      "cell_type": "markdown",
      "source": [
        "### 15. Comparison of results \n",
        "- 결과적으로 훈련이 정상적으로 수행되어 타깃과 같은 값이 도출되었다."
      ],
      "metadata": {
        "id": "pjppq22EV4QR"
      }
    },
    {
      "cell_type": "code",
      "source": [
        "print(test_target)"
      ],
      "metadata": {
        "colab": {
          "base_uri": "https://localhost:8080/"
        },
        "id": "EU-U-xYrV0-R",
        "outputId": "16e28109-7180-484e-e28e-240da0774cab"
      },
      "execution_count": null,
      "outputs": [
        {
          "output_type": "stream",
          "name": "stdout",
          "text": [
            "[0 0 1 0 1 1 1 0 1 1 0 1 1 0]\n"
          ]
        }
      ]
    },
    {
      "cell_type": "code",
      "source": [
        "kn.predict(test_input) #Insert Test-set into trained model-kn"
      ],
      "metadata": {
        "colab": {
          "base_uri": "https://localhost:8080/"
        },
        "id": "Omwen3bEVqiC",
        "outputId": "f02041c3-c4b0-4352-b877-42a993b0b219"
      },
      "execution_count": null,
      "outputs": [
        {
          "output_type": "execute_result",
          "data": {
            "text/plain": [
              "array([0, 0, 1, 0, 1, 1, 1, 0, 1, 1, 0, 1, 1, 0])"
            ]
          },
          "metadata": {},
          "execution_count": 55
        }
      ]
    }
  ]
}