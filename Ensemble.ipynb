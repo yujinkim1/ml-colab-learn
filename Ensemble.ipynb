{
  "nbformat": 4,
  "nbformat_minor": 0,
  "metadata": {
    "colab": {
      "provenance": [],
      "collapsed_sections": []
    },
    "kernelspec": {
      "name": "python3",
      "display_name": "Python 3"
    },
    "language_info": {
      "name": "python"
    }
  },
  "cells": [
    {
      "cell_type": "markdown",
      "source": [
        "## Ensemble\n",
        "- 앙상블 학습(Ensemble Learning): 여러 개의 분류기를 생성하고 그에 대한 예측을 결합해 더 정확한 예측을 도출하는 기법\n",
        "- 정형 데이터에 대한 결과가 가장 높은 알고리즘\n",
        "  - 보팅(Voting): 여러 개의 분류기가 투표를 통해 최종 예측 결과를 결정하는 방식\n",
        "  - **배깅(Bagging)**: 데이터 샘플링(Bootstrap) 을 통해 모델을 학습시키고 결과를 집계하는 방법\n",
        "  - 부스팅(Boosting): 여러개의 분류기가 순차적으로 학습을 수행\n",
        "- Random Forest\n",
        "  - 여러 개의 결정 트리를 합쳐서 높은 성능의 모델을 만드는 학습 모델\n",
        "  - 결정 트리보다 더 정확한 예측을 도출할 수 있음\n",
        "  - 각 결정 트리를 훈련 데이터로부터 랜덤하게 추출한 데이터를 사용해 훈련을 수행\n",
        "- 정형 데이터(Structed data): 미리 정해진 구조로 구조화되어 있는 데이터\n",
        "  - 특성이 정의된 데이터(CSV)\n",
        "- 비정형 데이터(Unstructed data): 구조화가 되어있지 않은 데이터\n",
        "  - 텍스트 중심의 데이터, 이미지 데이터 등"
      ],
      "metadata": {
        "id": "XobkU3DAOSNs"
      }
    },
    {
      "cell_type": "markdown",
      "source": [
        "### Practice\n",
        "- Import `pandas` library\n",
        "  - Read URL of CSV file\n",
        "  - Using **`.to_numpy()`**\n",
        "- Import `numpy` library\n",
        "  - Using **`np.mean()`**\n",
        "- Import `sklearn.model_selection`\n",
        "  - Using **`train_test_split()`**\n",
        "  - Using **`cross_validate()`**\n",
        "    - Using the Properties\n",
        "      - `return_train_score`\n",
        "- Feature importances of Models\n",
        "  - `.feature_importances_`\n",
        "- Out Of Bag\n",
        "  - `oob_score=_boolean`\n",
        "  - `oob_score_`\n",
        "- Import `sklearn.ensemble`\n",
        "  - Using **`RandomForestClassifier()`**\n",
        "  - Using **`ExtraTreesClassifier()`**\n",
        "  - Using **`GradientBoostingClassifier()`**\n",
        "  - Using the Properties\n",
        "    - `n_estimators=`\n",
        "    - `learning_rate=`\n",
        "    - `sybsample=`"
      ],
      "metadata": {
        "id": "dzP4UqU4r18W"
      }
    },
    {
      "cell_type": "markdown",
      "source": [
        "### Create Random Forest Model\n",
        "- Import **`numpy`** library\n",
        "  - Using **`np.mean()`**\n",
        "- Import **`pandas`** libray\n",
        "- Import `sklearn.model_selection`\n",
        "  - Using **`train_test_split()`**\n",
        "  - Using **`cross_validate()`**\n",
        "- Import `sklearn.ensemble`\n",
        "  - Using **`RandomForestClassifier()`**"
      ],
      "metadata": {
        "id": "b3F1-9riQ88m"
      }
    },
    {
      "cell_type": "markdown",
      "source": [
        "### 1. Prepare to csv data"
      ],
      "metadata": {
        "id": "82zGjOzCsb6Q"
      }
    },
    {
      "cell_type": "code",
      "execution_count": null,
      "metadata": {
        "id": "5nErBqlcOKro"
      },
      "outputs": [],
      "source": [
        "import pandas as pd\n",
        "wine = pd.read_csv(\"https://bit.ly/wine_csv_data\")"
      ]
    },
    {
      "cell_type": "markdown",
      "source": [
        "### 1-1. Create numpy data\n",
        "- Using `.to_numpy()`"
      ],
      "metadata": {
        "id": "iDe-yWV-pW2k"
      }
    },
    {
      "cell_type": "code",
      "source": [
        "data = wine[[\"alcohol\", \"sugar\", \"pH\"]].to_numpy()\n",
        "target = wine[\"class\"].to_numpy()\n",
        "\n",
        "#Checkout\n",
        "print(data.shape)\n",
        "print(target.shape)"
      ],
      "metadata": {
        "colab": {
          "base_uri": "https://localhost:8080/"
        },
        "id": "_Dxx0BvIoYd8",
        "outputId": "17e2bdd3-a915-4cec-906c-4bc5424d683d"
      },
      "execution_count": null,
      "outputs": [
        {
          "output_type": "stream",
          "name": "stdout",
          "text": [
            "(6497, 3)\n",
            "(6497,)\n"
          ]
        }
      ]
    },
    {
      "cell_type": "markdown",
      "source": [
        "### 1-2. Create Train-set and Test-set to using **`train_test_split()`**"
      ],
      "metadata": {
        "id": "JNM3iswfpXI-"
      }
    },
    {
      "cell_type": "code",
      "source": [
        "from sklearn.model_selection import train_test_split\n",
        "train_input, test_input, train_target, test_target = train_test_split(\n",
        "    data, target, test_size=0.2, random_state=42\n",
        ")\n",
        "#Checkout\n",
        "print(train_input)\n",
        "print(train_input.shape)\n",
        "print(test_input)\n",
        "print(test_input.shape)"
      ],
      "metadata": {
        "colab": {
          "base_uri": "https://localhost:8080/"
        },
        "id": "2jGGsdyOopNV",
        "outputId": "1396018c-ebf5-42f3-90d9-8324c635ac93"
      },
      "execution_count": null,
      "outputs": [
        {
          "output_type": "stream",
          "name": "stdout",
          "text": [
            "[[10.5   7.7   3.19]\n",
            " [12.4   2.1   3.26]\n",
            " [11.8   2.1   3.41]\n",
            " ...\n",
            " [ 9.5   5.6   3.24]\n",
            " [ 9.5   8.    3.18]\n",
            " [ 9.5   2.7   3.51]]\n",
            "(5197, 3)\n",
            "[[12.2  12.8   3.26]\n",
            " [ 9.9   2.2   3.27]\n",
            " [12.    7.4   3.18]\n",
            " ...\n",
            " [12.4   1.8   3.19]\n",
            " [ 9.4   9.7   3.3 ]\n",
            " [ 8.7  15.5   2.9 ]]\n",
            "(1300, 3)\n"
          ]
        }
      ]
    },
    {
      "cell_type": "markdown",
      "source": [
        "### 2. Create Random Forest Model\n",
        "- Import sklearn.ensemble\n",
        "  - Using **`RandomForestClassifier()`**\n",
        "- **`return_train_score=`**\n",
        "  - True: 검증 점수와 훈련 세트 점수도 반환\n",
        "- cross_validate와 RandomForestClassifier의 **`n_jobs=`**\n",
        "  - `-1`로 지정하여 최대한 병렬로 교차 검증을 수행하도록 유도"
      ],
      "metadata": {
        "id": "rVsV-z7BsiST"
      }
    },
    {
      "cell_type": "code",
      "source": [
        "import numpy as np\n",
        "from sklearn.model_selection import cross_validate\n",
        "from sklearn.ensemble import RandomForestClassifier\n",
        "\n",
        "rf = RandomForestClassifier(n_jobs=-1, random_state=42)\n",
        "\n",
        "scores = cross_validate(rf, train_input, train_target, return_train_score=True, n_jobs=-1)\n",
        "\n",
        "#Checkout\n",
        "print(np.mean(scores[\"train_score\"]), np.mean(scores[\"test_score\"]))"
      ],
      "metadata": {
        "colab": {
          "base_uri": "https://localhost:8080/"
        },
        "id": "a55MlZ0ASf0c",
        "outputId": "09ff56b5-b3d0-432d-96dd-be049249a816"
      },
      "execution_count": null,
      "outputs": [
        {
          "output_type": "stream",
          "name": "stdout",
          "text": [
            "0.9973541965122431 0.8905151032797809\n"
          ]
        }
      ]
    },
    {
      "cell_type": "markdown",
      "source": [
        "### 2-1. Feature importances\n",
        "- 특성 중요도는 각 결정 트리의 특성들에 대한 중요 수치를 알아볼 수 있음\n",
        "- 결정 트리 모델로부터 얻은 각 특성의 중요도를 비교\n",
        "- RandomForest 알고리즘은 특성의 일부를 랜덤하게 선택해 훈련하므로 하나의 특성에 과도하게 집중되지 않음"
      ],
      "metadata": {
        "id": "FxsCqRSNWViy"
      }
    },
    {
      "cell_type": "code",
      "source": [
        "rf.fit(train_input, train_target)\n",
        "#Checkout \n",
        "print(rf.feature_importances_)"
      ],
      "metadata": {
        "colab": {
          "base_uri": "https://localhost:8080/"
        },
        "id": "tXJZbGyoVzqg",
        "outputId": "e502e518-7f0f-47b3-94e7-7f54ba936ae4"
      },
      "execution_count": null,
      "outputs": [
        {
          "output_type": "stream",
          "name": "stdout",
          "text": [
            "[0.23167441 0.50039841 0.26792718]\n"
          ]
        }
      ]
    },
    {
      "cell_type": "markdown",
      "source": [
        "### 3. Out of Bag(OOB)\n",
        "- 훈련 세트의 샘플 중 부트스트랩 샘플에 포함되지 않고 남은 샘플\n",
        "- 교차 검증을 대신할 수 있음\n",
        "- OOB를 통해 모델을 평가하는 점수를 얻을 수 있음\n",
        "- **`oob_score=_boolean`**\n",
        "  - True: OOB 평균 수치를 반환\n",
        "- **`oob_score_`**: Random Forest 내 각 결정 트리의 OOB 평균 수치\n"
      ],
      "metadata": {
        "id": "p5CRZAjMY7M3"
      }
    },
    {
      "cell_type": "code",
      "source": [
        "rf = RandomForestClassifier(oob_score=True, n_jobs=-1, random_state=42)\n",
        "rf.fit(train_input, train_target)\n",
        "\n",
        "#Checkout\n",
        "print(rf.oob_score_)"
      ],
      "metadata": {
        "colab": {
          "base_uri": "https://localhost:8080/"
        },
        "id": "eUHaKzU6Zf0R",
        "outputId": "8b468fb3-a520-4520-8ba6-34db5b988e2f"
      },
      "execution_count": null,
      "outputs": [
        {
          "output_type": "stream",
          "name": "stdout",
          "text": [
            "0.8934000384837406\n"
          ]
        }
      ]
    },
    {
      "cell_type": "markdown",
      "source": [
        "### 4. Extra Trees\n",
        "- 결정트리 생성 시 전체 훈련 세트를 사용함\n",
        "- DecisionTreeClassifier 사용 시\n",
        "  - `spliter= random`으로 지정할 경우 정보이득을 고려하지 않고 무작위로 노드 분할\n",
        "  - 랜덤으로 노드를 분할하기 때문에 빠르게 학습이 가능함\n",
        "- Import `sklearn.ensemble`\n",
        "  - Using **`ExtraTreesClassifier()`**\n",
        "- Using **`np.mean()`**\n"
      ],
      "metadata": {
        "id": "YkuBExKyZ-QN"
      }
    },
    {
      "cell_type": "code",
      "source": [
        "from sklearn.ensemble import ExtraTreesClassifier\n",
        "et = ExtraTreesClassifier(n_jobs=-1, random_state=42)\n",
        "scores = cross_validate(et, train_input, train_target, return_train_score=True, n_jobs=-1)\n",
        "\n",
        "#Checkout\n",
        "print(np.mean(scores[\"train_score\"]), np.mean(scores[\"test_score\"]))"
      ],
      "metadata": {
        "colab": {
          "base_uri": "https://localhost:8080/"
        },
        "id": "hZvUuy8hZ9R5",
        "outputId": "4f2c7c63-f98c-4123-f566-c1e1212d886b"
      },
      "execution_count": null,
      "outputs": [
        {
          "output_type": "stream",
          "name": "stdout",
          "text": [
            "0.9974503966084433 0.8887848893166506\n"
          ]
        }
      ]
    },
    {
      "cell_type": "markdown",
      "source": [
        "### 5. Gradient Tree Boosting\n",
        "- 깊이가 얕은 결정 트리를 사용하여 이전 트리의 오차를 보완하는 방식의 앙상블 학습 모델\n",
        "- 경사하강법을 사용해 트리를 앙상블에 추가함\n",
        "- 결정 트리의 깊이가 얕아 Overfiting에 강함\n",
        "- 하지만, 트리를 추가하는 방식이기 때문에 훈련의 속도가 느림\n",
        "- Import `sklearn.ensemble`\n",
        "  - Using **`GradientBoostingClassifier()`**\n",
        "- Using **`np.mean()`**"
      ],
      "metadata": {
        "id": "tZ2GJV4Na5_r"
      }
    },
    {
      "cell_type": "code",
      "source": [
        "from sklearn.ensemble import GradientBoostingClassifier\n",
        "\n",
        "gb = GradientBoostingClassifier(random_state=42)\n",
        "scores = cross_validate(gb, train_input, train_target, return_train_score=True, n_jobs=-1)\n",
        "\n",
        "#Checkout\n",
        "print(np.mean(scores[\"train_score\"]), np.mean(scores[\"test_score\"]))"
      ],
      "metadata": {
        "colab": {
          "base_uri": "https://localhost:8080/"
        },
        "id": "liLn7RvDboXj",
        "outputId": "a99dc9db-c1b0-4a41-9603-3be05aba28e8"
      },
      "execution_count": null,
      "outputs": [
        {
          "output_type": "stream",
          "name": "stdout",
          "text": [
            "0.8881086892152563 0.8720430147331015\n"
          ]
        }
      ]
    },
    {
      "cell_type": "markdown",
      "source": [
        "### 6. Using the Properties of Gradient Boosting Classifier\n",
        "- **`n_estimators=`**: 결정 트리의 수\n",
        "- **`learning_rate=`**: 학습률\n",
        "- **`sybsample=`**: 결정 트리 훈련에 사용할 훈련 세트의 비율 지정"
      ],
      "metadata": {
        "id": "19IeBZPKcnVI"
      }
    },
    {
      "cell_type": "code",
      "source": [
        "gb = GradientBoostingClassifier(n_estimators=500, learning_rate=0.2, random_state=42)\n",
        "scores = cross_validate(gb, train_input, train_target, return_train_score=True, n_jobs=-1)\n",
        "\n",
        "#Checkout\n",
        "print(np.mean(scores[\"train_score\"]), np.mean(scores[\"test_score\"]))"
      ],
      "metadata": {
        "colab": {
          "base_uri": "https://localhost:8080/"
        },
        "id": "3NBhafIzcUaf",
        "outputId": "afcc52ba-5984-4b9f-df0b-3da94f2eb702"
      },
      "execution_count": null,
      "outputs": [
        {
          "output_type": "stream",
          "name": "stdout",
          "text": [
            "0.9464595437171814 0.8780082549788999\n"
          ]
        }
      ]
    },
    {
      "cell_type": "code",
      "source": [
        "gb.fit(train_input, train_target)\n",
        "print(gb.feature_importances_)"
      ],
      "metadata": {
        "colab": {
          "base_uri": "https://localhost:8080/"
        },
        "id": "wYFNh-jbc6Xy",
        "outputId": "407364cd-2b11-4bc1-ccb9-eeea8bdb0d9d"
      },
      "execution_count": null,
      "outputs": [
        {
          "output_type": "stream",
          "name": "stdout",
          "text": [
            "[0.15872278 0.68010884 0.16116839]\n"
          ]
        }
      ]
    }
  ]
}