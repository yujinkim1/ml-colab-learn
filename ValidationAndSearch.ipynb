{
  "nbformat": 4,
  "nbformat_minor": 0,
  "metadata": {
    "colab": {
      "provenance": [],
      "collapsed_sections": []
    },
    "kernelspec": {
      "name": "python3",
      "display_name": "Python 3"
    },
    "language_info": {
      "name": "python"
    }
  },
  "cells": [
    {
      "cell_type": "markdown",
      "source": [
        "## Validation\n",
        "- 테스트 세트 대신 모델을 사전에 평가하기 위한 데이터 세트\n",
        "- 훈련 세트를 일부 분할해 활용\n",
        "  - 전체 데이터 세트 중 20 ~ 30% 정도의 양을 테스트 세트와 검증 세트로 분할\n",
        "  - 훈련 데이터의 양이 많을 경우 %로 전체 데이터를 대표 가능\n",
        "\n",
        "- `Holdout Validation`\n",
        "  - 가장 기본적인 검증법\n",
        "  - 전체 데이터 세트에서 테스트 데이터를 분리\n",
        "  - 훈련 데이터의 일부를 검증 세트로 분리\n",
        "  - 단, 검증을 한 번 밖에 진행할 수 없음\n",
        "- **`K-fold CV(K-fold-Cross Validation)`**\n",
        "  - Holdout 방식을 개선한 검증법으로 교차검증이라고 말함\n",
        "  - 최소 2번 이상 또는 K번의 검증을 진행하기 때문에 검증 결과수치의 평균을 검증 결과로 사용\n",
        "  - 데이터를 k개로 나누고 차례대로 하나씩 k번 검증을 진행\n",
        "- `LOOCV(Leave-One-Out-Cross Validation)`\n",
        "  - **극단적인** `K-fold CV` 형태를 띄고 있는 검증법\n",
        "  -  훈련 세트가 극단적으로 적을 때 사용 가능한 방식\n",
        "  - 오직 한 개의 인스턴스만 검증 세트로 지정\n",
        "  - 학습 데이터가 1000개 라면 1000번의 교차 검증을 수행\n",
        "\n",
        "## Search\n",
        "- Grid Search\n",
        "  - 가장 우수한 성능을 가지고 있는 모델의 하이퍼 파라미터를 찾기 위해 사용\n",
        "- Randomize Search\n",
        "  - 불순도 감소 범위를 무작위로 시도해 볼 수 있음\n",
        "  - 특별한 근거 없이 불순도 감소 수치를 지정하여 수행하는 것보다 효율적인 수치를 얻을 수 있음\n",
        "  - 수치 값을 전달하는 그리드 서치와 달리 확률 분포 객체를 전달"
      ],
      "metadata": {
        "id": "3expTqSfqjd7"
      }
    },
    {
      "cell_type": "markdown",
      "source": [
        "### Practice\n",
        "- Using **`pandas`** library\n",
        "- Read URL of CSV file\n",
        "- Import `sklearn.model_selection`\n",
        "  - Using **`train_test_split()`**\n",
        "  - Using **`StratifiedKFold`**\n",
        "  - Using **`StratifiedKFold`**\n",
        "  - Using **`GridSearchCV`**\n",
        "    - Using properties\n",
        "  - Using **`RandomizeSearchCV`**\n",
        "    - Using properties\n",
        "- Create Validation-set\n",
        "- Import **`numpy`** library\n",
        "  - Using **`np.mean()`**\n",
        "- Import `sklearn.tree`\n",
        "  - Using **`DecisionTreeClassifier()`**\n",
        "- Check the mean of Cross validation\n",
        "- Import `scipy.stats`\n",
        "  - Using **`randit()`**\n",
        "  - Using **`uniform()`**"
      ],
      "metadata": {
        "id": "rawGptk2t98g"
      }
    },
    {
      "cell_type": "markdown",
      "source": [
        "### 1. Import `pandas` with csv data\n",
        "- Using **`.read_csv()`**"
      ],
      "metadata": {
        "id": "ksyRUNZwvn_3"
      }
    },
    {
      "cell_type": "code",
      "execution_count": 1,
      "metadata": {
        "id": "uepnNhp6mv5Z"
      },
      "outputs": [],
      "source": [
        "import pandas as pd\n",
        "\n",
        "wine = pd.read_csv(\"https://bit.ly/wine_csv_data\")"
      ]
    },
    {
      "cell_type": "markdown",
      "source": [
        "### 1-1. Create numpy data-set\n",
        "- create input from use `.to_numpy()`\n",
        "- create target from use `.to_numpy()`"
      ],
      "metadata": {
        "id": "FTM8ZCCiwjiE"
      }
    },
    {
      "cell_type": "code",
      "source": [
        "data = wine[[\"alcohol\", \"sugar\", \"pH\"]].to_numpy()\n",
        "target = wine[\"class\"].to_numpy()\n",
        "\n",
        "#Checkout\n",
        "print(\"data\")\n",
        "print(data)\n",
        "print(data.shape)\n",
        "print(\"target\")\n",
        "print(target)\n",
        "print(target.shape)"
      ],
      "metadata": {
        "id": "c7XuUQjlt9kQ",
        "colab": {
          "base_uri": "https://localhost:8080/"
        },
        "outputId": "52ff9456-9ba9-46f3-ebb2-68533a539d48"
      },
      "execution_count": 2,
      "outputs": [
        {
          "output_type": "stream",
          "name": "stdout",
          "text": [
            "data\n",
            "[[ 9.4   1.9   3.51]\n",
            " [ 9.8   2.6   3.2 ]\n",
            " [ 9.8   2.3   3.26]\n",
            " ...\n",
            " [ 9.4   1.2   2.99]\n",
            " [12.8   1.1   3.34]\n",
            " [11.8   0.8   3.26]]\n",
            "(6497, 3)\n",
            "target\n",
            "[0. 0. 0. ... 1. 1. 1.]\n",
            "(6497,)\n"
          ]
        }
      ]
    },
    {
      "cell_type": "markdown",
      "source": [
        "### 2. Import **`train_test_split`**\n",
        "- from `sklearn.model_selection`\n"
      ],
      "metadata": {
        "id": "we98oy3VTzS0"
      }
    },
    {
      "cell_type": "code",
      "source": [
        "from sklearn.model_selection import train_test_split"
      ],
      "metadata": {
        "id": "JCe4y-WdTyBq"
      },
      "execution_count": 3,
      "outputs": []
    },
    {
      "cell_type": "markdown",
      "source": [
        "### 2-1. Create Train-set and Test-set to using **`train_test_split()`**\n",
        "- 입력과 타겟의 넘파이 데이터 준비\n",
        "- 훈련 세트와 테스트 세트 생성\n",
        "- **`test_size=`**\n",
        "  - Train-set : Test-set 비율을 조정\n",
        "  - 샘플의 양에 따라 조정이 필요한 경우가 있기 때문"
      ],
      "metadata": {
        "id": "JbRZ2nkaUMjv"
      }
    },
    {
      "cell_type": "code",
      "source": [
        "train_input, test_input, train_target, test_target = train_test_split(\n",
        "    data, target, test_size=0.2, random_state=42\n",
        ")\n",
        "\n",
        "#Checkout\n",
        "print(train_input.shape, test_input.shape)"
      ],
      "metadata": {
        "id": "ilo771GOULza",
        "colab": {
          "base_uri": "https://localhost:8080/"
        },
        "outputId": "fcf9be09-83db-4ecb-bd16-6d84d71e52e6"
      },
      "execution_count": 4,
      "outputs": [
        {
          "output_type": "stream",
          "name": "stdout",
          "text": [
            "(5197, 3) (1300, 3)\n"
          ]
        }
      ]
    },
    {
      "cell_type": "markdown",
      "source": [
        "### 2-2. Create Validation-set\n",
        "- 생성된 Train-set를 다시 나누어 검증 세트를 생성\n",
        "- 테스트 세트를 사용해 Overfitting 또는 Underfitting을 판단하지 않고 검증 세트를 통해 사전 판단하는게 효율적\n",
        "- 일반적인 `Holdout` 방식\n",
        "- 검증 세트 구조\n",
        "  - `sub_input`: 검증 세트를 제외한 훈련 세트 입력 데이터\n",
        "  - `val_input`: 훈련 세트에서 나누어 생성한 검증 세트 입력 데이터\n",
        "  - `sub_target`: 검증 세트를 제외한 훈련 세트 타겟 데이터\n",
        "  - `val_target`: 훈련 세트에서 나누어 생성한 검증 타겟 데이터\n"
      ],
      "metadata": {
        "id": "zgExU6QBUYt6"
      }
    },
    {
      "cell_type": "code",
      "source": [
        "sub_input, val_input, sub_target, val_target = train_test_split(\n",
        "    train_input, train_target, test_size=0.2, random_state=42\n",
        ")\n",
        "\n",
        "#Checkout\n",
        "print(sub_input.shape, val_input.shape)"
      ],
      "metadata": {
        "id": "83TTKLtZUULJ",
        "colab": {
          "base_uri": "https://localhost:8080/"
        },
        "outputId": "b3612e75-926d-4335-99d2-9fc964b2dd82"
      },
      "execution_count": 5,
      "outputs": [
        {
          "output_type": "stream",
          "name": "stdout",
          "text": [
            "(4157, 3) (1040, 3)\n"
          ]
        }
      ]
    },
    {
      "cell_type": "markdown",
      "source": [
        "### 2-3. Import DecisionTreeClassifier\n",
        "- from `sklearn.tree`"
      ],
      "metadata": {
        "id": "1fKp3TqPUzA3"
      }
    },
    {
      "cell_type": "code",
      "source": [
        "from sklearn.tree import DecisionTreeClassifier"
      ],
      "metadata": {
        "id": "RzIcs7g9UuTS"
      },
      "execution_count": 6,
      "outputs": []
    },
    {
      "cell_type": "markdown",
      "source": [
        "### 2-4. Using **`DecisionTreeClassifier()`**\n",
        "- 결정트리 분류 모델을 생성\n",
        "  - sub-set와 val-set 평가"
      ],
      "metadata": {
        "id": "6UGsmSgG_tHB"
      }
    },
    {
      "cell_type": "code",
      "source": [
        "dt = DecisionTreeClassifier(random_state=42)\n",
        "dt.fit(sub_input, sub_target)\n",
        "\n",
        "#Checkout\n",
        "print(dt.score(sub_input, sub_target))\n",
        "print(dt.score(val_input, val_target))"
      ],
      "metadata": {
        "id": "Hj1gy7hvU-zo",
        "colab": {
          "base_uri": "https://localhost:8080/"
        },
        "outputId": "1f926a1e-f7f8-414f-b5d9-7fd794f55f56"
      },
      "execution_count": 7,
      "outputs": [
        {
          "output_type": "stream",
          "name": "stdout",
          "text": [
            "0.9971133028626413\n",
            "0.864423076923077\n"
          ]
        }
      ]
    },
    {
      "cell_type": "markdown",
      "source": [
        "### 3. Cross Validation(CV)\n",
        "- 안정적인 검증 수치를 얻을 수 있고, 훈련 시 더 많은 데이터를 사용할 수 있음\n",
        "- k-fold cross validation\n",
        "  - 훈련 세트를 3등분하여 교차적으로 검증을 수행한 뒤 평가 수치를 반환\n",
        "  - 반환된 평가 수치의 평균을 계산\n",
        "  - 보통 5-fold ~ 10-fold 범위의 cross validation 사용\n"
      ],
      "metadata": {
        "id": "Xg8K-svvV7CH"
      }
    },
    {
      "cell_type": "markdown",
      "source": [
        "### 3-1. Import **`cross_validate`**\n",
        "- from `sklearn.model_selection`"
      ],
      "metadata": {
        "id": "SwNHs721XXhy"
      }
    },
    {
      "cell_type": "code",
      "source": [
        "from sklearn.model_selection import cross_validate"
      ],
      "metadata": {
        "id": "fit0DVZWV6Xw"
      },
      "execution_count": 8,
      "outputs": []
    },
    {
      "cell_type": "markdown",
      "source": [
        "### 3-2. Using **`cross_validate()`**\n",
        "- return value\n",
        "  - `fit_time`: 모델을 훈련하는데 소요된 시간\n",
        "  - `score_time`: 모델을 검증하는데 소요된 시간\n",
        "  - `test_score`: 기본적으로 5-fold 교차검증을 수행하기 때문에 5개의 key를 반환"
      ],
      "metadata": {
        "id": "moK491Gy_YSJ"
      }
    },
    {
      "cell_type": "code",
      "source": [
        "scores = cross_validate(dt, train_input, train_target)\n",
        "#Checkout\n",
        "print(scores)"
      ],
      "metadata": {
        "id": "Es2yHIMUXe4n",
        "colab": {
          "base_uri": "https://localhost:8080/"
        },
        "outputId": "e7d58237-0227-4a9e-9e10-e48f1f8b896d"
      },
      "execution_count": 9,
      "outputs": [
        {
          "output_type": "stream",
          "name": "stdout",
          "text": [
            "{'fit_time': array([0.00919867, 0.00696969, 0.00739408, 0.00712585, 0.00687599]), 'score_time': array([0.00072479, 0.00063324, 0.00068188, 0.00065184, 0.00062799]), 'test_score': array([0.86923077, 0.84615385, 0.87680462, 0.84889317, 0.83541867])}\n"
          ]
        }
      ]
    },
    {
      "cell_type": "markdown",
      "source": [
        "### 3-3. Check the mean of Cross validation\n",
        "- Import `numpy`\n",
        "  - Using **`np.mean()`**"
      ],
      "metadata": {
        "id": "h1anSbjSXz0Z"
      }
    },
    {
      "cell_type": "code",
      "source": [
        "import numpy as np\n",
        "\n",
        "print(np.mean(scores['test_score']))"
      ],
      "metadata": {
        "id": "onTRbNaPXzkY",
        "colab": {
          "base_uri": "https://localhost:8080/"
        },
        "outputId": "047f4a31-c313-4d39-ea22-32c63f656efe"
      },
      "execution_count": 10,
      "outputs": [
        {
          "output_type": "stream",
          "name": "stdout",
          "text": [
            "0.855300214703487\n"
          ]
        }
      ]
    },
    {
      "cell_type": "markdown",
      "source": [
        "### 3-4. Import StratifiedKFold\n",
        "- from `sklearn.model_selection`\n",
        "- 모델에 따른 splitter 지정\n",
        "  - 회귀모델(Regression model): KFold\n",
        "  - 분류모델(Classification model): StratifiedKFold"
      ],
      "metadata": {
        "id": "GOPkJEnvY8Pz"
      }
    },
    {
      "cell_type": "code",
      "source": [
        "from sklearn.model_selection import StratifiedKFold"
      ],
      "metadata": {
        "id": "mg4-cIhbYrGn"
      },
      "execution_count": 11,
      "outputs": []
    },
    {
      "cell_type": "markdown",
      "source": [
        "### 3-4. Check the mean of Cross validation\n",
        "- Using **`StratifiedKFold()`**"
      ],
      "metadata": {
        "id": "kRAUen2MiztX"
      }
    },
    {
      "cell_type": "code",
      "source": [
        "scores = cross_validate(dt, train_input, train_target, cv=StratifiedKFold()) \n",
        "\n",
        "#Checkout\n",
        "print(np.mean(scores[\"test_score\"]))"
      ],
      "metadata": {
        "colab": {
          "base_uri": "https://localhost:8080/"
        },
        "id": "c_EZnQVqiuY9",
        "outputId": "483fbb4e-937a-425b-a949-b5b871673208"
      },
      "execution_count": 12,
      "outputs": [
        {
          "output_type": "stream",
          "name": "stdout",
          "text": [
            "0.855300214703487\n"
          ]
        }
      ]
    },
    {
      "cell_type": "markdown",
      "source": [
        "### 3-5. 10-Fold cross validation\n",
        "- **`n_splits= _number`**\n",
        "  - default: 5\n",
        "- **`shuffle= _boolean`**\n",
        "  - True: 무작위로 \n",
        "  - False\n"
      ],
      "metadata": {
        "id": "3_M_aDAzZkQY"
      }
    },
    {
      "cell_type": "code",
      "source": [
        "splitter = StratifiedKFold(n_splits=10, shuffle=True, random_state=42)\n",
        "scores = cross_validate(dt, train_input, train_target, cv=splitter)\n",
        "\n",
        "#Checkout\n",
        "print(np.mean(scores[\"test_score\"]))"
      ],
      "metadata": {
        "id": "4fENpcphZjld",
        "colab": {
          "base_uri": "https://localhost:8080/"
        },
        "outputId": "c413f14f-6fa8-4e73-d219-0a467c94e2a8"
      },
      "execution_count": 13,
      "outputs": [
        {
          "output_type": "stream",
          "name": "stdout",
          "text": [
            "0.8574181117533719\n"
          ]
        }
      ]
    },
    {
      "cell_type": "markdown",
      "source": [
        "### 4. Using Grid Search\n",
        "- from `sklearn.model_selection`\n",
        "- crete dictionary"
      ],
      "metadata": {
        "id": "uMa01n33ah06"
      }
    },
    {
      "cell_type": "code",
      "source": [
        "from sklearn.model_selection import GridSearchCV\n",
        "\n",
        "params = {\"min_impurity_decrease\": [0.0001, 0.0002, 0.0003, 0.0004, 0.0005]}\n"
      ],
      "metadata": {
        "id": "-itsiDVpZjsl"
      },
      "execution_count": 14,
      "outputs": []
    },
    {
      "cell_type": "markdown",
      "source": [
        "- **`n_jobs= _number`**\n",
        "  - 병렬 실행에 필요한 CPU 코어의 수를 지정\n",
        "  - default: 1\n",
        "  - `n_jobs= -1`: 시스템에 존재하는 모든 코어를 사용"
      ],
      "metadata": {
        "id": "QpxWg1iYb6AY"
      }
    },
    {
      "cell_type": "code",
      "source": [
        "gs = GridSearchCV(DecisionTreeClassifier(random_state=42), params, n_jobs=-1)\n",
        "gs.fit(train_input, train_target)"
      ],
      "metadata": {
        "id": "MfF4voI6bvsX",
        "colab": {
          "base_uri": "https://localhost:8080/"
        },
        "outputId": "1a3483e4-2ea5-410d-a59b-08b9286cfc78"
      },
      "execution_count": 18,
      "outputs": [
        {
          "output_type": "execute_result",
          "data": {
            "text/plain": [
              "GridSearchCV(estimator=DecisionTreeClassifier(random_state=42), n_jobs=-1,\n",
              "             param_grid={'min_impurity_decrease': [0.0001, 0.0002, 0.0003,\n",
              "                                                   0.0004, 0.0005]})"
            ]
          },
          "metadata": {},
          "execution_count": 18
        }
      ]
    },
    {
      "cell_type": "code",
      "source": [
        "dt = gs.best_estimator_\n",
        "print(dt) #훈련이 끝난 n개의 모델 중 가장 수치가 높은 모델의 변수 조합을 저장하고 있음\n",
        "print(dt.score(train_input, train_target))\n",
        "print(gs.best_params_) #가장 최적의 매개변수를 저장하고 있음\n",
        "print(gs.cv_results_[\"mean_test_score\"]) #각 매개변수로 수행한 교차검증의 평균 수치를 mean_test_score 키에 저장하고 있음"
      ],
      "metadata": {
        "id": "Iw2E1-ZKcX-c",
        "colab": {
          "base_uri": "https://localhost:8080/"
        },
        "outputId": "6d322a79-036d-4d88-ebea-5dfbf8966ac9"
      },
      "execution_count": 20,
      "outputs": [
        {
          "output_type": "stream",
          "name": "stdout",
          "text": [
            "DecisionTreeClassifier(min_impurity_decrease=0.0001, random_state=42)\n",
            "0.9615162593804117\n",
            "{'min_impurity_decrease': 0.0001}\n",
            "[0.86819297 0.86453617 0.86492226 0.86780891 0.86761605]\n"
          ]
        }
      ]
    },
    {
      "cell_type": "code",
      "source": [
        "#using argmax\n",
        "best_index = np.argmax(gs.cv_results_[\"mean_test_score\"])\n",
        "print(gs.cv_results_[\"params\"][best_index]) #교차검증 결과를 저장한 딕셔너리 객체"
      ],
      "metadata": {
        "id": "LDZkJTOPc8MZ",
        "colab": {
          "base_uri": "https://localhost:8080/"
        },
        "outputId": "1f630e72-07d8-4a34-fee2-8a303bf1a575"
      },
      "execution_count": 21,
      "outputs": [
        {
          "output_type": "stream",
          "name": "stdout",
          "text": [
            "{'min_impurity_decrease': 0.0001}\n"
          ]
        }
      ]
    },
    {
      "cell_type": "code",
      "source": [
        "params = {\n",
        "    \"min_impurity_decrease\": np.arange(0.0001, 0.001, 0.0001), #첫 인덱스 값에서부터 두 번째 인덱스 값에 도달할 때까지 0.0001씩 증가\n",
        "    \"max_depth\" : range(5, 20, 1), #첫 인덱스 값에서부터 두 번째 인덱스 값에 도달할 때까지 1씩 증가\n",
        "    \"min_samples_split\" : range(2, 100, 10), #첫 인덱스 값에서부터 두 번째 인덱스 값에 도달할 때까지 10씩 증가\n",
        "}\n",
        "\n",
        "gs = GridSearchCV(DecisionTreeClassifier(random_state=42), params, n_jobs=-1)\n",
        "#Checkout\n",
        "gs.fit(train_input, train_target)\n",
        "print(gs.best_params_)\n",
        "print(np.max(gs.cv_results_[\"mean_test_score\"])) #최상의 교차검증 점수 수치값 반환"
      ],
      "metadata": {
        "id": "EHq1aAAveyIE",
        "colab": {
          "base_uri": "https://localhost:8080/"
        },
        "outputId": "a2ee8943-bb2f-4ebc-ffca-759ca9a001b2"
      },
      "execution_count": 24,
      "outputs": [
        {
          "output_type": "stream",
          "name": "stdout",
          "text": [
            "{'max_depth': 14, 'min_impurity_decrease': 0.0004, 'min_samples_split': 12}\n",
            "0.8683865773302731\n"
          ]
        }
      ]
    },
    {
      "cell_type": "markdown",
      "source": [
        "### 5. Using Random Search\n",
        "- 매개변수의 값이 수치일 때 값의 범위나 간격을 미리 정하기 어려움\n",
        "  - 범위나 간격을 지정하는 것에 특별한 근거가 존재하지 않음\n",
        "- 많은 매개변수가 존재하거나 부여된 조건이 많을 경우 그리드 서치 탐색 시간이 오래걸림\n",
        "- Import `sklearn.model_selection`\n",
        "  - Using **`RandomizedSearchCV()`**\n",
        "- from `scipy`\n",
        "  - Using **`uniform`**\n",
        "    - 실수값 반환\n",
        "  - Using **`randit`**\n",
        "    - 정수값 반환\n",
        "  - Using **`Unique`**\n",
        "    - `retrun_counts= _boolean`\n",
        "      - True\n",
        "      - False"
      ],
      "metadata": {
        "id": "Ben-n53lg-zH"
      }
    },
    {
      "cell_type": "code",
      "source": [
        "from scipy.stats import randint, uniform\n",
        "\n",
        "rgen = randint(0, 10) #randit 범위 지정\n",
        "rgen.rvs(10) #해당 rgen 범위에 따른 10가지의 무작위 정수값 반환\n",
        "\n",
        "np.unique(rgen.rvs(1000), return_counts=True)\n",
        "\n",
        "ugen = uniform(0, 1) #uniform 범위 지정\n",
        "ugen.rvs(10) #해당 rgen 범위에 따른 10가지의 무작위 실수값 반환"
      ],
      "metadata": {
        "id": "oQQfEaFzgHzx",
        "colab": {
          "base_uri": "https://localhost:8080/"
        },
        "outputId": "598223b3-814e-4a10-e18f-bd0ed60df02b"
      },
      "execution_count": 27,
      "outputs": [
        {
          "output_type": "execute_result",
          "data": {
            "text/plain": [
              "array([0.42862245, 0.4224636 , 0.0841467 , 0.47467888, 0.69190491,\n",
              "       0.25283646, 0.44896995, 0.93859076, 0.92403452, 0.73526706])"
            ]
          },
          "metadata": {},
          "execution_count": 27
        }
      ]
    },
    {
      "cell_type": "code",
      "source": [
        "#Using randit, uniform to params\n",
        "\n",
        "params = {\n",
        "    \"min_impurity_decrese\" : uniform(0.0001, 0.001), #Using uniform\n",
        "    \"max_depth\" : randint(20, 50),\n",
        "    \"min_samples_split\" : randint(2, 25),\n",
        "    \"min_samples_leaf\" : randint(1, 25),\n",
        "\n",
        "}\n",
        "\n",
        "#Using edited params to RandomizeSearchCV\n",
        "\n",
        "from sklearn.model_selection import RandomizedSearchCV\n",
        "\n",
        "gs = RandomizedSearchCV(DecisionTreeClassifier(random_state=42), params, n_iter=100, n_jobs=-1, random_state=42)"
      ],
      "metadata": {
        "id": "FEcopFTAimnP"
      },
      "execution_count": 39,
      "outputs": []
    },
    {
      "cell_type": "code",
      "source": [
        "#최적의 모델 탐색\n",
        " print(np.max(rs.cv_results_[\"test_score\"]))\n",
        "\n",
        "dt = rs.best_estimator_\n",
        "print(dt.score(test_input, test_target))"
      ],
      "metadata": {
        "id": "jXQV62MMiuIm"
      },
      "execution_count": null,
      "outputs": []
    }
  ]
}