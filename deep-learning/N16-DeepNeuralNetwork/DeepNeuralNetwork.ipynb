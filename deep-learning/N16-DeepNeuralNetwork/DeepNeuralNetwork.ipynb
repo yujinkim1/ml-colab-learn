{
  "nbformat": 4,
  "nbformat_minor": 0,
  "metadata": {
    "colab": {
      "provenance": [],
      "collapsed_sections": []
    },
    "kernelspec": {
      "name": "python3",
      "display_name": "Python 3"
    },
    "language_info": {
      "name": "python"
    },
    "accelerator": "GPU",
    "gpuClass": "standard"
  },
  "cells": [
    {
      "cell_type": "markdown",
      "source": [
        "# Deep Neural Network(DNN)\n",
        "1. **Multi-layer perceptrons**(MLP, 다층 퍼셉트론)\n",
        "  - input layer(입력층)\n",
        "  - hidden layer(은닉층)\n",
        "    - 입력층과 출력층 사이에 존재하는 밀집층\n",
        "    - 입력층과 출력층 사이에 다수의 밀집층이 존재할 수 있음\n",
        "  - output layer(출력층)\n",
        "2. **Activation function**(활성화 함수)\n",
        "  - 신경망의 선형 연산의 계산 값에 적용하는 함수\n",
        "  - 결과를 단순히 합치는 것이 아닌 나름의 역할을 하도록 비선형성을 부여\n",
        "  - output layer(출력층)\n",
        "    - `sigmoid`, `softmax`, `linear`\n",
        "  - hidden layer(은닉층)\n",
        "    - `sigmoid`, **`ReLU`**, `tanh`\n",
        "3. **Rectified Linear Unit function**(ReLU, 렐루 함수)\n",
        "  - 입력이 양수인 경우 입력을 통과, 음수인 경우 0을 반환\n",
        "  - DNN에서 성능이 매우 좋음\n",
        "4. **Sigmoid function**(시그모이드 함수)\n",
        "  - 선형 연산 결과를 0에서 1사이의 값으로 변환\n",
        "  - $\\infty$나 $-\\infty$로 갈수록 입력 값에 대해 둔감해짐, 학습이 더뎌지는 원인\n",
        "5. **Optimizer**(옵티마이저)\n",
        "- DNN 모델의 경사 하강법을 수행하는 알고리즘\n",
        "  - SGD optimizer\n",
        "    - **`optimizers.SGD()`**\n",
        "  - Adaotive learning rate optimizer\n",
        "    - **`optimizers.Adam()`**\n",
        "    - **`optimizers.Adagrad()`**\n",
        "    - **`optimizers.RMSprop()`**\n"
      ],
      "metadata": {
        "id": "oipPMKr6zEl6"
      }
    },
    {
      "cell_type": "markdown",
      "source": [
        "### 1. Download to Fashion MNIST Data\n",
        "- Import tensorflow\n",
        "  - Using `keras`\n",
        "    - **`keras.datasets._`**\n",
        "    - **`.load_data()`**"
      ],
      "metadata": {
        "id": "w8TpOCCbef7v"
      }
    },
    {
      "cell_type": "code",
      "execution_count": null,
      "metadata": {
        "id": "sOb2_jkYzBTC"
      },
      "outputs": [],
      "source": [
        "from tensorflow import keras"
      ]
    },
    {
      "cell_type": "code",
      "source": [
        "(train_input, train_target), (test_input, test_target) =\\\n",
        "  keras.datasets.fashion_mnist.load_data()"
      ],
      "metadata": {
        "id": "oTj3tNdUeSN4",
        "colab": {
          "base_uri": "https://localhost:8080/"
        },
        "outputId": "0b9850c5-20e2-48b1-e2ca-85fcb461753f"
      },
      "execution_count": null,
      "outputs": [
        {
          "output_type": "stream",
          "name": "stdout",
          "text": [
            "Downloading data from https://storage.googleapis.com/tensorflow/tf-keras-datasets/train-labels-idx1-ubyte.gz\n",
            "29515/29515 [==============================] - 0s 0us/step\n",
            "Downloading data from https://storage.googleapis.com/tensorflow/tf-keras-datasets/train-images-idx3-ubyte.gz\n",
            "26421880/26421880 [==============================] - 2s 0us/step\n",
            "Downloading data from https://storage.googleapis.com/tensorflow/tf-keras-datasets/t10k-labels-idx1-ubyte.gz\n",
            "5148/5148 [==============================] - 0s 0us/step\n",
            "Downloading data from https://storage.googleapis.com/tensorflow/tf-keras-datasets/t10k-images-idx3-ubyte.gz\n",
            "4422102/4422102 [==============================] - 0s 0us/step\n"
          ]
        }
      ]
    },
    {
      "cell_type": "markdown",
      "source": [
        "### 2. Create Train-set and Test-set using **`train_test_split()`**\n",
        "- Import `sklearn.model_selection`\n",
        "  - Using **`train_test_split`**\n"
      ],
      "metadata": {
        "id": "eLEI1BPie-6Q"
      }
    },
    {
      "cell_type": "code",
      "source": [
        "from sklearn.model_selection import train_test_split\n",
        "\n",
        "train_scaled = train_input / 255.0\n",
        "train_scaled = train_scaled.reshape(-1, 28*28)\n",
        "train_scaled, val_scaled, train_target, val_target = train_test_split(\n",
        "    train_scaled, train_target, test_size=0.2, random_state=42\n",
        ")"
      ],
      "metadata": {
        "id": "dEiNrJXUf7qg"
      },
      "execution_count": null,
      "outputs": []
    },
    {
      "cell_type": "markdown",
      "source": [
        "### 3. Create Multi-layer Perceptron Model(DNN)\n",
        "- Using `keras.layers`\n",
        "  - **`.Dense(_neron, activation=_func, input_shape=_input)`**\n",
        "- Using `keras.Sequential()`\n"
      ],
      "metadata": {
        "id": "RD1F-zWSh0Zm"
      }
    },
    {
      "cell_type": "code",
      "source": [
        "dense = keras.layers.Dense(10, activation=\"sigmoid\", input_shape=(784,))\n",
        "dense2 = keras.layers.Dense(10, activation=\"softmax\")\n",
        "\n",
        "model = keras.Sequential([dense, dense2])"
      ],
      "metadata": {
        "id": "DorkkYvufi0v"
      },
      "execution_count": null,
      "outputs": []
    },
    {
      "cell_type": "markdown",
      "source": [
        "### 4. Using **`summary()`**\n",
        "- 인공 신경망 모델에 대한 유용한 정보를 제공\n",
        "  - Model: 모델 이름\n",
        "  - Layer: 층 이름\n",
        "  - (type): 층 타입\n",
        "  - Output Shape: 각 층의 출력 배열 형태\n",
        "    - None: 배치 차원(어떤 배치 크기에도 대응되도록 None으로 설정)\n",
        "  - Param #: 모델 파라미터 개수\n",
        "    - Trainable parameter(학습 파라미터)\n",
        "    - Non-trainable parameter(학습되지 않는 파라미터)"
      ],
      "metadata": {
        "id": "fTy2KFg4hP5z"
      }
    },
    {
      "cell_type": "code",
      "source": [
        "model.summary()"
      ],
      "metadata": {
        "id": "yWxGxQ9mhQfH",
        "colab": {
          "base_uri": "https://localhost:8080/"
        },
        "outputId": "9c461669-ae3e-430b-ac84-c819bee4de43"
      },
      "execution_count": null,
      "outputs": [
        {
          "output_type": "stream",
          "name": "stdout",
          "text": [
            "Model: \"sequential\"\n",
            "_________________________________________________________________\n",
            " Layer (type)                Output Shape              Param #   \n",
            "=================================================================\n",
            " dense (Dense)               (None, 10)                7850      \n",
            "                                                                 \n",
            " dense_1 (Dense)             (None, 10)                110       \n",
            "                                                                 \n",
            "=================================================================\n",
            "Total params: 7,960\n",
            "Trainable params: 7,960\n",
            "Non-trainable params: 0\n",
            "_________________________________________________________________\n"
          ]
        }
      ]
    },
    {
      "cell_type": "markdown",
      "source": [
        "### 5. Another way to create a Multi-layer Perceptron Model(DNN)\n",
        "1. Seuqential 객체에 리스트 형태로 Dense 객체를 전달해 모델 구현\n",
        "2. Sequential 객체 생성 후 **`add()`** 사용하여 Dense 객체를 추가해 구현"
      ],
      "metadata": {
        "id": "k4otgF24ltie"
      }
    },
    {
      "cell_type": "code",
      "source": [
        "#Solution-1\n",
        "model = keras.Sequential([\n",
        "    keras.layers.Dense(10, activation=\"sigmoid\", input_shape=(784,), name=\"hidden\"),\n",
        "    keras.layers.Dense(10, activation=\"softmax\", name=\"output\"),\n",
        "    ],  name=\"Fashion MNIST Model\")\n",
        "\n",
        "#Checkout to using summary()\n",
        "model.summary()"
      ],
      "metadata": {
        "id": "qbr1Vvo4hvMN",
        "colab": {
          "base_uri": "https://localhost:8080/"
        },
        "outputId": "848dc92d-c296-4002-b4b8-0e0332360ec4"
      },
      "execution_count": null,
      "outputs": [
        {
          "output_type": "stream",
          "name": "stdout",
          "text": [
            "Model: \"Fashion MNIST Model\"\n",
            "_________________________________________________________________\n",
            " Layer (type)                Output Shape              Param #   \n",
            "=================================================================\n",
            " hidden (Dense)              (None, 10)                7850      \n",
            "                                                                 \n",
            " output (Dense)              (None, 10)                110       \n",
            "                                                                 \n",
            "=================================================================\n",
            "Total params: 7,960\n",
            "Trainable params: 7,960\n",
            "Non-trainable params: 0\n",
            "_________________________________________________________________\n"
          ]
        }
      ]
    },
    {
      "cell_type": "code",
      "source": [
        "#Solution-2\n",
        "model = keras.Sequential()\n",
        "model.add(keras.layers.Dense(10, activation=\"sigmoid\", input_shape=(784,)))\n",
        "model.add(keras.layers.Dense(10, activation=\"softmax\"))\n",
        "\n",
        "#Checkout to using summary()\n",
        "model.summary()"
      ],
      "metadata": {
        "colab": {
          "base_uri": "https://localhost:8080/"
        },
        "id": "vq_5NeWEmRTq",
        "outputId": "2b452665-036b-44a3-8fd6-f090fded15a3"
      },
      "execution_count": null,
      "outputs": [
        {
          "output_type": "stream",
          "name": "stdout",
          "text": [
            "Model: \"sequential_2\"\n",
            "_________________________________________________________________\n",
            " Layer (type)                Output Shape              Param #   \n",
            "=================================================================\n",
            " dense_4 (Dense)             (None, 10)                7850      \n",
            "                                                                 \n",
            " dense_5 (Dense)             (None, 10)                110       \n",
            "                                                                 \n",
            "=================================================================\n",
            "Total params: 7,960\n",
            "Trainable params: 7,960\n",
            "Non-trainable params: 0\n",
            "_________________________________________________________________\n"
          ]
        }
      ]
    },
    {
      "cell_type": "markdown",
      "source": [
        "### 6. Start to fit for Multi-layer Perceptron Model\n",
        "- 다층 퍼셉트론 모델을 훈련\n",
        "- Using `compile()`\n",
        "  - `loss=`: sparse_categorical_crossentropy\n",
        "  -  `metrics`: accuracy\n",
        "- Using `fit()\n",
        "  - `epochs=`: 훈련 반복 횟수 지정"
      ],
      "metadata": {
        "id": "ttmaYm-em7Tw"
      }
    },
    {
      "cell_type": "code",
      "source": [
        "model.compile(loss=\"sparse_categorical_crossentropy\", metrics=\"accuracy\")\n",
        "model.fit(train_scaled, train_target, epochs=5)"
      ],
      "metadata": {
        "id": "PoZeX3rogVj6",
        "colab": {
          "base_uri": "https://localhost:8080/"
        },
        "outputId": "9668d6f2-b63e-4249-d302-df29affe9fa9"
      },
      "execution_count": null,
      "outputs": [
        {
          "output_type": "stream",
          "name": "stdout",
          "text": [
            "Epoch 1/5\n",
            "1500/1500 [==============================] - 6s 2ms/step - loss: 1.0593 - accuracy: 0.7109\n",
            "Epoch 2/5\n",
            "1500/1500 [==============================] - 3s 2ms/step - loss: 0.5878 - accuracy: 0.8107\n",
            "Epoch 3/5\n",
            "1500/1500 [==============================] - 3s 2ms/step - loss: 0.5012 - accuracy: 0.8326\n",
            "Epoch 4/5\n",
            "1500/1500 [==============================] - 3s 2ms/step - loss: 0.4642 - accuracy: 0.8429\n",
            "Epoch 5/5\n",
            "1500/1500 [==============================] - 3s 2ms/step - loss: 0.4430 - accuracy: 0.8485\n"
          ]
        },
        {
          "output_type": "execute_result",
          "data": {
            "text/plain": [
              "<keras.callbacks.History at 0x7f972d1f7950>"
            ]
          },
          "metadata": {},
          "execution_count": 15
        }
      ]
    },
    {
      "cell_type": "markdown",
      "source": [
        "### 7. Flatten Class\n",
        "- `tensorflow.keras.layers` 모듈 제공\n",
        "- 입력 데이터의 배치 차원을 제외한 데이터영역에 해당하는 차원을 모두 일려로 배치하는 층\n",
        "- 입력 데이터의 차원을 짐작하고 입력 데이터에 대한 전처리 과정을 모델에 포함"
      ],
      "metadata": {
        "id": "QBlfCw_FoTW9"
      }
    },
    {
      "cell_type": "code",
      "source": [
        "#Using .Flatten()\n",
        "model = keras.Sequential()\n",
        "\n",
        "model.add(keras.layers.Flatten(input_shape=(28, 28)))\n",
        "model.add(keras.layers.Dense(100, activation=\"relu\"))\n",
        "model.add(keras.layers.Dense(10, activation=\"softmax\")) #passed input_shape, automating\n",
        "\n",
        "#Checkout to using summary()\n",
        "model.summary()"
      ],
      "metadata": {
        "id": "hcUyituli-MJ",
        "colab": {
          "base_uri": "https://localhost:8080/"
        },
        "outputId": "ba35c305-2404-4b95-bd56-5060e4b9c6de"
      },
      "execution_count": null,
      "outputs": [
        {
          "output_type": "stream",
          "name": "stdout",
          "text": [
            "Model: \"sequential_4\"\n",
            "_________________________________________________________________\n",
            " Layer (type)                Output Shape              Param #   \n",
            "=================================================================\n",
            " flatten_1 (Flatten)         (None, 784)               0         \n",
            "                                                                 \n",
            " dense_8 (Dense)             (None, 100)               78500     \n",
            "                                                                 \n",
            " dense_9 (Dense)             (None, 10)                1010      \n",
            "                                                                 \n",
            "=================================================================\n",
            "Total params: 79,510\n",
            "Trainable params: 79,510\n",
            "Non-trainable params: 0\n",
            "_________________________________________________________________\n"
          ]
        }
      ]
    },
    {
      "cell_type": "markdown",
      "source": [
        "### 8. Creating and training a new Multi-layer Perceptron Model"
      ],
      "metadata": {
        "id": "PDKBjx4ophmh"
      }
    },
    {
      "cell_type": "code",
      "source": [
        "#load data\n",
        "(train_input, train_target), (test_input, test_target) =\\\n",
        "  keras.datasets.fashion_mnist.load_data()\n",
        "\n",
        "#train_test_split\n",
        "train_scaled = train_input / 255.0\n",
        "train_scaled, val_scaled, train_target, val_target = train_test_split(\n",
        "    train_scaled, train_target, test_size=0.2, random_state=42\n",
        ")\n",
        "\n",
        "#create Model\n",
        "model = keras.Sequential()\n",
        "model.add(keras.layers.Flatten(input_shape=(28, 28)))\n",
        "model.add(keras.layers.Dense(100, activation=\"relu\"))\n",
        "model.add(keras.layers.Dense(10, activation=\"softmax\"))\n",
        "\n",
        "#start to fit\n",
        "model.compile(loss=\"sparse_categorical_crossentropy\", metrics=\"accuracy\")\n",
        "model.fit(train_scaled, train_target, epochs=5)"
      ],
      "metadata": {
        "colab": {
          "base_uri": "https://localhost:8080/"
        },
        "id": "MOqdMXD8pmzS",
        "outputId": "a1105133-eb98-4c63-d844-34eb9328f16c"
      },
      "execution_count": null,
      "outputs": [
        {
          "output_type": "stream",
          "name": "stdout",
          "text": [
            "Epoch 1/5\n",
            "1500/1500 [==============================] - 4s 2ms/step - loss: 0.5313 - accuracy: 0.8126\n",
            "Epoch 2/5\n",
            "1500/1500 [==============================] - 4s 2ms/step - loss: 0.3956 - accuracy: 0.8580\n",
            "Epoch 3/5\n",
            "1500/1500 [==============================] - 3s 2ms/step - loss: 0.3560 - accuracy: 0.8722\n",
            "Epoch 4/5\n",
            "1500/1500 [==============================] - 4s 2ms/step - loss: 0.3334 - accuracy: 0.8811\n",
            "Epoch 5/5\n",
            "1500/1500 [==============================] - 3s 2ms/step - loss: 0.3192 - accuracy: 0.8850\n"
          ]
        },
        {
          "output_type": "execute_result",
          "data": {
            "text/plain": [
              "<keras.callbacks.History at 0x7f9707256350>"
            ]
          },
          "metadata": {},
          "execution_count": 22
        }
      ]
    },
    {
      "cell_type": "markdown",
      "source": [
        "### 9. Check the accuracy of the model\n",
        "- Using **`.evaluate()`**"
      ],
      "metadata": {
        "id": "cPawuutZq2SH"
      }
    },
    {
      "cell_type": "code",
      "source": [
        "model.evaluate(val_scaled, val_target)"
      ],
      "metadata": {
        "colab": {
          "base_uri": "https://localhost:8080/"
        },
        "id": "Binj3dV2rPwi",
        "outputId": "6a75e3dd-7317-438d-e711-5b9df1e773c2"
      },
      "execution_count": null,
      "outputs": [
        {
          "output_type": "stream",
          "name": "stdout",
          "text": [
            "375/375 [==============================] - 1s 2ms/step - loss: 0.3490 - accuracy: 0.8756\n"
          ]
        },
        {
          "output_type": "execute_result",
          "data": {
            "text/plain": [
              "[0.3489864766597748, 0.8755833506584167]"
            ]
          },
          "metadata": {},
          "execution_count": 23
        }
      ]
    },
    {
      "cell_type": "markdown",
      "source": [
        "### 10. Using Optimizer\n",
        "- `optimizers.SGD()`\n",
        "  - `learning_rate=DOUBLE`: 학습률 지정\n",
        "  - `momentum=DOUBLE`: 0보다 큰 값을 설정하면 가속도처럼 사용하는 모멘텀 최적화로 동작\n",
        "  - `nesterov=False`: True인 경우 모멘텀 최적화를 2번 반복\n",
        "- `optimizers.Adam()`\n",
        "- `optimizers.Adagrad()`\n",
        "- `optimizers.RMSprop()`"
      ],
      "metadata": {
        "id": "9o_noqKorn1Z"
      }
    },
    {
      "cell_type": "code",
      "source": [
        "#tensorflow.keras.optimizers.SGD()\n",
        "model.compile(\n",
        "    optimizer=\"sgd\",\n",
        "    loss=\"sparse_categorical_crossentropy\", \n",
        "    metrics=\"accuracy\"\n",
        "    )\n",
        "\n",
        "model.fit(train_scaled, train_target, epochs=5)\n",
        "\n",
        "model.evaluate(val_scaled, val_target)\n",
        "\n",
        "#Another way\n",
        "sgd = keras.optimizers.SGD()\n",
        "model.compile(\n",
        "    optimizer=sgd,\n",
        "    loss=\"sparse_categorical_crossentropy\", \n",
        "    metrics=\"accuracy\"\n",
        "    )\n",
        "\n",
        "model.fit(train_scaled, train_target, epochs=5)\n",
        "\n",
        "model.evaluate(val_scaled, val_target)"
      ],
      "metadata": {
        "colab": {
          "base_uri": "https://localhost:8080/"
        },
        "id": "_flZdCuRswoU",
        "outputId": "9319f343-8872-4c06-be37-202cc01287ac"
      },
      "execution_count": null,
      "outputs": [
        {
          "output_type": "stream",
          "name": "stdout",
          "text": [
            "Epoch 1/5\n",
            "1500/1500 [==============================] - 4s 2ms/step - loss: 0.2064 - accuracy: 0.9244\n",
            "Epoch 2/5\n",
            "1500/1500 [==============================] - 3s 2ms/step - loss: 0.1981 - accuracy: 0.9276\n",
            "Epoch 3/5\n",
            "1500/1500 [==============================] - 3s 2ms/step - loss: 0.1953 - accuracy: 0.9271\n",
            "Epoch 4/5\n",
            "1500/1500 [==============================] - 3s 2ms/step - loss: 0.1936 - accuracy: 0.9281\n",
            "Epoch 5/5\n",
            "1500/1500 [==============================] - 4s 3ms/step - loss: 0.1917 - accuracy: 0.9298\n",
            "375/375 [==============================] - 1s 2ms/step - loss: 0.3063 - accuracy: 0.8962\n"
          ]
        },
        {
          "output_type": "execute_result",
          "data": {
            "text/plain": [
              "[0.3063204884529114, 0.8961666822433472]"
            ]
          },
          "metadata": {},
          "execution_count": 25
        }
      ]
    },
    {
      "cell_type": "code",
      "source": [
        "#tensorflow.keras.optimizers.Adam()\n",
        "model.compile(\n",
        "    optimizer=\"adam\",\n",
        "    loss=\"sparse_categorical_crossentropy\", \n",
        "    metrics=\"accuracy\"\n",
        "    )\n",
        "\n",
        "model.fit(train_scaled, train_target, epochs=5)\n",
        "\n",
        "model.evaluate(val_scaled, val_target)"
      ],
      "metadata": {
        "id": "81bwUdRAkn2J",
        "colab": {
          "base_uri": "https://localhost:8080/"
        },
        "outputId": "e089be69-bcf8-4a81-c4d6-366b9557bcba"
      },
      "execution_count": null,
      "outputs": [
        {
          "output_type": "stream",
          "name": "stdout",
          "text": [
            "Epoch 1/5\n",
            "1500/1500 [==============================] - 4s 2ms/step - loss: 0.3014 - accuracy: 0.8917\n",
            "Epoch 2/5\n",
            "1500/1500 [==============================] - 3s 2ms/step - loss: 0.2827 - accuracy: 0.8956\n",
            "Epoch 3/5\n",
            "1500/1500 [==============================] - 3s 2ms/step - loss: 0.2679 - accuracy: 0.9003\n",
            "Epoch 4/5\n",
            "1500/1500 [==============================] - 3s 2ms/step - loss: 0.2568 - accuracy: 0.9050\n",
            "Epoch 5/5\n",
            "1500/1500 [==============================] - 3s 2ms/step - loss: 0.2464 - accuracy: 0.9092\n",
            "375/375 [==============================] - 1s 2ms/step - loss: 0.3361 - accuracy: 0.8812\n"
          ]
        },
        {
          "output_type": "execute_result",
          "data": {
            "text/plain": [
              "[0.3360810875892639, 0.8811666369438171]"
            ]
          },
          "metadata": {},
          "execution_count": 24
        }
      ]
    },
    {
      "cell_type": "code",
      "source": [
        "#tensorflow.keras.optimizers.Adagrad()\n",
        "model.compile(\n",
        "    optimizer=\"adagrad\", \n",
        "    loss=\"sparse_categorical_crossentropy\", \n",
        "    metrics=\"accuracy\"\n",
        "    )\n",
        "\n",
        "model.fit(train_scaled, train_target, epochs=5)\n",
        "\n",
        "model.evaluate(val_scaled, val_target)\n"
      ],
      "metadata": {
        "id": "MiWCoLBaltUJ",
        "colab": {
          "base_uri": "https://localhost:8080/"
        },
        "outputId": "cb48e915-44b9-4f6f-943f-349c2a879af9"
      },
      "execution_count": null,
      "outputs": [
        {
          "output_type": "stream",
          "name": "stdout",
          "text": [
            "Epoch 1/5\n",
            "1500/1500 [==============================] - 4s 2ms/step - loss: 0.1885 - accuracy: 0.9306\n",
            "Epoch 2/5\n",
            "1500/1500 [==============================] - 4s 3ms/step - loss: 0.1877 - accuracy: 0.9309\n",
            "Epoch 3/5\n",
            "1500/1500 [==============================] - 3s 2ms/step - loss: 0.1873 - accuracy: 0.9309\n",
            "Epoch 4/5\n",
            "1500/1500 [==============================] - 3s 2ms/step - loss: 0.1870 - accuracy: 0.9310\n",
            "Epoch 5/5\n",
            "1500/1500 [==============================] - 3s 2ms/step - loss: 0.1867 - accuracy: 0.9315\n",
            "375/375 [==============================] - 1s 2ms/step - loss: 0.3044 - accuracy: 0.8956\n"
          ]
        },
        {
          "output_type": "execute_result",
          "data": {
            "text/plain": [
              "[0.30438318848609924, 0.8955833315849304]"
            ]
          },
          "metadata": {},
          "execution_count": 26
        }
      ]
    },
    {
      "cell_type": "code",
      "source": [
        "#tensorflow.keras.optimizers.RMSprop()\n",
        "model.compile(\n",
        "    optimizer=\"rmsprop\",\n",
        "    loss=\"sparse_categorical_crossentropy\",\n",
        "    metrics=\"accuracy\"\n",
        "    )\n",
        "model.fit(train_scaled, train_target, epochs=5)\n",
        "\n",
        "model.evaluate(val_scaled, val_target)"
      ],
      "metadata": {
        "id": "UGnudsv5mDrD",
        "colab": {
          "base_uri": "https://localhost:8080/"
        },
        "outputId": "0fc907d1-9c61-40bc-c54e-4b62e9a8e87e"
      },
      "execution_count": null,
      "outputs": [
        {
          "output_type": "stream",
          "name": "stdout",
          "text": [
            "Epoch 1/5\n",
            "1500/1500 [==============================] - 4s 3ms/step - loss: 0.2382 - accuracy: 0.9121\n",
            "Epoch 2/5\n",
            "1500/1500 [==============================] - 4s 2ms/step - loss: 0.2332 - accuracy: 0.9153\n",
            "Epoch 3/5\n",
            "1500/1500 [==============================] - 4s 2ms/step - loss: 0.2333 - accuracy: 0.9153\n",
            "Epoch 4/5\n",
            "1500/1500 [==============================] - 4s 2ms/step - loss: 0.2318 - accuracy: 0.9162\n",
            "Epoch 5/5\n",
            "1500/1500 [==============================] - 4s 2ms/step - loss: 0.2269 - accuracy: 0.9185\n",
            "375/375 [==============================] - 1s 2ms/step - loss: 0.3897 - accuracy: 0.8877\n"
          ]
        },
        {
          "output_type": "execute_result",
          "data": {
            "text/plain": [
              "[0.38969412446022034, 0.887666642665863]"
            ]
          },
          "metadata": {},
          "execution_count": 27
        }
      ]
    }
  ]
}