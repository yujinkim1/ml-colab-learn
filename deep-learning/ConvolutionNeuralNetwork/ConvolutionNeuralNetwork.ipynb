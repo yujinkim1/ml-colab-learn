{
  "nbformat": 4,
  "nbformat_minor": 0,
  "metadata": {
    "colab": {
      "provenance": []
    },
    "kernelspec": {
      "name": "python3",
      "display_name": "Python 3"
    },
    "language_info": {
      "name": "python"
    },
    "accelerator": "GPU",
    "gpuClass": "standard"
  },
  "cells": [
    {
      "cell_type": "markdown",
      "source": [
        "# Convolution Neural Network(CNN)\n",
        "- 합성곱층과 풀링층으로 구성\n",
        "- 합성곱(Convolution): "
      ],
      "metadata": {
        "id": "z2tSkrOfcTVu"
      }
    },
    {
      "cell_type": "markdown",
      "source": [
        "### 1. Download to Fashion MNIST data\n",
        "- Import `tensorflow`\n",
        "  - Using `keras`\n",
        "    - **`keras.datasets._`**\n",
        "    - **`.load_data()`**"
      ],
      "metadata": {
        "id": "2TREPVoKjXZn"
      }
    },
    {
      "cell_type": "code",
      "execution_count": 1,
      "metadata": {
        "id": "IrR9Nu71cJHw",
        "colab": {
          "base_uri": "https://localhost:8080/"
        },
        "outputId": "4c18f8a8-a8a3-40b7-ad5f-29b7da004e3a"
      },
      "outputs": [
        {
          "output_type": "stream",
          "name": "stdout",
          "text": [
            "Downloading data from https://storage.googleapis.com/tensorflow/tf-keras-datasets/train-labels-idx1-ubyte.gz\n",
            "29515/29515 [==============================] - 0s 0us/step\n",
            "Downloading data from https://storage.googleapis.com/tensorflow/tf-keras-datasets/train-images-idx3-ubyte.gz\n",
            "26421880/26421880 [==============================] - 1s 0us/step\n",
            "Downloading data from https://storage.googleapis.com/tensorflow/tf-keras-datasets/t10k-labels-idx1-ubyte.gz\n",
            "5148/5148 [==============================] - 0s 0us/step\n",
            "Downloading data from https://storage.googleapis.com/tensorflow/tf-keras-datasets/t10k-images-idx3-ubyte.gz\n",
            "4422102/4422102 [==============================] - 0s 0us/step\n"
          ]
        }
      ],
      "source": [
        "from tensorflow import keras\n",
        "(train_input, train_target), (test_input, test_target) =\\\n",
        "  keras.datasets.fashion_mnist.load_data()"
      ]
    },
    {
      "cell_type": "markdown",
      "source": [
        "### 2. Create Train-set and Test-set using **`train_test_split()`**\n",
        "- Import `sklearn.model_selection`\n",
        "  - Using `train_test_split()`"
      ],
      "metadata": {
        "id": "QLjbWTPsHGrl"
      }
    },
    {
      "cell_type": "code",
      "source": [
        "from sklearn.model_selection import train_test_split\n",
        "train_scaled = train_input.reshape(-1, 28, 28, 1) / 255.0\n",
        "train_scaled, val_scaled, train_target, val_target = train_test_split(\n",
        "    train_scaled, train_target, test_size=0.2, random_state=42\n",
        ")\n",
        "\n",
        "#checkout\n",
        "print(train_scaled.shape)\n",
        "print(val_scaled.shape)"
      ],
      "metadata": {
        "colab": {
          "base_uri": "https://localhost:8080/"
        },
        "id": "74QDe7R43vJh",
        "outputId": "669343d0-25c3-4a40-eb0f-af290ddc9c92"
      },
      "execution_count": 2,
      "outputs": [
        {
          "output_type": "stream",
          "name": "stdout",
          "text": [
            "(48000, 28, 28, 1)\n",
            "(12000, 28, 28, 1)\n"
          ]
        }
      ]
    },
    {
      "cell_type": "markdown",
      "source": [
        "### 3. Create a CNN Model\n",
        "- Using `keras.Seuquential()`\n",
        "- Using **`.Conv2D()`**\n",
        "  - `filters`: 합성곱 필터 개수 지정\n",
        "  - `kernel_size`: 필터의 커널크기 지정\n",
        "  - `padding`: 입력의 패딩 타입을 지정\n",
        "    - `vaild`(default): 패딩을 하지 않음\n",
        "    - `same`: 합성곱 층의 출력 크기를 입력 크기와 동일하게 패딩을 추가\n",
        "- **`.MaxPooling2D()`**\n",
        "  - 입력의 너비와 높이를 줄이는 풀링 연산 구현 클래스\n",
        "  - `pool_size=(2, 2)`: 풀링의 크기를 지정\n",
        "    - 가로세로 크기가 동일하다면 정수로 입력\n",
        "    - 튜플을 사용해 개별적으로 크기 지정 가능\n",
        "  - `strides=None`: 풀링의 이동 간격 지정\n",
        "    - 기본값은 풀링의 크기와 동일함"
      ],
      "metadata": {
        "id": "YTqukr9f5-sU"
      }
    },
    {
      "cell_type": "code",
      "source": [
        "model = keras.Sequential([\n",
        "  keras.layers.Conv2D(32, kernel_size=3, activation=\"relu\", padding=\"same\", input_shape=(28, 28, 1))  \n",
        "])"
      ],
      "metadata": {
        "id": "mCFELyca5wUX"
      },
      "execution_count": 3,
      "outputs": []
    },
    {
      "cell_type": "code",
      "source": [
        "model.add(keras.layers.MaxPooling2D(2))"
      ],
      "metadata": {
        "id": "GyE0KC9Q7D7w"
      },
      "execution_count": 4,
      "outputs": []
    },
    {
      "cell_type": "markdown",
      "source": [
        "### 4. Create and add a second convolutional neural network\n",
        "- Using `.Flatten()`\n",
        "- Using `.Dense()`\n",
        "- Using `.Dropout()`"
      ],
      "metadata": {
        "id": "P3whN4S276nR"
      }
    },
    {
      "cell_type": "code",
      "source": [
        "model.add(keras.layers.Conv2D(64, kernel_size=3, activation=\"relu\", padding=\"same\"))\n",
        "model.add(keras.layers.MaxPooling2D(2))"
      ],
      "metadata": {
        "id": "xR6yNL7Y7uL8"
      },
      "execution_count": 5,
      "outputs": []
    },
    {
      "cell_type": "code",
      "source": [
        "model.add(keras.layers.Flatten())\n",
        "model.add(keras.layers.Dense(100, activation=\"relu\"))\n",
        "model.add(keras.layers.Dropout(0.4))\n",
        "model.add(keras.layers.Dense(10, activation=\"softmax\"))"
      ],
      "metadata": {
        "id": "KSg0ZnvS8d0P"
      },
      "execution_count": 6,
      "outputs": []
    },
    {
      "cell_type": "code",
      "source": [
        "model.summary()"
      ],
      "metadata": {
        "colab": {
          "base_uri": "https://localhost:8080/"
        },
        "id": "Xhs0hnCg76Yq",
        "outputId": "b029e65a-03a7-4695-97c0-84c8c2ffda06"
      },
      "execution_count": 7,
      "outputs": [
        {
          "output_type": "stream",
          "name": "stdout",
          "text": [
            "Model: \"sequential\"\n",
            "_________________________________________________________________\n",
            " Layer (type)                Output Shape              Param #   \n",
            "=================================================================\n",
            " conv2d (Conv2D)             (None, 28, 28, 32)        320       \n",
            "                                                                 \n",
            " max_pooling2d (MaxPooling2D  (None, 14, 14, 32)       0         \n",
            " )                                                               \n",
            "                                                                 \n",
            " conv2d_1 (Conv2D)           (None, 14, 14, 64)        18496     \n",
            "                                                                 \n",
            " max_pooling2d_1 (MaxPooling  (None, 7, 7, 64)         0         \n",
            " 2D)                                                             \n",
            "                                                                 \n",
            " flatten (Flatten)           (None, 3136)              0         \n",
            "                                                                 \n",
            " dense (Dense)               (None, 100)               313700    \n",
            "                                                                 \n",
            " dropout (Dropout)           (None, 100)               0         \n",
            "                                                                 \n",
            " dense_1 (Dense)             (None, 10)                1010      \n",
            "                                                                 \n",
            "=================================================================\n",
            "Total params: 333,526\n",
            "Trainable params: 333,526\n",
            "Non-trainable params: 0\n",
            "_________________________________________________________________\n"
          ]
        }
      ]
    },
    {
      "cell_type": "markdown",
      "source": [
        "### 5. Schematic illustration of CNN model structure \n",
        "- `keras`\n",
        "  - `.utils.plot_model()`\n",
        "- `.plot_model()` params\n",
        "  - `dpi=96`(default): 해상도 지정\n",
        "  - `show_shapes=False`(default): 입력과 출력의 크기 표시\n",
        "  - `show_layer_names=True`(default): 층 이름을 출력\n",
        "  - `to_file=FILENAME.png`: 그림 파일로 저장 가능   "
      ],
      "metadata": {
        "id": "jyBCp76j9S98"
      }
    },
    {
      "cell_type": "code",
      "source": [
        "keras.utils.plot_model(model, dpi=66, show_shapes=True)"
      ],
      "metadata": {
        "colab": {
          "base_uri": "https://localhost:8080/",
          "height": 676
        },
        "id": "CTEiwK159Lf8",
        "outputId": "32ce992c-f72d-4a88-af02-0b9efccd6ffa"
      },
      "execution_count": 8,
      "outputs": [
        {
          "output_type": "execute_result",
          "data": {
            "image/png": "[encoded data removed]",
            "text/plain": [
              "<IPython.core.display.Image object>"
            ]
          },
          "metadata": {},
          "execution_count": 8
        }
      ]
    },
    {
      "cell_type": "markdown",
      "source": [
        "### 6. Training and Compile\n",
        "- Using optimizers\n",
        "  - `optimizer=adam`\n",
        "- Using `callbacks.ModelCheckPoint()`\n",
        "- Using `callbacks.EarlyStopping()`"
      ],
      "metadata": {
        "id": "l_FGCHMM_ZeV"
      }
    },
    {
      "cell_type": "code",
      "source": [
        "model.compile(optimizer=\"adam\", loss=\"sparse_categorical_crossentropy\", metrics=\"accuracy\")\n",
        "\n",
        "#check point\n",
        "checkPoint = keras.callbacks.ModelCheckpoint(\"best-cnn-model.h5\", save_best_only=True)\n",
        "\n",
        "#stopping\n",
        "earlyStopped = keras.callbacks.EarlyStopping(patience=2, restore_best_weights=True)\n",
        "\n",
        "history = model.fit(\n",
        "    train_scaled, train_target, epochs=20,\n",
        "    validation_data=(val_scaled, val_target),\n",
        "    callbacks=[checkPoint, earlyStopped]\n",
        "  )"
      ],
      "metadata": {
        "colab": {
          "base_uri": "https://localhost:8080/"
        },
        "id": "OaEPJ4ck9iMV",
        "outputId": "7f3511bd-b29a-41c4-a994-3e07f2b4a5f7"
      },
      "execution_count": 9,
      "outputs": [
        {
          "output_type": "stream",
          "name": "stdout",
          "text": [
            "Epoch 1/20\n",
            "1500/1500 [==============================] - 14s 4ms/step - loss: 0.5351 - accuracy: 0.8101 - val_loss: 0.3421 - val_accuracy: 0.8756\n",
            "Epoch 2/20\n",
            "1500/1500 [==============================] - 6s 4ms/step - loss: 0.3510 - accuracy: 0.8748 - val_loss: 0.2736 - val_accuracy: 0.9001\n",
            "Epoch 3/20\n",
            "1500/1500 [==============================] - 7s 4ms/step - loss: 0.3002 - accuracy: 0.8906 - val_loss: 0.2598 - val_accuracy: 0.9058\n",
            "Epoch 4/20\n",
            "1500/1500 [==============================] - 6s 4ms/step - loss: 0.2678 - accuracy: 0.9023 - val_loss: 0.2465 - val_accuracy: 0.9105\n",
            "Epoch 5/20\n",
            "1500/1500 [==============================] - 6s 4ms/step - loss: 0.2414 - accuracy: 0.9125 - val_loss: 0.2396 - val_accuracy: 0.9092\n",
            "Epoch 6/20\n",
            "1500/1500 [==============================] - 6s 4ms/step - loss: 0.2232 - accuracy: 0.9179 - val_loss: 0.2266 - val_accuracy: 0.9172\n",
            "Epoch 7/20\n",
            "1500/1500 [==============================] - 6s 4ms/step - loss: 0.2057 - accuracy: 0.9242 - val_loss: 0.2330 - val_accuracy: 0.9177\n",
            "Epoch 8/20\n",
            "1500/1500 [==============================] - 6s 4ms/step - loss: 0.1916 - accuracy: 0.9283 - val_loss: 0.2191 - val_accuracy: 0.9201\n",
            "Epoch 9/20\n",
            "1500/1500 [==============================] - 6s 4ms/step - loss: 0.1789 - accuracy: 0.9340 - val_loss: 0.2283 - val_accuracy: 0.9193\n",
            "Epoch 10/20\n",
            "1500/1500 [==============================] - 6s 4ms/step - loss: 0.1656 - accuracy: 0.9373 - val_loss: 0.2165 - val_accuracy: 0.9237\n",
            "Epoch 11/20\n",
            "1500/1500 [==============================] - 6s 4ms/step - loss: 0.1535 - accuracy: 0.9412 - val_loss: 0.2262 - val_accuracy: 0.9215\n",
            "Epoch 12/20\n",
            "1500/1500 [==============================] - 6s 4ms/step - loss: 0.1455 - accuracy: 0.9435 - val_loss: 0.2267 - val_accuracy: 0.9237\n"
          ]
        }
      ]
    },
    {
      "cell_type": "markdown",
      "source": [
        "### 7. Visualize loss graph\n",
        "- Import `matplotlib.pyplot`\n",
        "  - Using `.plot`\n",
        "  - Using `.legend()`"
      ],
      "metadata": {
        "id": "JgCe9eB0ByrN"
      }
    },
    {
      "cell_type": "code",
      "source": [
        "import matplotlib.pyplot as plt\n",
        "plt.plot(history.history[\"loss\"])\n",
        "plt.plot(history.history[\"val_loss\"])\n",
        "plt.title(\"loss graph\")\n",
        "plt.xlabel(\"epochs\")\n",
        "plt.ylabel(\"loss\")\n",
        "plt.legend([\"train\", \"val\"])\n",
        "plt.show()"
      ],
      "metadata": {
        "colab": {
          "base_uri": "https://localhost:8080/",
          "height": 295
        },
        "id": "zZVi1ZW7_Ygi",
        "outputId": "d3e90a28-067c-44f8-9543-8ac6dce29d9d"
      },
      "execution_count": 10,
      "outputs": [
        {
          "output_type": "display_data",
          "data": {
            "text/plain": [
              "<Figure size 432x288 with 1 Axes>"
            ],
            "image/png": "[encoded data removed]"
          },
          "metadata": {
            "needs_background": "light"
          }
        }
      ]
    },
    {
      "cell_type": "markdown",
      "source": [
        "### 8. Validation-Set Evaluation\n",
        "- Using `.evaluate()`"
      ],
      "metadata": {
        "id": "bYfFKLjMBx3l"
      }
    },
    {
      "cell_type": "code",
      "source": [
        "model.evaluate(val_scaled, val_target)"
      ],
      "metadata": {
        "colab": {
          "base_uri": "https://localhost:8080/"
        },
        "id": "A8R9WDe9BumL",
        "outputId": "d59c9a45-b5d3-4356-b9e8-f004c3ebca6c"
      },
      "execution_count": 11,
      "outputs": [
        {
          "output_type": "stream",
          "name": "stdout",
          "text": [
            "375/375 [==============================] - 1s 3ms/step - loss: 0.2165 - accuracy: 0.9237\n"
          ]
        },
        {
          "output_type": "execute_result",
          "data": {
            "text/plain": [
              "[0.2165067344903946, 0.9236666560173035]"
            ]
          },
          "metadata": {},
          "execution_count": 11
        }
      ]
    },
    {
      "cell_type": "markdown",
      "source": [
        "### 9. Predict for new data\n",
        "- Using `.imshow()`\n",
        "- Using `.predict()`\n",
        "- Using index slicing\n"
      ],
      "metadata": {
        "id": "yq1uyH8XCUZV"
      }
    },
    {
      "cell_type": "code",
      "source": [
        "plt.imshow(val_scaled[0].reshape(28, 28), cmap=\"gray_r\")"
      ],
      "metadata": {
        "colab": {
          "base_uri": "https://localhost:8080/",
          "height": 283
        },
        "id": "C9kw8eZNB17W",
        "outputId": "18995a12-3360-4426-97e3-297db257e760"
      },
      "execution_count": 12,
      "outputs": [
        {
          "output_type": "execute_result",
          "data": {
            "text/plain": [
              "<matplotlib.image.AxesImage at 0x7f22a3290290>"
            ]
          },
          "metadata": {},
          "execution_count": 12
        },
        {
          "output_type": "display_data",
          "data": {
            "text/plain": [
              "<Figure size 432x288 with 1 Axes>"
            ],
            "image/png": "[encoded data removed]"
          },
          "metadata": {
            "needs_background": "light"
          }
        }
      ]
    },
    {
      "cell_type": "code",
      "source": [
        "predicts = model.predict(val_scaled[0:1])\n",
        "print(predicts)"
      ],
      "metadata": {
        "colab": {
          "base_uri": "https://localhost:8080/"
        },
        "id": "Zob2is3ACvqQ",
        "outputId": "f974b254-18dd-4273-cb38-f9ca43640df2"
      },
      "execution_count": 13,
      "outputs": [
        {
          "output_type": "stream",
          "name": "stdout",
          "text": [
            "1/1 [==============================] - 0s 126ms/step\n",
            "[[7.3018108e-20 8.5167161e-26 2.3890040e-22 4.3279085e-22 5.4149343e-20\n",
            "  8.0860453e-18 5.7164583e-18 4.2318755e-24 1.0000000e+00 3.6865155e-19]]\n"
          ]
        }
      ]
    },
    {
      "cell_type": "markdown",
      "source": [
        "> keras `fit(), predict(), evaluate()` 메소드는 입력의 첫 번째 차원이 배치 차원일 것을 기대하기 때문에 (28, 28, 1)차원이 아닌 (1, 28, 28, 1)차원으로 전달"
      ],
      "metadata": {
        "id": "ty-MZ9soC1vS"
      }
    },
    {
      "cell_type": "markdown",
      "source": [
        "### 10. Visualize predict graph\n",
        "- Using `.bar()`"
      ],
      "metadata": {
        "id": "CpVAe9bs_wA1"
      }
    },
    {
      "cell_type": "code",
      "source": [
        "#predict graph\n",
        "plt.bar(range(1, 11), predicts[0])\n",
        "plt.xlabel(\"class\")\n",
        "plt.ylabel(\"prob\")\n",
        "plt.show()"
      ],
      "metadata": {
        "colab": {
          "base_uri": "https://localhost:8080/",
          "height": 279
        },
        "id": "85jUREl8DKbo",
        "outputId": "6be23d52-45d7-4cdc-a808-1e9118654127"
      },
      "execution_count": 14,
      "outputs": [
        {
          "output_type": "display_data",
          "data": {
            "text/plain": [
              "<Figure size 432x288 with 1 Axes>"
            ],
            "image/png": "[encoded data removed]"
          },
          "metadata": {
            "needs_background": "light"
          }
        }
      ]
    },
    {
      "cell_type": "markdown",
      "source": [
        "### 11. Customize answers to data\n",
        "- 정답 레이어에 해당하는 배열을 정의해 데이터에 대한 정답을 사용자화 "
      ],
      "metadata": {
        "id": "eJVvY4y8AFj5"
      }
    },
    {
      "cell_type": "code",
      "source": [
        "classes = [\n",
        "    \"티셔츠\", \"바지\", \"스웨터\", \"드레스\", \"코트\", \"샌달\", \"셔츠\", \"스니커즈\", \"가방\", \"앵클 부츠\"\n",
        "  ]\n",
        "\n",
        "import numpy as np\n",
        "print(classes[np.argmax(predicts)])"
      ],
      "metadata": {
        "colab": {
          "base_uri": "https://localhost:8080/"
        },
        "id": "L35NaKUfDqnc",
        "outputId": "b0868649-c10d-461d-b33c-ab991c38b862"
      },
      "execution_count": 15,
      "outputs": [
        {
          "output_type": "stream",
          "name": "stdout",
          "text": [
            "가방\n"
          ]
        }
      ]
    },
    {
      "cell_type": "markdown",
      "source": [
        "### 12. Compare validation set evaluation and training set evaluation\n",
        "- Using `.evaluate()`"
      ],
      "metadata": {
        "id": "nLK3BssLGLrl"
      }
    },
    {
      "cell_type": "code",
      "source": [
        "test_scaled = test_input.reshape(-1, 28, 28, 1) / 255.0\n",
        "model.evaluate(test_scaled, test_target)"
      ],
      "metadata": {
        "colab": {
          "base_uri": "https://localhost:8080/"
        },
        "id": "wQj5MNdTGHdt",
        "outputId": "81b7934a-9334-4530-f61d-b32f9df3e0d8"
      },
      "execution_count": 16,
      "outputs": [
        {
          "output_type": "stream",
          "name": "stdout",
          "text": [
            "313/313 [==============================] - 1s 3ms/step - loss: 0.2442 - accuracy: 0.9150\n"
          ]
        },
        {
          "output_type": "execute_result",
          "data": {
            "text/plain": [
              "[0.24420811235904694, 0.9150000214576721]"
            ]
          },
          "metadata": {},
          "execution_count": 16
        }
      ]
    },
    {
      "cell_type": "code",
      "source": [
        "model.evaluate(val_scaled, val_target)"
      ],
      "metadata": {
        "colab": {
          "base_uri": "https://localhost:8080/"
        },
        "outputId": "c9e1f755-74f5-460b-b6ff-c990c55b6ec2",
        "id": "mJRxqQE4GiNX"
      },
      "execution_count": 17,
      "outputs": [
        {
          "output_type": "stream",
          "name": "stdout",
          "text": [
            "375/375 [==============================] - 1s 3ms/step - loss: 0.2165 - accuracy: 0.9237\n"
          ]
        },
        {
          "output_type": "execute_result",
          "data": {
            "text/plain": [
              "[0.2165067344903946, 0.9236666560173035]"
            ]
          },
          "metadata": {},
          "execution_count": 17
        }
      ]
    },
    {
      "cell_type": "markdown",
      "source": [
        "> 검증 세트의 성능보다 훈련 세트의 성능이 약간 낮은 것을 확인할 수 있고, 실제 모델을 사용하게 된다면 약 91% 성능을 보일 수 있다고 예측이 가능함"
      ],
      "metadata": {
        "id": "e17zNbkuGjOU"
      }
    }
  ]
}