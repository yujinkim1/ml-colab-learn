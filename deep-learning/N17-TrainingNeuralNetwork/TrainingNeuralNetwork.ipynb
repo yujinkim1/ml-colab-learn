{
  "nbformat": 4,
  "nbformat_minor": 0,
  "metadata": {
    "colab": {
      "provenance": [],
      "collapsed_sections": []
    },
    "kernelspec": {
      "name": "python3",
      "display_name": "Python 3"
    },
    "language_info": {
      "name": "python"
    },
    "accelerator": "GPU",
    "gpuClass": "standard"
  },
  "cells": [
    {
      "cell_type": "markdown",
      "source": [
        "# Neural Network Training Course\n",
        "- 최상의 신경망 모델을 확보하기 위한 기능\n",
        "  - validaition loss\n",
        "  - Mitigating overfitting\n",
        "  - **`.Dropout()`**\n",
        "  - **`ModelCheckpoint()`**\n",
        "  - **`EarlyStopping()`**\n"
      ],
      "metadata": {
        "id": "DGpdgNd5Dhux"
      }
    },
    {
      "cell_type": "markdown",
      "source": [],
      "metadata": {
        "id": "U2aLUc-GCpyc"
      }
    },
    {
      "cell_type": "markdown",
      "source": [
        "### 1. Download to Fashion MNIST Data\n",
        "- Import `tensorflow`\n",
        "  - Using `keras`\n",
        "    - **`keras.datasets._`**\n",
        "    - **`.load_data()`**"
      ],
      "metadata": {
        "id": "w8TpOCCbef7v"
      }
    },
    {
      "cell_type": "code",
      "source": [
        "from tensorflow import keras\n",
        "(train_input, train_target), (test_input, test_target) =\\\n",
        "  keras.datasets.fashion_mnist.load_data()"
      ],
      "metadata": {
        "id": "pq1ufVZFEMxl",
        "colab": {
          "base_uri": "https://localhost:8080/"
        },
        "outputId": "ebbbd1e3-ab6d-40a3-d25c-9f4407271e52"
      },
      "execution_count": null,
      "outputs": [
        {
          "output_type": "stream",
          "name": "stdout",
          "text": [
            "Downloading data from https://storage.googleapis.com/tensorflow/tf-keras-datasets/train-labels-idx1-ubyte.gz\n",
            "29515/29515 [==============================] - 0s 0us/step\n",
            "Downloading data from https://storage.googleapis.com/tensorflow/tf-keras-datasets/train-images-idx3-ubyte.gz\n",
            "26421880/26421880 [==============================] - 0s 0us/step\n",
            "Downloading data from https://storage.googleapis.com/tensorflow/tf-keras-datasets/t10k-labels-idx1-ubyte.gz\n",
            "5148/5148 [==============================] - 0s 0us/step\n",
            "Downloading data from https://storage.googleapis.com/tensorflow/tf-keras-datasets/t10k-images-idx3-ubyte.gz\n",
            "4422102/4422102 [==============================] - 0s 0us/step\n"
          ]
        }
      ]
    },
    {
      "cell_type": "markdown",
      "source": [
        "### 2. Create train-set and test-set using `train_test_split()`\n",
        "- Import `sklearn.model_selection`\n",
        "  - Using **`train_test_split`**\n"
      ],
      "metadata": {
        "id": "eLEI1BPie-6Q"
      }
    },
    {
      "cell_type": "code",
      "execution_count": null,
      "metadata": {
        "colab": {
          "base_uri": "https://localhost:8080/"
        },
        "id": "aH9dVZfQDJKY",
        "outputId": "53008d19-e5a0-4c14-9c8b-d7e1648f4869"
      },
      "outputs": [
        {
          "output_type": "stream",
          "name": "stdout",
          "text": [
            "(48000, 28, 28)\n",
            "(12000, 28, 28)\n"
          ]
        }
      ],
      "source": [
        "from sklearn.model_selection import train_test_split\n",
        "train_scaled = train_input / 255.0\n",
        "train_scaled, val_scaled, train_target, val_target = train_test_split(\n",
        "    train_scaled, train_target, test_size=0.2, random_state=42\n",
        ")\n",
        "\n",
        "#checkout\n",
        "print(train_scaled.shape)\n",
        "print(val_scaled.shape)"
      ]
    },
    {
      "cell_type": "markdown",
      "source": [
        "### 3. Create Multi-layer perceptron Model(DNN)\n",
        "- Using `.Sequential()`\n",
        "- Using `.layers.Flatten()`\n",
        "- Using `layers.Dense()`\n",
        "- Using **`model_fn(a_layer=None)`**\n",
        "  - 은닉층 뒤로 또 하나의 계층을 추가할 수 있는 함수\n",
        "  - 은닉층과 출력층 사이에 새로운 층을 추가할 수 있도록 설계 가능"
      ],
      "metadata": {
        "id": "FM9OXxUyENIr"
      }
    },
    {
      "cell_type": "code",
      "source": [
        "#create a model\n",
        "model = keras.Sequential([\n",
        "    keras.layers.Flatten(input_shape=(28, 28)),\n",
        "    keras.layers.Dense(100, activation=\"relu\"),\n",
        "    keras.layers.Dense(10, activation=\"softmax\"),\n",
        "])\n",
        "\n",
        "model.compile(loss=\"sparse_categorical_crossentropy\", metrics=\"accuracy\")\n",
        "model.fit(train_scaled, train_target, epochs=5)"
      ],
      "metadata": {
        "colab": {
          "base_uri": "https://localhost:8080/"
        },
        "id": "FOx0ZkFeMOtK",
        "outputId": "c642e2c4-6a30-4697-cfe4-1e540b10eef3"
      },
      "execution_count": null,
      "outputs": [
        {
          "output_type": "stream",
          "name": "stdout",
          "text": [
            "Epoch 1/5\n",
            "1500/1500 [==============================] - 6s 2ms/step - loss: 0.5256 - accuracy: 0.8142\n",
            "Epoch 2/5\n",
            "1500/1500 [==============================] - 4s 2ms/step - loss: 0.3923 - accuracy: 0.8600\n",
            "Epoch 3/5\n",
            "1500/1500 [==============================] - 4s 2ms/step - loss: 0.3546 - accuracy: 0.8725\n",
            "Epoch 4/5\n",
            "1500/1500 [==============================] - 3s 2ms/step - loss: 0.3343 - accuracy: 0.8790\n",
            "Epoch 5/5\n",
            "1500/1500 [==============================] - 3s 2ms/step - loss: 0.3210 - accuracy: 0.8872\n"
          ]
        },
        {
          "output_type": "execute_result",
          "data": {
            "text/plain": [
              "<keras.callbacks.History at 0x7f00a09fbb10>"
            ]
          },
          "metadata": {},
          "execution_count": 3
        }
      ]
    },
    {
      "cell_type": "markdown",
      "source": [
        "> <keras.callbacks.History at ..> 구문은 fit() 메소드가 무엇을 반환하고 있음을 알 수 있음"
      ],
      "metadata": {
        "id": "lsMAbw_l5K0k"
      }
    },
    {
      "cell_type": "code",
      "source": [
        "#create model_fn()\n",
        "def model_fn(a_layer=None):\n",
        "  model = keras.Sequential()\n",
        "  model.add(keras.layers.Flatten(input_shape=(28, 28)))\n",
        "  model.add(keras.layers.Dense(100, activation=\"relu\"))\n",
        "  if a_layer:\n",
        "    model.add(a_layer)\n",
        "  model.add(keras.layers.Dense(10, activation=\"softmax\"))\n",
        "  return model\n",
        "\n",
        "model = model_fn() #request functions"
      ],
      "metadata": {
        "id": "zOW5ITISGb5J"
      },
      "execution_count": null,
      "outputs": []
    },
    {
      "cell_type": "markdown",
      "source": [
        "### 4. Using **`summary()`**\n",
        "- 인공 신경망 모델에 대한 유용한 정보를 제공\n",
        "  - Model: 모델 이름\n",
        "  - Layer: 층 이름\n",
        "  - (type): 층 타입\n",
        "  - Output Shape: 각 층의 출력 배열 형태\n",
        "    - None: 배치 차원(어떤 배치 크기에도 대응되도록 None으로 설정)\n",
        "  - Param #: 모델 파라미터 개수\n",
        "    - Trainable parameter(학습 파라미터)\n",
        "    - Non-trainable parameter(학습되지 않는 파라미터)"
      ],
      "metadata": {
        "id": "fTy2KFg4hP5z"
      }
    },
    {
      "cell_type": "code",
      "source": [
        "#checkout \n",
        "model.summary()"
      ],
      "metadata": {
        "colab": {
          "base_uri": "https://localhost:8080/"
        },
        "id": "9Koil4XSHQo6",
        "outputId": "62f9a9ae-8f23-4dc3-a571-7d2665ceb6fd"
      },
      "execution_count": null,
      "outputs": [
        {
          "output_type": "stream",
          "name": "stdout",
          "text": [
            "Model: \"sequential_1\"\n",
            "_________________________________________________________________\n",
            " Layer (type)                Output Shape              Param #   \n",
            "=================================================================\n",
            " flatten_1 (Flatten)         (None, 784)               0         \n",
            "                                                                 \n",
            " dense_2 (Dense)             (None, 100)               78500     \n",
            "                                                                 \n",
            " dense_3 (Dense)             (None, 10)                1010      \n",
            "                                                                 \n",
            "=================================================================\n",
            "Total params: 79,510\n",
            "Trainable params: 79,510\n",
            "Non-trainable params: 0\n",
            "_________________________________________________________________\n"
          ]
        }
      ]
    },
    {
      "cell_type": "markdown",
      "source": [
        "### 5. Model compile and output to history\n",
        "- Using **`.compile()`**\n",
        "- Using `.fit()`\n",
        "  - **`verbose=_`**: 훈련 출력 과정을 조정\n",
        "    - `0`일 경우 진행 과정 미출력\n",
        "    - `1`일 경우 진행 막대와 정보 모두 출력\n",
        "    - `2`일 경우 정보만 출력\n",
        "- Using **`.history()`**\n",
        "  - 히스토리 객체는 딕셔너리가 포함되어 있음\n",
        "  - **`.keys()`**: 어떤 `key` 값을 가지고 있는지 확인할 수 있음"
      ],
      "metadata": {
        "id": "arquAVJsHfsd"
      }
    },
    {
      "cell_type": "code",
      "source": [
        "model.compile(loss=\"sparse_categorical_crossentropy\", metrics=\"accuracy\")\n",
        "\n",
        "#create history\n",
        "history = model.fit(train_scaled, train_target, epochs=5, verbose=0)\n",
        "\n",
        "#checkout\n",
        "print(history.history.keys())"
      ],
      "metadata": {
        "colab": {
          "base_uri": "https://localhost:8080/"
        },
        "id": "EGFJQUOqHf6t",
        "outputId": "cfb22761-09a9-482a-f66a-521712049d21"
      },
      "execution_count": null,
      "outputs": [
        {
          "output_type": "stream",
          "name": "stdout",
          "text": [
            "dict_keys(['loss', 'accuracy'])\n"
          ]
        }
      ]
    },
    {
      "cell_type": "markdown",
      "source": [
        "### 6. Visualize the loss of a model\n",
        "- `.history`\n",
        "  - `.history[_key]`\n",
        "- import `matplotlib.pyplot`\n",
        "  - Using `.plot()`"
      ],
      "metadata": {
        "id": "dH6E1J8lJDf0"
      }
    },
    {
      "cell_type": "code",
      "source": [
        "import matplotlib.pyplot as plt\n",
        "plt.plot(history.history[\"loss\"])\n",
        "plt.title(\"Model loss\")\n",
        "plt.xlabel(\"epoch\")\n",
        "plt.ylabel(\"loss\")\n",
        "plt.show()\n",
        "\n",
        "plt.plot(history.history[\"accuracy\"])\n",
        "plt.title(\"Model accuracy\")\n",
        "plt.xlabel(\"epoch\")\n",
        "plt.ylabel(\"accuracy\")\n",
        "plt.show()"
      ],
      "metadata": {
        "colab": {
          "base_uri": "https://localhost:8080/",
          "height": 573
        },
        "id": "tDmSgsNnJDpf",
        "outputId": "df2549c9-bb9e-485c-b0b4-998fb54599dc"
      },
      "execution_count": null,
      "outputs": [
        {
          "output_type": "display_data",
          "data": {
            "text/plain": [
              "<Figure size 432x288 with 1 Axes>"
            ],
            "image/png": "[encoded data removed]"
          },
          "metadata": {
            "needs_background": "light"
          }
        },
        {
          "output_type": "display_data",
          "data": {
            "text/plain": [
              "<Figure size 432x288 with 1 Axes>"
            ],
            "image/png": "[encoded data removed]"
          },
          "metadata": {
            "needs_background": "light"
          }
        }
      ]
    },
    {
      "cell_type": "markdown",
      "source": [
        "### 7. Increasing epochs value\n",
        "- 반복 횟수가 증가함에 따라 손실이 감소하는지 확인 가능"
      ],
      "metadata": {
        "id": "pt_V-fyVOkTP"
      }
    },
    {
      "cell_type": "code",
      "source": [
        "#increase from 5 epoch to 20\n",
        "model = model_fn()\n",
        "model.compile(loss=\"sparse_categorical_crossentropy\", metrics=\"accuracy\")\n",
        "history = model.fit(train_scaled, train_target, epochs=20, verbose=0)"
      ],
      "metadata": {
        "id": "Nkzp-WItOj2Z"
      },
      "execution_count": null,
      "outputs": []
    },
    {
      "cell_type": "code",
      "source": [
        "#checkout\n",
        "plt.plot(history.history[\"loss\"])\n",
        "plt.title(\"loss when increased from 5 epoch to 20\")\n",
        "plt.xlabel(\"epoch\")\n",
        "plt.ylabel(\"loss\")\n",
        "plt.show()\n",
        "\n",
        "plt.plot(history.history[\"accuracy\"])\n",
        "plt.title(\"accuracy when increased from 5 epoch to 20\")\n",
        "plt.xlabel(\"epoch\")\n",
        "plt.ylabel(\"accuracy\")\n",
        "plt.show()"
      ],
      "metadata": {
        "colab": {
          "base_uri": "https://localhost:8080/",
          "height": 573
        },
        "id": "2utuBBpiOiaB",
        "outputId": "cf30e021-c684-41a7-d3de-6b4ccf8d5d4a"
      },
      "execution_count": null,
      "outputs": [
        {
          "output_type": "display_data",
          "data": {
            "text/plain": [
              "<Figure size 432x288 with 1 Axes>"
            ],
            "image/png": "[encoded data removed]"
          },
          "metadata": {
            "needs_background": "light"
          }
        },
        {
          "output_type": "display_data",
          "data": {
            "text/plain": [
              "<Figure size 432x288 with 1 Axes>"
            ],
            "image/png": "[encoded data removed]"
          },
          "metadata": {
            "needs_background": "light"
          }
        }
      ]
    },
    {
      "cell_type": "markdown",
      "source": [
        "> 신경망은 경사 하강법에 따라 훈련되기 때문에 과대적합 또는 과소적합 가능성이 존재함"
      ],
      "metadata": {
        "id": "8DiVJkbvPY--"
      }
    },
    {
      "cell_type": "markdown",
      "source": [
        "> 따라서 훈련 세트에 대한 손실과 검증 세트에 대한 손실을 고려해야함 정확도와 손실 감소는 완전히 비례하는 것이 아니기 때문임"
      ],
      "metadata": {
        "id": "z4N7gQL0PjUN"
      }
    },
    {
      "cell_type": "markdown",
      "source": [
        "### 8. Validation loss\n",
        "- 모델에 검증 데이터를 전달해 에포크마다 검증 손실 계산 가능\n",
        "- `validation_data=None`\n",
        "  - 검증에 사용할 입력과 타겟 값을 튜플로 전달"
      ],
      "metadata": {
        "id": "9XDTkFkrPwI7"
      }
    },
    {
      "cell_type": "code",
      "source": [
        "model = model_fn()\n",
        "model.compile(loss=\"sparse_categorical_crossentropy\", metrics=\"accuracy\")\n",
        "history = model.fit(\n",
        "    train_scaled, train_target, epochs=20, verbose=0,\n",
        "    validation_data=(val_scaled, val_target) #forward to tuple\n",
        "  )"
      ],
      "metadata": {
        "id": "DTnxzMoWP7jH"
      },
      "execution_count": null,
      "outputs": []
    },
    {
      "cell_type": "code",
      "source": [
        "print(history.history.keys())"
      ],
      "metadata": {
        "colab": {
          "base_uri": "https://localhost:8080/"
        },
        "id": "JpfqnCcyQvhe",
        "outputId": "a7a45ea0-716b-46ab-98d1-32dabecfc7bc"
      },
      "execution_count": null,
      "outputs": [
        {
          "output_type": "stream",
          "name": "stdout",
          "text": [
            "dict_keys(['loss', 'accuracy', 'val_loss', 'val_accuracy'])\n"
          ]
        }
      ]
    },
    {
      "cell_type": "markdown",
      "source": [
        "> 총 4개의 딕셔너리 `key`를 가지고 있음"
      ],
      "metadata": {
        "id": "hmwOGvAX71gf"
      }
    },
    {
      "cell_type": "code",
      "source": [
        "#checkout\n",
        "plt.plot(history.history[\"loss\"])\n",
        "plt.plot(history.history[\"val_loss\"])\n",
        "plt.title(\"check validation loss\")\n",
        "plt.xlabel(\"epoch\")\n",
        "plt.ylabel(\"loss\")\n",
        "plt.legend([\"train\", \"val\"])\n",
        "plt.show()"
      ],
      "metadata": {
        "colab": {
          "base_uri": "https://localhost:8080/",
          "height": 295
        },
        "id": "TlknUGztQytb",
        "outputId": "f8e587ce-ca5b-4e25-e325-fb9a3570cb8a"
      },
      "execution_count": null,
      "outputs": [
        {
          "output_type": "display_data",
          "data": {
            "text/plain": [
              "<Figure size 432x288 with 1 Axes>"
            ],
            "image/png": "[encoded data removed]"
          },
          "metadata": {
            "needs_background": "light"
          }
        }
      ]
    },
    {
      "cell_type": "markdown",
      "source": [
        "> 반복 횟수 5번 이후부터 검증 손실도가 다시 증가하고 있음을 알 수 있음"
      ],
      "metadata": {
        "id": "U3BNnONa8VQ9"
      }
    },
    {
      "cell_type": "markdown",
      "source": [
        "### 9. Mitigating overfitting\n",
        "- Using Optimizers\n",
        "  - 데이터 세트에 적합한 옵티마이저를 사용해 규제의 효과를 얻을 수 있음\n",
        "  - 과대적합을 일부분 완화 가능"
      ],
      "metadata": {
        "id": "t8yTU7E6RE8K"
      }
    },
    {
      "cell_type": "code",
      "source": [
        "#adam 옵티마이저가 에포크에 따른 학습률의 크기 조정에 유리\n",
        "model = model_fn()\n",
        "#use adam optimizer\n",
        "model.compile(optimizer=\"adam\", loss=\"sparse_categorical_crossentropy\", metrics=\"accuracy\")\n",
        "history = model.fit(\n",
        "    train_scaled, train_target, epochs=20, verbose=0,\n",
        "    validation_data=(val_scaled, val_target)\n",
        "  )"
      ],
      "metadata": {
        "id": "JwtnaVNKREc4"
      },
      "execution_count": null,
      "outputs": []
    },
    {
      "cell_type": "code",
      "source": [
        "#checkout\n",
        "plt.plot(history.history[\"loss\"])\n",
        "plt.plot(history.history[\"val_loss\"])\n",
        "plt.title(\"validation loss with optimizer\")\n",
        "plt.xlabel(\"epoch\")\n",
        "plt.ylabel(\"loss\")\n",
        "plt.legend([\"train\", \"val\"])\n",
        "plt.show()"
      ],
      "metadata": {
        "colab": {
          "base_uri": "https://localhost:8080/",
          "height": 295
        },
        "id": "9H0tlmoMRw7U",
        "outputId": "6c34def2-064a-4dfd-96b6-523b4ae1f19e"
      },
      "execution_count": null,
      "outputs": [
        {
          "output_type": "display_data",
          "data": {
            "text/plain": [
              "<Figure size 432x288 with 1 Axes>"
            ],
            "image/png": "[encoded data removed]"
          },
          "metadata": {
            "needs_background": "light"
          }
        }
      ]
    },
    {
      "cell_type": "markdown",
      "source": [
        "> 과대적합이 12.5번 반복 이후 줄어들었다는 것을 알 수 있음"
      ],
      "metadata": {
        "id": "_sc1tZjV9N70"
      }
    },
    {
      "cell_type": "markdown",
      "source": [
        "### 10. Dropout\n",
        "- 특정 은닉층 뒤에 추가해 특정 은닉층의 일부 노드의 출력을 0으로 드롭함\n",
        "  - 훈련량이 많은 특정 노드를 일부로 제외시켜 다른 노드의 훈련량을 증가 가능\n",
        "  - 과대적합이 발생되는 것을 방지할 수 있는 것도 장점\n",
        "- `keras.layers.Dropout(rate_)`\n",
        "  - `rate_`: 드롭할 노드의 비율 [0,1]"
      ],
      "metadata": {
        "id": "ImhvydEER9Kn"
      }
    },
    {
      "cell_type": "code",
      "source": [
        "model = model_fn(keras.layers.Dropout(0.3)) #30% Dropout\n",
        "model.summary()"
      ],
      "metadata": {
        "colab": {
          "base_uri": "https://localhost:8080/"
        },
        "id": "k3lutbNlSTwd",
        "outputId": "1e2d5ac8-a22c-4438-cff2-b8541aaa1aed"
      },
      "execution_count": null,
      "outputs": [
        {
          "output_type": "stream",
          "name": "stdout",
          "text": [
            "Model: \"sequential_6\"\n",
            "_________________________________________________________________\n",
            " Layer (type)                Output Shape              Param #   \n",
            "=================================================================\n",
            " flatten_6 (Flatten)         (None, 784)               0         \n",
            "                                                                 \n",
            " dense_12 (Dense)            (None, 100)               78500     \n",
            "                                                                 \n",
            " dropout_1 (Dropout)         (None, 100)               0         \n",
            "                                                                 \n",
            " dense_13 (Dense)            (None, 10)                1010      \n",
            "                                                                 \n",
            "=================================================================\n",
            "Total params: 79,510\n",
            "Trainable params: 79,510\n",
            "Non-trainable params: 0\n",
            "_________________________________________________________________\n"
          ]
        }
      ]
    },
    {
      "cell_type": "code",
      "source": [
        "#graph of results with dropout applied\n",
        "model = model_fn()\n",
        "model.compile(optimizer=\"adam\", loss=\"sparse_categorical_crossentropy\", metrics=\"accuracy\")\n",
        "history = model.fit(\n",
        "    train_scaled, train_target, epochs=20, verbose=0,\n",
        "    validation_data=(val_scaled, val_target)\n",
        "  )"
      ],
      "metadata": {
        "id": "bJGQTGUFScwg"
      },
      "execution_count": null,
      "outputs": []
    },
    {
      "cell_type": "code",
      "source": [
        "#visualize \n",
        "plt.plot(history.history[\"loss\"])\n",
        "plt.plot(history.history[\"val_loss\"])\n",
        "plt.title(\"dropout graph\")\n",
        "plt.xlabel(\"epoch\")\n",
        "plt.ylabel(\"loss\")\n",
        "plt.legend([\"train\", \"val\"])\n",
        "plt.show()"
      ],
      "metadata": {
        "colab": {
          "base_uri": "https://localhost:8080/",
          "height": 295
        },
        "id": "sr6PTcMH-vXQ",
        "outputId": "91669814-0c2e-414e-dd6c-2bc7ad18225a"
      },
      "execution_count": null,
      "outputs": [
        {
          "output_type": "display_data",
          "data": {
            "text/plain": [
              "<Figure size 432x288 with 1 Axes>"
            ],
            "image/png": "[encoded data removed]"
          },
          "metadata": {
            "needs_background": "light"
          }
        }
      ]
    },
    {
      "cell_type": "markdown",
      "source": [
        "### 11. Saving my Best model files\n",
        "- 최적의 모델을 재사용하도록 유도하기 위해선 모델을 파일로 저장하는 것이 필수\n",
        "- Using **`.save_weights()`**\n",
        "  - `.h5`: format HDF5 형식으로 저장\n",
        "- Using **`.save()`**\n",
        "  - 모델 구조와 파라미터를 함께 저장 가능\n",
        "  - `.h5`: format HDF5 형식으로 저장"
      ],
      "metadata": {
        "id": "GHU8mLimTSxv"
      }
    },
    {
      "cell_type": "code",
      "source": [
        "model = model_fn(keras.layers.Dropout(0.3))\n",
        "model.compile(optimizer=\"adam\", loss=\"sparse_categorical_crossentropy\", metrics=\"accuracy\")\n",
        "history = model.fit(\n",
        "    train_scaled, train_target, epochs=10, verbose=0,\n",
        "    validation_data=(val_scaled, val_target)\n",
        "  )"
      ],
      "metadata": {
        "id": "-uKVUOkSTfpd"
      },
      "execution_count": null,
      "outputs": []
    },
    {
      "cell_type": "code",
      "source": [
        "#use .save_weights()\n",
        "model.save_weights(\"model-weight.h5\")\n",
        "\n",
        "#use .save()\n",
        "model.save(\"model-whole.h5\")"
      ],
      "metadata": {
        "id": "uEo-N7os9CRE"
      },
      "execution_count": null,
      "outputs": []
    },
    {
      "cell_type": "code",
      "source": [
        "#checkout\n",
        "!ls -al *.h5"
      ],
      "metadata": {
        "colab": {
          "base_uri": "https://localhost:8080/"
        },
        "id": "yyNGja1l-fhG",
        "outputId": "5d01e9ab-5fde-478d-dfae-b61eaf462c37"
      },
      "execution_count": null,
      "outputs": [
        {
          "output_type": "stream",
          "name": "stdout",
          "text": [
            "-rw-r--r-- 1 root root 333448 Nov 10 14:41 model-weight.h5\n",
            "-rw-r--r-- 1 root root 982664 Nov 10 14:41 model-whole.h5\n"
          ]
        }
      ]
    },
    {
      "cell_type": "markdown",
      "source": [
        "> 파일이 정상적으로 저장되었는지 일시적으로 확인하기 위한 명령어"
      ],
      "metadata": {
        "id": "_5DWx5nO-9Js"
      }
    },
    {
      "cell_type": "markdown",
      "source": [
        "### 12. Load to my Best model files\n",
        "- 저장한 모델을 다시 불러오기\n",
        "- Using **`.load_weights()`**\n",
        "  - **`.save_weights()`**와 쌍을 이루고 있음\n",
        "  - 저장할 때 사용하면, 불러올 때도 `.load_weights()`사용해야함\n",
        "- Using **`.load_model()`**\n",
        "  - **`.save()`**와 쌍을 이루고 있음\n",
        "  - 모델 구조나 파라미터를 모두 가지고 있는 파일일때 같이 사용해야함"
      ],
      "metadata": {
        "id": "i18wXYcQ_Wcu"
      }
    },
    {
      "cell_type": "code",
      "source": [
        "#load_weights()\n",
        "model = model_fn(keras.layers.Dropout(0.3))\n",
        "model.load_weights(\"model-weight.h5\")\n",
        "\n",
        "import numpy as np\n",
        "val_labels = np.argmax(model.predict(val_scaled), axis=1)\n",
        "print(np.mean(val_labels == val_target))"
      ],
      "metadata": {
        "colab": {
          "base_uri": "https://localhost:8080/"
        },
        "id": "e4A1uiVjATVg",
        "outputId": "86ff7cb2-c2f2-45d8-acff-c1f54510d5b0"
      },
      "execution_count": null,
      "outputs": [
        {
          "output_type": "stream",
          "name": "stdout",
          "text": [
            "375/375 [==============================] - 1s 1ms/step\n",
            "0.8836666666666667\n"
          ]
        }
      ]
    },
    {
      "cell_type": "code",
      "source": [
        "#checkout\n",
        "print(val_labels[:20])\n",
        "print(val_target[:20])"
      ],
      "metadata": {
        "colab": {
          "base_uri": "https://localhost:8080/"
        },
        "id": "9ilNYtJnBsAb",
        "outputId": "a1461e95-d30d-4383-973f-1491a09bafa9"
      },
      "execution_count": null,
      "outputs": [
        {
          "output_type": "stream",
          "name": "stdout",
          "text": [
            "[8 8 7 4 8 4 1 0 4 5 6 7 3 9 4 1 1 3 3 9]\n",
            "[8 8 7 4 8 4 1 0 4 5 3 7 4 9 4 1 1 3 3 9]\n"
          ]
        }
      ]
    },
    {
      "cell_type": "code",
      "source": [
        "#load_model()\n",
        "model = keras.models.load_model(\"model-whole.h5\")\n",
        "\n",
        "model.evaluate(val_scaled, val_target)"
      ],
      "metadata": {
        "colab": {
          "base_uri": "https://localhost:8080/"
        },
        "id": "om8xwOxQ-fnD",
        "outputId": "85e8aa0e-8625-48df-c225-c433463c4418"
      },
      "execution_count": null,
      "outputs": [
        {
          "output_type": "stream",
          "name": "stdout",
          "text": [
            "375/375 [==============================] - 1s 2ms/step - loss: 0.3235 - accuracy: 0.8837\n"
          ]
        },
        {
          "output_type": "execute_result",
          "data": {
            "text/plain": [
              "[0.3235417306423187, 0.8836666941642761]"
            ]
          },
          "metadata": {},
          "execution_count": 31
        }
      ]
    },
    {
      "cell_type": "markdown",
      "source": [
        "### 13. Callback\n",
        "- 훈련 과정 중간에 어떤 작업을 수행할 수 있게 하는 객체\n",
        "- `keras.callbacks`\n",
        "   - Using **`.ModelCheckpoint()`**\n",
        "    - 에포크 마다 모델을 저장하는데 가장 낮은 검증 점수 모델을 자동 저장\n",
        "   - Using **`.EarlyStopping()`**\n",
        "    - 과대적합이 시작되기 직전에 훈련을 미리 종료"
      ],
      "metadata": {
        "id": "0bChqhg0BSAW"
      }
    },
    {
      "cell_type": "code",
      "source": [
        "#create model\n",
        "model = model_fn(keras.layers.Dropout(0.3))\n",
        "model.compile(\n",
        "    optimizer=\"adam\", loss=\"sparse_categorical_crossentropy\", metrics=\"accuracy\"\n",
        ")\n",
        "\n",
        "#create a checkPoint\n",
        "checkPoint = keras.callbacks.ModelCheckpoint(\n",
        "    \"best-model.h5\", save_best_only=True\n",
        ")\n",
        "\n",
        "model.fit(\n",
        "    train_scaled, train_target, epochs=20, verbose=0,\n",
        "    validation_data=(val_scaled, val_target),\n",
        "    callbacks=[checkPoint]\n",
        ")\n"
      ],
      "metadata": {
        "colab": {
          "base_uri": "https://localhost:8080/"
        },
        "id": "JuyA7nUICzzb",
        "outputId": "c9067fd5-071b-454c-badf-daffcead91c3"
      },
      "execution_count": null,
      "outputs": [
        {
          "output_type": "execute_result",
          "data": {
            "text/plain": [
              "<keras.callbacks.History at 0x7effe7053650>"
            ]
          },
          "metadata": {},
          "execution_count": 32
        }
      ]
    },
    {
      "cell_type": "code",
      "source": [
        "#predict\n",
        "model = keras.models.load_model(\"best-model.h5\")\n",
        "\n",
        "model.evaluate(val_scaled, val_target)"
      ],
      "metadata": {
        "colab": {
          "base_uri": "https://localhost:8080/"
        },
        "id": "31mxKo2dD48G",
        "outputId": "cedc55f7-1893-411d-804f-28a5b5f10d72"
      },
      "execution_count": null,
      "outputs": [
        {
          "output_type": "stream",
          "name": "stdout",
          "text": [
            "375/375 [==============================] - 1s 2ms/step - loss: 0.3151 - accuracy: 0.8889\n"
          ]
        },
        {
          "output_type": "execute_result",
          "data": {
            "text/plain": [
              "[0.31510475277900696, 0.8889166712760925]"
            ]
          },
          "metadata": {},
          "execution_count": 33
        }
      ]
    },
    {
      "cell_type": "markdown",
      "source": [
        "### 13. Early stopping point\n",
        "- Overfitting 발생 전에 훈련을 조기에 중지하는 것\n",
        "- Using **`.EarlyStopping()`**\n",
        "  - `patience=_Integer`: 검증 점수가 연속적으로 증가하지 않으면 훈련 중지\n",
        "  - `restore_best_weights=_Boolean`: 가장 좋은 모델로 복원"
      ],
      "metadata": {
        "id": "zYNWZaozEFhz"
      }
    },
    {
      "cell_type": "code",
      "source": [
        "#create a model\n",
        "model = model_fn(keras.layers.Dropout(0.3))\n",
        "model.compile(\n",
        "    optimizer=\"adam\", loss=\"sparse_categorical_crossentropy\", metrics=\"accuracy\"\n",
        ")\n",
        "\n",
        "#checkPoint\n",
        "checkPoint = keras.callbacks.ModelCheckpoint(\n",
        "    \"best-model.h5\", save_best_only=True\n",
        ")\n",
        "\n",
        "#earlyStopping\n",
        "earlyStopping = keras.callbacks.EarlyStopping(\n",
        "    patience=2,\n",
        "    restore_best_weights=True\n",
        ")\n",
        "\n",
        "model.fit(\n",
        "    train_scaled, train_target, epochs=20, verbose=0,\n",
        "    validation_data=(val_scaled, val_target),\n",
        "    callbacks=[checkPoint]\n",
        ")"
      ],
      "metadata": {
        "colab": {
          "base_uri": "https://localhost:8080/"
        },
        "id": "FqJ4GsDCEFuV",
        "outputId": "fa7b54aa-98e4-4385-f468-2feb72a5275b"
      },
      "execution_count": null,
      "outputs": [
        {
          "output_type": "execute_result",
          "data": {
            "text/plain": [
              "<keras.callbacks.History at 0x7effe200c950>"
            ]
          },
          "metadata": {},
          "execution_count": 35
        }
      ]
    },
    {
      "cell_type": "code",
      "source": [
        "#predict\n",
        "model = keras.models.load_model(\"best-model.h5\")\n",
        "\n",
        "model.evaluate(val_scaled, val_target)"
      ],
      "metadata": {
        "colab": {
          "base_uri": "https://localhost:8080/"
        },
        "id": "1jl0HtEUBocj",
        "outputId": "a4d75402-ec03-4654-bf8e-133a01653441"
      },
      "execution_count": null,
      "outputs": [
        {
          "output_type": "stream",
          "name": "stdout",
          "text": [
            "375/375 [==============================] - 1s 2ms/step - loss: 0.3171 - accuracy: 0.8876\n"
          ]
        },
        {
          "output_type": "execute_result",
          "data": {
            "text/plain": [
              "[0.3170846402645111, 0.887583315372467]"
            ]
          },
          "metadata": {},
          "execution_count": 36
        }
      ]
    },
    {
      "cell_type": "code",
      "source": [
        "#stopped epochs\n",
        "print(earlyStopping.stopped_epoch)"
      ],
      "metadata": {
        "colab": {
          "base_uri": "https://localhost:8080/"
        },
        "id": "1621vLJVFBzs",
        "outputId": "d87720af-89f8-444a-967b-85b1fdd7f8b3"
      },
      "execution_count": null,
      "outputs": [
        {
          "output_type": "stream",
          "name": "stdout",
          "text": [
            "0\n"
          ]
        }
      ]
    },
    {
      "cell_type": "markdown",
      "source": [
        "> 수치 및 결과는 모델에 따라 다르게 나올 수 있음"
      ],
      "metadata": {
        "id": "zwaBtMWcCd3A"
      }
    }
  ]
}