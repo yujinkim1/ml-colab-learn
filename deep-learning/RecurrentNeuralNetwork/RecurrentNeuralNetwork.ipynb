{
  "nbformat": 4,
  "nbformat_minor": 0,
  "metadata": {
    "colab": {
      "provenance": []
    },
    "kernelspec": {
      "name": "python3",
      "display_name": "Python 3"
    },
    "language_info": {
      "name": "python"
    },
    "accelerator": "GPU",
    "gpuClass": "standard"
  },
  "cells": [
    {
      "cell_type": "markdown",
      "source": [
        "# Recurrent Neural Network(RNN)\n",
        "\n",
        "- sequential data: 텍스트, 음성, 영상, 시계열 데이터처럼 순서가 있는 데이터\n",
        "  - time-series data: 센서 데이터, 지진파, DNA 염기서열, 주가 변동\n",
        "- **Feed Forward Neural Network**\n",
        "  - 입력의 흐름이 앞으로만 진행되는 신경망\n",
        "  - 하나의 배치만 사용\n",
        "  - 정방향 계산 수행 후 다음 배치 처리 시 전 배치는 사용되지 않고 버려짐\n",
        "  - 순차 데이터 처리에 부적합\n",
        "- **Recurrent Neural Network**\n",
        "  - 순차적인 데이터를 처리하기 위해 고안된 신경망\n",
        "  - time-step(타임스텝): RNN에서 샘플을 처리하기 위한 한 단계\n",
        "  - 3개의 샘플의 샘플을 처리하는 순환 신경망\n",
        "  - ${O_a}$: 샘플 a 정보 및 출력\n",
        "  - ${O_b}$: 샘플 b 정보 및 출력\n",
        "  - ${O_c}$: 샘플 c 정보 및 출력\n",
        "- 셀의 가중치와 절편\n",
        "  - 특성 개수 f\n",
        "  - 셀의 뉴런 개수 p\n",
        "  - ${f*x}+p+p^2+p$\n",
        "- 마지막 time-step의 은닉 상태의 ${h_f}$ 정보만 출력\n",
        "- RNN을 연속적으로 수행한 경우 \n",
        "  - 선두 계층은 2차원 배열로 샘플의 정보를 전달하고 마지막의 time-step ${h_f}$만 1차원 배열로 출력"
      ],
      "metadata": {
        "id": "8IuMCHxv5O6z"
      }
    },
    {
      "cell_type": "markdown",
      "source": [
        "### 1. Using IMDB data-set\n",
        "- Import `imdb`\n",
        "  - 리뷰 데이터를 positive(1), negative(0)로 분류한 단어 데이터 세트\n",
        "- Using `.load_data()`\n",
        "  - **`num_words=_int`**: 전체 데이터 중 잦게 등장하는 단어 개수를 지정"
      ],
      "metadata": {
        "id": "pWNsOe32eY5R"
      }
    },
    {
      "cell_type": "code",
      "execution_count": 1,
      "metadata": {
        "id": "vUNpBB38De4A"
      },
      "outputs": [],
      "source": [
        "from tensorflow.keras.datasets import imdb"
      ]
    },
    {
      "cell_type": "code",
      "source": [
        "(train_input, train_target), (test_input, test_target) = imdb.load_data(num_words=500)\n",
        "\n",
        "print(train_input.shape, test_input.shape)"
      ],
      "metadata": {
        "colab": {
          "base_uri": "https://localhost:8080/"
        },
        "id": "f_UJZvYJt6W8",
        "outputId": "78d0f32e-fea7-41f5-da6c-5b5bffff31a5"
      },
      "execution_count": 2,
      "outputs": [
        {
          "output_type": "stream",
          "name": "stdout",
          "text": [
            "Downloading data from https://storage.googleapis.com/tensorflow/tf-keras-datasets/imdb.npz\n",
            "17464789/17464789 [==============================] - 2s 0us/step\n",
            "(25000,) (25000,)\n"
          ]
        }
      ]
    },
    {
      "cell_type": "markdown",
      "source": [
        "> 각 train-set, test-set 마다 25000개의 데이터 포함"
      ],
      "metadata": {
        "id": "ngYL5l1IQGCl"
      }
    },
    {
      "cell_type": "code",
      "source": [
        "print(train_input[:10])\n",
        "print(train_target[:10])"
      ],
      "metadata": {
        "colab": {
          "base_uri": "https://localhost:8080/"
        },
        "id": "9AE6mL2buONp",
        "outputId": "7d6fd8ba-8da1-4024-c597-e2fc43e91f65"
      },
      "execution_count": 4,
      "outputs": [
        {
          "output_type": "stream",
          "name": "stdout",
          "text": [
            "[list([1, 14, 22, 16, 43, 2, 2, 2, 2, 65, 458, 2, 66, 2, 4, 173, 36, 256, 5, 25, 100, 43, 2, 112, 50, 2, 2, 9, 35, 480, 284, 5, 150, 4, 172, 112, 167, 2, 336, 385, 39, 4, 172, 2, 2, 17, 2, 38, 13, 447, 4, 192, 50, 16, 6, 147, 2, 19, 14, 22, 4, 2, 2, 469, 4, 22, 71, 87, 12, 16, 43, 2, 38, 76, 15, 13, 2, 4, 22, 17, 2, 17, 12, 16, 2, 18, 2, 5, 62, 386, 12, 8, 316, 8, 106, 5, 4, 2, 2, 16, 480, 66, 2, 33, 4, 130, 12, 16, 38, 2, 5, 25, 124, 51, 36, 135, 48, 25, 2, 33, 6, 22, 12, 215, 28, 77, 52, 5, 14, 407, 16, 82, 2, 8, 4, 107, 117, 2, 15, 256, 4, 2, 7, 2, 5, 2, 36, 71, 43, 2, 476, 26, 400, 317, 46, 7, 4, 2, 2, 13, 104, 88, 4, 381, 15, 297, 98, 32, 2, 56, 26, 141, 6, 194, 2, 18, 4, 226, 22, 21, 134, 476, 26, 480, 5, 144, 30, 2, 18, 51, 36, 28, 224, 92, 25, 104, 4, 226, 65, 16, 38, 2, 88, 12, 16, 283, 5, 16, 2, 113, 103, 32, 15, 16, 2, 19, 178, 32])\n",
            " list([1, 194, 2, 194, 2, 78, 228, 5, 6, 2, 2, 2, 134, 26, 4, 2, 8, 118, 2, 14, 394, 20, 13, 119, 2, 189, 102, 5, 207, 110, 2, 21, 14, 69, 188, 8, 30, 23, 7, 4, 249, 126, 93, 4, 114, 9, 2, 2, 5, 2, 4, 116, 9, 35, 2, 4, 229, 9, 340, 2, 4, 118, 9, 4, 130, 2, 19, 4, 2, 5, 89, 29, 2, 46, 37, 4, 455, 9, 45, 43, 38, 2, 2, 398, 4, 2, 26, 2, 5, 163, 11, 2, 2, 4, 2, 9, 194, 2, 7, 2, 2, 349, 2, 148, 2, 2, 2, 15, 123, 125, 68, 2, 2, 15, 349, 165, 2, 98, 5, 4, 228, 9, 43, 2, 2, 15, 299, 120, 5, 120, 174, 11, 220, 175, 136, 50, 9, 2, 228, 2, 5, 2, 2, 245, 2, 5, 4, 2, 131, 152, 491, 18, 2, 32, 2, 2, 14, 9, 6, 371, 78, 22, 2, 64, 2, 9, 8, 168, 145, 23, 4, 2, 15, 16, 4, 2, 5, 28, 6, 52, 154, 462, 33, 89, 78, 285, 16, 145, 95])\n",
            " list([1, 14, 47, 8, 30, 31, 7, 4, 249, 108, 7, 4, 2, 54, 61, 369, 13, 71, 149, 14, 22, 112, 4, 2, 311, 12, 16, 2, 33, 75, 43, 2, 296, 4, 86, 320, 35, 2, 19, 263, 2, 2, 4, 2, 33, 89, 78, 12, 66, 16, 4, 360, 7, 4, 58, 316, 334, 11, 4, 2, 43, 2, 2, 8, 257, 85, 2, 42, 2, 2, 83, 68, 2, 15, 36, 165, 2, 278, 36, 69, 2, 2, 8, 106, 14, 2, 2, 18, 6, 22, 12, 215, 28, 2, 40, 6, 87, 326, 23, 2, 21, 23, 22, 12, 272, 40, 57, 31, 11, 4, 22, 47, 6, 2, 51, 9, 170, 23, 2, 116, 2, 2, 13, 191, 79, 2, 89, 2, 14, 9, 8, 106, 2, 2, 35, 2, 6, 227, 7, 129, 113])\n",
            " list([1, 4, 2, 2, 33, 2, 4, 2, 432, 111, 153, 103, 4, 2, 13, 70, 131, 67, 11, 61, 2, 2, 35, 2, 2, 61, 2, 452, 2, 4, 2, 7, 2, 59, 166, 4, 105, 216, 2, 41, 2, 9, 15, 7, 35, 2, 2, 31, 8, 4, 2, 23, 4, 2, 2, 6, 2, 42, 38, 39, 121, 59, 456, 10, 10, 7, 265, 12, 2, 111, 153, 159, 59, 16, 2, 21, 25, 2, 482, 39, 4, 96, 59, 2, 12, 4, 172, 65, 9, 2, 11, 2, 4, 2, 5, 2, 7, 2, 17, 13, 2, 12, 19, 6, 464, 31, 314, 11, 2, 6, 2, 2, 11, 8, 202, 27, 310, 4, 2, 2, 8, 2, 58, 10, 10, 2, 2, 180, 40, 14, 413, 173, 7, 263, 112, 37, 152, 377, 4, 2, 263, 2, 2, 178, 54, 75, 71, 476, 36, 413, 263, 2, 182, 5, 17, 75, 2, 2, 36, 279, 131, 2, 17, 2, 42, 17, 35, 2, 2, 192, 5, 2, 2, 19, 2, 217, 2, 2, 2, 2, 2, 5, 2, 10, 10, 61, 403, 9, 2, 40, 61, 2, 5, 27, 2, 159, 90, 263, 2, 2, 309, 8, 178, 5, 82, 2, 4, 65, 15, 2, 145, 143, 2, 12, 2, 2, 2, 2, 2, 15, 2, 4, 2, 2, 7, 2, 94, 2, 2, 2, 11, 2, 4, 2, 7, 2, 246, 2, 9, 2, 11, 2, 14, 9, 51, 408, 12, 94, 318, 2, 12, 47, 6, 2, 2, 5, 2, 2, 19, 49, 7, 4, 2, 2, 2, 25, 80, 126, 2, 10, 10, 2, 2, 2, 27, 2, 11, 2, 2, 159, 27, 341, 29, 2, 19, 2, 173, 7, 90, 2, 8, 30, 11, 4, 2, 86, 2, 8, 2, 46, 11, 2, 21, 29, 9, 2, 23, 4, 2, 2, 2, 6, 2, 2, 2, 10, 10, 246, 50, 9, 6, 2, 2, 2, 90, 29, 2, 8, 124, 4, 2, 4, 2, 496, 27, 2, 2, 2, 121, 127, 2, 130, 5, 29, 494, 8, 124, 4, 2, 496, 4, 341, 7, 27, 2, 10, 10, 29, 9, 2, 8, 97, 6, 236, 2, 2, 8, 4, 2, 7, 31, 7, 2, 91, 2, 2, 70, 4, 2, 30, 2, 42, 9, 12, 32, 11, 2, 10, 10, 11, 14, 65, 44, 2, 75, 2, 2, 2, 2, 2, 4, 2, 7, 154, 5, 4, 2, 53, 2, 2, 7, 2, 2, 11, 399, 38, 75, 257, 2, 19, 2, 17, 29, 456, 4, 65, 7, 27, 205, 113, 10, 10, 2, 4, 2, 2, 9, 242, 4, 91, 2, 2, 5, 2, 307, 22, 7, 2, 126, 93, 40, 2, 13, 188, 2, 2, 19, 4, 2, 7, 2, 2, 23, 53, 2, 21, 82, 40, 2, 13, 2, 14, 280, 13, 219, 4, 2, 431, 2, 2, 4, 2, 2, 2, 7, 2, 5, 94, 40, 25, 238, 60, 2, 4, 2, 2, 2, 7, 4, 2, 132, 8, 67, 6, 22, 15, 9, 283, 8, 2, 14, 31, 9, 242, 2, 48, 25, 279, 2, 23, 12, 2, 195, 25, 238, 60, 2, 2, 4, 2, 7, 2, 5, 4, 2, 154, 2, 7, 2, 50, 26, 49, 2, 15, 2, 30, 2, 21, 64, 2])\n",
            " list([1, 249, 2, 7, 61, 113, 10, 10, 13, 2, 14, 20, 56, 33, 2, 18, 457, 88, 13, 2, 2, 45, 2, 13, 70, 79, 49, 2, 2, 13, 16, 355, 340, 355, 2, 96, 143, 4, 22, 32, 289, 7, 61, 369, 71, 2, 5, 13, 16, 131, 2, 249, 114, 249, 229, 249, 20, 13, 28, 126, 110, 13, 473, 8, 2, 61, 419, 56, 429, 6, 2, 18, 35, 2, 95, 474, 2, 5, 25, 124, 138, 88, 12, 421, 2, 52, 2, 2, 61, 419, 11, 13, 2, 15, 2, 20, 11, 4, 2, 5, 296, 12, 2, 5, 15, 421, 128, 74, 233, 334, 207, 126, 224, 12, 2, 298, 2, 2, 7, 2, 5, 2, 2, 43, 8, 79, 120, 15, 2, 13, 2, 25, 2, 18, 165, 170, 143, 19, 14, 5, 2, 6, 226, 251, 7, 61, 113])\n",
            " list([1, 2, 128, 74, 12, 2, 163, 15, 4, 2, 2, 2, 2, 32, 85, 156, 45, 40, 148, 139, 121, 2, 2, 10, 10, 2, 173, 4, 2, 2, 16, 2, 8, 4, 226, 65, 12, 43, 127, 24, 2, 10, 10])\n",
            " list([1, 2, 365, 2, 5, 2, 354, 11, 14, 2, 2, 7, 2, 2, 2, 356, 44, 4, 2, 2, 2, 5, 200, 4, 2, 11, 2, 2, 2, 2, 2, 5, 2, 26, 6, 2, 2, 17, 369, 37, 215, 2, 143, 2, 5, 2, 8, 2, 15, 36, 119, 257, 85, 52, 486, 9, 6, 2, 2, 63, 271, 6, 196, 96, 2, 2, 4, 2, 7, 4, 2, 2, 2, 63, 47, 77, 2, 180, 6, 227, 11, 94, 2, 2, 13, 423, 4, 168, 7, 4, 22, 5, 89, 2, 71, 270, 56, 5, 13, 197, 12, 161, 2, 99, 76, 23, 2, 7, 419, 2, 40, 91, 85, 108, 7, 4, 2, 5, 2, 81, 55, 52, 2])\n",
            " list([1, 4, 2, 2, 4, 65, 7, 4, 2, 2, 2, 2, 2, 2, 2, 2, 2, 2, 2, 2, 2, 2, 4, 2, 2, 2, 37, 9, 150, 4, 2, 2, 11, 2, 4, 2, 2, 313, 6, 176, 2, 9, 2, 138, 9, 2, 19, 4, 96, 183, 26, 4, 192, 15, 27, 2, 2, 2, 2, 2, 84, 11, 4, 2, 152, 339, 2, 42, 2, 2, 2, 345, 2, 2, 142, 43, 218, 208, 54, 29, 2, 2, 46, 4, 2, 183, 80, 115, 30, 4, 172, 174, 10, 10, 2, 398, 2, 2, 2, 34, 2, 2, 2, 2, 17, 4, 2, 2, 2, 64, 85, 22, 2, 2, 38, 230, 9, 4, 2, 2, 251, 2, 2, 195, 301, 14, 16, 31, 7, 4, 2, 8, 2, 2, 33, 4, 2, 103, 465, 2, 42, 2, 45, 446, 11, 2, 19, 184, 76, 32, 4, 2, 207, 110, 13, 197, 4, 2, 16, 2, 2, 2, 2, 13, 258, 4, 2, 66, 338, 55, 2, 4, 2, 2, 65, 2, 8, 2, 61, 2, 42, 2, 61, 2, 120, 45, 2, 6, 320, 2, 99, 196, 2, 2, 2, 4, 225, 4, 373, 2, 33, 4, 130, 63, 69, 72, 2, 46, 2, 225, 14, 66, 194, 2, 2, 56, 8, 2, 2, 6, 2, 155, 11, 4, 2, 2, 45, 2, 2, 8, 30, 6, 117, 430, 19, 6, 2, 9, 15, 66, 424, 8, 2, 178, 9, 15, 66, 424, 8, 2, 178, 9, 15, 66, 142, 15, 9, 424, 8, 28, 178, 2, 44, 12, 17, 4, 130, 2, 2, 9, 6, 2, 267, 185, 430, 4, 118, 2, 277, 15, 4, 2, 100, 216, 56, 19, 4, 357, 114, 2, 367, 45, 115, 93, 2, 121, 4, 2, 79, 32, 68, 278, 39, 8, 2, 162, 2, 237, 2, 7, 98, 306, 8, 157, 2, 2, 11, 6, 2, 13, 2, 15, 2, 76, 42, 138, 36, 2, 77, 2, 159, 150, 4, 229, 497, 8, 2, 11, 175, 251, 453, 19, 2, 189, 12, 43, 127, 6, 394, 292, 7, 2, 4, 107, 8, 4, 2, 15, 2, 2, 9, 2, 42, 2, 6, 66, 78, 22, 15, 13, 244, 2, 8, 135, 233, 52, 44, 10, 10, 466, 112, 398, 2, 34, 4, 2, 2, 2, 2, 225, 57, 2, 133, 225, 6, 227, 7, 2, 2, 6, 171, 139, 7, 2, 2, 56, 11, 6, 2, 21, 164, 25, 426, 81, 33, 344, 2, 19, 6, 2, 7, 2, 2, 6, 2, 4, 22, 9, 2, 2, 237, 45, 188, 6, 55, 2, 2, 2, 2, 225, 2, 2, 42, 2, 225, 6, 2, 2, 2, 2, 21, 4, 2, 9, 364, 23, 4, 2, 2, 225, 24, 76, 133, 18, 4, 189, 2, 10, 10, 2, 11, 2, 11, 2, 14, 47, 15, 2, 364, 352, 168, 44, 12, 45, 24, 2, 93, 21, 247, 2, 4, 116, 34, 35, 2, 8, 72, 177, 9, 164, 8, 2, 344, 44, 13, 191, 135, 13, 126, 421, 233, 18, 259, 10, 10, 4, 2, 2, 4, 2, 2, 7, 112, 199, 2, 357, 39, 63, 12, 115, 2, 2, 8, 15, 35, 2, 2, 65, 57, 2, 6, 2, 277, 2, 37, 25, 92, 202, 6, 2, 44, 25, 28, 6, 22, 15, 122, 24, 2, 72, 33, 32])\n",
            " list([1, 43, 188, 46, 5, 2, 264, 51, 6, 2, 2, 14, 9, 2, 81, 25, 2, 46, 7, 6, 20, 2, 11, 141, 2, 5, 2, 2, 102, 28, 413, 38, 120, 2, 15, 4, 2, 7, 2, 142, 371, 318, 5, 2, 2, 2, 2, 2, 122, 14, 8, 72, 54, 12, 86, 385, 46, 5, 14, 20, 9, 399, 8, 72, 150, 13, 161, 124, 6, 155, 44, 14, 159, 170, 83, 12, 5, 51, 6, 2, 48, 25, 2, 4, 2, 25, 238, 79, 4, 2, 15, 14, 9, 31, 7, 148, 2, 102, 44, 35, 480, 2, 2, 19, 120, 4, 350, 228, 5, 269, 8, 28, 178, 2, 2, 7, 51, 6, 87, 65, 12, 9, 2, 21, 95, 24, 2, 178, 11, 2, 14, 9, 24, 15, 20, 4, 84, 376, 4, 65, 14, 127, 141, 6, 52, 292, 7, 2, 175, 2, 7, 68, 2, 137, 75, 2, 68, 182, 5, 235, 175, 333, 19, 98, 50, 9, 38, 76, 2, 4, 2, 15, 166, 285, 36, 140, 143, 38, 76, 53, 2, 2, 4, 2, 16, 82, 6, 87, 2, 44, 2, 2, 5, 2, 4, 2, 11, 35, 2, 96, 21, 14, 22, 9, 76, 53, 7, 6, 406, 65, 13, 43, 219, 12, 2, 21, 13, 80, 140, 5, 135, 15, 14, 9, 31, 7, 4, 118, 2, 13, 28, 126, 110])\n",
            " list([1, 14, 20, 47, 111, 439, 2, 19, 12, 15, 166, 12, 216, 125, 40, 6, 364, 352, 2, 2, 39, 294, 11, 22, 396, 13, 28, 8, 202, 12, 2, 23, 94, 2, 151, 111, 211, 469, 4, 20, 13, 258, 2, 2, 2, 12, 16, 38, 78, 33, 211, 15, 12, 16, 2, 63, 93, 12, 6, 253, 106, 10, 10, 48, 335, 267, 18, 6, 364, 2, 2, 20, 19, 6, 2, 7, 2, 189, 5, 6, 2, 7, 2, 2, 95, 2, 6, 2, 7, 2, 2, 49, 369, 120, 5, 28, 49, 253, 10, 10, 13, 2, 19, 85, 2, 15, 4, 481, 9, 55, 78, 2, 9, 375, 8, 2, 8, 2, 76, 7, 4, 58, 5, 4, 2, 9, 243, 7, 43, 50])]\n",
            "[1 0 0 1 0 0 1 0 1 0]\n"
          ]
        }
      ]
    },
    {
      "cell_type": "markdown",
      "source": [
        "> 입력 데이터는 인덱스 마다 분리된 단어인 여러 개의 **토큰**으로 구성되어 있고, 타겟 데이터는 positive(1), negative(0)으로 이루어져 있음을 확인 가능"
      ],
      "metadata": {
        "id": "dw_wkuGWfoc8"
      }
    },
    {
      "cell_type": "markdown",
      "source": [
        "### 2. Create a validation-set\n",
        "- Import `sklearn.model_selection`\n",
        "- Using **`train_test_split()`**"
      ],
      "metadata": {
        "id": "21jlcw4ZgTuI"
      }
    },
    {
      "cell_type": "code",
      "source": [
        "from sklearn.model_selection import train_test_split\n",
        "\n",
        "train_input, valid_input, train_target, valid_target = train_test_split(\n",
        "    train_input, train_target, random_state=42, test_size=0.2\n",
        ")"
      ],
      "metadata": {
        "id": "Mz6Wgv-dudJG"
      },
      "execution_count": 3,
      "outputs": []
    },
    {
      "cell_type": "markdown",
      "source": [
        "### 3. Analysis of train-set\n",
        "- 리스트 내포를 이용해 train_input 내 원소를 순회하여 길이를 계산\n",
        "- `.mean()`, `.median()` 사용으로 평균과 중간값을 계산\n",
        "- Import `numpy` library\n",
        "  - Using `.array()`\n",
        "  - Using `.mean()`\n",
        "  - Using `.median()`"
      ],
      "metadata": {
        "id": "5msOqCucg9aI"
      }
    },
    {
      "cell_type": "code",
      "source": [
        "import numpy as np\n",
        "\n",
        "length = np.array([len(x) for x in train_input])\n",
        "\n",
        "print(np.mean(length), np.median(length))"
      ],
      "metadata": {
        "colab": {
          "base_uri": "https://localhost:8080/"
        },
        "id": "WcOpkpTgu_lK",
        "outputId": "31482547-e408-4136-d53a-907e4effd40e"
      },
      "execution_count": 4,
      "outputs": [
        {
          "output_type": "stream",
          "name": "stdout",
          "text": [
            "239.00925 178.0\n"
          ]
        }
      ]
    },
    {
      "cell_type": "markdown",
      "source": [
        "### 4. Data histogram visualization\n",
        "- Import `matplotlib.pyplot`\n",
        "  - Using **`hist()`**"
      ],
      "metadata": {
        "id": "kmE232Ghhux6"
      }
    },
    {
      "cell_type": "code",
      "source": [
        "import matplotlib.pyplot as plt\n",
        "plt.hist(length)\n",
        "plt.xlabel(\"length\")\n",
        "plt.ylabel(\"frequency\")\n",
        "plt.title(\"length histogram\")\n",
        "plt.show()"
      ],
      "metadata": {
        "colab": {
          "base_uri": "https://localhost:8080/",
          "height": 295
        },
        "id": "M6hw8XUGu_fl",
        "outputId": "ec0d9e80-80cf-438c-d5bd-07f84fe08c16"
      },
      "execution_count": 5,
      "outputs": [
        {
          "output_type": "display_data",
          "data": {
            "text/plain": [
              "<Figure size 432x288 with 1 Axes>"
            ],
            "image/png": "[encoded data removed]"
          },
          "metadata": {
            "needs_background": "light"
          }
        }
      ]
    },
    {
      "cell_type": "markdown",
      "source": [
        "> 대부분의 리뷰 데이터 길이는 300 미만이고 평균이 중간값보다 높은 이유는 마지막 데이터 길이로 갈 수록 큰 데이터가 존재하기 때문"
      ],
      "metadata": {
        "id": "JJ_LovxIiC7_"
      }
    },
    {
      "cell_type": "markdown",
      "source": [
        "### 5. Train-set preprocessing\n",
        "- 시퀀스 데이터의 길이를 맞추는 함수를 제공하므로 keras 라이브러리를 사용 \n",
        "- Import **`tensorflow.keras.preprocessing.sequence`**\n",
        "  - Using `pad_sequences`\n",
        "    - **`maxlen=_int`**: 최대 시퀀스의 길이 지정, 미지정시 가장 긴 시퀀스를 기준으로 패딩 적용"
      ],
      "metadata": {
        "id": "vFBC-CIIiQSk"
      }
    },
    {
      "cell_type": "code",
      "source": [
        "from tensorflow.keras.preprocessing.sequence import pad_sequences\n",
        "\n",
        "train_seq = pad_sequences(train_input, maxlen=100)\n",
        "#checkout\n",
        "print(train_seq.shape)"
      ],
      "metadata": {
        "colab": {
          "base_uri": "https://localhost:8080/"
        },
        "id": "bKGn04CLvwoJ",
        "outputId": "d4b5dabc-0609-4c60-8f5b-056a6b2e5e67"
      },
      "execution_count": 6,
      "outputs": [
        {
          "output_type": "stream",
          "name": "stdout",
          "text": [
            "(20000, 100)\n"
          ]
        }
      ]
    },
    {
      "cell_type": "code",
      "source": [
        "#additionally checkout first sample\n",
        "print(train_seq[0])\n",
        "print(train_seq[0][-10:])"
      ],
      "metadata": {
        "colab": {
          "base_uri": "https://localhost:8080/"
        },
        "id": "DyNtuxDowGes",
        "outputId": "2c7f61ed-2ce4-4c88-d297-640c37d92a4c"
      },
      "execution_count": 9,
      "outputs": [
        {
          "output_type": "stream",
          "name": "stdout",
          "text": [
            "[ 10   4  20   9   2 364 352   5  45   6   2   2  33 269   8   2 142   2\n",
            "   5   2  17  73  17 204   5   2  19  55   2   2  92  66 104  14  20  93\n",
            "  76   2 151  33   4  58  12 188   2 151  12 215  69 224 142  73 237   6\n",
            "   2   7   2   2 188   2 103  14  31  10  10 451   7   2   5   2  80  91\n",
            "   2  30   2  34  14  20 151  50  26 131  49   2  84  46  50  37  80  79\n",
            "   6   2  46   7  14  20  10  10 470 158]\n",
            "[  6   2  46   7  14  20  10  10 470 158]\n"
          ]
        }
      ]
    },
    {
      "cell_type": "markdown",
      "source": [
        "### 6. One-hot encoding\n",
        "- 정수값을 배열에서 해당 정수 위치의 원소만 1이고 나머지는 모두 0으로 변환\n",
        "- 단어 수를 길이로 하는 배열로 one-hot 인코딩을 진행\n",
        "- Import `keras` library\n",
        "  - Using **`keras.utils.to_categorical()`**\n"
      ],
      "metadata": {
        "id": "P_jgcnNUjDKT"
      }
    },
    {
      "cell_type": "code",
      "source": [
        "from tensorflow import keras\n",
        "\n",
        "train_oh = keras.utils.to_categorical(train_seq)\n",
        "#checkout\n",
        "print(\"train_oh\\n\",train_oh.shape)\n",
        "print(train_oh[0][0][:12])\n",
        "print(np.sum(train_oh[0][0]))"
      ],
      "metadata": {
        "colab": {
          "base_uri": "https://localhost:8080/"
        },
        "id": "TtmhGclvwh-7",
        "outputId": "05571177-841a-4986-b7e5-ef328e48f5ce"
      },
      "execution_count": 7,
      "outputs": [
        {
          "output_type": "stream",
          "name": "stdout",
          "text": [
            "train_oh\n",
            " (20000, 100, 500)\n",
            "[0. 0. 0. 0. 0. 0. 0. 0. 0. 0. 1. 0.]\n",
            "1.0\n"
          ]
        }
      ]
    },
    {
      "cell_type": "markdown",
      "source": [
        "> 처음 12개 원소를 출력해 11번 인덱스 원소가 1이라는 것을 확인했고, 모든 인덱스 원소를 더해 1이 나온 것도 확인 할 수 있음\n",
        "따라서 모든 토큰이 정상적으로 인코딩 된 것을 알 수 있음"
      ],
      "metadata": {
        "id": "Jt7OlmXkkt3Y"
      }
    },
    {
      "cell_type": "markdown",
      "source": [
        "### 7. Valid-set preprocessing\n",
        "- 훈련 세트와 동일한 시퀀스 패딩을 적용하고, one-hot 인코딩을 진행"
      ],
      "metadata": {
        "id": "U1klzWg1j2JT"
      }
    },
    {
      "cell_type": "code",
      "source": [
        "#pad_sequence\n",
        "valid_seq = pad_sequences(valid_input, maxlen=100)\n",
        "\n",
        "#one-hot encoding\n",
        "valid_oh = keras.utils.to_categorical(valid_seq)\n",
        "\n",
        "#checkout\n",
        "print(\"valid_oh\\n\",valid_oh.shape)\n",
        "print(valid_oh[0][0][:12])\n",
        "print(np.sum(valid_oh[0][0]))"
      ],
      "metadata": {
        "colab": {
          "base_uri": "https://localhost:8080/"
        },
        "id": "o8yifYy1yBCt",
        "outputId": "2bc2474f-84c8-40ed-aa5e-1f7c5f2a33f4"
      },
      "execution_count": 8,
      "outputs": [
        {
          "output_type": "stream",
          "name": "stdout",
          "text": [
            "valid_oh\n",
            " (5000, 100, 500)\n",
            "[0. 0. 0. 0. 0. 0. 0. 0. 0. 0. 0. 0.]\n",
            "1.0\n"
          ]
        }
      ]
    },
    {
      "cell_type": "markdown",
      "source": [
        "### 8. Create a Recurrent neural network(RNN) model\n",
        "- Using **`keras.layers.SimpleRNN()`**\n",
        "  - 순환 계층을 구현한 클래스\n",
        "  - `units=_int`: 순환 계층의 뉴런 개수(매개변수 명 생략 가능)\n",
        "  - `input_shape=(100, 500)`: 샘플의 크기\n",
        "  - `activation=tanh`"
      ],
      "metadata": {
        "id": "FH0SgVYUmaOU"
      }
    },
    {
      "cell_type": "code",
      "source": [
        "#SimpleRNN\n",
        "model = keras.Sequential([\n",
        "    keras.layers.SimpleRNN(8, input_shape=(100, 500)),\n",
        "    keras.layers.Dense(1, activation=\"sigmoid\")\n",
        "])\n",
        "\n",
        "model.summary()"
      ],
      "metadata": {
        "colab": {
          "base_uri": "https://localhost:8080/"
        },
        "id": "5oKj6MknzT7y",
        "outputId": "39bf342f-af48-4b95-a432-031c8320f70f"
      },
      "execution_count": 12,
      "outputs": [
        {
          "output_type": "stream",
          "name": "stdout",
          "text": [
            "Model: \"sequential\"\n",
            "_________________________________________________________________\n",
            " Layer (type)                Output Shape              Param #   \n",
            "=================================================================\n",
            " simple_rnn (SimpleRNN)      (None, 8)                 4072      \n",
            "                                                                 \n",
            " dense (Dense)               (None, 1)                 9         \n",
            "                                                                 \n",
            "=================================================================\n",
            "Total params: 4,081\n",
            "Trainable params: 4,081\n",
            "Non-trainable params: 0\n",
            "_________________________________________________________________\n"
          ]
        }
      ]
    },
    {
      "cell_type": "markdown",
      "source": [
        "### 9. Training a Recurrent neural network model\n",
        "- RMSprop Optimizer 사용하는 대신 기존 LR 사용을 하지 않기 위해 별도 RMSprop 객체 생성\n",
        "- Using **`keras.optimizers.RMSprop()`**\n",
        "  - Using **`learnig_rate=_1E`**: 지수표기법 사용\n",
        "- Using **`keras.callbacks.ModelCheckpoint()`**\n",
        "- Using **`keras.callbacks.EarlyStopping()`**\n",
        "- Using `history()`\n"
      ],
      "metadata": {
        "id": "6H61zI2enS6w"
      }
    },
    {
      "cell_type": "code",
      "source": [
        "rmsprop = keras.optimizers.RMSprop(learning_rate=1e-4) #lr= 0.0001\n",
        "\n",
        "model.compile(optimizer=rmsprop, loss=\"binary_crossentropy\", metrics=[\"accuracy\"])\n",
        "\n",
        "checkpoint_model = keras.callbacks.ModelCheckpoint(\"best-simplernn-model.h5\", save_best_only=True,)\n",
        "\n",
        "early_stopping_model = keras.callbacks.EarlyStopping(patience=3, restore_best_weights=True)\n",
        "\n",
        "history = model.fit(\n",
        "    train_oh, train_target, epochs=50, batch_size=64, validation_data=(valid_oh, valid_target),\n",
        "    callbacks=([checkpoint_model, early_stopping_model])\n",
        ")\n",
        "\n"
      ],
      "metadata": {
        "colab": {
          "base_uri": "https://localhost:8080/"
        },
        "id": "Q3LrQxVY0lT-",
        "outputId": "f900b2f6-0734-4072-e3f6-ebdbb25dc1b6"
      },
      "execution_count": 13,
      "outputs": [
        {
          "output_type": "stream",
          "name": "stdout",
          "text": [
            "Epoch 1/50\n",
            "313/313 [==============================] - 26s 72ms/step - loss: 0.6988 - accuracy: 0.5092 - val_loss: 0.6896 - val_accuracy: 0.5406\n",
            "Epoch 2/50\n",
            "313/313 [==============================] - 22s 69ms/step - loss: 0.6789 - accuracy: 0.5743 - val_loss: 0.6675 - val_accuracy: 0.6006\n",
            "Epoch 3/50\n",
            "313/313 [==============================] - 22s 70ms/step - loss: 0.6586 - accuracy: 0.6237 - val_loss: 0.6492 - val_accuracy: 0.6378\n",
            "Epoch 4/50\n",
            "313/313 [==============================] - 23s 73ms/step - loss: 0.6330 - accuracy: 0.6720 - val_loss: 0.6251 - val_accuracy: 0.6842\n",
            "Epoch 5/50\n",
            "313/313 [==============================] - 22s 70ms/step - loss: 0.6129 - accuracy: 0.6989 - val_loss: 0.6117 - val_accuracy: 0.6946\n",
            "Epoch 6/50\n",
            "313/313 [==============================] - 22s 70ms/step - loss: 0.5958 - accuracy: 0.7161 - val_loss: 0.5938 - val_accuracy: 0.7138\n",
            "Epoch 7/50\n",
            "313/313 [==============================] - 22s 70ms/step - loss: 0.5799 - accuracy: 0.7297 - val_loss: 0.5775 - val_accuracy: 0.7260\n",
            "Epoch 8/50\n",
            "313/313 [==============================] - 22s 69ms/step - loss: 0.5651 - accuracy: 0.7438 - val_loss: 0.5645 - val_accuracy: 0.7418\n",
            "Epoch 9/50\n",
            "313/313 [==============================] - 23s 73ms/step - loss: 0.5514 - accuracy: 0.7545 - val_loss: 0.5537 - val_accuracy: 0.7430\n",
            "Epoch 10/50\n",
            "313/313 [==============================] - 22s 71ms/step - loss: 0.5382 - accuracy: 0.7601 - val_loss: 0.5411 - val_accuracy: 0.7558\n",
            "Epoch 11/50\n",
            "313/313 [==============================] - 23s 72ms/step - loss: 0.5262 - accuracy: 0.7687 - val_loss: 0.5309 - val_accuracy: 0.7596\n",
            "Epoch 12/50\n",
            "313/313 [==============================] - 22s 70ms/step - loss: 0.5151 - accuracy: 0.7735 - val_loss: 0.5209 - val_accuracy: 0.7638\n",
            "Epoch 13/50\n",
            "313/313 [==============================] - 21s 68ms/step - loss: 0.5048 - accuracy: 0.7800 - val_loss: 0.5209 - val_accuracy: 0.7600\n",
            "Epoch 14/50\n",
            "313/313 [==============================] - 21s 68ms/step - loss: 0.4958 - accuracy: 0.7829 - val_loss: 0.5146 - val_accuracy: 0.7624\n",
            "Epoch 15/50\n",
            "313/313 [==============================] - 21s 68ms/step - loss: 0.4881 - accuracy: 0.7862 - val_loss: 0.4992 - val_accuracy: 0.7734\n",
            "Epoch 16/50\n",
            "313/313 [==============================] - 21s 68ms/step - loss: 0.4802 - accuracy: 0.7904 - val_loss: 0.4930 - val_accuracy: 0.7752\n",
            "Epoch 17/50\n",
            "313/313 [==============================] - 21s 67ms/step - loss: 0.4735 - accuracy: 0.7924 - val_loss: 0.4961 - val_accuracy: 0.7690\n",
            "Epoch 18/50\n",
            "313/313 [==============================] - 22s 71ms/step - loss: 0.4675 - accuracy: 0.7946 - val_loss: 0.4810 - val_accuracy: 0.7844\n",
            "Epoch 19/50\n",
            "313/313 [==============================] - 21s 68ms/step - loss: 0.4622 - accuracy: 0.7982 - val_loss: 0.4775 - val_accuracy: 0.7828\n",
            "Epoch 20/50\n",
            "313/313 [==============================] - 22s 70ms/step - loss: 0.4570 - accuracy: 0.7994 - val_loss: 0.4901 - val_accuracy: 0.7718\n",
            "Epoch 21/50\n",
            "313/313 [==============================] - 22s 71ms/step - loss: 0.4528 - accuracy: 0.8014 - val_loss: 0.4793 - val_accuracy: 0.7754\n",
            "Epoch 22/50\n",
            "313/313 [==============================] - 21s 68ms/step - loss: 0.4484 - accuracy: 0.8037 - val_loss: 0.4676 - val_accuracy: 0.7884\n",
            "Epoch 23/50\n",
            "313/313 [==============================] - 21s 68ms/step - loss: 0.4449 - accuracy: 0.8047 - val_loss: 0.4683 - val_accuracy: 0.7846\n",
            "Epoch 24/50\n",
            "313/313 [==============================] - 21s 68ms/step - loss: 0.4416 - accuracy: 0.8049 - val_loss: 0.4638 - val_accuracy: 0.7894\n",
            "Epoch 25/50\n",
            "313/313 [==============================] - 22s 69ms/step - loss: 0.4378 - accuracy: 0.8092 - val_loss: 0.4638 - val_accuracy: 0.7872\n",
            "Epoch 26/50\n",
            "313/313 [==============================] - 21s 67ms/step - loss: 0.4354 - accuracy: 0.8101 - val_loss: 0.4635 - val_accuracy: 0.7918\n",
            "Epoch 27/50\n",
            "313/313 [==============================] - 21s 67ms/step - loss: 0.4329 - accuracy: 0.8099 - val_loss: 0.4581 - val_accuracy: 0.7900\n",
            "Epoch 28/50\n",
            "313/313 [==============================] - 21s 68ms/step - loss: 0.4300 - accuracy: 0.8124 - val_loss: 0.4583 - val_accuracy: 0.7926\n",
            "Epoch 29/50\n",
            "313/313 [==============================] - 21s 68ms/step - loss: 0.4279 - accuracy: 0.8128 - val_loss: 0.4584 - val_accuracy: 0.7922\n",
            "Epoch 30/50\n",
            "313/313 [==============================] - 21s 67ms/step - loss: 0.4256 - accuracy: 0.8127 - val_loss: 0.4557 - val_accuracy: 0.7916\n",
            "Epoch 31/50\n",
            "313/313 [==============================] - 22s 70ms/step - loss: 0.4243 - accuracy: 0.8124 - val_loss: 0.4548 - val_accuracy: 0.7900\n",
            "Epoch 32/50\n",
            "313/313 [==============================] - 22s 70ms/step - loss: 0.4223 - accuracy: 0.8166 - val_loss: 0.4593 - val_accuracy: 0.7902\n",
            "Epoch 33/50\n",
            "313/313 [==============================] - 22s 69ms/step - loss: 0.4205 - accuracy: 0.8151 - val_loss: 0.4552 - val_accuracy: 0.7916\n",
            "Epoch 34/50\n",
            "313/313 [==============================] - 21s 68ms/step - loss: 0.4195 - accuracy: 0.8161 - val_loss: 0.4534 - val_accuracy: 0.7946\n",
            "Epoch 35/50\n",
            "313/313 [==============================] - 21s 67ms/step - loss: 0.4171 - accuracy: 0.8181 - val_loss: 0.4533 - val_accuracy: 0.7918\n",
            "Epoch 36/50\n",
            "313/313 [==============================] - 21s 68ms/step - loss: 0.4168 - accuracy: 0.8153 - val_loss: 0.4533 - val_accuracy: 0.7916\n",
            "Epoch 37/50\n",
            "313/313 [==============================] - 22s 69ms/step - loss: 0.4148 - accuracy: 0.8169 - val_loss: 0.4529 - val_accuracy: 0.7942\n",
            "Epoch 38/50\n",
            "313/313 [==============================] - 21s 67ms/step - loss: 0.4134 - accuracy: 0.8191 - val_loss: 0.4557 - val_accuracy: 0.7892\n",
            "Epoch 39/50\n",
            "313/313 [==============================] - 21s 68ms/step - loss: 0.4126 - accuracy: 0.8191 - val_loss: 0.4528 - val_accuracy: 0.7938\n",
            "Epoch 40/50\n",
            "313/313 [==============================] - 22s 69ms/step - loss: 0.4111 - accuracy: 0.8201 - val_loss: 0.4529 - val_accuracy: 0.7936\n",
            "Epoch 41/50\n",
            "313/313 [==============================] - 21s 68ms/step - loss: 0.4101 - accuracy: 0.8209 - val_loss: 0.4574 - val_accuracy: 0.7878\n",
            "Epoch 42/50\n",
            "313/313 [==============================] - 22s 69ms/step - loss: 0.4087 - accuracy: 0.8223 - val_loss: 0.4525 - val_accuracy: 0.7944\n",
            "Epoch 43/50\n",
            "313/313 [==============================] - 22s 69ms/step - loss: 0.4080 - accuracy: 0.8230 - val_loss: 0.4568 - val_accuracy: 0.7962\n",
            "Epoch 44/50\n",
            "313/313 [==============================] - 21s 68ms/step - loss: 0.4062 - accuracy: 0.8243 - val_loss: 0.4540 - val_accuracy: 0.7940\n",
            "Epoch 45/50\n",
            "313/313 [==============================] - 21s 68ms/step - loss: 0.4055 - accuracy: 0.8253 - val_loss: 0.4521 - val_accuracy: 0.7956\n",
            "Epoch 46/50\n",
            "313/313 [==============================] - 21s 67ms/step - loss: 0.4044 - accuracy: 0.8238 - val_loss: 0.4543 - val_accuracy: 0.7988\n",
            "Epoch 47/50\n",
            "313/313 [==============================] - 22s 69ms/step - loss: 0.4040 - accuracy: 0.8248 - val_loss: 0.4528 - val_accuracy: 0.7886\n",
            "Epoch 48/50\n",
            "313/313 [==============================] - 21s 68ms/step - loss: 0.4029 - accuracy: 0.8249 - val_loss: 0.4545 - val_accuracy: 0.7962\n"
          ]
        }
      ]
    },
    {
      "cell_type": "markdown",
      "source": [
        "### 10. Check training loss and validation loss with graph\n",
        "- Using `.plot()`\n",
        "- Using `.history`\n",
        "- Using `.legend()`"
      ],
      "metadata": {
        "id": "0GHIV9Q8sbiP"
      }
    },
    {
      "cell_type": "code",
      "source": [
        "plt.plot(history.history[\"loss\"])\n",
        "plt.plot(history.history[\"val_loss\"])\n",
        "plt.xlabel(\"epochs\")\n",
        "plt.ylabel(\"loss\")\n",
        "plt.legend([\"train\", \"valid\"])\n",
        "plt.title(\"Simple RNN model loss graph\")\n",
        "plt.show()"
      ],
      "metadata": {
        "colab": {
          "base_uri": "https://localhost:8080/",
          "height": 295
        },
        "id": "KAaUM9gs4rQh",
        "outputId": "a7f7395d-20b0-4c67-f136-6cca7a5044e2"
      },
      "execution_count": 14,
      "outputs": [
        {
          "output_type": "display_data",
          "data": {
            "text/plain": [
              "<Figure size 432x288 with 1 Axes>"
            ],
            "image/png": "[encoded data removed]"
          },
          "metadata": {
            "needs_background": "light"
          }
        }
      ]
    },
    {
      "cell_type": "markdown",
      "source": [
        "> train loss는 꾸준히 감소하는 경향이 있으나, valid loss는 감소세가 점점 둔화하는 경향을 보이고 있음"
      ],
      "metadata": {
        "id": "J9ajvHQTtAtD"
      }
    },
    {
      "cell_type": "markdown",
      "source": [
        "### 11. Using Embedding to create a embed model\n",
        "- 단어를 고정된 크기의 실수 벡터로 표현\n",
        "- one-hot 인코딩 방식보다 직관적임\n",
        "- Using **` keras.layers.Embedding()`**\n",
        "  - `input_dim=_int`: 입력 차원 크기\n",
        "  - `output_dim=_int`: 임베딩된 벡터 크기\n",
        "  - `input_length=None`(default): 입력 시퀀스 길이\n",
        "  "
      ],
      "metadata": {
        "id": "ShvE-7U_tM_Z"
      }
    },
    {
      "cell_type": "code",
      "source": [
        "embed_model = keras.Sequential([\n",
        "    keras.layers.Embedding(500, 16, input_length=(100)),\n",
        "    keras.layers.SimpleRNN(8),\n",
        "    keras.layers.Dense(1, activation=\"sigmoid\")\n",
        "])\n",
        "\n",
        "embed_model.summary()"
      ],
      "metadata": {
        "colab": {
          "base_uri": "https://localhost:8080/"
        },
        "id": "Tcya1eLm5SXU",
        "outputId": "aca492f1-32dd-4e67-ec77-ecd5edb94e1b"
      },
      "execution_count": 9,
      "outputs": [
        {
          "output_type": "stream",
          "name": "stdout",
          "text": [
            "Model: \"sequential\"\n",
            "_________________________________________________________________\n",
            " Layer (type)                Output Shape              Param #   \n",
            "=================================================================\n",
            " embedding (Embedding)       (None, 100, 16)           8000      \n",
            "                                                                 \n",
            " simple_rnn (SimpleRNN)      (None, 8)                 200       \n",
            "                                                                 \n",
            " dense (Dense)               (None, 1)                 9         \n",
            "                                                                 \n",
            "=================================================================\n",
            "Total params: 8,209\n",
            "Trainable params: 8,209\n",
            "Non-trainable params: 0\n",
            "_________________________________________________________________\n"
          ]
        }
      ]
    },
    {
      "cell_type": "markdown",
      "source": [
        "### 12. Training a Recurrent neural network model with Embedding\n",
        "- RMSprop Optimizer 사용하는 대신 기존 LR 사용을 하지 않기 위해 별도 RMSprop 객체 생성\n",
        "- Using **`keras.optimizers.RMSprop()`**\n",
        "  - Using **`learnig_rate=_1E`**: 지수표기법 사용\n",
        "- Using **`keras.callbacks.ModelCheckpoint()`**\n",
        "- Using **`keras.callbacks.EarlyStopping()`**\n",
        "- Using `history()`\n"
      ],
      "metadata": {
        "id": "K4M0l30auFxM"
      }
    },
    {
      "cell_type": "code",
      "source": [
        "rmsprop = keras.optimizers.RMSprop(learning_rate=1e-4) #lr= 0.0001\n",
        "\n",
        "embed_model.compile(optimizer=rmsprop, loss=\"binary_crossentropy\", metrics=[\"accuracy\"])\n",
        "\n",
        "checkpoint_embed_model = keras.callbacks.ModelCheckpoint(\"best-embedding-model.h5\", save_best_only=True,)\n",
        "\n",
        "early_stopping_embed_model = keras.callbacks.EarlyStopping(patience=3, restore_best_weights=True)\n",
        "\n",
        "history = embed_model.fit(\n",
        "    train_seq, train_target, epochs=50, batch_size=64, validation_data=(valid_seq, valid_target),\n",
        "    callbacks=([checkpoint_embed_model, early_stopping_embed_model])\n",
        ")"
      ],
      "metadata": {
        "id": "rKqsINog6Yy3",
        "colab": {
          "base_uri": "https://localhost:8080/"
        },
        "outputId": "da3dfd99-f87f-4c56-c947-e0f4ef2d9388"
      },
      "execution_count": 11,
      "outputs": [
        {
          "output_type": "stream",
          "name": "stdout",
          "text": [
            "Epoch 1/50\n",
            "313/313 [==============================] - 28s 85ms/step - loss: 0.6725 - accuracy: 0.5940 - val_loss: 0.6477 - val_accuracy: 0.6570\n",
            "Epoch 2/50\n",
            "313/313 [==============================] - 26s 84ms/step - loss: 0.6307 - accuracy: 0.6873 - val_loss: 0.6216 - val_accuracy: 0.7048\n",
            "Epoch 3/50\n",
            "313/313 [==============================] - 26s 84ms/step - loss: 0.6051 - accuracy: 0.7251 - val_loss: 0.5994 - val_accuracy: 0.7280\n",
            "Epoch 4/50\n",
            "313/313 [==============================] - 28s 88ms/step - loss: 0.5827 - accuracy: 0.7465 - val_loss: 0.5773 - val_accuracy: 0.7490\n",
            "Epoch 5/50\n",
            "313/313 [==============================] - 27s 87ms/step - loss: 0.5614 - accuracy: 0.7612 - val_loss: 0.5638 - val_accuracy: 0.7436\n",
            "Epoch 6/50\n",
            "313/313 [==============================] - 26s 84ms/step - loss: 0.5408 - accuracy: 0.7731 - val_loss: 0.5412 - val_accuracy: 0.7644\n",
            "Epoch 7/50\n",
            "313/313 [==============================] - 27s 86ms/step - loss: 0.5223 - accuracy: 0.7829 - val_loss: 0.5301 - val_accuracy: 0.7628\n",
            "Epoch 8/50\n",
            "313/313 [==============================] - 26s 83ms/step - loss: 0.5051 - accuracy: 0.7889 - val_loss: 0.5167 - val_accuracy: 0.7684\n",
            "Epoch 9/50\n",
            "313/313 [==============================] - 26s 84ms/step - loss: 0.4908 - accuracy: 0.7928 - val_loss: 0.5057 - val_accuracy: 0.7722\n",
            "Epoch 10/50\n",
            "313/313 [==============================] - 27s 86ms/step - loss: 0.4785 - accuracy: 0.7959 - val_loss: 0.4941 - val_accuracy: 0.7770\n",
            "Epoch 11/50\n",
            "313/313 [==============================] - 26s 83ms/step - loss: 0.4686 - accuracy: 0.8008 - val_loss: 0.4867 - val_accuracy: 0.7802\n",
            "Epoch 12/50\n",
            "313/313 [==============================] - 27s 87ms/step - loss: 0.4609 - accuracy: 0.8026 - val_loss: 0.4825 - val_accuracy: 0.7784\n",
            "Epoch 13/50\n",
            "313/313 [==============================] - 26s 84ms/step - loss: 0.4538 - accuracy: 0.8044 - val_loss: 0.4807 - val_accuracy: 0.7790\n",
            "Epoch 14/50\n",
            "313/313 [==============================] - 27s 85ms/step - loss: 0.4492 - accuracy: 0.8067 - val_loss: 0.4736 - val_accuracy: 0.7846\n",
            "Epoch 15/50\n",
            "313/313 [==============================] - 27s 85ms/step - loss: 0.4449 - accuracy: 0.8080 - val_loss: 0.4733 - val_accuracy: 0.7818\n",
            "Epoch 16/50\n",
            "313/313 [==============================] - 26s 84ms/step - loss: 0.4408 - accuracy: 0.8115 - val_loss: 0.4744 - val_accuracy: 0.7772\n",
            "Epoch 17/50\n",
            "313/313 [==============================] - 26s 83ms/step - loss: 0.4382 - accuracy: 0.8129 - val_loss: 0.4727 - val_accuracy: 0.7752\n",
            "Epoch 18/50\n",
            "313/313 [==============================] - 26s 83ms/step - loss: 0.4353 - accuracy: 0.8140 - val_loss: 0.4680 - val_accuracy: 0.7840\n",
            "Epoch 19/50\n",
            "313/313 [==============================] - 26s 83ms/step - loss: 0.4332 - accuracy: 0.8128 - val_loss: 0.4677 - val_accuracy: 0.7844\n",
            "Epoch 20/50\n",
            "313/313 [==============================] - 26s 83ms/step - loss: 0.4307 - accuracy: 0.8146 - val_loss: 0.4641 - val_accuracy: 0.7828\n",
            "Epoch 21/50\n",
            "313/313 [==============================] - 27s 86ms/step - loss: 0.4284 - accuracy: 0.8166 - val_loss: 0.4649 - val_accuracy: 0.7814\n",
            "Epoch 22/50\n",
            "313/313 [==============================] - 26s 83ms/step - loss: 0.4262 - accuracy: 0.8155 - val_loss: 0.4674 - val_accuracy: 0.7786\n",
            "Epoch 23/50\n",
            "313/313 [==============================] - 27s 85ms/step - loss: 0.4238 - accuracy: 0.8177 - val_loss: 0.4640 - val_accuracy: 0.7812\n",
            "Epoch 24/50\n",
            "313/313 [==============================] - 26s 83ms/step - loss: 0.4211 - accuracy: 0.8179 - val_loss: 0.4620 - val_accuracy: 0.7830\n",
            "Epoch 25/50\n",
            "313/313 [==============================] - 27s 86ms/step - loss: 0.4197 - accuracy: 0.8204 - val_loss: 0.4661 - val_accuracy: 0.7824\n",
            "Epoch 26/50\n",
            "313/313 [==============================] - 27s 85ms/step - loss: 0.4177 - accuracy: 0.8184 - val_loss: 0.4640 - val_accuracy: 0.7824\n",
            "Epoch 27/50\n",
            "313/313 [==============================] - 26s 84ms/step - loss: 0.4164 - accuracy: 0.8207 - val_loss: 0.4655 - val_accuracy: 0.7836\n"
          ]
        }
      ]
    },
    {
      "cell_type": "markdown",
      "source": [
        "### 13. Check training loss and validation loss with graph\n",
        "- Using `.plot()`\n",
        "- Using `.history`\n",
        "- Using `.legend()`"
      ],
      "metadata": {
        "id": "cBV2n6B1vFfZ"
      }
    },
    {
      "cell_type": "code",
      "source": [
        "plt.plot(history.history[\"loss\"])\n",
        "plt.plot(history.history[\"val_loss\"])\n",
        "plt.xlabel(\"epochs\")\n",
        "plt.ylabel(\"loss\")\n",
        "plt.legend([\"train\", \"valid\"])\n",
        "plt.title(\"embed model loss graph\")\n",
        "plt.show()"
      ],
      "metadata": {
        "colab": {
          "base_uri": "https://localhost:8080/",
          "height": 295
        },
        "outputId": "93b01c7e-1ce7-45b2-b67d-b0b8cb7b9f53",
        "id": "7_iAMvG9vANJ"
      },
      "execution_count": 12,
      "outputs": [
        {
          "output_type": "display_data",
          "data": {
            "text/plain": [
              "<Figure size 432x288 with 1 Axes>"
            ],
            "image/png": "[encoded data removed]"
          },
          "metadata": {
            "needs_background": "light"
          }
        }
      ]
    },
    {
      "cell_type": "markdown",
      "source": [
        "> 임베딩을 사용했다고 해서 확실한 성능 개선을 보장하는 것은 아니지만, 방대한 양의 단어 데이터를 처리할 때 효율이 증가할 것이라 판단함"
      ],
      "metadata": {
        "id": "7eYdQToAyNpJ"
      }
    }
  ]
}