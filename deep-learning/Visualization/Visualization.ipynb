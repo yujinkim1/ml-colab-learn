{
  "nbformat": 4,
  "nbformat_minor": 0,
  "metadata": {
    "colab": {
      "provenance": []
    },
    "kernelspec": {
      "name": "python3",
      "display_name": "Python 3"
    },
    "language_info": {
      "name": "python"
    },
    "accelerator": "GPU",
    "gpuClass": "standard"
  },
  "cells": [
    {
      "cell_type": "markdown",
      "source": [
        "# Visualization\n",
        "\n",
        "- **Black box**\n",
        "  - 내부 작업의 어떤 이해없이 입력과 결과의 측면으로 볼 수 있는 시스템\n",
        "  - 입력에 대한 출력만 있을 뿐 내부 작업이 명확하지 않은 것\n",
        "  - 인공 신경망에서의 은닉 층을 분석하는 것이 어려움\n",
        "- **Weighted Visualization**\n",
        "  - 합성곱 층은 여러 개의 필터를 사용해 이미지의 특징을 학습\n",
        "  - 필터에는 커널(kernel)이라는 가중치가 존재하고 가중치는 이미지의 2차원 영역에 적용되어 어떠한 특징을 뚜렷하게 만드는 역할을 수행\n",
        "- **Feature Map Visualization**\n",
        "  - 합성곱층을 입력 이미지와 필터를 연산해서 얻은 결과\n",
        "  - 합성곱층의 입력과 출력을 확인할 수 있다면, 특성 맵에 대한 시각화도 가능할 것\n",
        "- Functional API \n",
        "  - 객체를 함수처럼 호출해 값을 반환하도록 할 수 있음\n",
        "  - **`keras.Model(inputs, outputs)`**\n",
        "  - Model 클래스에 입력과 출력을 지정해 모델을 완성\n",
        "  - 최신의 딥러닝 모델은 입력이 2개 이상이거나 출력이 2개 이상인 복잡한 모델을 Functional API로 구현"
      ],
      "metadata": {
        "id": "CIksAfpwaV3_"
      }
    },
    {
      "cell_type": "markdown",
      "source": [
        "### 1. Load a model\n",
        "- Using `keras.models.load_model()`\n",
        "- `best-cnn-model.h5`"
      ],
      "metadata": {
        "id": "i_HPKqqKbzqQ"
      }
    },
    {
      "cell_type": "code",
      "execution_count": null,
      "metadata": {
        "colab": {
          "base_uri": "https://localhost:8080/"
        },
        "id": "WK7WoiRKaOMq",
        "outputId": "7dce333d-c75c-47a3-9023-36e5ce9b72f3"
      },
      "outputs": [
        {
          "output_type": "execute_result",
          "data": {
            "text/plain": [
              "[<keras.layers.convolutional.conv2d.Conv2D at 0x7f6cd0d34710>,\n",
              " <keras.layers.pooling.max_pooling2d.MaxPooling2D at 0x7f6cc0161490>,\n",
              " <keras.layers.convolutional.conv2d.Conv2D at 0x7f6cc0161290>,\n",
              " <keras.layers.pooling.max_pooling2d.MaxPooling2D at 0x7f6cc0161c50>,\n",
              " <keras.layers.reshaping.flatten.Flatten at 0x7f6cc0161550>,\n",
              " <keras.layers.core.dense.Dense at 0x7f6cc00b7dd0>,\n",
              " <keras.layers.regularization.dropout.Dropout at 0x7f6cc012bd90>,\n",
              " <keras.layers.core.dense.Dense at 0x7f6cc00b3590>]"
            ]
          },
          "metadata": {},
          "execution_count": 4
        }
      ],
      "source": [
        "from tensorflow import keras\n",
        "model = keras.models.load_model(\"best-cnn-model.h5\")\n",
        "model.layers"
      ]
    },
    {
      "cell_type": "markdown",
      "source": [
        "### 2. The first layer **mean** and **std** of the weighted array\n",
        "- Using `.numpy()`\n",
        "  - `.mean()`\n",
        "  - `.std()`\n",
        "  - 합성곱 층의 가중치 정보는 층의 weights 속성에 Tensor 객체로 저장\n",
        "  - Tensor 객체를 ndarray 형식으로 변환\n",
        "- `layers[0]`: 계층 위치\n",
        "- `weights[0]`: 가중치\n",
        "- `weights[1]`: 절편"
      ],
      "metadata": {
        "id": "9jpg6Dj5eXuA"
      }
    },
    {
      "cell_type": "code",
      "source": [
        "conv = model.layers[0]\n",
        "print(conv.weights[0].shape, conv.weights[1].shape)"
      ],
      "metadata": {
        "colab": {
          "base_uri": "https://localhost:8080/"
        },
        "id": "Si9nkecnbyvP",
        "outputId": "58b28851-31e0-4d7b-c651-bfeca958519f"
      },
      "execution_count": null,
      "outputs": [
        {
          "output_type": "stream",
          "name": "stdout",
          "text": [
            "(3, 3, 1, 32) (32,)\n"
          ]
        }
      ]
    },
    {
      "cell_type": "code",
      "source": [
        "print(conv.weights)"
      ],
      "metadata": {
        "colab": {
          "base_uri": "https://localhost:8080/"
        },
        "id": "WjRYupy1d21Z",
        "outputId": "03405bff-80d0-4439-a281-dcb1fb8d3e3d"
      },
      "execution_count": null,
      "outputs": [
        {
          "output_type": "stream",
          "name": "stdout",
          "text": [
            "[<tf.Variable 'conv2d/kernel:0' shape=(3, 3, 1, 32) dtype=float32, numpy=\n",
            "array([[[[ 1.96579993e-01,  3.00833315e-01, -8.10605362e-02,\n",
            "          -6.52519763e-02, -2.33154938e-01, -1.59487531e-01,\n",
            "           9.99830663e-02,  1.73494861e-01, -1.23639703e-01,\n",
            "          -3.13445747e-01,  1.06973521e-01,  1.48146570e-01,\n",
            "          -7.96341896e-02, -3.05463355e-02,  3.81662976e-04,\n",
            "          -3.42415459e-02, -3.38846266e-01,  1.69217274e-01,\n",
            "           5.71671166e-02, -2.47436166e-01,  1.24241315e-01,\n",
            "           2.65505344e-01,  4.89876792e-02, -1.14358895e-01,\n",
            "          -3.50715399e-01,  1.07617915e-01,  2.55738199e-01,\n",
            "          -4.15108874e-02,  2.03738928e-01,  5.77293225e-02,\n",
            "          -3.20400566e-01, -1.27120852e+00]],\n",
            "\n",
            "        [[-1.36562899e-01, -3.43119532e-01,  6.70614094e-02,\n",
            "           2.40577638e-01, -2.16994569e-01,  9.79503058e-03,\n",
            "          -2.10470632e-01, -2.00331300e-01, -2.11722553e-01,\n",
            "          -2.04585582e-01,  8.83049071e-02, -2.41925821e-01,\n",
            "           2.42960066e-01,  5.31815886e-02,  2.07537189e-02,\n",
            "           2.45610222e-01, -2.85538267e-02,  1.25917390e-01,\n",
            "           2.12430671e-01, -4.81963724e-01,  2.39870623e-01,\n",
            "          -2.96759810e-02, -1.31752372e-01,  1.66661322e-01,\n",
            "          -8.46685469e-02, -1.57122657e-01,  1.86472572e-02,\n",
            "           1.00039661e-01, -1.91193596e-01,  1.21351637e-01,\n",
            "           2.87812918e-01, -1.07604110e+00]],\n",
            "\n",
            "        [[-6.23870976e-02,  6.16511516e-02,  7.25679696e-02,\n",
            "          -2.72397637e-01,  7.67801329e-02,  2.79051393e-01,\n",
            "          -3.13099697e-02,  4.20207456e-02, -3.25056285e-01,\n",
            "          -6.04442619e-02, -9.07902047e-02,  1.87122673e-01,\n",
            "          -1.31637707e-01,  1.48099465e-02,  7.47392699e-02,\n",
            "          -3.58189225e-01,  3.30143720e-01,  1.36204273e-01,\n",
            "          -2.38656655e-01, -1.32897049e-02,  1.36828870e-01,\n",
            "          -3.73681754e-01, -3.01289950e-02,  2.51472462e-02,\n",
            "           3.43314171e-01,  9.72600654e-02,  2.52406597e-01,\n",
            "           3.00857306e-01, -2.02104986e-01,  6.43414110e-02,\n",
            "          -3.44551764e-02, -9.24483091e-02]]],\n",
            "\n",
            "\n",
            "       [[[ 2.01195590e-02, -4.73665409e-02, -3.25049371e-01,\n",
            "          -2.91619226e-02,  2.05114335e-02, -2.19701558e-01,\n",
            "          -5.08936755e-02,  2.69068986e-01,  2.04239100e-01,\n",
            "           1.34969980e-01, -2.26491950e-02, -1.95381939e-01,\n",
            "          -2.70534784e-01, -3.20550054e-01,  1.14633821e-01,\n",
            "           1.29952207e-01,  1.83989167e-01,  2.68542409e-01,\n",
            "           2.65627056e-01,  1.38056576e-01,  1.21916048e-02,\n",
            "           6.66303374e-03,  9.73962471e-02, -1.77757636e-01,\n",
            "           8.67938921e-02,  2.58655641e-02, -5.71202695e-01,\n",
            "           2.16101423e-01,  3.19530010e-01,  1.06765524e-01,\n",
            "           2.10992433e-02, -4.05312270e-01]],\n",
            "\n",
            "        [[-1.49773389e-01,  1.69228971e-01, -1.32608548e-01,\n",
            "          -1.40191600e-01,  3.86546969e-01, -1.18120417e-01,\n",
            "          -8.77492055e-02, -2.96358645e-01,  9.23592150e-02,\n",
            "          -2.12187141e-01,  1.46888271e-01, -1.89593136e-01,\n",
            "           3.62467408e-01,  2.72791833e-01,  8.95283520e-02,\n",
            "           3.07544708e-01,  2.68656611e-01,  8.99153799e-02,\n",
            "          -5.65718077e-02, -1.47720829e-01,  1.39939683e-02,\n",
            "          -3.43509912e-01,  5.96491136e-02,  1.44599169e-01,\n",
            "          -6.20300591e-01, -3.27084422e-01, -9.06538188e-01,\n",
            "           4.45047319e-02, -1.20836906e-01,  1.42684594e-01,\n",
            "           6.10937625e-02, -4.13812459e-01]],\n",
            "\n",
            "        [[-1.13311216e-01, -1.14967950e-01,  3.59319389e-01,\n",
            "           1.82253823e-01,  8.76650065e-02,  3.18775922e-01,\n",
            "           9.95848626e-02,  2.63429880e-02, -6.18837168e-03,\n",
            "           1.82208315e-01,  6.73605353e-02,  3.06563795e-01,\n",
            "          -9.85643938e-02,  5.56069426e-02,  5.91778457e-02,\n",
            "          -3.41747642e-01, -1.90268844e-01, -3.38922352e-01,\n",
            "          -2.14896485e-01,  6.91479892e-02,  3.21655646e-02,\n",
            "          -2.31342480e-01, -7.54445940e-02, -1.61039829e-02,\n",
            "          -2.82785714e-01,  3.16648901e-01, -6.27553239e-02,\n",
            "           5.39974608e-02, -1.33215204e-01,  8.96984339e-02,\n",
            "           4.21592519e-02,  1.21933714e-01]]],\n",
            "\n",
            "\n",
            "       [[[-1.45024851e-01, -2.69469261e-01,  2.23230213e-01,\n",
            "          -1.95626915e-01,  2.10408926e-01, -1.23947524e-01,\n",
            "          -1.10720798e-01,  2.48165384e-01,  1.51706353e-01,\n",
            "           2.08079278e-01,  9.70113790e-04, -1.78531110e-01,\n",
            "          -1.82092503e-01, -2.60512412e-01,  2.93979254e-02,\n",
            "          -5.24903508e-03,  8.89405012e-02,  7.61626735e-02,\n",
            "          -7.46225268e-02,  2.34001204e-01, -2.80267745e-01,\n",
            "           2.18783543e-01, -1.25964895e-01, -1.22359157e-01,\n",
            "           2.88092375e-01, -8.92110821e-03, -9.54087913e-01,\n",
            "          -6.35560751e-02,  2.30074868e-01, -9.25852507e-02,\n",
            "           2.07909524e-01,  1.42795607e-01]],\n",
            "\n",
            "        [[ 1.63061202e-01,  2.21214786e-01,  9.81312096e-02,\n",
            "          -1.16370544e-01, -1.55169368e-01, -1.07373901e-01,\n",
            "           1.85218781e-01, -1.68720528e-01,  1.68120295e-01,\n",
            "           5.24701402e-02, -7.40684718e-02,  2.04389974e-01,\n",
            "          -6.94553927e-03,  6.66492358e-02,  1.49495259e-01,\n",
            "           1.76007986e-01, -8.56985226e-02, -1.26594201e-01,\n",
            "           9.41770300e-02,  2.00205311e-01, -2.93422461e-01,\n",
            "           8.75309333e-02,  4.92478460e-02,  2.80027948e-02,\n",
            "          -1.86418220e-01, -2.12243542e-01, -1.45438838e+00,\n",
            "          -3.31050783e-01, -1.55076742e-01, -1.18438087e-01,\n",
            "          -2.19696373e-01,  3.33922952e-01]],\n",
            "\n",
            "        [[ 8.58997810e-05,  2.93435808e-02, -3.33735287e-01,\n",
            "           8.32854882e-02, -2.04652175e-01,  1.86271101e-01,\n",
            "          -1.18641339e-01, -8.90956223e-02,  1.77432150e-02,\n",
            "           3.29444110e-02,  1.89027280e-01,  1.22929383e-02,\n",
            "           1.62647933e-01,  1.73802212e-01,  1.93143040e-02,\n",
            "          -4.99176793e-02, -2.18581393e-01, -3.40926617e-01,\n",
            "          -1.58585012e-02,  1.94836244e-01, -1.38031663e-02,\n",
            "           1.81678414e-01,  9.87952426e-02,  6.91025406e-02,\n",
            "           2.05363124e-03,  2.11159036e-01, -7.81690851e-02,\n",
            "          -2.80116051e-01,  1.06613025e-01, -3.65814567e-02,\n",
            "          -1.08817771e-01, -7.02529103e-02]]]], dtype=float32)>, <tf.Variable 'conv2d/bias:0' shape=(32,) dtype=float32, numpy=\n",
            "array([-0.01333798,  0.00330322, -0.00199375,  0.00783699,  0.01349263,\n",
            "       -0.01257466, -0.01283097, -0.01070391, -0.011407  , -0.00047114,\n",
            "       -0.18846293, -0.02464831, -0.02313316, -0.00837072, -0.13219447,\n",
            "       -0.00595869, -0.0103456 , -0.04967647,  0.00402959, -0.01014781,\n",
            "       -0.01666703, -0.05219583, -0.04255504, -0.02802166,  0.02051255,\n",
            "       -0.02019852,  0.15496078, -0.01201329, -0.03543206, -0.081897  ,\n",
            "       -0.00266423,  0.11069512], dtype=float32)>]\n"
          ]
        }
      ]
    },
    {
      "cell_type": "code",
      "source": [
        "conv_weights = conv.weights[0].numpy() \n",
        "print(conv_weights)\n",
        "print(conv_weights[0].mean(), conv_weights[1].std())"
      ],
      "metadata": {
        "colab": {
          "base_uri": "https://localhost:8080/"
        },
        "id": "BD2yMzdVfsM_",
        "outputId": "20e0b106-3913-4e3c-d0f9-f0bd48a0ee19"
      },
      "execution_count": null,
      "outputs": [
        {
          "output_type": "stream",
          "name": "stdout",
          "text": [
            "[[[[ 1.96579993e-01  3.00833315e-01 -8.10605362e-02 -6.52519763e-02\n",
            "    -2.33154938e-01 -1.59487531e-01  9.99830663e-02  1.73494861e-01\n",
            "    -1.23639703e-01 -3.13445747e-01  1.06973521e-01  1.48146570e-01\n",
            "    -7.96341896e-02 -3.05463355e-02  3.81662976e-04 -3.42415459e-02\n",
            "    -3.38846266e-01  1.69217274e-01  5.71671166e-02 -2.47436166e-01\n",
            "     1.24241315e-01  2.65505344e-01  4.89876792e-02 -1.14358895e-01\n",
            "    -3.50715399e-01  1.07617915e-01  2.55738199e-01 -4.15108874e-02\n",
            "     2.03738928e-01  5.77293225e-02 -3.20400566e-01 -1.27120852e+00]]\n",
            "\n",
            "  [[-1.36562899e-01 -3.43119532e-01  6.70614094e-02  2.40577638e-01\n",
            "    -2.16994569e-01  9.79503058e-03 -2.10470632e-01 -2.00331300e-01\n",
            "    -2.11722553e-01 -2.04585582e-01  8.83049071e-02 -2.41925821e-01\n",
            "     2.42960066e-01  5.31815886e-02  2.07537189e-02  2.45610222e-01\n",
            "    -2.85538267e-02  1.25917390e-01  2.12430671e-01 -4.81963724e-01\n",
            "     2.39870623e-01 -2.96759810e-02 -1.31752372e-01  1.66661322e-01\n",
            "    -8.46685469e-02 -1.57122657e-01  1.86472572e-02  1.00039661e-01\n",
            "    -1.91193596e-01  1.21351637e-01  2.87812918e-01 -1.07604110e+00]]\n",
            "\n",
            "  [[-6.23870976e-02  6.16511516e-02  7.25679696e-02 -2.72397637e-01\n",
            "     7.67801329e-02  2.79051393e-01 -3.13099697e-02  4.20207456e-02\n",
            "    -3.25056285e-01 -6.04442619e-02 -9.07902047e-02  1.87122673e-01\n",
            "    -1.31637707e-01  1.48099465e-02  7.47392699e-02 -3.58189225e-01\n",
            "     3.30143720e-01  1.36204273e-01 -2.38656655e-01 -1.32897049e-02\n",
            "     1.36828870e-01 -3.73681754e-01 -3.01289950e-02  2.51472462e-02\n",
            "     3.43314171e-01  9.72600654e-02  2.52406597e-01  3.00857306e-01\n",
            "    -2.02104986e-01  6.43414110e-02 -3.44551764e-02 -9.24483091e-02]]]\n",
            "\n",
            "\n",
            " [[[ 2.01195590e-02 -4.73665409e-02 -3.25049371e-01 -2.91619226e-02\n",
            "     2.05114335e-02 -2.19701558e-01 -5.08936755e-02  2.69068986e-01\n",
            "     2.04239100e-01  1.34969980e-01 -2.26491950e-02 -1.95381939e-01\n",
            "    -2.70534784e-01 -3.20550054e-01  1.14633821e-01  1.29952207e-01\n",
            "     1.83989167e-01  2.68542409e-01  2.65627056e-01  1.38056576e-01\n",
            "     1.21916048e-02  6.66303374e-03  9.73962471e-02 -1.77757636e-01\n",
            "     8.67938921e-02  2.58655641e-02 -5.71202695e-01  2.16101423e-01\n",
            "     3.19530010e-01  1.06765524e-01  2.10992433e-02 -4.05312270e-01]]\n",
            "\n",
            "  [[-1.49773389e-01  1.69228971e-01 -1.32608548e-01 -1.40191600e-01\n",
            "     3.86546969e-01 -1.18120417e-01 -8.77492055e-02 -2.96358645e-01\n",
            "     9.23592150e-02 -2.12187141e-01  1.46888271e-01 -1.89593136e-01\n",
            "     3.62467408e-01  2.72791833e-01  8.95283520e-02  3.07544708e-01\n",
            "     2.68656611e-01  8.99153799e-02 -5.65718077e-02 -1.47720829e-01\n",
            "     1.39939683e-02 -3.43509912e-01  5.96491136e-02  1.44599169e-01\n",
            "    -6.20300591e-01 -3.27084422e-01 -9.06538188e-01  4.45047319e-02\n",
            "    -1.20836906e-01  1.42684594e-01  6.10937625e-02 -4.13812459e-01]]\n",
            "\n",
            "  [[-1.13311216e-01 -1.14967950e-01  3.59319389e-01  1.82253823e-01\n",
            "     8.76650065e-02  3.18775922e-01  9.95848626e-02  2.63429880e-02\n",
            "    -6.18837168e-03  1.82208315e-01  6.73605353e-02  3.06563795e-01\n",
            "    -9.85643938e-02  5.56069426e-02  5.91778457e-02 -3.41747642e-01\n",
            "    -1.90268844e-01 -3.38922352e-01 -2.14896485e-01  6.91479892e-02\n",
            "     3.21655646e-02 -2.31342480e-01 -7.54445940e-02 -1.61039829e-02\n",
            "    -2.82785714e-01  3.16648901e-01 -6.27553239e-02  5.39974608e-02\n",
            "    -1.33215204e-01  8.96984339e-02  4.21592519e-02  1.21933714e-01]]]\n",
            "\n",
            "\n",
            " [[[-1.45024851e-01 -2.69469261e-01  2.23230213e-01 -1.95626915e-01\n",
            "     2.10408926e-01 -1.23947524e-01 -1.10720798e-01  2.48165384e-01\n",
            "     1.51706353e-01  2.08079278e-01  9.70113790e-04 -1.78531110e-01\n",
            "    -1.82092503e-01 -2.60512412e-01  2.93979254e-02 -5.24903508e-03\n",
            "     8.89405012e-02  7.61626735e-02 -7.46225268e-02  2.34001204e-01\n",
            "    -2.80267745e-01  2.18783543e-01 -1.25964895e-01 -1.22359157e-01\n",
            "     2.88092375e-01 -8.92110821e-03 -9.54087913e-01 -6.35560751e-02\n",
            "     2.30074868e-01 -9.25852507e-02  2.07909524e-01  1.42795607e-01]]\n",
            "\n",
            "  [[ 1.63061202e-01  2.21214786e-01  9.81312096e-02 -1.16370544e-01\n",
            "    -1.55169368e-01 -1.07373901e-01  1.85218781e-01 -1.68720528e-01\n",
            "     1.68120295e-01  5.24701402e-02 -7.40684718e-02  2.04389974e-01\n",
            "    -6.94553927e-03  6.66492358e-02  1.49495259e-01  1.76007986e-01\n",
            "    -8.56985226e-02 -1.26594201e-01  9.41770300e-02  2.00205311e-01\n",
            "    -2.93422461e-01  8.75309333e-02  4.92478460e-02  2.80027948e-02\n",
            "    -1.86418220e-01 -2.12243542e-01 -1.45438838e+00 -3.31050783e-01\n",
            "    -1.55076742e-01 -1.18438087e-01 -2.19696373e-01  3.33922952e-01]]\n",
            "\n",
            "  [[ 8.58997810e-05  2.93435808e-02 -3.33735287e-01  8.32854882e-02\n",
            "    -2.04652175e-01  1.86271101e-01 -1.18641339e-01 -8.90956223e-02\n",
            "     1.77432150e-02  3.29444110e-02  1.89027280e-01  1.22929383e-02\n",
            "     1.62647933e-01  1.73802212e-01  1.93143040e-02 -4.99176793e-02\n",
            "    -2.18581393e-01 -3.40926617e-01 -1.58585012e-02  1.94836244e-01\n",
            "    -1.38031663e-02  1.81678414e-01  9.87952426e-02  6.91025406e-02\n",
            "     2.05363124e-03  2.11159036e-01 -7.81690851e-02 -2.80116051e-01\n",
            "     1.06613025e-01 -3.65814567e-02 -1.08817771e-01 -7.02529103e-02]]]]\n",
            "-0.031417113 0.22867174\n"
          ]
        }
      ]
    },
    {
      "cell_type": "markdown",
      "source": [
        "### 3. Using histogram\n",
        "- 1차원 배열을 입력으로 사용해 히스토그램을 시각화\n",
        "- Using `matplotlib.pyplot` \n",
        "- Using `.hist()`"
      ],
      "metadata": {
        "id": "vnNov9fqgO6_"
      }
    },
    {
      "cell_type": "code",
      "source": [
        "import matplotlib.pyplot as plt\n",
        "\n",
        "plt.hist(conv_weights.reshape(-1))\n",
        "plt.xlabel(\"weight\")\n",
        "plt.ylabel(\"count\")\n",
        "plt.title(\"first layers of CNN model distribution\")\n",
        "plt.show()"
      ],
      "metadata": {
        "colab": {
          "base_uri": "https://localhost:8080/",
          "height": 295
        },
        "id": "CUCxh0zafieY",
        "outputId": "e4d245c2-8359-4f1f-9182-8fc4f0a1f165"
      },
      "execution_count": null,
      "outputs": [
        {
          "output_type": "display_data",
          "data": {
            "text/plain": [
              "<Figure size 432x288 with 1 Axes>"
            ],
            "image/png": "[encoded data removed]"
          },
          "metadata": {
            "needs_background": "light"
          }
        }
      ]
    },
    {
      "cell_type": "markdown",
      "source": [
        "### 4. Weighted Visualization\n",
        "- Using `.imshow()`\n",
        "- 출력 범위를 정해 픽셀의 강도를 비교할 수 있음\n",
        "- **`vmin=(default)None`**: 최솟값\n",
        "- **`vmax=(default)None`**: 최댓값\n"
      ],
      "metadata": {
        "id": "DDMqJHLQgjob"
      }
    },
    {
      "cell_type": "code",
      "source": [
        "fig, axs = plt.subplots(2, 16, figsize=(15, 2))\n",
        "for i in range(2):\n",
        "  for j in range(16):\n",
        "    axs[i, j].imshow(conv_weights[:, :, 0, i*16+j],vmin=-0.5, vmax=0.5)\n",
        "    axs[i, j].axis(\"off\")\n",
        "plt.show()"
      ],
      "metadata": {
        "colab": {
          "base_uri": "https://localhost:8080/",
          "height": 134
        },
        "id": "rSbYIyDhgP6j",
        "outputId": "28873969-9888-4a19-837f-1c8290c183e0"
      },
      "execution_count": null,
      "outputs": [
        {
          "output_type": "display_data",
          "data": {
            "text/plain": [
              "<Figure size 1080x144 with 32 Axes>"
            ],
            "image/png": "[encoded data removed]"
          },
          "metadata": {
            "needs_background": "light"
          }
        }
      ]
    },
    {
      "cell_type": "markdown",
      "source": [
        "### 5. First convolutional layer weight distribution of Non-trained model\n",
        "1. Sequential 객체를 먼저 생성\n",
        "  - Using `keras.Sequential()`\n",
        "2. Conv2D layer 추가\n",
        "  - Using `keras.layers.Conv2D()`\n",
        " "
      ],
      "metadata": {
        "id": "wE8zW6-Ej3-T"
      }
    },
    {
      "cell_type": "code",
      "source": [
        "non_trained_model = keras.Sequential()\n",
        "non_trained_model.add(keras.layers.Conv2D(\n",
        "    32, kernel_size=3, activation=\"relu\", padding=\"same\", input_shape=(28, 28, 1)\n",
        "    )\n",
        ")\n",
        "\n",
        "#Checkout first layer size\n",
        "non_trained_conv = non_trained_model.layers[0]\n",
        "print(non_trained_conv.weights[0].shape)"
      ],
      "metadata": {
        "colab": {
          "base_uri": "https://localhost:8080/"
        },
        "id": "Pl6b7Extj3kr",
        "outputId": "1529d156-5215-43ec-fa6f-8c9eb6190144"
      },
      "execution_count": null,
      "outputs": [
        {
          "output_type": "stream",
          "name": "stdout",
          "text": [
            "(3, 3, 1, 32)\n"
          ]
        }
      ]
    },
    {
      "cell_type": "markdown",
      "source": [
        "> 추가한 Conv2D 레이어 스케일은 (3, 3, 1, 32)"
      ],
      "metadata": {
        "id": "WtHNqENwlJJx"
      }
    },
    {
      "cell_type": "markdown",
      "source": [
        "### 6. Using histogram\n",
        "- 1차원 배열을 입력으로 사용해 히스토그램을 시각화\n",
        "- Using `matplotlib.pyplot` \n",
        "- Using `.hist()`"
      ],
      "metadata": {
        "id": "j9YYu72ilyH-"
      }
    },
    {
      "cell_type": "code",
      "source": [
        "non_trained_weights = non_trained_conv.weights[0].numpy()\n",
        "\n",
        "plt.hist(non_trained_weights[0].reshape(-1, 1))\n",
        "plt.xlabel(\"weights\")\n",
        "plt.ylabel(\"count\")\n",
        "plt.title(\"non-trained model of first convolutional layer weight distribution\")\n",
        "plt.show()"
      ],
      "metadata": {
        "colab": {
          "base_uri": "https://localhost:8080/",
          "height": 295
        },
        "id": "jyyZELSLktGP",
        "outputId": "2c117c7b-738d-4550-ee6b-fa0560954f5f"
      },
      "execution_count": null,
      "outputs": [
        {
          "output_type": "display_data",
          "data": {
            "text/plain": [
              "<Figure size 432x288 with 1 Axes>"
            ],
            "image/png": "[encoded data removed]"
          },
          "metadata": {
            "needs_background": "light"
          }
        }
      ]
    },
    {
      "cell_type": "code",
      "source": [
        "print(non_trained_weights.mean(), non_trained_weights.std())"
      ],
      "metadata": {
        "colab": {
          "base_uri": "https://localhost:8080/"
        },
        "id": "h4cCrrAzm4Cm",
        "outputId": "6526c4f6-e720-46ba-ef79-7d5d30674e9f"
      },
      "execution_count": null,
      "outputs": [
        {
          "output_type": "stream",
          "name": "stdout",
          "text": [
            "-0.0028652162 0.08029948\n"
          ]
        }
      ]
    },
    {
      "cell_type": "markdown",
      "source": [
        "> 가중치 분포가 [-0.15, 0.15]영역의 균등 분포를 따르며, 평균은 0에 가깝고 표준 편차가 매우 작음\n",
        "\n",
        "> **이에 대한 결과는 달라질 수 있음**"
      ],
      "metadata": {
        "id": "zeParw-cms64"
      }
    },
    {
      "cell_type": "markdown",
      "source": [
        "### 7. Non-trained weighted Visualization\n",
        "- Using `.imshow()`\n",
        "- 출력 범위를 정해 픽셀의 강도를 비교할 수 있음\n",
        "- **`vmin=(default)None`**: 최솟값\n",
        "- **`vmax=(default)None`**: 최댓값\n"
      ],
      "metadata": {
        "id": "y3gf8-rHnsxd"
      }
    },
    {
      "cell_type": "code",
      "source": [
        "fig, axs = plt.subplots(2, 16, figsize=(15, 2))\n",
        "for i in range(2):\n",
        "  for j in range(16):\n",
        "    axs[i, j].imshow(non_trained_weights[:, :, 0, i*16+j],vmin=-0.5, vmax=0.5)\n",
        "    axs[i, j].axis(\"off\")\n",
        "plt.show()"
      ],
      "metadata": {
        "colab": {
          "base_uri": "https://localhost:8080/",
          "height": 134
        },
        "id": "siMDD9ABnnVU",
        "outputId": "9a2ec7aa-4ed7-407c-a9ee-2d12ef4c6889"
      },
      "execution_count": null,
      "outputs": [
        {
          "output_type": "display_data",
          "data": {
            "text/plain": [
              "<Figure size 1080x144 with 32 Axes>"
            ],
            "image/png": "[encoded data removed]"
          },
          "metadata": {
            "needs_background": "light"
          }
        }
      ]
    },
    {
      "cell_type": "markdown",
      "source": [
        "### 8. Feature Map Visualization\n",
        "1. 첫번째 Conv2D 특성 맵을 시각화\n",
        "2. Model 객체의 입력과 첫번째 Conv2D 특성 맵으로부터 새로운 모델 생성\n",
        "  - **`model.input`**\n",
        "  - **`model.layers[0].output`**\n"
      ],
      "metadata": {
        "id": "_7NxrJyAn9-Z"
      }
    },
    {
      "cell_type": "code",
      "source": [
        "print(model.input)"
      ],
      "metadata": {
        "colab": {
          "base_uri": "https://localhost:8080/"
        },
        "id": "6xbvWAiG0OuC",
        "outputId": "d95c173f-d447-4f72-d012-4215168bdba1"
      },
      "execution_count": null,
      "outputs": [
        {
          "output_type": "stream",
          "name": "stdout",
          "text": [
            "KerasTensor(type_spec=TensorSpec(shape=(None, 28, 28, 1), dtype=tf.float32, name='conv2d_input'), name='conv2d_input', description=\"created by layer 'conv2d_input'\")\n"
          ]
        }
      ]
    },
    {
      "cell_type": "code",
      "source": [
        "conv_acti = keras.Model(model.input, model.layers[0].output)\n",
        "\n",
        "(train_input, train_target), (test_input, test_target) =\\\n",
        "    keras.datasets.fashion_mnist.load_data()\n",
        "plt.imshow(train_input[0], cmap='gray_r')\n",
        "plt.show()"
      ],
      "metadata": {
        "colab": {
          "base_uri": "https://localhost:8080/",
          "height": 413
        },
        "id": "yY0lxTXEn-HR",
        "outputId": "2820603d-32b5-4f2e-e337-930ff65ac0c2"
      },
      "execution_count": null,
      "outputs": [
        {
          "output_type": "stream",
          "name": "stdout",
          "text": [
            "Downloading data from https://storage.googleapis.com/tensorflow/tf-keras-datasets/train-labels-idx1-ubyte.gz\n",
            "29515/29515 [==============================] - 0s 0us/step\n",
            "Downloading data from https://storage.googleapis.com/tensorflow/tf-keras-datasets/train-images-idx3-ubyte.gz\n",
            "26421880/26421880 [==============================] - 1s 0us/step\n",
            "Downloading data from https://storage.googleapis.com/tensorflow/tf-keras-datasets/t10k-labels-idx1-ubyte.gz\n",
            "5148/5148 [==============================] - 0s 0us/step\n",
            "Downloading data from https://storage.googleapis.com/tensorflow/tf-keras-datasets/t10k-images-idx3-ubyte.gz\n",
            "4422102/4422102 [==============================] - 0s 0us/step\n"
          ]
        },
        {
          "output_type": "display_data",
          "data": {
            "text/plain": [
              "<Figure size 432x288 with 1 Axes>"
            ],
            "image/png": "[encoded data removed]"
          },
          "metadata": {
            "needs_background": "light"
          }
        }
      ]
    },
    {
      "cell_type": "code",
      "source": [
        "inputs = train_input[0:1].reshape(-1, 28, 28, 1) / 255.0\n",
        "feature_maps = conv_acti.predict(inputs)\n",
        "\n",
        "fig, axs = plt.subplots(4, 8, figsize=(15, 8))\n",
        "for i in range(4):\n",
        "  for j in range(8):\n",
        "    axs[i, j].imshow(feature_maps[0, :, :, i*8+j])\n",
        "    axs[i, j].axis(\"off\")\n",
        "plt.show()"
      ],
      "metadata": {
        "colab": {
          "base_uri": "https://localhost:8080/",
          "height": 478
        },
        "id": "qoLfLo_K1tZZ",
        "outputId": "11f3fdb3-6d5b-40d2-ebdf-115becb861e3"
      },
      "execution_count": null,
      "outputs": [
        {
          "output_type": "stream",
          "name": "stdout",
          "text": [
            "1/1 [==============================] - 7s 7s/step\n"
          ]
        },
        {
          "output_type": "display_data",
          "data": {
            "text/plain": [
              "<Figure size 1080x576 with 32 Axes>"
            ],
            "image/png": "[encoded data removed]"
          },
          "metadata": {
            "needs_background": "light"
          }
        }
      ]
    },
    {
      "cell_type": "markdown",
      "source": [
        "> feature_maps를 이미지로 출력하는데, 이미지가 32개의 필터로 인해 강하게 활성화 된 부분을 보여주고 있음"
      ],
      "metadata": {
        "id": "9s-KjwuY3kLK"
      }
    },
    {
      "cell_type": "markdown",
      "source": [
        "### 9. Secondary Feature Map Visualization\n",
        "1. 두번째 Conv2D 특성 맵을 시각화\n",
        "2. Model 객체의 입력과 두번째 Conv2D 특성 맵으로부터 새로운 모델 생성\n",
        "  - **`model.input`**\n",
        "  - **`model.layers[2].output`**\n",
        "- **인덱스 상 layers[1]이 Conv2D layer가 아닌 이유**\n",
        "  - Model 객체의 구조에서 layers[1]은 Pooling2D layer이기 때문"
      ],
      "metadata": {
        "id": "S1a9IAxx32xs"
      }
    },
    {
      "cell_type": "code",
      "source": [
        "conv_acti2 = keras.Model(model.input, model.layers[2].output)\n",
        "\n",
        "(train_input, train_target), (test_input, test_target) =\\\n",
        "    keras.datasets.fashion_mnist.load_data()\n",
        "plt.imshow(train_input[0], cmap='gray_r')\n",
        "plt.show()\n",
        "\n",
        "print()"
      ],
      "metadata": {
        "colab": {
          "base_uri": "https://localhost:8080/",
          "height": 283
        },
        "id": "2Be8mhVL3yA_",
        "outputId": "945c5b02-07b0-4d2a-b284-88fb8e7e9285"
      },
      "execution_count": null,
      "outputs": [
        {
          "output_type": "display_data",
          "data": {
            "text/plain": [
              "<Figure size 432x288 with 1 Axes>"
            ],
            "image/png": "[encoded data removed]"
          },
          "metadata": {
            "needs_background": "light"
          }
        },
        {
          "output_type": "stream",
          "name": "stdout",
          "text": [
            "\n"
          ]
        }
      ]
    },
    {
      "cell_type": "code",
      "source": [
        "inputs = train_input[0:1].reshape(-1, 28, 28, 1) / 255.0\n",
        "feature_maps = conv_acti2.predict(inputs)\n",
        "\n",
        "fig, axs = plt.subplots(8, 8, figsize=(12, 12))\n",
        "for i in range(8):\n",
        "  for j in range(8):\n",
        "    axs[i, j].imshow(feature_maps[0, :, :, i*8+j])\n",
        "    axs[i, j].axis(\"off\")\n",
        "plt.show()"
      ],
      "metadata": {
        "colab": {
          "base_uri": "https://localhost:8080/",
          "height": 701
        },
        "id": "wKln8To-4zmr",
        "outputId": "4a4848d6-5051-48cc-c29c-6acc80dc228a"
      },
      "execution_count": null,
      "outputs": [
        {
          "output_type": "stream",
          "name": "stdout",
          "text": [
            "1/1 [==============================] - 0s 17ms/step\n"
          ]
        },
        {
          "output_type": "display_data",
          "data": {
            "text/plain": [
              "<Figure size 864x864 with 64 Axes>"
            ],
            "image/png": "[encoded data removed]"
          },
          "metadata": {
            "needs_background": "light"
          }
        }
      ]
    },
    {
      "cell_type": "markdown",
      "source": [
        "> MaxPooling2D 통과 후 특성 맵이 64개의 필터로 인해 강하게 활성화 된 부분을 보여주고 있음\n",
        "\n",
        "> 첫번째 레이어보다 시작적으로 어떤 부위를 감지하고 있는지 판단하기 어려운데, 이는 합성곱 층을 많이 쌓을수록 심해짐\n",
        "\n",
        "> 따라서 선두의 합성곱 층은 이미지의 시각정보를 감지하고, 뒤의 합성곱 층은 그에 대한 추상적인 정보를 학습한다고 볼 수 있음"
      ],
      "metadata": {
        "id": "XYqsXLAs5Qvi"
      }
    }
  ]
}