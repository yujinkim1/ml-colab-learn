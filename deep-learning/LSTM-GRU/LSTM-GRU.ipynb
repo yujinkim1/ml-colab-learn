{
  "nbformat": 4,
  "nbformat_minor": 0,
  "metadata": {
    "colab": {
      "provenance": []
    },
    "kernelspec": {
      "name": "python3",
      "display_name": "Python 3"
    },
    "language_info": {
      "name": "python"
    },
    "accelerator": "GPU",
    "gpuClass": "standard"
  },
  "cells": [
    {
      "cell_type": "markdown",
      "source": [
        "# LSTM & GRU 셀\n",
        "- **LSTM(Long Short-Term Memory)**\n",
        "  - 단기 기억을 오래 보유하기 위해 고안된 순환 계층\n",
        "- **Cell State(셀 상태)**\n",
        "  - 다음 계층으로 전달되지 않고 LSTM 셀에서만 순환되는 값\n",
        "  - 3개의 게이트\n",
        "    - 삭제(Delete) 게이트: 셀 상태에 있는 정보를 지우는 역할\n",
        "    - 입력(Input) 게이트: 새로운 정보를 셀 상태에 추가하는 역할\n",
        "    - 출력(Output) 게이트: 셀 상태를 다음 은닉 상태로 출력하는 역할\n",
        "- **GRU(Gated Recurrent Unit)**\n",
        "  - LSTM을 간소화한 순환 계층\n",
        "  - LSTM처럼 셀 상태를 계산하지 않고 은닉 상태 하나만 포함\n",
        "  - 가중치(weight)가 적어 연산량이 적지만 성능은 LSTM가 비슷함"
      ],
      "metadata": {
        "id": "3YD5WUZ-B122"
      }
    },
    {
      "cell_type": "markdown",
      "source": [
        "### 1. Using IMDB data-set\n",
        "- Import `tensorflow.keras.datasets.imdb`\n",
        "  - 리뷰 데이터를 positive(1), negative(0)로 분류한 단어 데이터 세트\n",
        "- Using `.load_data()`\n",
        "  - **`num_words=_int`**: 전체 데이터 중 잦게 등장하는 단어 개수를 지정"
      ],
      "metadata": {
        "id": "ztdHSZfECFWy"
      }
    },
    {
      "cell_type": "code",
      "source": [
        "from tensorflow.keras.datasets import imdb\n",
        "from sklearn.model_selection import train_test_split\n",
        "#load to imdb data\n",
        "(train_input, train_target), (test_input, test_target) = imdb.load_data(\n",
        "    num_words= 500\n",
        ")\n",
        "#data-set split\n",
        "train_input, valid_input, train_target, valid_target = train_test_split(\n",
        "    train_input, train_target, random_state= 42, test_size= 0.2\n",
        ")\n",
        "\n",
        "#checkout\n",
        "print(train_input.shape)\n",
        "print(valid_input.shape)"
      ],
      "metadata": {
        "colab": {
          "base_uri": "https://localhost:8080/"
        },
        "id": "2QPkiLmgCFHV",
        "outputId": "ced80be5-01fd-4bec-dfd7-5cbee7b76208"
      },
      "execution_count": null,
      "outputs": [
        {
          "output_type": "stream",
          "name": "stdout",
          "text": [
            "Downloading data from https://storage.googleapis.com/tensorflow/tf-keras-datasets/imdb.npz\n",
            "17464789/17464789 [==============================] - 0s 0us/step\n",
            "(20000,)\n",
            "(5000,)\n"
          ]
        }
      ]
    },
    {
      "cell_type": "markdown",
      "source": [
        "### 2.Dataset Preprocessing\n",
        "- Import **`tensorflow.keras.preprocessing.sequence`**\n",
        "  - Using **`pad_sequences`**\n",
        "    - `maxlen=_int`: 최대 시퀀스의 길이 지정, 미지정시 가장 긴 시퀀스를 기준으로 패딩 적용\n"
      ],
      "metadata": {
        "id": "FCoK2LkoDpaf"
      }
    },
    {
      "cell_type": "code",
      "execution_count": null,
      "metadata": {
        "colab": {
          "base_uri": "https://localhost:8080/"
        },
        "id": "vLNmQzp_BzGQ",
        "outputId": "a40f8d43-e80b-4cd1-fd9c-544ae004fcf5"
      },
      "outputs": [
        {
          "output_type": "stream",
          "name": "stdout",
          "text": [
            "(20000, 100)\n",
            "(5000, 100)\n"
          ]
        }
      ],
      "source": [
        "from tensorflow.keras.preprocessing.sequence import pad_sequences\n",
        "\n",
        "train_seq = pad_sequences(train_input, maxlen=100)\n",
        "valid_seq = pad_sequences(valid_input, maxlen=100)\n",
        "\n",
        "#checkout\n",
        "print(train_seq.shape)\n",
        "print(valid_seq.shape)"
      ]
    },
    {
      "cell_type": "markdown",
      "source": [
        "### 3. Create LSTM model\n",
        "- Import `keras` library\n",
        "  - Using `keras.Sequential()`\n",
        "    - `keras.layers.Embedding(500, 16, input_length=100)`\n",
        "    - **`keras.layers.LSTM(8)`**\n",
        "    - `keras.layers.Dense(1, activation=\"sigmoid\")`\n",
        "  - Using `.summary()`\n",
        "\n"
      ],
      "metadata": {
        "id": "C0xXelbEEJjo"
      }
    },
    {
      "cell_type": "code",
      "source": [
        "from tensorflow import keras"
      ],
      "metadata": {
        "id": "h_ddDwCeEJI0"
      },
      "execution_count": null,
      "outputs": []
    },
    {
      "cell_type": "code",
      "source": [
        "model = keras.Sequential([\n",
        "    keras.layers.Embedding(500, 16, input_length=100),\n",
        "    keras.layers.LSTM(8),\n",
        "    keras.layers.Dense(1, activation=\"sigmoid\")\n",
        "])\n",
        "\n",
        "model.summary()"
      ],
      "metadata": {
        "id": "obKlyS98EGze",
        "colab": {
          "base_uri": "https://localhost:8080/"
        },
        "outputId": "48f667fa-84c2-4e49-cd26-91f2936e97cc"
      },
      "execution_count": null,
      "outputs": [
        {
          "output_type": "stream",
          "name": "stdout",
          "text": [
            "Model: \"sequential\"\n",
            "_________________________________________________________________\n",
            " Layer (type)                Output Shape              Param #   \n",
            "=================================================================\n",
            " embedding (Embedding)       (None, 100, 16)           8000      \n",
            "                                                                 \n",
            " lstm (LSTM)                 (None, 8)                 800       \n",
            "                                                                 \n",
            " dense (Dense)               (None, 1)                 9         \n",
            "                                                                 \n",
            "=================================================================\n",
            "Total params: 8,809\n",
            "Trainable params: 8,809\n",
            "Non-trainable params: 0\n",
            "_________________________________________________________________\n"
          ]
        }
      ]
    },
    {
      "cell_type": "markdown",
      "source": [
        "### 4. Training to LSTM model\n",
        "- RMSprop Optimizer 사용하는 대신 기존 LR 사용을 하지 않기 위해 별도 RMSprop 객체 생성\n",
        "- Using **`keras.optimizers.RMSprop()`**\n",
        "  - Using `learnig_rate=_1E`: 지수표기법 사용\n",
        "- Using **`keras.callbacks.ModelCheckpoint()`**\n",
        "- Using **`keras.callbacks.EarlyStopping()`**\n",
        "- Using `history()`"
      ],
      "metadata": {
        "id": "5nc_0ag14r9e"
      }
    },
    {
      "cell_type": "code",
      "source": [
        "rmsprop = keras.optimizers.RMSprop(learning_rate=1e-4)\n",
        "model.compile(optimizer=rmsprop, loss=\"binary_crossentropy\", metrics=[\"accuracy\"])\n",
        "checkpoint_model = keras.callbacks.ModelCheckpoint(\"best-lstm-model.h5\", save_best_only=True)\n",
        "early_stopping_model = keras.callbacks.EarlyStopping(patience=3, restore_best_weights=True)\n",
        "\n",
        "history = model.fit(\n",
        "    train_seq, train_target, epochs=100, batch_size=64,\n",
        "    validation_data=(valid_seq, valid_target),\n",
        "    callbacks=[checkpoint_model, early_stopping_model]\n",
        "    )"
      ],
      "metadata": {
        "colab": {
          "base_uri": "https://localhost:8080/"
        },
        "id": "qwoGRimX4rvS",
        "outputId": "042dd698-2b2e-40af-97ee-d01231d9bd6d"
      },
      "execution_count": null,
      "outputs": [
        {
          "output_type": "stream",
          "name": "stdout",
          "text": [
            "Epoch 1/100\n",
            "313/313 [==============================] - 10s 10ms/step - loss: 0.6924 - accuracy: 0.5429 - val_loss: 0.6914 - val_accuracy: 0.5832\n",
            "Epoch 2/100\n",
            "313/313 [==============================] - 3s 9ms/step - loss: 0.6898 - accuracy: 0.6169 - val_loss: 0.6876 - val_accuracy: 0.6382\n",
            "Epoch 3/100\n",
            "313/313 [==============================] - 3s 9ms/step - loss: 0.6815 - accuracy: 0.6567 - val_loss: 0.6719 - val_accuracy: 0.6802\n",
            "Epoch 4/100\n",
            "313/313 [==============================] - 3s 9ms/step - loss: 0.6371 - accuracy: 0.7009 - val_loss: 0.6132 - val_accuracy: 0.7070\n",
            "Epoch 5/100\n",
            "313/313 [==============================] - 3s 9ms/step - loss: 0.5967 - accuracy: 0.7218 - val_loss: 0.5900 - val_accuracy: 0.7218\n",
            "Epoch 6/100\n",
            "313/313 [==============================] - 3s 9ms/step - loss: 0.5750 - accuracy: 0.7397 - val_loss: 0.5692 - val_accuracy: 0.7452\n",
            "Epoch 7/100\n",
            "313/313 [==============================] - 3s 9ms/step - loss: 0.5542 - accuracy: 0.7551 - val_loss: 0.5480 - val_accuracy: 0.7640\n",
            "Epoch 8/100\n",
            "313/313 [==============================] - 3s 9ms/step - loss: 0.5345 - accuracy: 0.7685 - val_loss: 0.5301 - val_accuracy: 0.7688\n",
            "Epoch 9/100\n",
            "313/313 [==============================] - 3s 9ms/step - loss: 0.5163 - accuracy: 0.7783 - val_loss: 0.5142 - val_accuracy: 0.7780\n",
            "Epoch 10/100\n",
            "313/313 [==============================] - 3s 9ms/step - loss: 0.5004 - accuracy: 0.7855 - val_loss: 0.4999 - val_accuracy: 0.7820\n",
            "Epoch 11/100\n",
            "313/313 [==============================] - 3s 9ms/step - loss: 0.4865 - accuracy: 0.7918 - val_loss: 0.4908 - val_accuracy: 0.7816\n",
            "Epoch 12/100\n",
            "313/313 [==============================] - 3s 9ms/step - loss: 0.4750 - accuracy: 0.7972 - val_loss: 0.4796 - val_accuracy: 0.7884\n",
            "Epoch 13/100\n",
            "313/313 [==============================] - 3s 9ms/step - loss: 0.4651 - accuracy: 0.8001 - val_loss: 0.4720 - val_accuracy: 0.7940\n",
            "Epoch 14/100\n",
            "313/313 [==============================] - 3s 9ms/step - loss: 0.4568 - accuracy: 0.8037 - val_loss: 0.4674 - val_accuracy: 0.7934\n",
            "Epoch 15/100\n",
            "313/313 [==============================] - 3s 9ms/step - loss: 0.4500 - accuracy: 0.8041 - val_loss: 0.4613 - val_accuracy: 0.7956\n",
            "Epoch 16/100\n",
            "313/313 [==============================] - 3s 9ms/step - loss: 0.4442 - accuracy: 0.8049 - val_loss: 0.4578 - val_accuracy: 0.7950\n",
            "Epoch 17/100\n",
            "313/313 [==============================] - 3s 9ms/step - loss: 0.4392 - accuracy: 0.8063 - val_loss: 0.4527 - val_accuracy: 0.7966\n",
            "Epoch 18/100\n",
            "313/313 [==============================] - 3s 9ms/step - loss: 0.4350 - accuracy: 0.8077 - val_loss: 0.4488 - val_accuracy: 0.7976\n",
            "Epoch 19/100\n",
            "313/313 [==============================] - 3s 9ms/step - loss: 0.4310 - accuracy: 0.8089 - val_loss: 0.4472 - val_accuracy: 0.7990\n",
            "Epoch 20/100\n",
            "313/313 [==============================] - 3s 9ms/step - loss: 0.4278 - accuracy: 0.8102 - val_loss: 0.4443 - val_accuracy: 0.7992\n",
            "Epoch 21/100\n",
            "313/313 [==============================] - 3s 9ms/step - loss: 0.4250 - accuracy: 0.8108 - val_loss: 0.4420 - val_accuracy: 0.7978\n",
            "Epoch 22/100\n",
            "313/313 [==============================] - 3s 9ms/step - loss: 0.4229 - accuracy: 0.8099 - val_loss: 0.4400 - val_accuracy: 0.7988\n",
            "Epoch 23/100\n",
            "313/313 [==============================] - 3s 9ms/step - loss: 0.4210 - accuracy: 0.8113 - val_loss: 0.4388 - val_accuracy: 0.8012\n",
            "Epoch 24/100\n",
            "313/313 [==============================] - 3s 9ms/step - loss: 0.4189 - accuracy: 0.8126 - val_loss: 0.4381 - val_accuracy: 0.8026\n",
            "Epoch 25/100\n",
            "313/313 [==============================] - 3s 10ms/step - loss: 0.4170 - accuracy: 0.8120 - val_loss: 0.4371 - val_accuracy: 0.8024\n",
            "Epoch 26/100\n",
            "313/313 [==============================] - 3s 9ms/step - loss: 0.4157 - accuracy: 0.8119 - val_loss: 0.4359 - val_accuracy: 0.8022\n",
            "Epoch 27/100\n",
            "313/313 [==============================] - 3s 9ms/step - loss: 0.4142 - accuracy: 0.8124 - val_loss: 0.4348 - val_accuracy: 0.8060\n",
            "Epoch 28/100\n",
            "313/313 [==============================] - 3s 9ms/step - loss: 0.4127 - accuracy: 0.8124 - val_loss: 0.4337 - val_accuracy: 0.8010\n",
            "Epoch 29/100\n",
            "313/313 [==============================] - 3s 9ms/step - loss: 0.4121 - accuracy: 0.8141 - val_loss: 0.4359 - val_accuracy: 0.8048\n",
            "Epoch 30/100\n",
            "313/313 [==============================] - 3s 9ms/step - loss: 0.4113 - accuracy: 0.8130 - val_loss: 0.4336 - val_accuracy: 0.8044\n",
            "Epoch 31/100\n",
            "313/313 [==============================] - 3s 9ms/step - loss: 0.4096 - accuracy: 0.8148 - val_loss: 0.4336 - val_accuracy: 0.7996\n",
            "Epoch 32/100\n",
            "313/313 [==============================] - 3s 9ms/step - loss: 0.4089 - accuracy: 0.8149 - val_loss: 0.4329 - val_accuracy: 0.8072\n",
            "Epoch 33/100\n",
            "313/313 [==============================] - 3s 9ms/step - loss: 0.4084 - accuracy: 0.8163 - val_loss: 0.4315 - val_accuracy: 0.8028\n",
            "Epoch 34/100\n",
            "313/313 [==============================] - 3s 9ms/step - loss: 0.4073 - accuracy: 0.8158 - val_loss: 0.4308 - val_accuracy: 0.8018\n",
            "Epoch 35/100\n",
            "313/313 [==============================] - 3s 9ms/step - loss: 0.4070 - accuracy: 0.8151 - val_loss: 0.4307 - val_accuracy: 0.8048\n",
            "Epoch 36/100\n",
            "313/313 [==============================] - 3s 9ms/step - loss: 0.4058 - accuracy: 0.8152 - val_loss: 0.4352 - val_accuracy: 0.8032\n",
            "Epoch 37/100\n",
            "313/313 [==============================] - 3s 9ms/step - loss: 0.4056 - accuracy: 0.8170 - val_loss: 0.4324 - val_accuracy: 0.8020\n",
            "Epoch 38/100\n",
            "313/313 [==============================] - 3s 9ms/step - loss: 0.4047 - accuracy: 0.8170 - val_loss: 0.4305 - val_accuracy: 0.8042\n",
            "Epoch 39/100\n",
            "313/313 [==============================] - 3s 9ms/step - loss: 0.4038 - accuracy: 0.8173 - val_loss: 0.4333 - val_accuracy: 0.8040\n",
            "Epoch 40/100\n",
            "313/313 [==============================] - 3s 9ms/step - loss: 0.4038 - accuracy: 0.8158 - val_loss: 0.4294 - val_accuracy: 0.8048\n",
            "Epoch 41/100\n",
            "313/313 [==============================] - 3s 9ms/step - loss: 0.4030 - accuracy: 0.8169 - val_loss: 0.4297 - val_accuracy: 0.8038\n",
            "Epoch 42/100\n",
            "313/313 [==============================] - 3s 9ms/step - loss: 0.4024 - accuracy: 0.8170 - val_loss: 0.4293 - val_accuracy: 0.8058\n",
            "Epoch 43/100\n",
            "313/313 [==============================] - 3s 9ms/step - loss: 0.4015 - accuracy: 0.8171 - val_loss: 0.4317 - val_accuracy: 0.8058\n",
            "Epoch 44/100\n",
            "313/313 [==============================] - 3s 9ms/step - loss: 0.4011 - accuracy: 0.8181 - val_loss: 0.4298 - val_accuracy: 0.8020\n",
            "Epoch 45/100\n",
            "313/313 [==============================] - 3s 9ms/step - loss: 0.4006 - accuracy: 0.8176 - val_loss: 0.4301 - val_accuracy: 0.7996\n"
          ]
        }
      ]
    },
    {
      "cell_type": "markdown",
      "source": [
        "### 5. Visualization LSTM model loss graph\n",
        "- Import `matplotlib.pyplot`\n"
      ],
      "metadata": {
        "id": "oyXq3bZI54CG"
      }
    },
    {
      "cell_type": "code",
      "source": [
        "import matplotlib.pyplot as plt\n",
        "\n",
        "plt.plot(history.history[\"loss\"])\n",
        "plt.plot(history.history[\"val_loss\"])\n",
        "plt.xlabel(\"loss\")\n",
        "plt.ylabel(\"epochs\")\n",
        "plt.title(\"LSTM model loss graph\")\n",
        "plt.legend([\"train\", \"valid\"])\n",
        "plt.show()"
      ],
      "metadata": {
        "colab": {
          "base_uri": "https://localhost:8080/",
          "height": 295
        },
        "id": "C2dG1GaW53qy",
        "outputId": "ce5ce574-aaad-458d-9625-cb6e78f025fe"
      },
      "execution_count": null,
      "outputs": [
        {
          "output_type": "display_data",
          "data": {
            "text/plain": [
              "<Figure size 432x288 with 1 Axes>"
            ],
            "image/png": "[encoded data removed]"
          },
          "metadata": {
            "needs_background": "light"
          }
        }
      ]
    },
    {
      "cell_type": "markdown",
      "source": [
        "### 6. Using Dropouts for recurrent layer\n",
        "- SimpleRNN, LSTM 클래스는 자체적으로 드롭아웃 기능을 제공하고 있음\n",
        "- Using `dropout=_double`\n",
        "- `recurrent_dropout=_double`\n",
        "  - 단, 이 사용법은 은닉 상태에 드롭아웃 적용으로 GPU 사용이 불가함"
      ],
      "metadata": {
        "id": "NeLPKnsq7Czz"
      }
    },
    {
      "cell_type": "code",
      "source": [
        "dropout_model = keras.Sequential([\n",
        "    keras.layers.Embedding(500, 16, input_length=100),\n",
        "    keras.layers.LSTM(8, dropout=0.3),\n",
        "    keras.layers.Dense(1, activation=\"sigmoid\")\n",
        "])\n",
        "\n",
        "dropout_model.summary()"
      ],
      "metadata": {
        "colab": {
          "base_uri": "https://localhost:8080/"
        },
        "id": "u6LoMVu17nm4",
        "outputId": "08155266-eee8-46d3-dc38-9c8eac93837a"
      },
      "execution_count": null,
      "outputs": [
        {
          "output_type": "stream",
          "name": "stdout",
          "text": [
            "Model: \"sequential_1\"\n",
            "_________________________________________________________________\n",
            " Layer (type)                Output Shape              Param #   \n",
            "=================================================================\n",
            " embedding_1 (Embedding)     (None, 100, 16)           8000      \n",
            "                                                                 \n",
            " lstm_1 (LSTM)               (None, 8)                 800       \n",
            "                                                                 \n",
            " dense_1 (Dense)             (None, 1)                 9         \n",
            "                                                                 \n",
            "=================================================================\n",
            "Total params: 8,809\n",
            "Trainable params: 8,809\n",
            "Non-trainable params: 0\n",
            "_________________________________________________________________\n"
          ]
        }
      ]
    },
    {
      "cell_type": "markdown",
      "source": [
        "### 7. Training to LSTM model with Dropout\n",
        "- RMSprop Optimizer 사용하는 대신 기존 LR 사용을 하지 않기 위해 별도 RMSprop 객체 생성\n",
        "- Using **`keras.optimizers.RMSprop()`**\n",
        "  - Using `learnig_rate=_1E`: 지수표기법 사용\n",
        "- Using **`keras.callbacks.ModelCheckpoint()`**\n",
        "- Using **`keras.callbacks.EarlyStopping()`**\n",
        "- Using `history()`"
      ],
      "metadata": {
        "id": "XUdZPuSe96W8"
      }
    },
    {
      "cell_type": "code",
      "source": [
        "rmsprop = keras.optimizers.RMSprop(learning_rate=1e-4)\n",
        "dropout_model.compile(optimizer=rmsprop, loss=\"binary_crossentropy\", metrics=[\"accuracy\"])\n",
        "checkpoint_dropout_model = keras.callbacks.ModelCheckpoint(\"best-dropout-model.h5\", save_best_only=True)\n",
        "early_stopping_dropout_model = keras.callbacks.EarlyStopping(patience=3, restore_best_weights=True)\n",
        "\n",
        "history = dropout_model.fit(\n",
        "    train_seq, train_target, epochs=100, batch_size=64,\n",
        "    validation_data=(valid_seq, valid_target),\n",
        "    callbacks=[checkpoint_dropout_model, early_stopping_dropout_model]\n",
        "    )"
      ],
      "metadata": {
        "colab": {
          "base_uri": "https://localhost:8080/"
        },
        "id": "VKIpbJqu6jP6",
        "outputId": "ee12b51f-4727-4dea-fbca-49241504253c"
      },
      "execution_count": null,
      "outputs": [
        {
          "output_type": "stream",
          "name": "stdout",
          "text": [
            "Epoch 1/100\n",
            "313/313 [==============================] - 5s 10ms/step - loss: 0.6926 - accuracy: 0.5336 - val_loss: 0.6920 - val_accuracy: 0.5660\n",
            "Epoch 2/100\n",
            "313/313 [==============================] - 3s 9ms/step - loss: 0.6911 - accuracy: 0.5844 - val_loss: 0.6901 - val_accuracy: 0.6110\n",
            "Epoch 3/100\n",
            "313/313 [==============================] - 3s 9ms/step - loss: 0.6884 - accuracy: 0.6138 - val_loss: 0.6865 - val_accuracy: 0.6354\n",
            "Epoch 4/100\n",
            "313/313 [==============================] - 3s 9ms/step - loss: 0.6829 - accuracy: 0.6356 - val_loss: 0.6786 - val_accuracy: 0.6584\n",
            "Epoch 5/100\n",
            "313/313 [==============================] - 3s 9ms/step - loss: 0.6697 - accuracy: 0.6661 - val_loss: 0.6567 - val_accuracy: 0.6932\n",
            "Epoch 6/100\n",
            "313/313 [==============================] - 3s 9ms/step - loss: 0.6208 - accuracy: 0.7110 - val_loss: 0.5785 - val_accuracy: 0.7260\n",
            "Epoch 7/100\n",
            "313/313 [==============================] - 3s 9ms/step - loss: 0.5649 - accuracy: 0.7290 - val_loss: 0.5503 - val_accuracy: 0.7484\n",
            "Epoch 8/100\n",
            "313/313 [==============================] - 3s 9ms/step - loss: 0.5412 - accuracy: 0.7456 - val_loss: 0.5297 - val_accuracy: 0.7512\n",
            "Epoch 9/100\n",
            "313/313 [==============================] - 3s 9ms/step - loss: 0.5190 - accuracy: 0.7602 - val_loss: 0.5099 - val_accuracy: 0.7716\n",
            "Epoch 10/100\n",
            "313/313 [==============================] - 3s 9ms/step - loss: 0.5004 - accuracy: 0.7707 - val_loss: 0.4927 - val_accuracy: 0.7764\n",
            "Epoch 11/100\n",
            "313/313 [==============================] - 3s 9ms/step - loss: 0.4856 - accuracy: 0.7801 - val_loss: 0.4796 - val_accuracy: 0.7822\n",
            "Epoch 12/100\n",
            "313/313 [==============================] - 3s 9ms/step - loss: 0.4725 - accuracy: 0.7873 - val_loss: 0.4690 - val_accuracy: 0.7862\n",
            "Epoch 13/100\n",
            "313/313 [==============================] - 3s 9ms/step - loss: 0.4639 - accuracy: 0.7898 - val_loss: 0.4628 - val_accuracy: 0.7882\n",
            "Epoch 14/100\n",
            "313/313 [==============================] - 3s 9ms/step - loss: 0.4576 - accuracy: 0.7918 - val_loss: 0.4565 - val_accuracy: 0.7930\n",
            "Epoch 15/100\n",
            "313/313 [==============================] - 3s 9ms/step - loss: 0.4493 - accuracy: 0.7999 - val_loss: 0.4512 - val_accuracy: 0.7928\n",
            "Epoch 16/100\n",
            "313/313 [==============================] - 3s 9ms/step - loss: 0.4459 - accuracy: 0.7995 - val_loss: 0.4499 - val_accuracy: 0.7978\n",
            "Epoch 17/100\n",
            "313/313 [==============================] - 3s 9ms/step - loss: 0.4405 - accuracy: 0.8012 - val_loss: 0.4450 - val_accuracy: 0.7926\n",
            "Epoch 18/100\n",
            "313/313 [==============================] - 3s 9ms/step - loss: 0.4363 - accuracy: 0.8051 - val_loss: 0.4464 - val_accuracy: 0.7908\n",
            "Epoch 19/100\n",
            "313/313 [==============================] - 3s 9ms/step - loss: 0.4355 - accuracy: 0.8020 - val_loss: 0.4413 - val_accuracy: 0.7968\n",
            "Epoch 20/100\n",
            "313/313 [==============================] - 3s 9ms/step - loss: 0.4327 - accuracy: 0.8063 - val_loss: 0.4393 - val_accuracy: 0.7960\n",
            "Epoch 21/100\n",
            "313/313 [==============================] - 3s 9ms/step - loss: 0.4316 - accuracy: 0.8032 - val_loss: 0.4383 - val_accuracy: 0.7994\n",
            "Epoch 22/100\n",
            "313/313 [==============================] - 3s 9ms/step - loss: 0.4292 - accuracy: 0.8061 - val_loss: 0.4388 - val_accuracy: 0.7938\n",
            "Epoch 23/100\n",
            "313/313 [==============================] - 3s 9ms/step - loss: 0.4274 - accuracy: 0.8048 - val_loss: 0.4361 - val_accuracy: 0.8026\n",
            "Epoch 24/100\n",
            "313/313 [==============================] - 3s 9ms/step - loss: 0.4251 - accuracy: 0.8067 - val_loss: 0.4339 - val_accuracy: 0.8008\n",
            "Epoch 25/100\n",
            "313/313 [==============================] - 3s 9ms/step - loss: 0.4240 - accuracy: 0.8063 - val_loss: 0.4331 - val_accuracy: 0.8002\n",
            "Epoch 26/100\n",
            "313/313 [==============================] - 3s 9ms/step - loss: 0.4257 - accuracy: 0.8058 - val_loss: 0.4322 - val_accuracy: 0.8028\n",
            "Epoch 27/100\n",
            "313/313 [==============================] - 3s 9ms/step - loss: 0.4200 - accuracy: 0.8098 - val_loss: 0.4318 - val_accuracy: 0.8036\n",
            "Epoch 28/100\n",
            "313/313 [==============================] - 3s 9ms/step - loss: 0.4200 - accuracy: 0.8103 - val_loss: 0.4309 - val_accuracy: 0.8034\n",
            "Epoch 29/100\n",
            "313/313 [==============================] - 3s 9ms/step - loss: 0.4188 - accuracy: 0.8093 - val_loss: 0.4307 - val_accuracy: 0.8042\n",
            "Epoch 30/100\n",
            "313/313 [==============================] - 3s 9ms/step - loss: 0.4187 - accuracy: 0.8097 - val_loss: 0.4318 - val_accuracy: 0.7974\n",
            "Epoch 31/100\n",
            "313/313 [==============================] - 3s 9ms/step - loss: 0.4178 - accuracy: 0.8097 - val_loss: 0.4287 - val_accuracy: 0.8042\n",
            "Epoch 32/100\n",
            "313/313 [==============================] - 3s 9ms/step - loss: 0.4164 - accuracy: 0.8114 - val_loss: 0.4282 - val_accuracy: 0.8038\n",
            "Epoch 33/100\n",
            "313/313 [==============================] - 3s 9ms/step - loss: 0.4159 - accuracy: 0.8103 - val_loss: 0.4305 - val_accuracy: 0.8014\n",
            "Epoch 34/100\n",
            "313/313 [==============================] - 3s 9ms/step - loss: 0.4148 - accuracy: 0.8131 - val_loss: 0.4274 - val_accuracy: 0.8030\n",
            "Epoch 35/100\n",
            "313/313 [==============================] - 3s 9ms/step - loss: 0.4131 - accuracy: 0.8109 - val_loss: 0.4273 - val_accuracy: 0.8064\n",
            "Epoch 36/100\n",
            "313/313 [==============================] - 3s 9ms/step - loss: 0.4139 - accuracy: 0.8117 - val_loss: 0.4262 - val_accuracy: 0.8076\n",
            "Epoch 37/100\n",
            "313/313 [==============================] - 3s 9ms/step - loss: 0.4120 - accuracy: 0.8124 - val_loss: 0.4282 - val_accuracy: 0.7992\n",
            "Epoch 38/100\n",
            "313/313 [==============================] - 3s 9ms/step - loss: 0.4115 - accuracy: 0.8143 - val_loss: 0.4277 - val_accuracy: 0.8056\n",
            "Epoch 39/100\n",
            "313/313 [==============================] - 3s 9ms/step - loss: 0.4119 - accuracy: 0.8130 - val_loss: 0.4252 - val_accuracy: 0.8046\n",
            "Epoch 40/100\n",
            "313/313 [==============================] - 3s 9ms/step - loss: 0.4103 - accuracy: 0.8137 - val_loss: 0.4246 - val_accuracy: 0.8064\n",
            "Epoch 41/100\n",
            "313/313 [==============================] - 3s 9ms/step - loss: 0.4094 - accuracy: 0.8145 - val_loss: 0.4245 - val_accuracy: 0.8074\n",
            "Epoch 42/100\n",
            "313/313 [==============================] - 3s 9ms/step - loss: 0.4079 - accuracy: 0.8123 - val_loss: 0.4281 - val_accuracy: 0.8078\n",
            "Epoch 43/100\n",
            "313/313 [==============================] - 3s 9ms/step - loss: 0.4070 - accuracy: 0.8159 - val_loss: 0.4241 - val_accuracy: 0.8064\n",
            "Epoch 44/100\n",
            "313/313 [==============================] - 3s 9ms/step - loss: 0.4069 - accuracy: 0.8151 - val_loss: 0.4246 - val_accuracy: 0.8076\n",
            "Epoch 45/100\n",
            "313/313 [==============================] - 3s 9ms/step - loss: 0.4067 - accuracy: 0.8148 - val_loss: 0.4238 - val_accuracy: 0.8082\n",
            "Epoch 46/100\n",
            "313/313 [==============================] - 3s 9ms/step - loss: 0.4084 - accuracy: 0.8125 - val_loss: 0.4232 - val_accuracy: 0.8056\n",
            "Epoch 47/100\n",
            "313/313 [==============================] - 3s 9ms/step - loss: 0.4049 - accuracy: 0.8153 - val_loss: 0.4228 - val_accuracy: 0.8078\n",
            "Epoch 48/100\n",
            "313/313 [==============================] - 3s 9ms/step - loss: 0.4052 - accuracy: 0.8160 - val_loss: 0.4232 - val_accuracy: 0.8072\n",
            "Epoch 49/100\n",
            "313/313 [==============================] - 3s 9ms/step - loss: 0.4054 - accuracy: 0.8151 - val_loss: 0.4235 - val_accuracy: 0.8080\n",
            "Epoch 50/100\n",
            "313/313 [==============================] - 3s 9ms/step - loss: 0.4032 - accuracy: 0.8175 - val_loss: 0.4232 - val_accuracy: 0.8070\n"
          ]
        }
      ]
    },
    {
      "cell_type": "markdown",
      "source": [
        "### 8. Visualization LSTM model loss graph with Dropout\n"
      ],
      "metadata": {
        "id": "h9QN_0iC9Fg3"
      }
    },
    {
      "cell_type": "code",
      "source": [
        "plt.plot(history.history[\"loss\"])\n",
        "plt.plot(history.history[\"val_loss\"])\n",
        "plt.xlabel(\"loss\")\n",
        "plt.ylabel(\"epochs\")\n",
        "plt.title(\"LSTM model loss graph with Dropout\")\n",
        "plt.legend([\"train\", \"valid\"])\n",
        "plt.show()"
      ],
      "metadata": {
        "colab": {
          "base_uri": "https://localhost:8080/",
          "height": 295
        },
        "id": "kCibQpcE9DkI",
        "outputId": "3a4fc7d3-9092-4e1a-c652-a4f4b5726730"
      },
      "execution_count": null,
      "outputs": [
        {
          "output_type": "display_data",
          "data": {
            "text/plain": [
              "<Figure size 432x288 with 1 Axes>"
            ],
            "image/png": "[encoded data removed]"
          },
          "metadata": {
            "needs_background": "light"
          }
        }
      ]
    },
    {
      "cell_type": "markdown",
      "source": [
        "> Best score 0.8175, Best loss 0.4032로 LSTM 모델보다 다소 성능이 떨어지는 것을 확인할 수 있음"
      ],
      "metadata": {
        "id": "y5RIbOFxIUMd"
      }
    },
    {
      "cell_type": "markdown",
      "source": [
        "### 9. Two recurrent layers Connect with recurrent neural network model\n",
        "- **`return_sequences=_boolean`**: 순환 계층에서 모든 time-step의 은닉 상태를 출력\n"
      ],
      "metadata": {
        "id": "kB7PF7g4_jnz"
      }
    },
    {
      "cell_type": "code",
      "source": [
        "nested_model = keras.Sequential([\n",
        "    keras.layers.Embedding(500, 16, input_length=100),\n",
        "    keras.layers.LSTM(8, dropout=0.3, return_sequences=True),\n",
        "    keras.layers.LSTM(8, dropout=0.3),\n",
        "    keras.layers.Dense(1, activation=\"sigmoid\")\n",
        "]) \n",
        "\n",
        "nested_model.summary()"
      ],
      "metadata": {
        "colab": {
          "base_uri": "https://localhost:8080/"
        },
        "id": "avXq-uyu_ZUW",
        "outputId": "3810d458-5d17-4a22-a558-fd5d5dec0218"
      },
      "execution_count": null,
      "outputs": [
        {
          "output_type": "stream",
          "name": "stdout",
          "text": [
            "Model: \"sequential_2\"\n",
            "_________________________________________________________________\n",
            " Layer (type)                Output Shape              Param #   \n",
            "=================================================================\n",
            " embedding_2 (Embedding)     (None, 100, 16)           8000      \n",
            "                                                                 \n",
            " lstm_2 (LSTM)               (None, 100, 8)            800       \n",
            "                                                                 \n",
            " lstm_3 (LSTM)               (None, 8)                 544       \n",
            "                                                                 \n",
            " dense_2 (Dense)             (None, 1)                 9         \n",
            "                                                                 \n",
            "=================================================================\n",
            "Total params: 9,353\n",
            "Trainable params: 9,353\n",
            "Non-trainable params: 0\n",
            "_________________________________________________________________\n"
          ]
        }
      ]
    },
    {
      "cell_type": "markdown",
      "source": [
        "> 첫 순환 계층의 출력은 (None, 100, 8)인데 모든 time-step의 은닉 상태를 출력하고 있고, 두번째 순환 계층은 (None, 8)이라 마지막 time-step의 은닉 상태 출력"
      ],
      "metadata": {
        "id": "6fwfPnpAAeWb"
      }
    },
    {
      "cell_type": "markdown",
      "source": [
        "### 10. Training to Two recurrent layers Connect with recurrent neural network model\n",
        "- RMSprop Optimizer 사용하는 대신 기존 LR 사용을 하지 않기 위해 별도 RMSprop 객체 생성\n",
        "- Using **`keras.optimizers.RMSprop()`**\n",
        "  - Using `learnig_rate=_1E`: 지수표기법 사용\n",
        "- Using **`keras.callbacks.ModelCheckpoint()`**\n",
        "- Using **`keras.callbacks.EarlyStopping()`**\n",
        "- Using `history()`"
      ],
      "metadata": {
        "id": "WMlqcdmAAsAf"
      }
    },
    {
      "cell_type": "code",
      "source": [
        "rmsprop = keras.optimizers.RMSprop(learning_rate=1e-4)\n",
        "nested_model.compile(optimizer=rmsprop, loss=\"binary_crossentropy\", metrics=[\"accuracy\"])\n",
        "checkpoint_nested_model = keras.callbacks.ModelCheckpoint(\"best-nested-model.h5\", save_best_only=True)\n",
        "early_stopping_nested_model = keras.callbacks.EarlyStopping(patience=3, restore_best_weights=True)\n",
        "\n",
        "history = nested_model.fit(\n",
        "    train_seq, train_target, epochs=100, batch_size=64,\n",
        "    validation_data=(valid_seq, valid_target),\n",
        "    callbacks=[checkpoint_nested_model, early_stopping_nested_model]\n",
        "    )"
      ],
      "metadata": {
        "colab": {
          "base_uri": "https://localhost:8080/"
        },
        "id": "7WEEy88CAmJr",
        "outputId": "be9c1b09-3b2e-428f-d7ac-5eca1611cc30"
      },
      "execution_count": null,
      "outputs": [
        {
          "output_type": "stream",
          "name": "stdout",
          "text": [
            "Epoch 1/100\n",
            "313/313 [==============================] - 8s 15ms/step - loss: 0.6925 - accuracy: 0.5537 - val_loss: 0.6913 - val_accuracy: 0.6166\n",
            "Epoch 2/100\n",
            "313/313 [==============================] - 4s 13ms/step - loss: 0.6833 - accuracy: 0.6325 - val_loss: 0.6614 - val_accuracy: 0.6876\n",
            "Epoch 3/100\n",
            "313/313 [==============================] - 4s 13ms/step - loss: 0.6330 - accuracy: 0.6885 - val_loss: 0.6133 - val_accuracy: 0.7082\n",
            "Epoch 4/100\n",
            "313/313 [==============================] - 4s 14ms/step - loss: 0.6002 - accuracy: 0.7146 - val_loss: 0.5803 - val_accuracy: 0.7366\n",
            "Epoch 5/100\n",
            "313/313 [==============================] - 4s 13ms/step - loss: 0.5659 - accuracy: 0.7373 - val_loss: 0.5448 - val_accuracy: 0.7524\n",
            "Epoch 6/100\n",
            "313/313 [==============================] - 4s 13ms/step - loss: 0.5393 - accuracy: 0.7489 - val_loss: 0.5255 - val_accuracy: 0.7638\n",
            "Epoch 7/100\n",
            "313/313 [==============================] - 4s 14ms/step - loss: 0.5226 - accuracy: 0.7599 - val_loss: 0.5104 - val_accuracy: 0.7706\n",
            "Epoch 8/100\n",
            "313/313 [==============================] - 4s 13ms/step - loss: 0.5063 - accuracy: 0.7699 - val_loss: 0.4963 - val_accuracy: 0.7766\n",
            "Epoch 9/100\n",
            "313/313 [==============================] - 4s 13ms/step - loss: 0.4949 - accuracy: 0.7763 - val_loss: 0.4875 - val_accuracy: 0.7820\n",
            "Epoch 10/100\n",
            "313/313 [==============================] - 4s 13ms/step - loss: 0.4866 - accuracy: 0.7794 - val_loss: 0.4805 - val_accuracy: 0.7826\n",
            "Epoch 11/100\n",
            "313/313 [==============================] - 4s 13ms/step - loss: 0.4807 - accuracy: 0.7804 - val_loss: 0.4776 - val_accuracy: 0.7818\n",
            "Epoch 12/100\n",
            "313/313 [==============================] - 4s 13ms/step - loss: 0.4713 - accuracy: 0.7865 - val_loss: 0.4725 - val_accuracy: 0.7836\n",
            "Epoch 13/100\n",
            "313/313 [==============================] - 4s 13ms/step - loss: 0.4654 - accuracy: 0.7912 - val_loss: 0.4672 - val_accuracy: 0.7840\n",
            "Epoch 14/100\n",
            "313/313 [==============================] - 4s 13ms/step - loss: 0.4626 - accuracy: 0.7883 - val_loss: 0.4640 - val_accuracy: 0.7870\n",
            "Epoch 15/100\n",
            "313/313 [==============================] - 4s 13ms/step - loss: 0.4587 - accuracy: 0.7907 - val_loss: 0.4595 - val_accuracy: 0.7862\n",
            "Epoch 16/100\n",
            "313/313 [==============================] - 4s 13ms/step - loss: 0.4539 - accuracy: 0.7947 - val_loss: 0.4609 - val_accuracy: 0.7840\n",
            "Epoch 17/100\n",
            "313/313 [==============================] - 4s 14ms/step - loss: 0.4532 - accuracy: 0.7941 - val_loss: 0.4652 - val_accuracy: 0.7818\n",
            "Epoch 18/100\n",
            "313/313 [==============================] - 4s 13ms/step - loss: 0.4493 - accuracy: 0.7969 - val_loss: 0.4535 - val_accuracy: 0.7874\n",
            "Epoch 19/100\n",
            "313/313 [==============================] - 4s 13ms/step - loss: 0.4462 - accuracy: 0.7995 - val_loss: 0.4523 - val_accuracy: 0.7904\n",
            "Epoch 20/100\n",
            "313/313 [==============================] - 4s 13ms/step - loss: 0.4447 - accuracy: 0.7981 - val_loss: 0.4514 - val_accuracy: 0.7922\n",
            "Epoch 21/100\n",
            "313/313 [==============================] - 4s 13ms/step - loss: 0.4426 - accuracy: 0.8019 - val_loss: 0.4526 - val_accuracy: 0.7894\n",
            "Epoch 22/100\n",
            "313/313 [==============================] - 4s 13ms/step - loss: 0.4402 - accuracy: 0.7995 - val_loss: 0.4497 - val_accuracy: 0.7878\n",
            "Epoch 23/100\n",
            "313/313 [==============================] - 4s 13ms/step - loss: 0.4396 - accuracy: 0.7993 - val_loss: 0.4463 - val_accuracy: 0.7954\n",
            "Epoch 24/100\n",
            "313/313 [==============================] - 4s 13ms/step - loss: 0.4373 - accuracy: 0.7997 - val_loss: 0.4506 - val_accuracy: 0.7950\n",
            "Epoch 25/100\n",
            "313/313 [==============================] - 4s 13ms/step - loss: 0.4373 - accuracy: 0.8022 - val_loss: 0.4444 - val_accuracy: 0.7950\n",
            "Epoch 26/100\n",
            "313/313 [==============================] - 4s 14ms/step - loss: 0.4345 - accuracy: 0.8044 - val_loss: 0.4432 - val_accuracy: 0.7968\n",
            "Epoch 27/100\n",
            "313/313 [==============================] - 4s 13ms/step - loss: 0.4336 - accuracy: 0.8044 - val_loss: 0.4426 - val_accuracy: 0.7934\n",
            "Epoch 28/100\n",
            "313/313 [==============================] - 4s 13ms/step - loss: 0.4321 - accuracy: 0.8030 - val_loss: 0.4420 - val_accuracy: 0.7960\n",
            "Epoch 29/100\n",
            "313/313 [==============================] - 4s 13ms/step - loss: 0.4295 - accuracy: 0.8072 - val_loss: 0.4465 - val_accuracy: 0.7878\n",
            "Epoch 30/100\n",
            "313/313 [==============================] - 4s 13ms/step - loss: 0.4312 - accuracy: 0.8062 - val_loss: 0.4427 - val_accuracy: 0.7914\n",
            "Epoch 31/100\n",
            "313/313 [==============================] - 4s 13ms/step - loss: 0.4300 - accuracy: 0.8047 - val_loss: 0.4393 - val_accuracy: 0.7986\n",
            "Epoch 32/100\n",
            "313/313 [==============================] - 4s 13ms/step - loss: 0.4294 - accuracy: 0.8056 - val_loss: 0.4388 - val_accuracy: 0.7960\n",
            "Epoch 33/100\n",
            "313/313 [==============================] - 4s 13ms/step - loss: 0.4282 - accuracy: 0.8068 - val_loss: 0.4392 - val_accuracy: 0.8002\n",
            "Epoch 34/100\n",
            "313/313 [==============================] - 4s 14ms/step - loss: 0.4277 - accuracy: 0.8070 - val_loss: 0.4402 - val_accuracy: 0.7922\n",
            "Epoch 35/100\n",
            "313/313 [==============================] - 4s 14ms/step - loss: 0.4249 - accuracy: 0.8065 - val_loss: 0.4375 - val_accuracy: 0.7992\n",
            "Epoch 36/100\n",
            "313/313 [==============================] - 4s 13ms/step - loss: 0.4258 - accuracy: 0.8083 - val_loss: 0.4396 - val_accuracy: 0.8016\n",
            "Epoch 37/100\n",
            "313/313 [==============================] - 4s 13ms/step - loss: 0.4238 - accuracy: 0.8075 - val_loss: 0.4366 - val_accuracy: 0.8016\n",
            "Epoch 38/100\n",
            "313/313 [==============================] - 4s 13ms/step - loss: 0.4228 - accuracy: 0.8091 - val_loss: 0.4362 - val_accuracy: 0.7962\n",
            "Epoch 39/100\n",
            "313/313 [==============================] - 4s 13ms/step - loss: 0.4250 - accuracy: 0.8086 - val_loss: 0.4352 - val_accuracy: 0.7952\n",
            "Epoch 40/100\n",
            "313/313 [==============================] - 4s 13ms/step - loss: 0.4221 - accuracy: 0.8079 - val_loss: 0.4342 - val_accuracy: 0.7982\n",
            "Epoch 41/100\n",
            "313/313 [==============================] - 4s 13ms/step - loss: 0.4222 - accuracy: 0.8089 - val_loss: 0.4340 - val_accuracy: 0.8016\n",
            "Epoch 42/100\n",
            "313/313 [==============================] - 4s 14ms/step - loss: 0.4199 - accuracy: 0.8079 - val_loss: 0.4337 - val_accuracy: 0.8026\n",
            "Epoch 43/100\n",
            "313/313 [==============================] - 4s 13ms/step - loss: 0.4210 - accuracy: 0.8106 - val_loss: 0.4338 - val_accuracy: 0.8016\n",
            "Epoch 44/100\n",
            "313/313 [==============================] - 4s 13ms/step - loss: 0.4205 - accuracy: 0.8109 - val_loss: 0.4352 - val_accuracy: 0.8016\n",
            "Epoch 45/100\n",
            "313/313 [==============================] - 4s 13ms/step - loss: 0.4191 - accuracy: 0.8104 - val_loss: 0.4359 - val_accuracy: 0.8032\n"
          ]
        }
      ]
    },
    {
      "cell_type": "markdown",
      "source": [
        "### 11. Visualization Two recurrent layers Connect with RNN model loss graph"
      ],
      "metadata": {
        "id": "1FnhaXfyFcTj"
      }
    },
    {
      "cell_type": "code",
      "source": [
        "plt.plot(history.history[\"loss\"])\n",
        "plt.plot(history.history[\"val_loss\"])\n",
        "plt.xlabel(\"loss\")\n",
        "plt.ylabel(\"epochs\")\n",
        "plt.title(\"Two recurrent layers Connected RNN model loss graph\")\n",
        "plt.legend([\"train\", \"valid\"])\n",
        "plt.show()"
      ],
      "metadata": {
        "colab": {
          "base_uri": "https://localhost:8080/",
          "height": 295
        },
        "id": "CI4xT7SHA-7J",
        "outputId": "221a004f-9d25-49f5-dc76-83474231ca22"
      },
      "execution_count": null,
      "outputs": [
        {
          "output_type": "display_data",
          "data": {
            "text/plain": [
              "<Figure size 432x288 with 1 Axes>"
            ],
            "image/png": "[encoded data removed]"
          },
          "metadata": {
            "needs_background": "light"
          }
        }
      ]
    },
    {
      "cell_type": "markdown",
      "source": [
        "> Best score 0.8104, Best loss 0.4191로 LSTM 모델보다 다소 성능이 떨어지는 것을 확인할 수 있음"
      ],
      "metadata": {
        "id": "S7VQnMoZIFKA"
      }
    },
    {
      "cell_type": "markdown",
      "source": [
        "### 12. Create Gated Recurrent Unit Neural Network model\n",
        "- Using **`keras.layers.GRU()`**"
      ],
      "metadata": {
        "id": "4GNCJs6k9Yj9"
      }
    },
    {
      "cell_type": "code",
      "source": [
        "gru_model = keras.Sequential([\n",
        "  keras.layers.Embedding(500, 16, input_length=100),\n",
        "  keras.layers.GRU(8),\n",
        "  keras.layers.Dense(1, activation=\"sigmoid\")     \n",
        "])\n",
        "\n",
        "gru_model.summary()"
      ],
      "metadata": {
        "id": "K-_ON4449YMU",
        "colab": {
          "base_uri": "https://localhost:8080/"
        },
        "outputId": "161e7898-8090-414b-dbde-9e549868d274"
      },
      "execution_count": null,
      "outputs": [
        {
          "output_type": "stream",
          "name": "stdout",
          "text": [
            "Model: \"sequential_3\"\n",
            "_________________________________________________________________\n",
            " Layer (type)                Output Shape              Param #   \n",
            "=================================================================\n",
            " embedding_3 (Embedding)     (None, 100, 16)           8000      \n",
            "                                                                 \n",
            " gru (GRU)                   (None, 8)                 624       \n",
            "                                                                 \n",
            " dense_3 (Dense)             (None, 1)                 9         \n",
            "                                                                 \n",
            "=================================================================\n",
            "Total params: 8,633\n",
            "Trainable params: 8,633\n",
            "Non-trainable params: 0\n",
            "_________________________________________________________________\n"
          ]
        }
      ]
    },
    {
      "cell_type": "markdown",
      "source": [
        "### 13. Training to GRU model\n",
        "- RMSprop Optimizer 사용하는 대신 기존 LR 사용을 하지 않기 위해 별도 RMSprop 객체 생성\n",
        "- Using **`keras.optimizers.RMSprop()`**\n",
        "  - Using `learnig_rate=_1E`: 지수표기법 사용\n",
        "- Using **`keras.callbacks.ModelCheckpoint()`**\n",
        "- Using **`keras.callbacks.EarlyStopping()`**\n",
        "- Using `history()`"
      ],
      "metadata": {
        "id": "SOP0EiS3Fsq-"
      }
    },
    {
      "cell_type": "code",
      "source": [
        "rmsprop = keras.optimizers.RMSprop(learning_rate=1e-4)\n",
        "gru_model.compile(optimizer=rmsprop, loss=\"binary_crossentropy\", metrics=[\"accuracy\"])\n",
        "checkpoint_gru_model = keras.callbacks.ModelCheckpoint(\"best-gru-model.h5\", save_best_only=True)\n",
        "early_stopping_gru_model = keras.callbacks.EarlyStopping(patience=3, restore_best_weights=True)\n",
        "\n",
        "history = gru_model.fit(\n",
        "    train_seq, train_target, epochs=100, batch_size=64,\n",
        "    validation_data=(valid_seq, valid_target),\n",
        "    callbacks=[checkpoint_gru_model, early_stopping_gru_model]\n",
        "    )"
      ],
      "metadata": {
        "id": "xgx8E3sQ-KNT",
        "colab": {
          "base_uri": "https://localhost:8080/"
        },
        "outputId": "50acae04-fd0f-4fcf-cfc7-7295b94ac446"
      },
      "execution_count": null,
      "outputs": [
        {
          "output_type": "stream",
          "name": "stdout",
          "text": [
            "Epoch 1/100\n",
            "313/313 [==============================] - 5s 10ms/step - loss: 0.6918 - accuracy: 0.5410 - val_loss: 0.6903 - val_accuracy: 0.5750\n",
            "Epoch 2/100\n",
            "313/313 [==============================] - 3s 9ms/step - loss: 0.6881 - accuracy: 0.5880 - val_loss: 0.6861 - val_accuracy: 0.5920\n",
            "Epoch 3/100\n",
            "313/313 [==============================] - 3s 9ms/step - loss: 0.6815 - accuracy: 0.6206 - val_loss: 0.6781 - val_accuracy: 0.6182\n",
            "Epoch 4/100\n",
            "313/313 [==============================] - 3s 9ms/step - loss: 0.6695 - accuracy: 0.6429 - val_loss: 0.6630 - val_accuracy: 0.6394\n",
            "Epoch 5/100\n",
            "313/313 [==============================] - 3s 9ms/step - loss: 0.6469 - accuracy: 0.6646 - val_loss: 0.6339 - val_accuracy: 0.6752\n",
            "Epoch 6/100\n",
            "313/313 [==============================] - 3s 9ms/step - loss: 0.5982 - accuracy: 0.7007 - val_loss: 0.5671 - val_accuracy: 0.7202\n",
            "Epoch 7/100\n",
            "313/313 [==============================] - 3s 9ms/step - loss: 0.5295 - accuracy: 0.7444 - val_loss: 0.5215 - val_accuracy: 0.7506\n",
            "Epoch 8/100\n",
            "313/313 [==============================] - 3s 9ms/step - loss: 0.5022 - accuracy: 0.7620 - val_loss: 0.5047 - val_accuracy: 0.7634\n",
            "Epoch 9/100\n",
            "313/313 [==============================] - 3s 9ms/step - loss: 0.4852 - accuracy: 0.7737 - val_loss: 0.4895 - val_accuracy: 0.7734\n",
            "Epoch 10/100\n",
            "313/313 [==============================] - 3s 9ms/step - loss: 0.4726 - accuracy: 0.7831 - val_loss: 0.4795 - val_accuracy: 0.7762\n",
            "Epoch 11/100\n",
            "313/313 [==============================] - 3s 9ms/step - loss: 0.4626 - accuracy: 0.7879 - val_loss: 0.4734 - val_accuracy: 0.7730\n",
            "Epoch 12/100\n",
            "313/313 [==============================] - 3s 9ms/step - loss: 0.4546 - accuracy: 0.7932 - val_loss: 0.4668 - val_accuracy: 0.7848\n",
            "Epoch 13/100\n",
            "313/313 [==============================] - 3s 9ms/step - loss: 0.4488 - accuracy: 0.7969 - val_loss: 0.4621 - val_accuracy: 0.7900\n",
            "Epoch 14/100\n",
            "313/313 [==============================] - 3s 9ms/step - loss: 0.4438 - accuracy: 0.7990 - val_loss: 0.4579 - val_accuracy: 0.7874\n",
            "Epoch 15/100\n",
            "313/313 [==============================] - 3s 9ms/step - loss: 0.4398 - accuracy: 0.8017 - val_loss: 0.4572 - val_accuracy: 0.7840\n",
            "Epoch 16/100\n",
            "313/313 [==============================] - 3s 9ms/step - loss: 0.4365 - accuracy: 0.8024 - val_loss: 0.4545 - val_accuracy: 0.7940\n",
            "Epoch 17/100\n",
            "313/313 [==============================] - 3s 8ms/step - loss: 0.4332 - accuracy: 0.8067 - val_loss: 0.4529 - val_accuracy: 0.7904\n",
            "Epoch 18/100\n",
            "313/313 [==============================] - 3s 8ms/step - loss: 0.4312 - accuracy: 0.8059 - val_loss: 0.4518 - val_accuracy: 0.7922\n",
            "Epoch 19/100\n",
            "313/313 [==============================] - 3s 9ms/step - loss: 0.4288 - accuracy: 0.8098 - val_loss: 0.4509 - val_accuracy: 0.7920\n",
            "Epoch 20/100\n",
            "313/313 [==============================] - 3s 9ms/step - loss: 0.4268 - accuracy: 0.8100 - val_loss: 0.4505 - val_accuracy: 0.7904\n",
            "Epoch 21/100\n",
            "313/313 [==============================] - 3s 9ms/step - loss: 0.4257 - accuracy: 0.8116 - val_loss: 0.4521 - val_accuracy: 0.7880\n",
            "Epoch 22/100\n",
            "313/313 [==============================] - 3s 9ms/step - loss: 0.4246 - accuracy: 0.8110 - val_loss: 0.4484 - val_accuracy: 0.7904\n",
            "Epoch 23/100\n",
            "313/313 [==============================] - 3s 9ms/step - loss: 0.4232 - accuracy: 0.8126 - val_loss: 0.4483 - val_accuracy: 0.7888\n",
            "Epoch 24/100\n",
            "313/313 [==============================] - 3s 9ms/step - loss: 0.4223 - accuracy: 0.8133 - val_loss: 0.4486 - val_accuracy: 0.7896\n",
            "Epoch 25/100\n",
            "313/313 [==============================] - 3s 9ms/step - loss: 0.4212 - accuracy: 0.8131 - val_loss: 0.4514 - val_accuracy: 0.7914\n",
            "Epoch 26/100\n",
            "313/313 [==============================] - 3s 9ms/step - loss: 0.4204 - accuracy: 0.8142 - val_loss: 0.4504 - val_accuracy: 0.7880\n"
          ]
        }
      ]
    },
    {
      "cell_type": "markdown",
      "source": [
        "### 14. Visualization GRU model loss graph"
      ],
      "metadata": {
        "id": "tZ1rk9N5FxRz"
      }
    },
    {
      "cell_type": "code",
      "source": [
        "plt.plot(history.history[\"loss\"])\n",
        "plt.plot(history.history[\"val_loss\"])\n",
        "plt.xlabel(\"loss\")\n",
        "plt.ylabel(\"epochs\")\n",
        "plt.title(\"LSTM model loss graph\")\n",
        "plt.legend([\"train\", \"valid\"])\n",
        "plt.show()"
      ],
      "metadata": {
        "id": "Li7vA6ng-9XB",
        "colab": {
          "base_uri": "https://localhost:8080/",
          "height": 295
        },
        "outputId": "2520627c-99d6-4239-bfbb-8e9016c981ca"
      },
      "execution_count": null,
      "outputs": [
        {
          "output_type": "display_data",
          "data": {
            "text/plain": [
              "<Figure size 432x288 with 1 Axes>"
            ],
            "image/png": "[encoded data removed]"
          },
          "metadata": {
            "needs_background": "light"
          }
        }
      ]
    },
    {
      "cell_type": "markdown",
      "source": [
        "> Best score 0.8142, Best loss 0.4204로 LSTM 모델보다 다소 성능이 떨어지는 것을 확인할 수 있음"
      ],
      "metadata": {
        "id": "l5oqZ3uNI7l6"
      }
    }
  ]
}