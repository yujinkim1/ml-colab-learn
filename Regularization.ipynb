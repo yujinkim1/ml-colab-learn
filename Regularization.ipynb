{
  "nbformat": 4,
  "nbformat_minor": 0,
  "metadata": {
    "colab": {
      "provenance": [],
      "collapsed_sections": []
    },
    "kernelspec": {
      "name": "python3",
      "display_name": "Python 3"
    },
    "language_info": {
      "name": "python"
    }
  },
  "cells": [
    {
      "cell_type": "markdown",
      "source": [
        "## Regularization\n",
        "- 규제는 과도 학습을 방지하도록 유도\n",
        "  - 즉, 특성에 곱해지는 계수의 크기를 작게 만드는 것\n",
        "  - 최적의 규제 강도를 설정\n",
        "    - 과대적합(Overfitting), 과소적합(Underfitting) 방지\n",
        "- 특성 공학(Feature Engineering)\n",
        "  - 각 특성을 서로 곱해 새로운 특성을 생성 가능"
      ],
      "metadata": {
        "id": "vPxeKZ7f6Fv8"
      }
    },
    {
      "cell_type": "markdown",
      "source": [
        "### Practice\n",
        "- Using **`pandas`** library\n",
        "- Read URL of CSV file\n",
        "- Using sklearn **`PolynomialFeatures()`**\n",
        "- Using **`train_test_split()`**\n",
        "- Import **`sklearn.preprocessing`**\n",
        "- Why is element **`1`** added as a feature?\n",
        "- Using **`include_bias=\"\"`**\n",
        "- Using **`get_feature_names_out()`**\n",
        "- Why transformation a test-set to a transformer applied to a train-set?\n",
        "- Train multiple regression models using transformed features\n",
        "- Ridge Regression and Lasso Regression\n",
        "- Visualize performance on reqularization strength\n",
        "- Using **`np.log10()`**"
      ],
      "metadata": {
        "id": "HM9KBtm57eJI"
      }
    },
    {
      "cell_type": "markdown",
      "source": [
        "### 1. Prepare to numerical data\n",
        "- 다중 선형 회귀 모델 표현을 위한 데이터 준비"
      ],
      "metadata": {
        "id": "wFirDcxl9RYs"
      }
    },
    {
      "cell_type": "markdown",
      "source": [
        "### 1-1. Import Pandas library"
      ],
      "metadata": {
        "id": "NwKHaKQx8JBr"
      }
    },
    {
      "cell_type": "code",
      "execution_count": null,
      "metadata": {
        "colab": {
          "base_uri": "https://localhost:8080/"
        },
        "id": "5nPXeg_74_71",
        "outputId": "9b3a90f1-605c-4014-ec76-23e954cb8735"
      },
      "outputs": [
        {
          "output_type": "stream",
          "name": "stdout",
          "text": [
            "length, height, width\n",
            "[[ 8.4   2.11  1.41]\n",
            " [13.7   3.53  2.  ]\n",
            " [15.    3.82  2.43]\n",
            " [16.2   4.59  2.63]\n",
            " [17.4   4.59  2.94]\n",
            " [18.    5.22  3.32]\n",
            " [18.7   5.2   3.12]\n",
            " [19.    5.64  3.05]\n",
            " [19.6   5.14  3.04]\n",
            " [20.    5.08  2.77]\n",
            " [21.    5.69  3.56]\n",
            " [21.    5.92  3.31]\n",
            " [21.    5.69  3.67]\n",
            " [21.3   6.38  3.53]\n",
            " [22.    6.11  3.41]\n",
            " [22.    5.64  3.52]\n",
            " [22.    6.11  3.52]\n",
            " [22.    5.88  3.52]\n",
            " [22.    5.52  4.  ]\n",
            " [22.5   5.86  3.62]\n",
            " [22.5   6.79  3.62]\n",
            " [22.7   5.95  3.63]\n",
            " [23.    5.22  3.63]\n",
            " [23.5   6.28  3.72]\n",
            " [24.    7.29  3.72]\n",
            " [24.    6.38  3.82]\n",
            " [24.6   6.73  4.17]\n",
            " [25.    6.44  3.68]\n",
            " [25.6   6.56  4.24]\n",
            " [26.5   7.17  4.14]\n",
            " [27.3   8.32  5.14]\n",
            " [27.5   7.17  4.34]\n",
            " [27.5   7.05  4.34]\n",
            " [27.5   7.28  4.57]\n",
            " [28.    7.82  4.2 ]\n",
            " [28.7   7.59  4.64]\n",
            " [30.    7.62  4.77]\n",
            " [32.8  10.03  6.02]\n",
            " [34.5  10.26  6.39]\n",
            " [35.   11.49  7.8 ]\n",
            " [36.5  10.88  6.86]\n",
            " [36.   10.61  6.74]\n",
            " [37.   10.84  6.26]\n",
            " [37.   10.57  6.37]\n",
            " [39.   11.14  7.49]\n",
            " [39.   11.14  6.  ]\n",
            " [39.   12.43  7.35]\n",
            " [40.   11.93  7.11]\n",
            " [40.   11.73  7.22]\n",
            " [40.   12.38  7.46]\n",
            " [40.   11.14  6.63]\n",
            " [42.   12.8   6.87]\n",
            " [43.   11.93  7.28]\n",
            " [43.   12.51  7.42]\n",
            " [43.5  12.6   8.14]\n",
            " [44.   12.49  7.6 ]]\n"
          ]
        }
      ],
      "source": [
        "import pandas as pd #Pandas shortcut\n",
        "df = pd.read_csv(\"https://bit.ly/perch_csv_data\")\n",
        "perch_full = df.to_numpy()\n",
        "\n",
        "#Checkout\n",
        "print(\"length, height, width\")\n",
        "print(perch_full)"
      ]
    },
    {
      "cell_type": "markdown",
      "source": [
        "### 1-2. Import numpy"
      ],
      "metadata": {
        "id": "kSM4Oeu_9PC0"
      }
    },
    {
      "cell_type": "code",
      "source": [
        "import numpy as np"
      ],
      "metadata": {
        "id": "_XQIlwrK83Xk"
      },
      "execution_count": null,
      "outputs": []
    },
    {
      "cell_type": "code",
      "source": [
        "perch_weight = np.array([5.9, 32.0, 40.0, 51.5, 70.0, 100.0, 78.0, 80.0, 85.0, 85.0, 110.0,\n",
        "       115.0, 125.0, 130.0, 120.0, 120.0, 130.0, 135.0, 110.0, 130.0,\n",
        "       150.0, 145.0, 150.0, 170.0, 225.0, 145.0, 188.0, 180.0, 197.0,\n",
        "       218.0, 300.0, 260.0, 265.0, 250.0, 250.0, 300.0, 320.0, 514.0,\n",
        "       556.0, 840.0, 685.0, 700.0, 700.0, 690.0, 900.0, 650.0, 820.0,\n",
        "       850.0, 900.0, 1015.0, 820.0, 1100.0, 1000.0, 1100.0, 1000.0,\n",
        "       1000.0])"
      ],
      "metadata": {
        "id": "7poLWnhN9W4x"
      },
      "execution_count": null,
      "outputs": []
    },
    {
      "cell_type": "markdown",
      "source": [
        "### 1-3. Create Train-set and Test-set to using **`train_test_split()`**\n",
        "- perch_full(length, height, width) & perch_weight 데이터의 Train-set, Test-set"
      ],
      "metadata": {
        "id": "X6VXmFd094wL"
      }
    },
    {
      "cell_type": "code",
      "source": [
        "from sklearn.model_selection import train_test_split\n",
        "train_input, test_input, train_target, test_target = train_test_split(\n",
        "    perch_full, perch_weight, random_state=42\n",
        ")"
      ],
      "metadata": {
        "id": "FYf6FtOn-Pb_"
      },
      "execution_count": null,
      "outputs": []
    },
    {
      "cell_type": "markdown",
      "source": [
        "### 2. Create new feature\n",
        "- Import sklearn.preprocessing\n",
        "- Import PolynomialFeatures()"
      ],
      "metadata": {
        "id": "W1NU2oOqFr9y"
      }
    },
    {
      "cell_type": "code",
      "source": [
        "from sklearn.preprocessing import PolynomialFeatures"
      ],
      "metadata": {
        "id": "SeWEL3SkGvai"
      },
      "execution_count": null,
      "outputs": []
    },
    {
      "cell_type": "markdown",
      "source": [
        "### 2-1. **`fit()`** and **`transform()`** of the polynomial class\n",
        "- **`fit()`**\n",
        "  - 새로운 생성할 특성의 조합을 지정\n",
        "- **`transform()`**\n",
        "  - 실제 데이터를 변환하는 과정, Target 데이터가 필요하지 않음"
      ],
      "metadata": {
        "id": "rKWNrmd7G6OO"
      }
    },
    {
      "cell_type": "code",
      "source": [
        "#example\n",
        "poly = PolynomialFeatures()\n",
        "poly.fit([[2, 3]]) #2와 3으로 이루어진 두 가지의 특성(원소)\n",
        "print(poly.transform([[2, 3]])) #2, 3, 2^2(4), 3^2(9), 두 특성의 곱 = 2*3(6) 반환, 그런데 왜 1이 추가되었나?"
      ],
      "metadata": {
        "colab": {
          "base_uri": "https://localhost:8080/"
        },
        "id": "OLUDsUZXG3oj",
        "outputId": "02189fc3-71dc-455a-95b6-df7630e7d887"
      },
      "execution_count": null,
      "outputs": [
        {
          "output_type": "stream",
          "name": "stdout",
          "text": [
            "[[1. 2. 3. 4. 6. 9.]]\n"
          ]
        }
      ]
    },
    {
      "cell_type": "markdown",
      "source": [
        "### 2-2. Why is element **`1`** added as a feature?\n",
        "- 선형 방정식의 절편을 항상 값이 1인 특성과 곱해지는 계수라고 볼 수 있음\n",
        "- 기본적으로 (특성, 특성, 특성, 1) 형식처럼 자동으로 절편이 추가되기 때문\n",
        "- Solution\n",
        "  - **include_bias=False`** 지정"
      ],
      "metadata": {
        "id": "lhanCtzrJLHq"
      }
    },
    {
      "cell_type": "code",
      "source": [
        "#example\n",
        "poly = PolynomialFeatures(include_bias=False)\n",
        "poly.fit([[2, 3]]) #2와 3으로 이루어진 두 가지의 특성(원소)\n",
        "print(poly.transform([[2, 3]])) #2, 3, 2^2(4), 3^2(9), 두 특성의 곱 = 2*3(6) 반환"
      ],
      "metadata": {
        "colab": {
          "base_uri": "https://localhost:8080/"
        },
        "id": "GH-nm3vpJKib",
        "outputId": "fcf1c668-0310-4b90-d89c-9a54b46236d0"
      },
      "execution_count": null,
      "outputs": [
        {
          "output_type": "stream",
          "name": "stdout",
          "text": [
            "[[2. 3. 4. 6. 9.]]\n"
          ]
        }
      ]
    },
    {
      "cell_type": "markdown",
      "source": [
        "### 2-3. Transformation a train_input\n",
        "- 해당 방법을 train_input 데이터에 적용"
      ],
      "metadata": {
        "id": "-4nBh5ENKX6S"
      }
    },
    {
      "cell_type": "code",
      "source": [
        "poly = PolynomialFeatures(include_bias=False)\n",
        "poly.fit(train_input)\n",
        "train_poly = poly.transform(train_input)\n",
        "\n",
        "#Checkout\n",
        "print(train_poly.shape) #(_dataNumber, _featureNumber)반환\n",
        "print(train_poly[:10])"
      ],
      "metadata": {
        "colab": {
          "base_uri": "https://localhost:8080/"
        },
        "id": "rCm2hgIqKtZ4",
        "outputId": "921cd27e-c6d5-46d1-b231-ef6cdc33b4fc"
      },
      "execution_count": null,
      "outputs": [
        {
          "output_type": "stream",
          "name": "stdout",
          "text": [
            "(42, 9)\n",
            "[[  19.6       5.14      3.04    384.16    100.744    59.584    26.4196\n",
            "    15.6256    9.2416]\n",
            " [  22.        5.88      3.52    484.      129.36     77.44     34.5744\n",
            "    20.6976   12.3904]\n",
            " [  18.7       5.2       3.12    349.69     97.24     58.344    27.04\n",
            "    16.224     9.7344]\n",
            " [  17.4       4.59      2.94    302.76     79.866    51.156    21.0681\n",
            "    13.4946    8.6436]\n",
            " [  36.       10.61      6.74   1296.      381.96    242.64    112.5721\n",
            "    71.5114   45.4276]\n",
            " [  25.        6.44      3.68    625.      161.       92.       41.4736\n",
            "    23.6992   13.5424]\n",
            " [  40.       11.93      7.11   1600.      477.2     284.4     142.3249\n",
            "    84.8223   50.5521]\n",
            " [  39.       12.43      7.35   1521.      484.77    286.65    154.5049\n",
            "    91.3605   54.0225]\n",
            " [  43.       11.93      7.28   1849.      512.99    313.04    142.3249\n",
            "    86.8504   52.9984]\n",
            " [  22.        5.64      3.52    484.      124.08     77.44     31.8096\n",
            "    19.8528   12.3904]]\n"
          ]
        }
      ]
    },
    {
      "cell_type": "markdown",
      "source": [
        "### 2-4 Using **`get_feature_names_out()`**\n",
        "- **`get_feature_names_out()`**: 각 특성이 어떤 조합으로 생성되었는지 확인 가능"
      ],
      "metadata": {
        "id": "knulJfUnLaHu"
      }
    },
    {
      "cell_type": "code",
      "source": [
        "poly.get_feature_names_out()"
      ],
      "metadata": {
        "colab": {
          "base_uri": "https://localhost:8080/"
        },
        "id": "LkemkrGmLaOd",
        "outputId": "50e735c3-d5ef-4615-9012-5a8e02f445ee"
      },
      "execution_count": null,
      "outputs": [
        {
          "output_type": "execute_result",
          "data": {
            "text/plain": [
              "array(['x0', 'x1', 'x2', 'x0^2', 'x0 x1', 'x0 x2', 'x1^2', 'x1 x2',\n",
              "       'x2^2'], dtype=object)"
            ]
          },
          "metadata": {},
          "execution_count": 9
        }
      ]
    },
    {
      "cell_type": "markdown",
      "source": [
        "2-5. Transformation a test_input\n",
        "- 해당 방법을 test_input 데이터에 적용 "
      ],
      "metadata": {
        "id": "Ebmq8ix3MIyX"
      }
    },
    {
      "cell_type": "code",
      "source": [
        "test_poly = poly.transform(test_input)\n",
        "\n",
        "#Checkout\n",
        "print(test_poly.shape) #(_dataNumber, _featureNumber)반환\n",
        "print(test_poly)"
      ],
      "metadata": {
        "colab": {
          "base_uri": "https://localhost:8080/"
        },
        "id": "m7H9ecpiMIa9",
        "outputId": "78901a50-899a-490b-e19c-153c31618de1"
      },
      "execution_count": null,
      "outputs": [
        {
          "output_type": "stream",
          "name": "stdout",
          "text": [
            "(14, 9)\n",
            "[[8.400000e+00 2.110000e+00 1.410000e+00 7.056000e+01 1.772400e+01\n",
            "  1.184400e+01 4.452100e+00 2.975100e+00 1.988100e+00]\n",
            " [1.800000e+01 5.220000e+00 3.320000e+00 3.240000e+02 9.396000e+01\n",
            "  5.976000e+01 2.724840e+01 1.733040e+01 1.102240e+01]\n",
            " [2.750000e+01 7.280000e+00 4.570000e+00 7.562500e+02 2.002000e+02\n",
            "  1.256750e+02 5.299840e+01 3.326960e+01 2.088490e+01]\n",
            " [2.130000e+01 6.380000e+00 3.530000e+00 4.536900e+02 1.358940e+02\n",
            "  7.518900e+01 4.070440e+01 2.252140e+01 1.246090e+01]\n",
            " [2.250000e+01 5.860000e+00 3.620000e+00 5.062500e+02 1.318500e+02\n",
            "  8.145000e+01 3.433960e+01 2.121320e+01 1.310440e+01]\n",
            " [4.000000e+01 1.114000e+01 6.630000e+00 1.600000e+03 4.456000e+02\n",
            "  2.652000e+02 1.240996e+02 7.385820e+01 4.395690e+01]\n",
            " [3.000000e+01 7.620000e+00 4.770000e+00 9.000000e+02 2.286000e+02\n",
            "  1.431000e+02 5.806440e+01 3.634740e+01 2.275290e+01]\n",
            " [2.460000e+01 6.730000e+00 4.170000e+00 6.051600e+02 1.655580e+02\n",
            "  1.025820e+02 4.529290e+01 2.806410e+01 1.738890e+01]\n",
            " [3.900000e+01 1.114000e+01 7.490000e+00 1.521000e+03 4.344600e+02\n",
            "  2.921100e+02 1.240996e+02 8.343860e+01 5.610010e+01]\n",
            " [2.100000e+01 5.690000e+00 3.670000e+00 4.410000e+02 1.194900e+02\n",
            "  7.707000e+01 3.237610e+01 2.088230e+01 1.346890e+01]\n",
            " [4.350000e+01 1.260000e+01 8.140000e+00 1.892250e+03 5.481000e+02\n",
            "  3.540900e+02 1.587600e+02 1.025640e+02 6.625960e+01]\n",
            " [1.620000e+01 4.590000e+00 2.630000e+00 2.624400e+02 7.435800e+01\n",
            "  4.260600e+01 2.106810e+01 1.207170e+01 6.916900e+00]\n",
            " [2.800000e+01 7.820000e+00 4.200000e+00 7.840000e+02 2.189600e+02\n",
            "  1.176000e+02 6.115240e+01 3.284400e+01 1.764000e+01]\n",
            " [2.730000e+01 8.320000e+00 5.140000e+00 7.452900e+02 2.271360e+02\n",
            "  1.403220e+02 6.922240e+01 4.276480e+01 2.641960e+01]]\n"
          ]
        }
      ]
    },
    {
      "cell_type": "markdown",
      "source": [
        "### 2-6. Why transformation a test-set to a transformer applied to a train-set?\n",
        "- 항상 훈련 세트를 기준으로 테스트 세트를 변환하는 것이 좋다\n",
        "- 약속된 방식은 아니므로, 테스트 세트를 따로 변환하는 것이 가능하긴 하다 "
      ],
      "metadata": {
        "id": "albJ-lbrOziV"
      }
    },
    {
      "cell_type": "markdown",
      "source": [
        "### 3. Train multiple regression models using transformed features\n",
        "- Import LinearRegression\n",
        "- Start to fit\n",
        "  - train_poly\n",
        "  - train_target"
      ],
      "metadata": {
        "id": "cTTfpzueNflp"
      }
    },
    {
      "cell_type": "code",
      "source": [
        "from sklearn.linear_model import LinearRegression\n",
        "lr = LinearRegression()\n",
        "lr.fit(train_poly, train_target)"
      ],
      "metadata": {
        "colab": {
          "base_uri": "https://localhost:8080/"
        },
        "id": "KCUzU2sYNYFq",
        "outputId": "15d9461c-d25a-41a9-b061-6592ea4b0ea6"
      },
      "execution_count": null,
      "outputs": [
        {
          "output_type": "execute_result",
          "data": {
            "text/plain": [
              "LinearRegression()"
            ]
          },
          "metadata": {},
          "execution_count": 11
        }
      ]
    },
    {
      "cell_type": "code",
      "source": [
        "#Checkout train\n",
        "print(lr.score(train_poly, train_target))\n",
        "\n",
        "#Checkout test\n",
        "print(lr.score(test_poly, test_target)) #과소적합 문제 해결"
      ],
      "metadata": {
        "colab": {
          "base_uri": "https://localhost:8080/"
        },
        "id": "l5n7ypHJRmnS",
        "outputId": "abbcdb0b-0c88-40d6-eaec-4e62415c7592"
      },
      "execution_count": null,
      "outputs": [
        {
          "output_type": "stream",
          "name": "stdout",
          "text": [
            "0.9903183436982124\n",
            "0.9714559911594134\n"
          ]
        }
      ]
    },
    {
      "cell_type": "markdown",
      "source": [
        "### 4. Regularization\n",
        "- **`degree`**: 고차항의 최대 차수를 지정 가능(default='2')\n",
        "  - 값이 높아질 수록 3제곱, 4, 5..제곱항을 추가하는 것이 가능\n",
        "  - 단, 훈련 세트의 샘플 개수보다 특성 개수가 초과되는 경우\n",
        "    - 100/100에 가까운 정확도 평가 또는 음수가 반환\n",
        "    - 과대적합 모델이 발생하므로 적절한 규제가 필요\n",
        "- 규제는 과도 학습을 방지하도록 유도\n",
        "  - 즉, 특성에 곱해지는 계수의 크기를 작게 만드는 것\n"
      ],
      "metadata": {
        "id": "yr1nLQm4SATE"
      }
    },
    {
      "cell_type": "markdown",
      "source": [
        "### 4-1. Using **`StandardScaler`** from **`sklearn.preprocessing`**\n",
        "- 정규화를 통해 반환한 표준점수로 특성의 크기를 규제하기 위해 사용\n",
        "- StandardScaler 객체 ss 생성 및 초기화\n",
        "- PolynomialFeatures 클래스로 생성한 train_poly로 ss 객체 훈련\n",
        "- 테스트 세트의 표준점수 변환"
      ],
      "metadata": {
        "id": "0Js3Yxb0Twhr"
      }
    },
    {
      "cell_type": "code",
      "source": [
        "from sklearn.preprocessing import StandardScaler\n",
        "\n",
        "ss = StandardScaler()\n",
        "ss.fit(train_poly)\n",
        "train_scaled = ss.transform(train_poly)\n",
        "test_scaled = ss.transform(test_poly)"
      ],
      "metadata": {
        "id": "aHh-AB2fTQfg"
      },
      "execution_count": null,
      "outputs": []
    },
    {
      "cell_type": "code",
      "source": [
        "#Checkout\n",
        "print(ss.mean_) #훈련 세트에서 학습한 평균(mean_)\n",
        "print(ss.scale_) #훈련 세트에서 학습한 표준편차(scale_)"
      ],
      "metadata": {
        "colab": {
          "base_uri": "https://localhost:8080/"
        },
        "id": "9somAKQ3UcDE",
        "outputId": "edee9684-761e-406b-bf94-0fbb46efb8e5"
      },
      "execution_count": null,
      "outputs": [
        {
          "output_type": "stream",
          "name": "stdout",
          "text": [
            "[ 28.4452381    8.04238095   4.82047619 885.315      253.48688095\n",
            " 151.959       72.9365      43.69994524  26.2868381 ]\n",
            "[  8.72831196   2.87343151   1.74638123 524.78298827 160.83642815\n",
            "  96.47937892  49.51657488  29.75789558  18.11394122]\n"
          ]
        }
      ]
    },
    {
      "cell_type": "markdown",
      "source": [
        "### 4-2. Ridge Regression and Lasso Regression\n",
        "- from **`sklearn.linear_model`**\n",
        "- ridge: 계수를 제곱한 값을 기준으로 규제 적용\n",
        "  - 일반적으로 사용, 0에 가까워지지만 0이 될 수는 없음\n",
        "  - 변수 선택 불가능\n",
        "  - 크기가 큰 것부터 우선적으로 줄임\n",
        "- lasso: 계수의 절댓값을 기준으로 규제 적용\n",
        "  - 계수를 0까지 줄일 수 있음\n",
        "  - 중요하지 않은 것부터 줄이거나 아예 제외할 수 있음"
      ],
      "metadata": {
        "id": "cwkl0L6DVy-b"
      }
    },
    {
      "cell_type": "markdown",
      "source": [
        "### 4-3. Ridge\n",
        "- L2 Regression\n"
      ],
      "metadata": {
        "id": "SYxBL5V23PNU"
      }
    },
    {
      "cell_type": "code",
      "source": [
        "from sklearn.linear_model import Ridge\n",
        "ridge = Ridge()\n",
        "ridge.fit(train_scaled, train_target)\n",
        "\n",
        "#Check score\n",
        "print(ridge.score(train_scaled, train_target))\n",
        "print(ridge.score(test_scaled, test_target))"
      ],
      "metadata": {
        "colab": {
          "base_uri": "https://localhost:8080/"
        },
        "id": "9p9IzpDvVpHj",
        "outputId": "df5e8db4-0fa9-4e3f-8c6e-b39d22867506"
      },
      "execution_count": null,
      "outputs": [
        {
          "output_type": "stream",
          "name": "stdout",
          "text": [
            "0.9857915060511934\n",
            "0.9835057194929057\n"
          ]
        }
      ]
    },
    {
      "cell_type": "markdown",
      "source": [
        "### 4-4. Lasso\n",
        "- L1 Regression"
      ],
      "metadata": {
        "id": "z7rGcKRI7E6G"
      }
    },
    {
      "cell_type": "code",
      "source": [
        "from sklearn.linear_model import Lasso\n",
        "lasso = Lasso()\n",
        "lasso.fit(train_scaled, train_target)\n",
        "\n",
        "#Check score\n",
        "print(lasso.score(train_scaled, train_target))\n",
        "print(lasso.score(test_scaled, test_target))"
      ],
      "metadata": {
        "colab": {
          "base_uri": "https://localhost:8080/"
        },
        "id": "X2JVCvw220QO",
        "outputId": "322edf6b-8090-435b-aba1-64c932473ea3"
      },
      "execution_count": null,
      "outputs": [
        {
          "output_type": "stream",
          "name": "stdout",
          "text": [
            "0.986591255464559\n",
            "0.9846056618190413\n"
          ]
        }
      ]
    },
    {
      "cell_type": "markdown",
      "source": [
        "### 5. Visualize performance on reqularization strength\n",
        "- import **`matplotlib.pyplot`**\n",
        "- HyperParameter\n",
        "  - 모델이 자동으로 학습하지 않는 파라미터\n",
        "  - 사용자가 직접 지정해야하는 파라미터\n",
        "  - ${\\alpha}$: 규제의 강도를 조절(적절한 범위를 지정해야함)\n",
        "    - ${\\alpha}$ 값의 증가는 과소적합의 발생을 유도\n",
        "    - ${\\alpha}$ 값의 감소는 과대적합의 발생을 유도, 규제의 필요성이 없어짐"
      ],
      "metadata": {
        "id": "4VCWshorZ1Rr"
      }
    },
    {
      "cell_type": "markdown",
      "source": [
        "### 5-1. Visualize performance of L2 Regression\n",
        "- 훈련 세트와 테스트 세트의 결정 계수가 가장 가까운 지점 확인\n",
        "- 최적의 alpha 값 분석 가능"
      ],
      "metadata": {
        "id": "U-bDcLjg7lab"
      }
    },
    {
      "cell_type": "code",
      "source": [
        "import matplotlib.pyplot as plt\n",
        "\n",
        "#Save score list\n",
        "train_score = []\n",
        "test_score = []\n",
        "\n",
        "alpha_list = [0.001, 0.01, 0.1, 1, 10, 100] #hyper parameter\n",
        "\n",
        "for alpha in alpha_list:\n",
        "  #L2모델 생성\n",
        "  ridge = Ridge(alpha=alpha)\n",
        "  #훈련\n",
        "  ridge.fit(train_scaled, train_target)\n",
        "  # 점수 저장\n",
        "  train_score.append(ridge.score(train_scaled, train_target))\n",
        "  test_score.append(ridge.score(test_scaled, test_target))"
      ],
      "metadata": {
        "id": "3c9BCpw0c8B_"
      },
      "execution_count": null,
      "outputs": []
    },
    {
      "cell_type": "code",
      "source": [
        "plt.plot(np.log10(alpha_list), train_score)\n",
        "plt.plot(np.log10(alpha_list), test_score)\n",
        "plt.xlabel(\"alpha\")\n",
        "plt.ylabel(\"R^2\")\n",
        "plt.title(\"L2 Regression\")\n",
        "plt.show()"
      ],
      "metadata": {
        "colab": {
          "base_uri": "https://localhost:8080/",
          "height": 295
        },
        "id": "oQdUfmbB9F5r",
        "outputId": "b7dc4bd9-1196-43af-a87a-f862929f5b54"
      },
      "execution_count": null,
      "outputs": [
        {
          "output_type": "display_data",
          "data": {
            "text/plain": [
              "<Figure size 432x288 with 1 Axes>"
            ],
            "image/png": "[encoded data removed]"
          },
          "metadata": {
            "needs_background": "light"
          }
        }
      ]
    },
    {
      "cell_type": "markdown",
      "source": [
        "### 5-2. Setting the reqularization strength\n",
        "- 모델 일반화 가능\n",
        "- 최적의 하이퍼파라미터를 통해 과대적합과 과소적합 사이의 균형을 유지"
      ],
      "metadata": {
        "id": "6qzirFkVAwA-"
      }
    },
    {
      "cell_type": "code",
      "source": [
        "ridge = Ridge(alpha=0.1)\n",
        "ridge.fit(train_scaled, train_target)\n",
        "\n",
        "#Check score\n",
        "print(ridge.score(train_scaled, train_target))\n",
        "print(ridge.score(test_scaled, test_target))"
      ],
      "metadata": {
        "colab": {
          "base_uri": "https://localhost:8080/"
        },
        "id": "ykHu9r8BAvhb",
        "outputId": "e077bbe8-00d3-404f-ce41-f7ea076b821e"
      },
      "execution_count": null,
      "outputs": [
        {
          "output_type": "stream",
          "name": "stdout",
          "text": [
            "0.9889354346720892\n",
            "0.9856564835209134\n"
          ]
        }
      ]
    },
    {
      "cell_type": "markdown",
      "source": [
        ">  "
      ],
      "metadata": {
        "id": "NUkmBOBi-mBG"
      }
    },
    {
      "cell_type": "markdown",
      "source": [
        "### 5-3. Visualize performance of L1 Regression\n",
        "- 훈련 세트와 테스트 세트의 결정 계수가 가장 가까운 지점 확인\n",
        "- 최적의 alpha 값 분석 가능\n",
        "- **`max_iter=`**\n",
        "  - lasso 회귀는 최적의 계수를 찾기 위해 반복 계산을 수행\n",
        "  - ConvergeWarning: 지정 반복 횟수가 부족하면 출력(특별한 영향 없음)"
      ],
      "metadata": {
        "id": "z5lpc3zb7uIZ"
      }
    },
    {
      "cell_type": "code",
      "source": [
        "#Save score list\n",
        "train_score = []\n",
        "test_score = []\n",
        "\n",
        "alpha_list = [0.001, 0.01, 0.1, 1, 10, 100] #hyper parameter\n",
        "\n",
        "for alpha in alpha_list:\n",
        "  #L1모델 생성\n",
        "  lasso = Lasso(alpha=alpha, max_iter=10000)\n",
        "  #훈련\n",
        "  lasso.fit(train_scaled, train_target)\n",
        "  # 점수 저장\n",
        "  train_score.append(lasso.score(train_scaled, train_target))\n",
        "  test_score.append(lasso.score(test_scaled, test_target))"
      ],
      "metadata": {
        "colab": {
          "base_uri": "https://localhost:8080/"
        },
        "id": "vdY5uX297k7p",
        "outputId": "248f3cc8-7aca-41a0-dc20-dfb5f3f507dc"
      },
      "execution_count": null,
      "outputs": [
        {
          "output_type": "stream",
          "name": "stderr",
          "text": [
            "/usr/local/lib/python3.7/dist-packages/sklearn/linear_model/_coordinate_descent.py:648: ConvergenceWarning: Objective did not converge. You might want to increase the number of iterations, check the scale of the features or consider increasing regularisation. Duality gap: 2.466e+04, tolerance: 5.183e+02\n",
            "  coef_, l1_reg, l2_reg, X, y, max_iter, tol, rng, random, positive\n",
            "/usr/local/lib/python3.7/dist-packages/sklearn/linear_model/_coordinate_descent.py:648: ConvergenceWarning: Objective did not converge. You might want to increase the number of iterations, check the scale of the features or consider increasing regularisation. Duality gap: 8.739e+03, tolerance: 5.183e+02\n",
            "  coef_, l1_reg, l2_reg, X, y, max_iter, tol, rng, random, positive\n"
          ]
        }
      ]
    },
    {
      "cell_type": "code",
      "source": [
        "plt.plot(np.log10(alpha_list), train_score)\n",
        "plt.plot(np.log10(alpha_list), test_score)\n",
        "plt.xlabel(\"alpha\")\n",
        "plt.ylabel(\"R^2\")\n",
        "plt.title(\"L1 Regression\")\n",
        "plt.show()"
      ],
      "metadata": {
        "colab": {
          "base_uri": "https://localhost:8080/",
          "height": 295
        },
        "id": "woB_Xk_p__Zb",
        "outputId": "18f17c0a-aff9-496c-c8a2-d04e9f8c4eea"
      },
      "execution_count": null,
      "outputs": [
        {
          "output_type": "display_data",
          "data": {
            "text/plain": [
              "<Figure size 432x288 with 1 Axes>"
            ],
            "image/png": "[encoded data removed]"
          },
          "metadata": {
            "needs_background": "light"
          }
        }
      ]
    },
    {
      "cell_type": "markdown",
      "source": [
        "### 5-4. Setting the reqularization strength\n",
        "- 모델 일반화 가능\n",
        "- 최적의 하이퍼파라미터를 통해 과대적합과 과소적합 사이의 균형을 유지"
      ],
      "metadata": {
        "id": "49GGAtbLCm5M"
      }
    },
    {
      "cell_type": "code",
      "source": [
        "lasso = Lasso(alpha=1)\n",
        "lasso.fit(train_scaled, train_target)\n",
        "\n",
        "#Check score\n",
        "print(lasso.score(train_scaled, train_target))\n",
        "print(lasso.score(test_scaled, test_target))"
      ],
      "metadata": {
        "colab": {
          "base_uri": "https://localhost:8080/"
        },
        "id": "SGTmQL6QClQG",
        "outputId": "a76cf81e-8697-499f-a8b8-856f705aed08"
      },
      "execution_count": null,
      "outputs": [
        {
          "output_type": "stream",
          "name": "stdout",
          "text": [
            "0.986591255464559\n",
            "0.9846056618190413\n"
          ]
        }
      ]
    }
  ]
}